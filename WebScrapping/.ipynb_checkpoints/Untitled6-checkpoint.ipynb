{
 "cells": [
  {
   "cell_type": "code",
   "execution_count": null,
   "metadata": {},
   "outputs": [],
   "source": [
    "''' Read input from STDIN. Print your output to STDOUT '''\n",
    "    #Use input() to read input from STDIN and use print to write your output to STDOUT\n",
    "\n",
    "def main():\n",
    "    \n",
    "    SampleTestCases = int(input())\n",
    "    counter = 1\n",
    "    while (counter <= SampleTestCases and SampleTestCases > 0):\n",
    "\n",
    "        NoOfTeamMembers = int(input())\n",
    "        GRevolution = input().strip().split(\" \")[:NoOfTeamMembers]\n",
    "        OpponentTeam = input().strip().split(\" \")[:NoOfTeamMembers]\n",
    "        GRevolution.sort(reverse=False)\n",
    "        OpponentTeam.sort(reverse=False)\n",
    "\n",
    "        calculation = []\n",
    "        count = 0\n",
    "        i = 0\n",
    "        j = 0\n",
    "        while (i < NoOfTeamMembers):\n",
    "\n",
    "            while (j < len(OpponentTeam)):\n",
    "                calculation.append(float(GRevolution[i]) - float(OpponentTeam[j]))\n",
    "                j = j + 1\n",
    "\n",
    "            try:\n",
    "                m = min(k for k in calculation if k > 0)\n",
    "                Indx = calculation.index(m)\n",
    "                count = count + 1\n",
    "\n",
    "                OpponentTeam.pop(Indx)\n",
    "                calculation.clear()\n",
    "            except:\n",
    "                pass\n",
    "\n",
    "            i = i + 1\n",
    "            j = 0\n",
    "\n",
    "        print(count)\n",
    "        counter = counter + 1\n",
    "        GRevolution.clear()\n",
    "        OpponentTeam.clear()\n",
    "        calculation.clear()\n",
    "\n",
    "main()\n",
    "\n"
   ]
  }
 ],
 "metadata": {
  "kernelspec": {
   "display_name": "Python 3",
   "language": "python",
   "name": "python3"
  },
  "language_info": {
   "codemirror_mode": {
    "name": "ipython",
    "version": 3
   },
   "file_extension": ".py",
   "mimetype": "text/x-python",
   "name": "python",
   "nbconvert_exporter": "python",
   "pygments_lexer": "ipython3",
   "version": "3.8.1"
  }
 },
 "nbformat": 4,
 "nbformat_minor": 4
}
