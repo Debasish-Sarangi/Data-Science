{
 "cells": [
  {
   "cell_type": "code",
   "execution_count": null,
   "metadata": {},
   "outputs": [
    {
     "name": "stdout",
     "output_type": "stream",
     "text": [
      "1\n",
      "10\n",
      "3 6 7 5 3 5 6 2 9 1\n",
      "2 7 0 9 3 6 0 6 2 6\n",
      "7\n",
      "2\n",
      "10\n",
      "3 6 7 5 3 5 6 2 9 1\n",
      "1\n"
     ]
    }
   ],
   "source": [
    "SampleTestCases= int(input())\n",
    "counter=0\n",
    "while (counter <= SampleTestCases):\n",
    "\n",
    "    NoOfTeamMembers = int(input())\n",
    "    GRevolution  = input().split(\" \")\n",
    "    OpponentTeam = input().split(\" \")\n",
    "    GRevolution.sort(reverse=False)\n",
    "    OpponentTeam.sort(reverse=False)\n",
    "\n",
    "    calculation = 0\n",
    "    \n",
    "    i = 0\n",
    "    \n",
    "    while (i < len(GRevolution)):\n",
    "    \n",
    "        Glen=len(GRevolution)\n",
    "        Olen=len(OpponentTeam)\n",
    "        if(Glen>0 and Olen>0 ):\n",
    "            j=0\n",
    "            if(int(GRevolution[i])-int(OpponentTeam[i])>0):\n",
    "                calculation=calculation+1\n",
    "                GRevolution.pop(i)\n",
    "                OpponentTeam.pop(i)\n",
    "    \n",
    "    \n",
    "    \n",
    "            elif(int(GRevolution[i])-int(OpponentTeam[i])<=0):\n",
    "                while (j < Glen) :\n",
    "                    if (int(GRevolution[j]) - int(OpponentTeam[i] )> 0):\n",
    "                        calculation = calculation + 1\n",
    "                        GRevolution.pop(j)\n",
    "                        OpponentTeam.pop(i)\n",
    "    \n",
    "                        j=0\n",
    "                        break\n",
    "                    j=j+1\n",
    "    \n",
    "        if(Glen==len(GRevolution)):\n",
    "            i=i+1\n",
    "    \n",
    "        else:\n",
    "            i=0\n",
    "    \n",
    "    print(calculation)\n",
    "    counter=counter+1\n",
    "\n"
   ]
  },
  {
   "cell_type": "code",
   "execution_count": null,
   "metadata": {},
   "outputs": [],
   "source": [
    "print(float('3.0')-float('2.0'))"
   ]
  },
  {
   "cell_type": "code",
   "execution_count": null,
   "metadata": {},
   "outputs": [],
   "source": []
  },
  {
   "cell_type": "code",
   "execution_count": null,
   "metadata": {},
   "outputs": [],
   "source": [
    "print(3-2)"
   ]
  }
 ],
 "metadata": {
  "kernelspec": {
   "display_name": "Python 3",
   "language": "python",
   "name": "python3"
  },
  "language_info": {
   "codemirror_mode": {
    "name": "ipython",
    "version": 3
   },
   "file_extension": ".py",
   "mimetype": "text/x-python",
   "name": "python",
   "nbconvert_exporter": "python",
   "pygments_lexer": "ipython3",
   "version": "3.8.1"
  }
 },
 "nbformat": 4,
 "nbformat_minor": 4
}
