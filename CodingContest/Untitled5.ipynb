{
 "cells": [
  {
   "cell_type": "code",
   "execution_count": 4,
   "metadata": {},
   "outputs": [
    {
     "name": "stdout",
     "output_type": "stream",
     "text": [
      "1\n",
      "5\n",
      "1 2 3 5 3\n",
      "1 3 5 1 3\n"
     ]
    },
    {
     "ename": "IndexError",
     "evalue": "list index out of range",
     "output_type": "error",
     "traceback": [
      "\u001b[1;31m---------------------------------------------------------------------------\u001b[0m",
      "\u001b[1;31mIndexError\u001b[0m                                Traceback (most recent call last)",
      "\u001b[1;32m<ipython-input-4-cddf6837f874>\u001b[0m in \u001b[0;36m<module>\u001b[1;34m\u001b[0m\n\u001b[0;32m     56\u001b[0m     \u001b[1;32mraise\u001b[0m \u001b[0mSystemExit\u001b[0m\u001b[1;33m\u001b[0m\u001b[1;33m\u001b[0m\u001b[0m\n\u001b[0;32m     57\u001b[0m \u001b[1;33m\u001b[0m\u001b[0m\n\u001b[1;32m---> 58\u001b[1;33m \u001b[0mmain\u001b[0m\u001b[1;33m(\u001b[0m\u001b[1;33m)\u001b[0m\u001b[1;33m\u001b[0m\u001b[1;33m\u001b[0m\u001b[0m\n\u001b[0m",
      "\u001b[1;32m<ipython-input-4-cddf6837f874>\u001b[0m in \u001b[0;36mmain\u001b[1;34m()\u001b[0m\n\u001b[0;32m     28\u001b[0m                 \u001b[1;32mif\u001b[0m \u001b[1;33m(\u001b[0m\u001b[0mGlen\u001b[0m \u001b[1;33m>\u001b[0m \u001b[1;36m0\u001b[0m \u001b[1;32mand\u001b[0m \u001b[0mOlen\u001b[0m \u001b[1;33m>\u001b[0m \u001b[1;36m0\u001b[0m\u001b[1;33m)\u001b[0m\u001b[1;33m:\u001b[0m\u001b[1;33m\u001b[0m\u001b[1;33m\u001b[0m\u001b[0m\n\u001b[0;32m     29\u001b[0m                     \u001b[0mj\u001b[0m \u001b[1;33m=\u001b[0m \u001b[1;36m0\u001b[0m\u001b[1;33m\u001b[0m\u001b[1;33m\u001b[0m\u001b[0m\n\u001b[1;32m---> 30\u001b[1;33m                     \u001b[1;32mif\u001b[0m \u001b[1;33m(\u001b[0m\u001b[0mfloat\u001b[0m\u001b[1;33m(\u001b[0m\u001b[0mGRevolution\u001b[0m\u001b[1;33m[\u001b[0m\u001b[0mi\u001b[0m\u001b[1;33m]\u001b[0m\u001b[1;33m)\u001b[0m \u001b[1;33m-\u001b[0m \u001b[0mfloat\u001b[0m\u001b[1;33m(\u001b[0m\u001b[0mOpponentTeam\u001b[0m\u001b[1;33m[\u001b[0m\u001b[0mi\u001b[0m\u001b[1;33m]\u001b[0m\u001b[1;33m)\u001b[0m \u001b[1;33m>\u001b[0m \u001b[1;36m0\u001b[0m\u001b[1;33m)\u001b[0m\u001b[1;33m:\u001b[0m\u001b[1;33m\u001b[0m\u001b[1;33m\u001b[0m\u001b[0m\n\u001b[0m\u001b[0;32m     31\u001b[0m                         \u001b[0mcalculation\u001b[0m \u001b[1;33m=\u001b[0m \u001b[0mcalculation\u001b[0m \u001b[1;33m+\u001b[0m \u001b[1;36m1\u001b[0m\u001b[1;33m\u001b[0m\u001b[1;33m\u001b[0m\u001b[0m\n\u001b[0;32m     32\u001b[0m                         \u001b[0mGRevolution\u001b[0m\u001b[1;33m.\u001b[0m\u001b[0mpop\u001b[0m\u001b[1;33m(\u001b[0m\u001b[0mi\u001b[0m\u001b[1;33m)\u001b[0m\u001b[1;33m\u001b[0m\u001b[1;33m\u001b[0m\u001b[0m\n",
      "\u001b[1;31mIndexError\u001b[0m: list index out of range"
     ]
    }
   ],
   "source": [
    "''' Read input from STDIN. Print your output to STDOUT '''\n",
    "\n",
    "\n",
    "# Use input() to read input from STDIN and use print to write your output to STDOUT\n",
    "\n",
    "def main():\n",
    "    SampleTestCases = int(input())\n",
    "    counter = 1\n",
    "    while (counter <= SampleTestCases and SampleTestCases > 0):\n",
    "\n",
    "        NoOfTeamMembers = int(input())\n",
    "        GRevolution = input().strip().split(\" \")[:NoOfTeamMembers]\n",
    "        OpponentTeam = input().strip().split(\" \")[:NoOfTeamMembers]\n",
    "        GRevolution.sort(reverse=False)\n",
    "        OpponentTeam.sort(reverse=False)\n",
    "\n",
    "        calculation = 0\n",
    "\n",
    "        i = 0\n",
    "\n",
    "        if(len(GRevolution)==len(OpponentTeam)==NoOfTeamMembers)   :\n",
    "\n",
    "\n",
    "            for i in range(0,len(GRevolution) ):\n",
    "\n",
    "                Glen = len(GRevolution)\n",
    "                Olen = len(OpponentTeam)\n",
    "                if (Glen > 0 and Olen > 0):\n",
    "                    j = 0\n",
    "                    if (float(GRevolution[i]) - float(OpponentTeam[i]) > 0):\n",
    "                        calculation = calculation + 1\n",
    "                        GRevolution.pop(i)\n",
    "                        OpponentTeam.pop(i)\n",
    "\n",
    "\n",
    "\n",
    "                    elif (float(GRevolution[i]) - float(OpponentTeam[i]) <= 0):\n",
    "                        while (j < Glen):\n",
    "                            if (float(GRevolution[j]) - float(OpponentTeam[i]) > 0):\n",
    "                                calculation = calculation + 1\n",
    "                                GRevolution.pop(j)\n",
    "                                OpponentTeam.pop(i)\n",
    "\n",
    "                                j = 0\n",
    "                                break\n",
    "                            j = j + 1\n",
    "\n",
    "                if (Glen == len(GRevolution)):\n",
    "                    i = i + 1\n",
    "\n",
    "                else:\n",
    "                    i = 0\n",
    "            \n",
    "        print(calculation)\n",
    "        counter = counter + 1\n",
    "    raise SystemExit\n",
    "\n",
    "main()"
   ]
  }
 ],
 "metadata": {
  "kernelspec": {
   "display_name": "Python 3",
   "language": "python",
   "name": "python3"
  },
  "language_info": {
   "codemirror_mode": {
    "name": "ipython",
    "version": 3
   },
   "file_extension": ".py",
   "mimetype": "text/x-python",
   "name": "python",
   "nbconvert_exporter": "python",
   "pygments_lexer": "ipython3",
   "version": "3.8.1"
  }
 },
 "nbformat": 4,
 "nbformat_minor": 4
}
