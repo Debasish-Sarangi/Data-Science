{
 "cells": [
  {
   "cell_type": "code",
   "execution_count": 2,
   "metadata": {},
   "outputs": [
    {
     "name": "stdout",
     "output_type": "stream",
     "text": [
      "Elapsed time:  1.429 seconds for 1000 rows\n",
      "(1000, 5)\n",
      "Elapsed time:  1.904 seconds for 1000 rows\n",
      "(1000, 5)\n",
      "Elapsed time:  0.123 seconds for 1000 rows\n",
      "(1000, 5)\n",
      "Elapsed time:  0.019 seconds for 1000 rows\n",
      "(1000, 5)\n"
     ]
    }
   ],
   "source": [
    "import pandas as pd\n",
    "import numpy as np\n",
    "import time\n",
    "\n",
    "\n",
    "numOfRows = 1000\n",
    "# append\n",
    "startTime = time.perf_counter()\n",
    "df1 = pd.DataFrame(np.random.randint(100, size=(5,5)), columns=['A', 'B', 'C', 'D', 'E'])\n",
    "for i in range( 1,numOfRows-4):\n",
    "    df1 = df1.append( dict( (a,np.random.randint(100)) for a in ['A','B','C','D','E']), ignore_index=True)\n",
    "print('Elapsed time: {:6.3f} seconds for {:d} rows'.format(time.perf_counter() - startTime, numOfRows))\n",
    "print(df1.shape)\n",
    "\n",
    "# .loc w/o prealloc\n",
    "startTime = time.perf_counter()\n",
    "df2 = pd.DataFrame(np.random.randint(100, size=(5,5)), columns=['A', 'B', 'C', 'D', 'E'])\n",
    "for i in range( 1,numOfRows):\n",
    "    df2.loc[i]  = np.random.randint(100, size=(1,5))[0]\n",
    "print('Elapsed time: {:6.3f} seconds for {:d} rows'.format(time.perf_counter() - startTime, numOfRows))\n",
    "print(df2.shape)\n",
    "\n",
    "# .loc with prealloc\n",
    "df3 = pd.DataFrame(index=np.arange(0, numOfRows), columns=['A', 'B', 'C', 'D', 'E'] )\n",
    "startTime = time.perf_counter()\n",
    "for i in range( 1,numOfRows):\n",
    "    df3.loc[i]  = np.random.randint(100, size=(1,5))[0]\n",
    "print('Elapsed time: {:6.3f} seconds for {:d} rows'.format(time.perf_counter() - startTime, numOfRows))\n",
    "print(df3.shape)\n",
    "\n",
    "# dict\n",
    "startTime = time.perf_counter()\n",
    "row_list = []\n",
    "for i in range (0,5):\n",
    "    row_list.append(dict( (a,np.random.randint(100)) for a in ['A','B','C','D','E']))\n",
    "for i in range( 1,numOfRows-4):\n",
    "    dict1 = dict( (a,np.random.randint(100)) for a in ['A','B','C','D','E'])\n",
    "    row_list.append(dict1)\n",
    "\n",
    "df4 = pd.DataFrame(row_list, columns=['A','B','C','D','E'])\n",
    "print('Elapsed time: {:6.3f} seconds for {:d} rows'.format(time.perf_counter() - startTime, numOfRows))\n",
    "print(df4.shape)"
   ]
  },
  {
   "cell_type": "code",
   "execution_count": 12,
   "metadata": {},
   "outputs": [
    {
     "data": {
      "text/plain": [
       "[['abc', 1], ['abcs', 1]]"
      ]
     },
     "execution_count": 12,
     "metadata": {},
     "output_type": "execute_result"
    }
   ],
   "source": [
    "#dataset = pd.DataFrame(columns=['review', 'token'])\n",
    "orig_reviews = []\n",
    "\n",
    "orig_reviews.append(['abc',1])\n",
    "orig_reviews.append(['abcs',1])\n",
    "orig_reviews"
   ]
  },
  {
   "cell_type": "code",
   "execution_count": 13,
   "metadata": {},
   "outputs": [
    {
     "data": {
      "text/html": [
       "<div>\n",
       "<style scoped>\n",
       "    .dataframe tbody tr th:only-of-type {\n",
       "        vertical-align: middle;\n",
       "    }\n",
       "\n",
       "    .dataframe tbody tr th {\n",
       "        vertical-align: top;\n",
       "    }\n",
       "\n",
       "    .dataframe thead th {\n",
       "        text-align: right;\n",
       "    }\n",
       "</style>\n",
       "<table border=\"1\" class=\"dataframe\">\n",
       "  <thead>\n",
       "    <tr style=\"text-align: right;\">\n",
       "      <th></th>\n",
       "      <th>review</th>\n",
       "      <th>token</th>\n",
       "    </tr>\n",
       "  </thead>\n",
       "  <tbody>\n",
       "    <tr>\n",
       "      <th>0</th>\n",
       "      <td>abc</td>\n",
       "      <td>1</td>\n",
       "    </tr>\n",
       "    <tr>\n",
       "      <th>1</th>\n",
       "      <td>abcs</td>\n",
       "      <td>1</td>\n",
       "    </tr>\n",
       "  </tbody>\n",
       "</table>\n",
       "</div>"
      ],
      "text/plain": [
       "  review  token\n",
       "0    abc      1\n",
       "1   abcs      1"
      ]
     },
     "execution_count": 13,
     "metadata": {},
     "output_type": "execute_result"
    }
   ],
   "source": [
    "dataset=pd.DataFrame(orig_reviews, columns=['review', 'token'])\n",
    "dataset"
   ]
  },
  {
   "cell_type": "code",
   "execution_count": 23,
   "metadata": {},
   "outputs": [
    {
     "data": {
      "text/plain": [
       "'bought brand disc'"
      ]
     },
     "execution_count": 23,
     "metadata": {},
     "output_type": "execute_result"
    }
   ],
   "source": [
    "' '.join(['bought', 'brand', 'disc'])"
   ]
  },
  {
   "cell_type": "code",
   "execution_count": 32,
   "metadata": {},
   "outputs": [
    {
     "data": {
      "text/plain": [
       "'bought brand disc'"
      ]
     },
     "execution_count": 32,
     "metadata": {},
     "output_type": "execute_result"
    }
   ],
   "source": [
    "word_index_map={}\n",
    "k=['bought', 'brand', 'disc','bought']\n",
    "k=set(k)\n",
    "' '.join(k)"
   ]
  },
  {
   "cell_type": "code",
   "execution_count": 37,
   "metadata": {},
   "outputs": [
    {
     "name": "stdout",
     "output_type": "stream",
     "text": [
      "[[0 0 1 0 0 0 1 0 1 0 1]\n",
      " [0 0 1 1 0 1 0 1 0 0 0]\n",
      " [1 1 0 1 1 1 0 0 0 1 0]]\n",
      "[[ 0.44327506  1.81826041]\n",
      " [ 1.47318223  0.65080334]\n",
      " [ 2.22635253 -0.79266037]]\n"
     ]
    }
   ],
   "source": [
    "X=['I love to play cricket','Cricket is not football','But football is better than hockey']\n",
    "from sklearn.feature_extraction.text import CountVectorizer\n",
    "cv = CountVectorizer(max_features = 2000)\n",
    "X = cv.fit_transform(X).toarray()\n",
    "print(X)\n",
    "from sklearn.decomposition import TruncatedSVD\n",
    "svd = TruncatedSVD()\n",
    "X = svd.fit_transform(X)\n",
    "print(X)"
   ]
  }
 ],
 "metadata": {
  "kernelspec": {
   "display_name": "Python 3",
   "language": "python",
   "name": "python3"
  },
  "language_info": {
   "codemirror_mode": {
    "name": "ipython",
    "version": 3
   },
   "file_extension": ".py",
   "mimetype": "text/x-python",
   "name": "python",
   "nbconvert_exporter": "python",
   "pygments_lexer": "ipython3",
   "version": "3.8.1"
  }
 },
 "nbformat": 4,
 "nbformat_minor": 4
}
