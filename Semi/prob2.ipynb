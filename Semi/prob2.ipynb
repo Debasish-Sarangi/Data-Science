{
 "cells": [
  {
   "cell_type": "code",
   "execution_count": 2,
   "metadata": {},
   "outputs": [
    {
     "name": "stdout",
     "output_type": "stream",
     "text": [
      "3\n",
      "1\n",
      "1\n",
      "1\n",
      "1\n",
      "0\n",
      "0\n"
     ]
    }
   ],
   "source": [
    "import numpy as np\n",
    "number_of_people = int(input().strip())\n",
    "Red_Orange= int(input().strip())\n",
    "Red_Green= int(input().strip())\n",
    "Orange_Red= int(input().strip())\n",
    "Orange_Green = int(input().strip())\n",
    "Green_Red= int(input().strip())\n",
    "Green_Orange= int(input().strip())\n",
    "\n",
    "\n",
    "\n"
   ]
  },
  {
   "cell_type": "code",
   "execution_count": 4,
   "metadata": {},
   "outputs": [],
   "source": [
    "from itertools import permutations, product"
   ]
  },
  {
   "cell_type": "code",
   "execution_count": 54,
   "metadata": {},
   "outputs": [
    {
     "data": {
      "text/plain": [
       "[(84, 65), (65, 84)]"
      ]
     },
     "execution_count": 54,
     "metadata": {},
     "output_type": "execute_result"
    }
   ],
   "source": [
    "rand_people= np.random.randint(1,100,number_of_people)\n",
    "\n",
    "a=permutations(rand_people,Red_Orange*2)\n",
    "b=permutations(rand_people,Red_Green*2)\n",
    "c=permutations(rand_people,Orange_Red*2)\n",
    "d=permutations(rand_people,Orange_Green*2)\n",
    "e=permutations(rand_people,Green_Red*2)\n",
    "f=permutations(rand_people,Green_Orange*2)\n",
    "counter=[]\n",
    "cnt=0\n",
    "\n",
    "if(Red_Orange!=0):\n",
    "    for h in a:\n",
    "        counter.append(h)\n",
    "        cnt=len(counter)\n",
    "        \n",
    "\n",
    "                    \n",
    "\n",
    "counter"
   ]
  },
  {
   "cell_type": "code",
   "execution_count": 7,
   "metadata": {},
   "outputs": [
    {
     "data": {
      "text/plain": [
       "[(2, 2),\n",
       " (2, 10),\n",
       " (10, 2),\n",
       " (10, 10),\n",
       " (2, 2),\n",
       " (2, 10),\n",
       " (10, 2),\n",
       " (10, 10),\n",
       " (2, 2),\n",
       " (2, 10),\n",
       " (10, 2),\n",
       " (10, 10),\n",
       " (2, 2),\n",
       " (2, 10),\n",
       " (10, 2),\n",
       " (10, 10)]"
      ]
     },
     "execution_count": 7,
     "metadata": {},
     "output_type": "execute_result"
    }
   ],
   "source": [
    "rand_people= np.random.randint(1,100,2)\n",
    "\n",
    "if (number_of_people%3==0 ):\n",
    "    a=['R','G','B']\n",
    "elif(number_of_people%2==0 ):\n",
    "    a=['R','G']\n",
    "else:\n",
    "    a=['R']\n",
    "rand_people=\n",
    "a=product(rand_people,repeat=Red_Orange*2)\n",
    "b=product(rand_people,repeat=Red_Green*2)\n",
    "c=product(rand_people,repeat=Orange_Red*2)\n",
    "d=product(rand_people,repeat=Orange_Green*2)\n",
    "e=product(rand_people,repeat=Green_Red*2)\n",
    "f=product(rand_people,repeat=Green_Orange*2)\n",
    "counter=[]\n",
    "cnt=0\n",
    "\n",
    "\n",
    "        \n",
    "\n",
    "#b=product(['R','O'],repeat=Red_Orange*2)                  \n",
    "\n",
    "#for h in b:\n",
    "#    counter.append(h)\n",
    "#    cnt=len(counter)\n",
    "#counter\n",
    "\n",
    "if(Red_Orange!=0):\n",
    "    for h in a:\n",
    "        counter.append(h)\n",
    "\n",
    "if(Red_Green!=0):\n",
    "    for h in b:\n",
    "        counter.append(h)\n",
    "        \n",
    "if(Orange_Red!=0):\n",
    "    for h in c:\n",
    "        counter.append(h)\n",
    "        \n",
    "if(Orange_Green!=0):\n",
    "    for h in d:\n",
    "        counter.append(h)\n",
    "        \n",
    "if(Green_Red!=0):\n",
    "    for h in e:\n",
    "        counter.append(h)\n",
    "        \n",
    "if(Green_Orange!=0):\n",
    "    for h in f:\n",
    "        counter.append(h)\n",
    "        \n",
    "counter"
   ]
  },
  {
   "cell_type": "code",
   "execution_count": 8,
   "metadata": {},
   "outputs": [
    {
     "data": {
      "text/plain": [
       "{(2, 2), (2, 10), (10, 2), (10, 10)}"
      ]
     },
     "execution_count": 8,
     "metadata": {},
     "output_type": "execute_result"
    }
   ],
   "source": [
    "set(counter)"
   ]
  },
  {
   "cell_type": "code",
   "execution_count": null,
   "metadata": {},
   "outputs": [],
   "source": []
  },
  {
   "cell_type": "code",
   "execution_count": 99,
   "metadata": {},
   "outputs": [
    {
     "data": {
      "text/plain": [
       "[('R', 'R', 'R'),\n",
       " ('R', 'R', 'G'),\n",
       " ('R', 'R', 'B'),\n",
       " ('R', 'G', 'R'),\n",
       " ('R', 'G', 'G'),\n",
       " ('R', 'G', 'B'),\n",
       " ('R', 'B', 'R'),\n",
       " ('R', 'B', 'G'),\n",
       " ('R', 'B', 'B'),\n",
       " ('G', 'R', 'R'),\n",
       " ('G', 'R', 'G'),\n",
       " ('G', 'R', 'B'),\n",
       " ('G', 'G', 'R'),\n",
       " ('G', 'G', 'G'),\n",
       " ('G', 'G', 'B'),\n",
       " ('G', 'B', 'R'),\n",
       " ('G', 'B', 'G'),\n",
       " ('G', 'B', 'B'),\n",
       " ('B', 'R', 'R'),\n",
       " ('B', 'R', 'G'),\n",
       " ('B', 'R', 'B'),\n",
       " ('B', 'G', 'R'),\n",
       " ('B', 'G', 'G'),\n",
       " ('B', 'G', 'B'),\n",
       " ('B', 'B', 'R'),\n",
       " ('B', 'B', 'G'),\n",
       " ('B', 'B', 'B')]"
      ]
     },
     "execution_count": 99,
     "metadata": {},
     "output_type": "execute_result"
    }
   ],
   "source": [
    "counter=[]\n",
    "cnt=0\n",
    "r=product(['R','G','B'],repeat=Red_Orange*3)                  \n",
    "\n",
    "for h in r:\n",
    "    counter.append(h)\n",
    "    cnt=len(counter)\n",
    "counter"
   ]
  },
  {
   "cell_type": "code",
   "execution_count": 25,
   "metadata": {},
   "outputs": [
    {
     "data": {
      "text/plain": [
       "0"
      ]
     },
     "execution_count": 25,
     "metadata": {},
     "output_type": "execute_result"
    }
   ],
   "source": [
    "rand_people= np.random.randint(1,100,2)\n",
    "\n",
    "\n",
    "rand_people=\n",
    "a=product(rand_people,repeat=Red_Orange*2)\n",
    "b=product(rand_people,repeat=Red_Green*2)\n",
    "c=product(rand_people,repeat=Orange_Red*2)\n",
    "d=product(rand_people,repeat=Orange_Green*2)\n",
    "e=product(rand_people,repeat=Green_Red*2)\n",
    "f=product(rand_people,repeat=Green_Orange*2)\n",
    "counter=[]\n",
    "cnt=0\n",
    "\n",
    "\n",
    "        \n",
    "\n",
    "#b=product(['R','O'],repeat=Red_Orange*2)                  \n",
    "\n",
    "#for h in b:\n",
    "#    counter.append(h)\n",
    "#    cnt=len(counter)\n",
    "#counter\n",
    "\n",
    "if(Red_Orange!=0):\n",
    "    \n",
    "    if (number_of_people%3==0 ):\n",
    "        rand_people=['R','G','B']\n",
    "    elif(number_of_people%2==0 ):\n",
    "        rand_people=['R','G']\n",
    "    else:\n",
    "        rand_people=['R']\n",
    "    a=product(rand_people,repeat=Red_Orange*2)\n",
    "    \n",
    "    for h in a:\n",
    "        counter.append(h)\n",
    "\n",
    "if(Red_Green!=0):\n",
    "    for h in b:\n",
    "        counter.append(h)\n",
    "        \n",
    "if(Orange_Red!=0):\n",
    "    for h in c:\n",
    "        counter.append(h)\n",
    "        \n",
    "if(Orange_Green!=0):\n",
    "    for h in d:\n",
    "        counter.append(h)\n",
    "        \n",
    "if(Green_Red!=0):\n",
    "    for h in e:\n",
    "        counter.append(h)\n",
    "        \n",
    "if(Green_Orange!=0):\n",
    "    for h in f:\n",
    "        counter.append(h)\n",
    "        \n",
    "counter"
   ]
  },
  {
   "cell_type": "code",
   "execution_count": 39,
   "metadata": {},
   "outputs": [
    {
     "name": "stdout",
     "output_type": "stream",
     "text": [
      "2\n",
      "1\n",
      "1\n",
      "1\n",
      "1\n",
      "0\n",
      "0\n"
     ]
    },
    {
     "data": {
      "text/plain": [
       "[('R', 'R'),\n",
       " ('R', 'O'),\n",
       " ('O', 'R'),\n",
       " ('O', 'O'),\n",
       " ('R', 'R'),\n",
       " ('R', 'G'),\n",
       " ('G', 'R'),\n",
       " ('G', 'G'),\n",
       " ('O', 'O'),\n",
       " ('O', 'R'),\n",
       " ('R', 'O'),\n",
       " ('R', 'R'),\n",
       " ('O', 'O'),\n",
       " ('O', 'G'),\n",
       " ('G', 'O'),\n",
       " ('G', 'G')]"
      ]
     },
     "execution_count": 39,
     "metadata": {},
     "output_type": "execute_result"
    }
   ],
   "source": [
    "import numpy as np\n",
    "from itertools import product\n",
    "number_of_people = int(input().strip())\n",
    "Red_Orange= int(input().strip())\n",
    "Red_Green= int(input().strip())\n",
    "Orange_Red= int(input().strip())\n",
    "Orange_Green = int(input().strip())\n",
    "Green_Red= int(input().strip())\n",
    "Green_Orange= int(input().strip())\n",
    "\n",
    "counter=[]\n",
    "if(Red_Orange!=0):\n",
    "    \n",
    "    if (number_of_people%3==0 ):\n",
    "        rand_people=np.repeat(['R','O'],number_of_people/3)\n",
    "    elif(number_of_people%2==0 ):\n",
    "        rand_people=np.repeat(['R','O'],number_of_people/2)\n",
    "    \n",
    "    a=product(rand_people,repeat=Red_Orange*2)\n",
    "    \n",
    "    for h in a:\n",
    "        counter.append(h)\n",
    "\n",
    "        \n",
    "if(Red_Green!=0):\n",
    "    \n",
    "    if (number_of_people%3==0 ):\n",
    "        rand_people=np.repeat(['R','G'],number_of_people/3)\n",
    "    elif(number_of_people%2==0 ):\n",
    "        rand_people=np.repeat(['R','G'],number_of_people/2)\n",
    "    \n",
    "    a=product(rand_people,repeat=Red_Orange*2)\n",
    "    \n",
    "    for h in a:\n",
    "        counter.append(h)\n",
    "        \n",
    "if(Orange_Red!=0):\n",
    "    if (number_of_people%3==0 ):\n",
    "        rand_people=np.repeat(['O','R'],number_of_people/3)\n",
    "    elif(number_of_people%2==0 ):\n",
    "        rand_people=np.repeat(['O','R'],number_of_people/2)\n",
    "    \n",
    "    a=product(rand_people,repeat=Red_Orange*2)\n",
    "    \n",
    "    for h in a:\n",
    "        counter.append(h)\n",
    "        \n",
    "if(Orange_Green!=0):\n",
    "    if (number_of_people%3==0 ):\n",
    "        rand_people=np.repeat(['O','G'],number_of_people/3)\n",
    "    elif(number_of_people%2==0 ):\n",
    "        rand_people=np.repeat(['O','G'],number_of_people/2)\n",
    "    \n",
    "    a=product(rand_people,repeat=Red_Orange*2)\n",
    "    \n",
    "    for h in a:\n",
    "        counter.append(h)\n",
    "        \n",
    "if(Green_Red!=0):\n",
    "    if (number_of_people%3==0 ):\n",
    "        rand_people=np.repeat(['G','R'],number_of_people/3)\n",
    "    elif(number_of_people%2==0 ):\n",
    "        rand_people=np.repeat(['G','R'],number_of_people/2)\n",
    "    \n",
    "    a=product(rand_people,repeat=Red_Orange*2)\n",
    "    \n",
    "    for h in a:\n",
    "        counter.append(h)\n",
    "        \n",
    "if(Green_Orange!=0):\n",
    "    if (number_of_people%3==0 ):\n",
    "        rand_people=np.repeat(['G','O'],number_of_people/3)\n",
    "    elif(number_of_people%2==0 ):\n",
    "        rand_people=np.repeat(['G','O'],number_of_people/2)\n",
    "    \n",
    "    a=product(rand_people,repeat=Red_Orange*2)\n",
    "    \n",
    "    for h in a:\n",
    "        counter.append(h)\n",
    "        \n",
    "counter"
   ]
  },
  {
   "cell_type": "code",
   "execution_count": 59,
   "metadata": {},
   "outputs": [
    {
     "data": {
      "text/plain": [
       "[('R', 'R'),\n",
       " ('R', 'O'),\n",
       " ('O', 'R'),\n",
       " ('O', 'O'),\n",
       " ('R', 'R'),\n",
       " ('R', 'G'),\n",
       " ('G', 'R'),\n",
       " ('G', 'G'),\n",
       " ('O', 'O'),\n",
       " ('O', 'R'),\n",
       " ('R', 'O'),\n",
       " ('R', 'R'),\n",
       " ('O', 'O'),\n",
       " ('O', 'G'),\n",
       " ('G', 'O'),\n",
       " ('G', 'G')]"
      ]
     },
     "execution_count": 59,
     "metadata": {},
     "output_type": "execute_result"
    }
   ],
   "source": [
    "counter=[]\n",
    "if(Red_Orange!=0):\n",
    "    \n",
    "    if (number_of_people%3==0 ):\n",
    "        rand_people=np.repeat(['R','O'],number_of_people/3)\n",
    "    elif(number_of_people%2==0 ):\n",
    "        rand_people=np.repeat(['R','O'],number_of_people/2)\n",
    "    \n",
    "    a=product(rand_people,repeat=Red_Orange*2)\n",
    "    \n",
    "    for h in a:\n",
    "        counter.append(h)\n",
    "\n",
    "        \n",
    "if(Red_Green!=0):\n",
    "    \n",
    "    if (number_of_people%3==0 ):\n",
    "        rand_people=np.repeat(['R','G'],number_of_people/3)\n",
    "    elif(number_of_people%2==0 ):\n",
    "        rand_people=np.repeat(['R','G'],number_of_people/2)\n",
    "    \n",
    "    a=product(rand_people,repeat=Red_Orange*2)\n",
    "    \n",
    "    for h in a:\n",
    "        counter.append(h)\n",
    "        \n",
    "if(Orange_Red!=0):\n",
    "    if (number_of_people%3==0 ):\n",
    "        rand_people=np.repeat(['O','R'],number_of_people/3)\n",
    "    elif(number_of_people%2==0 ):\n",
    "        rand_people=np.repeat(['O','R'],number_of_people/2)\n",
    "    \n",
    "    a=product(rand_people,repeat=Red_Orange*2)\n",
    "    \n",
    "    for h in a:\n",
    "        counter.append(h)\n",
    "        \n",
    "if(Orange_Green!=0):\n",
    "    if (number_of_people%3==0 ):\n",
    "        rand_people=np.repeat(['O','G'],number_of_people/3)\n",
    "    elif(number_of_people%2==0 ):\n",
    "        rand_people=np.repeat(['O','G'],number_of_people/2)\n",
    "    \n",
    "    a=product(rand_people,repeat=Red_Orange*2)\n",
    "    \n",
    "    for h in a:\n",
    "        counter.append(h)\n",
    "        \n",
    "if(Green_Red!=0):\n",
    "    if (number_of_people%3==0 ):\n",
    "        rand_people=np.repeat(['G','R'],number_of_people/3)\n",
    "    elif(number_of_people%2==0 ):\n",
    "        rand_people=np.repeat(['G','R'],number_of_people/2)\n",
    "    \n",
    "    a=product(rand_people,repeat=Red_Orange*2)\n",
    "    \n",
    "    for h in a:\n",
    "        counter.append(h)\n",
    "        \n",
    "if(Green_Orange!=0):\n",
    "    if (number_of_people%3==0 ):\n",
    "        rand_people=np.repeat(['G','O'],number_of_people/3)\n",
    "    elif(number_of_people%2==0 ):\n",
    "        rand_people=np.repeat(['G','O'],number_of_people/2)\n",
    "    \n",
    "    a=product(rand_people,repeat=Red_Orange*2)\n",
    "    \n",
    "    for h in a:\n",
    "        counter.append(h)\n",
    "        \n",
    "counter"
   ]
  },
  {
   "cell_type": "code",
   "execution_count": 62,
   "metadata": {},
   "outputs": [
    {
     "data": {
      "text/plain": [
       "[('R', 'R'),\n",
       " ('R', 'O'),\n",
       " ('O', 'O'),\n",
       " ('R', 'R'),\n",
       " ('R', 'G'),\n",
       " ('G', 'G'),\n",
       " ('O', 'O'),\n",
       " ('O', 'R'),\n",
       " ('R', 'R'),\n",
       " ('O', 'O'),\n",
       " ('O', 'G'),\n",
       " ('G', 'G')]"
      ]
     },
     "execution_count": 62,
     "metadata": {},
     "output_type": "execute_result"
    }
   ],
   "source": [
    "counter=[]\n",
    "if(Red_Orange!=0):\n",
    "    \n",
    "    if (number_of_people%3==0 ):\n",
    "        rand_people=np.repeat(['R','O'],number_of_people/3)\n",
    "    elif(number_of_people%2==0 ):\n",
    "        rand_people=np.repeat(['R','O'],number_of_people/2)\n",
    "    \n",
    "    a=product(rand_people,repeat=Red_Orange*2)\n",
    "    \n",
    "    for h in a:\n",
    "        if(not(h[0]=='O' and h[1]=='R') ):\n",
    "            counter.append(h)\n",
    "\n",
    "        \n",
    "if(Red_Green!=0):\n",
    "    \n",
    "    if (number_of_people%3==0 ):\n",
    "        rand_people=np.repeat(['R','G'],number_of_people/3)\n",
    "    elif(number_of_people%2==0 ):\n",
    "        rand_people=np.repeat(['R','G'],number_of_people/2)\n",
    "    \n",
    "    a=product(rand_people,repeat=Red_Orange*2)\n",
    "    \n",
    "    for h in a:\n",
    "        if(not(h[0]=='G' and h[1]=='R')):\n",
    "            counter.append(h)\n",
    "        \n",
    "if(Orange_Red!=0):\n",
    "    if (number_of_people%3==0 ):\n",
    "        rand_people=np.repeat(['O','R'],number_of_people/3)\n",
    "    elif(number_of_people%2==0 ):\n",
    "        rand_people=np.repeat(['O','R'],number_of_people/2)\n",
    "    \n",
    "    a=product(rand_people,repeat=Red_Orange*2)\n",
    "    \n",
    "    for h in a:\n",
    "        if(not(h[0]=='R' and h[1]=='O')):\n",
    "            counter.append(h)\n",
    "        \n",
    "if(Orange_Green!=0):\n",
    "    if (number_of_people%3==0 ):\n",
    "        rand_people=np.repeat(['O','G'],number_of_people/3)\n",
    "    elif(number_of_people%2==0 ):\n",
    "        rand_people=np.repeat(['O','G'],number_of_people/2)\n",
    "    \n",
    "    a=product(rand_people,repeat=Red_Orange*2)\n",
    "    \n",
    "    for h in a:\n",
    "        if(not(h[0]=='G' and h[1]=='O')):\n",
    "            counter.append(h)\n",
    "        \n",
    "if(Green_Red!=0):\n",
    "    if (number_of_people%3==0 ):\n",
    "        rand_people=np.repeat(['G','R'],number_of_people/3)\n",
    "    elif(number_of_people%2==0 ):\n",
    "        rand_people=np.repeat(['G','R'],number_of_people/2)\n",
    "    \n",
    "    a=product(rand_people,repeat=Red_Orange*2)\n",
    "    \n",
    "    for h in a:\n",
    "        if(not(h[0]=='R' and h[1]=='G')):\n",
    "            counter.append(h)\n",
    "        \n",
    "if(Green_Orange!=0):\n",
    "    if (number_of_people%3==0 ):\n",
    "        rand_people=np.repeat(['G','O'],number_of_people/3)\n",
    "    elif(number_of_people%2==0 ):\n",
    "        rand_people=np.repeat(['G','O'],number_of_people/2)\n",
    "    \n",
    "    a=product(rand_people,repeat=Red_Orange*2)\n",
    "    \n",
    "    for h in a:\n",
    "        if(not(h[0]=='O' and h[1]=='G')):\n",
    "            counter.append(h)\n",
    "        \n",
    "counter"
   ]
  },
  {
   "cell_type": "code",
   "execution_count": 63,
   "metadata": {},
   "outputs": [
    {
     "data": {
      "text/plain": [
       "{('G', 'G'),\n",
       " ('O', 'G'),\n",
       " ('O', 'O'),\n",
       " ('O', 'R'),\n",
       " ('R', 'G'),\n",
       " ('R', 'O'),\n",
       " ('R', 'R')}"
      ]
     },
     "execution_count": 63,
     "metadata": {},
     "output_type": "execute_result"
    }
   ],
   "source": [
    "set(counter)"
   ]
  },
  {
   "cell_type": "code",
   "execution_count": 51,
   "metadata": {},
   "outputs": [
    {
     "data": {
      "text/plain": [
       "[('R', 'R'), ('R', 'O')]"
      ]
     },
     "execution_count": 51,
     "metadata": {},
     "output_type": "execute_result"
    }
   ],
   "source": [
    "from itertools import combinations\n",
    "counter=[]\n",
    "if(Red_Orange!=0):\n",
    "    \n",
    "    if (number_of_people%3==0 ):\n",
    "        rand_people=np.repeat(['R','O'],number_of_people/3)\n",
    "    elif(number_of_people%2==0 ):\n",
    "        rand_people=np.repeat(['R','O'],number_of_people/2)\n",
    "    \n",
    "    a=product(rand_people,repeat=Red_Orange*2)\n",
    "    \n",
    "    for h in a:\n",
    "        if(h[0]=='R'):\n",
    "            counter.append(h)\n",
    "        \n",
    "counter"
   ]
  },
  {
   "cell_type": "code",
   "execution_count": 50,
   "metadata": {},
   "outputs": [
    {
     "ename": "TypeError",
     "evalue": "'function' object cannot be interpreted as an integer",
     "output_type": "error",
     "traceback": [
      "\u001b[1;31m---------------------------------------------------------------------------\u001b[0m",
      "\u001b[1;31mTypeError\u001b[0m                                 Traceback (most recent call last)",
      "\u001b[1;32m<ipython-input-50-9b326139778d>\u001b[0m in \u001b[0;36m<module>\u001b[1;34m\u001b[0m\n\u001b[1;32m----> 1\u001b[1;33m \u001b[0md\u001b[0m\u001b[1;33m=\u001b[0m\u001b[0mcounter\u001b[0m\u001b[1;33m.\u001b[0m\u001b[0mpop\u001b[0m\u001b[1;33m(\u001b[0m\u001b[1;32mlambda\u001b[0m \u001b[0mx\u001b[0m \u001b[1;33m:\u001b[0m \u001b[0mx\u001b[0m\u001b[1;33m[\u001b[0m\u001b[1;36m0\u001b[0m\u001b[1;33m]\u001b[0m\u001b[1;33m!=\u001b[0m\u001b[1;34m'R'\u001b[0m\u001b[1;33m)\u001b[0m\u001b[1;33m\u001b[0m\u001b[1;33m\u001b[0m\u001b[0m\n\u001b[0m",
      "\u001b[1;31mTypeError\u001b[0m: 'function' object cannot be interpreted as an integer"
     ]
    }
   ],
   "source": []
  }
 ],
 "metadata": {
  "kernelspec": {
   "display_name": "Python 3",
   "language": "python",
   "name": "python3"
  },
  "language_info": {
   "codemirror_mode": {
    "name": "ipython",
    "version": 3
   },
   "file_extension": ".py",
   "mimetype": "text/x-python",
   "name": "python",
   "nbconvert_exporter": "python",
   "pygments_lexer": "ipython3",
   "version": "3.8.1"
  }
 },
 "nbformat": 4,
 "nbformat_minor": 4
}
