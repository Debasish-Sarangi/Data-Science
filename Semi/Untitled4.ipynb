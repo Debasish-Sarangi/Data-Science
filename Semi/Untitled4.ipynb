{
 "cells": [
  {
   "cell_type": "code",
   "execution_count": 2,
   "metadata": {},
   "outputs": [
    {
     "name": "stdout",
     "output_type": "stream",
     "text": [
      "4 2\n",
      "2 2 2 2\n",
      "3 1 2 3\n",
      "8\n"
     ]
    }
   ],
   "source": [
    "''' Read input from STDIN. Print your output to STDOUT '''\n",
    "# Use input() to read input from STDIN and use print to write your output to STDOUT\n",
    "\n",
    "\n",
    "def main():\n",
    "    import numpy as np\n",
    "    NoOfPatientDoc = input().strip().split(\" \")\n",
    "    NoOfPatients = int(NoOfPatientDoc[0])\n",
    "    NoOfDoctors = int(NoOfPatientDoc[1])\n",
    "\n",
    "    counter = 1\n",
    "    DocEfforts = []\n",
    "    RowEach = []\n",
    "    while (counter <= NoOfDoctors):\n",
    "        data = input().strip().split(\" \")[:NoOfPatients]\n",
    "        DocEfforts = [int(numeric_string) for numeric_string in data]\n",
    "        RowEach.append(DocEfforts)\n",
    "        counter = counter + 1\n",
    "    l1=[]\n",
    "    l3=[]\n",
    "    ss=0\n",
    "    Con=0\n",
    "    for row in RowEach:\n",
    "        cnt1=0\n",
    "        l2=[]\n",
    "        cnt2=0\n",
    "        while(cnt1<NoOfPatients and cnt2<NoOfDoctors):\n",
    "\n",
    "            if(Con==0):\n",
    "                l1.append(sum(row[:cnt1+1]))\n",
    "            Con=1\n",
    "\n",
    "            ss=sum(RowEach[cnt2][cnt1+1:])\n",
    "            l3.append(ss)\n",
    "            cnt2=cnt2+1\n",
    "\n",
    "            if(cnt2>=NoOfDoctors):\n",
    "\n",
    "                cnt1=cnt1+1\n",
    "                cnt2=0\n",
    "                ss=0\n",
    "                Con=0\n",
    "            else:\n",
    "                ss=0\n",
    "\n",
    "\n",
    "    const= len(l3)/len(l1) \n",
    "    l2=np.repeat(l1,const)\n",
    "    print(min(np.add(l2, l3)))\n",
    "main()\n"
   ]
  }
 ],
 "metadata": {
  "kernelspec": {
   "display_name": "Python 3",
   "language": "python",
   "name": "python3"
  },
  "language_info": {
   "codemirror_mode": {
    "name": "ipython",
    "version": 3
   },
   "file_extension": ".py",
   "mimetype": "text/x-python",
   "name": "python",
   "nbconvert_exporter": "python",
   "pygments_lexer": "ipython3",
   "version": "3.8.1"
  }
 },
 "nbformat": 4,
 "nbformat_minor": 4
}
