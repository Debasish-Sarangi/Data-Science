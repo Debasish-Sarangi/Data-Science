{
 "cells": [
  {
   "cell_type": "code",
   "execution_count": 2,
   "metadata": {},
   "outputs": [
    {
     "name": "stdout",
     "output_type": "stream",
     "text": [
      "5 5\n",
      "1 2 5 2 1\n",
      "1 1 1 7 5\n",
      "2 2 9 4 1\n",
      "1 1 5 4 1\n",
      "1 3 5 2 1\n",
      "6\n"
     ]
    }
   ],
   "source": [
    "''' Read input from STDIN. Print your output to STDOUT '''\n",
    "# Use input() to read input from STDIN and use print to write your output to STDOUT\n",
    "\n",
    "\n",
    "def main():\n",
    "    import numpy as np\n",
    "    NoOfPatientDoc = input().strip().split(\" \")\n",
    "    NoOfPatients = int(NoOfPatientDoc[0])\n",
    "    NoOfDoctors = int(NoOfPatientDoc[1])\n",
    "\n",
    "    counter = 1\n",
    "    DocEfforts = []\n",
    "    RowEach = []\n",
    "    while (counter <= NoOfDoctors):\n",
    "        data = input().strip().split(\" \")[:NoOfPatients]\n",
    "        DocEfforts = [int(numeric_string) for numeric_string in data]\n",
    "        RowEach.append(DocEfforts)\n",
    "        counter = counter + 1\n",
    "    l1=[]\n",
    "    l3=[]\n",
    "    ss=0\n",
    "\n",
    "\n",
    "    for row in RowEach:\n",
    "        cnt1=0\n",
    "        l2=[]\n",
    "        \n",
    "\n",
    "        while(cnt1<NoOfPatients):\n",
    "\n",
    "            l1.append(sum(row[:cnt1+1]))\n",
    "            cnt2=0\n",
    "            ss=0\n",
    "\n",
    "            while(cnt2<NoOfDoctors):\n",
    "\n",
    "                ss=sum(RowEach[cnt2][cnt1+1:])\n",
    "                l3.append(ss)\n",
    "\n",
    "                cnt2=cnt2+1\n",
    "\n",
    "\n",
    "            cnt1=cnt1+1\n",
    "\n",
    "\n",
    "\n",
    "    const= len(l3)/len(l1) \n",
    "    l2=np.repeat(l1,const)\n",
    "    print(min(np.add(l2, l3)))\n",
    "main()"
   ]
  },
  {
   "cell_type": "code",
   "execution_count": 18,
   "metadata": {},
   "outputs": [
    {
     "name": "stdout",
     "output_type": "stream",
     "text": [
      "5 5\n",
      "1 2 5 2 1\n",
      "1 1 1 7 5\n",
      "2 2 9 4 1\n",
      "1 1 5 4 1\n",
      "1 3 5 2 1\n",
      "11\n"
     ]
    }
   ],
   "source": [
    "''' Read input from STDIN. Print your output to STDOUT '''\n",
    "# Use input() to read input from STDIN and use print to write your output to STDOUT\n",
    "\n",
    "\n",
    "\n",
    "import numpy as np\n",
    "NoOfPatientDoc = input().strip().split(\" \")\n",
    "NoOfPatients = int(NoOfPatientDoc[0])\n",
    "NoOfDoctors = int(NoOfPatientDoc[1])\n",
    "\n",
    "counter = 1\n",
    "DocEfforts = []\n",
    "RowEach = []\n",
    "while (counter <= NoOfDoctors):\n",
    "    data = input().strip().split(\" \")[:NoOfPatients]\n",
    "    DocEfforts = [int(numeric_string) for numeric_string in data]\n",
    "    RowEach.append(DocEfforts)\n",
    "    counter = counter + 1\n",
    "l1=[]\n",
    "l3=[]\n",
    "ss=0\n",
    "\n",
    "\n",
    "for row in RowEach:\n",
    "    cnt1=0\n",
    "    l2=[]\n",
    "    cnt2=0\n",
    "    while(cnt1<NoOfPatients and cnt2<NoOfDoctors):\n",
    "\n",
    "        if(cnt1>cnt2 or cnt2==cnt1==0 ):\n",
    "            l1.append(sum(row[:cnt1+1]))\n",
    "\n",
    "        ss=sum(RowEach[cnt2][cnt1+1:])\n",
    "        l3.append(ss)\n",
    "        \n",
    "\n",
    "        if(cnt2>=NoOfDoctors):\n",
    "\n",
    "            cnt1=cnt1+1\n",
    "            cnt2=0\n",
    "            ss=0\n",
    "        else:\n",
    "            cnt2=cnt2+1\n",
    "            ss=0\n",
    "\n",
    "\n",
    "const= len(l3)/len(l1) \n",
    "l2=np.repeat(l1,const)\n",
    "print(min(np.add(l2, l3)))\n"
   ]
  },
  {
   "cell_type": "code",
   "execution_count": 79,
   "metadata": {},
   "outputs": [
    {
     "name": "stdout",
     "output_type": "stream",
     "text": [
      "6\n"
     ]
    }
   ],
   "source": [
    "l1=[]\n",
    "l3=[]\n",
    "ss=0\n",
    "\n",
    "\n",
    "for row in RowEach:\n",
    "    cnt1=0\n",
    "    l2=[]\n",
    "\n",
    "\n",
    "    while(cnt1<NoOfPatients):\n",
    "\n",
    "        l1.append(sum(row[:cnt1+1]))\n",
    "        cnt2=0\n",
    "        ss=0\n",
    "\n",
    "        while(cnt2<NoOfDoctors):\n",
    "\n",
    "            ss=sum(RowEach[cnt2][cnt1+1:])\n",
    "            l3.append(ss)\n",
    "\n",
    "            cnt2=cnt2+1\n",
    "\n",
    "\n",
    "        cnt1=cnt1+1\n",
    "\n",
    "\n",
    "\n",
    "const= len(l3)/len(l1) \n",
    "l2=np.repeat(l1,const)\n",
    "print(min(np.add(l2, l3)))"
   ]
  },
  {
   "cell_type": "code",
   "execution_count": 88,
   "metadata": {},
   "outputs": [
    {
     "name": "stdout",
     "output_type": "stream",
     "text": [
      "6\n"
     ]
    }
   ],
   "source": [
    "l1=[]\n",
    "l3=[]\n",
    "ss=0\n",
    "Con=0\n",
    "for row in RowEach:\n",
    "    cnt1=0\n",
    "    l2=[]\n",
    "    cnt2=0\n",
    "    while(cnt1<NoOfPatients and cnt2<NoOfDoctors):\n",
    "\n",
    "        if(Con==0):\n",
    "            l1.append(sum(row[:cnt1+1]))\n",
    "        Con=1\n",
    "\n",
    "        ss=sum(RowEach[cnt2][cnt1+1:])\n",
    "        l3.append(ss)\n",
    "        cnt2=cnt2+1\n",
    "        ss=0\n",
    "        if(cnt2>=NoOfDoctors):\n",
    "\n",
    "            cnt1=cnt1+1\n",
    "            cnt2=0\n",
    "            \n",
    "            Con=0\n",
    "\n",
    "\n",
    "\n",
    "const= len(l3)/len(l1) \n",
    "l2=np.repeat(l1,const)\n",
    "print(min(np.add(l2, l3)))\n"
   ]
  },
  {
   "cell_type": "code",
   "execution_count": 103,
   "metadata": {},
   "outputs": [
    {
     "name": "stdout",
     "output_type": "stream",
     "text": [
      "6\n"
     ]
    }
   ],
   "source": [
    "l1=[]\n",
    "l3=[]\n",
    "ss=0\n",
    "Con=0\n",
    "kon=0\n",
    "cnt1=0\n",
    "cnt2=0\n",
    "while(kon<NoOfDoctors and cnt1<NoOfPatients and cnt2<NoOfDoctors):\n",
    "\n",
    "    if(Con==0):\n",
    "        l1.append(sum(RowEach[kon][:cnt1+1]))\n",
    "    Con=1\n",
    "\n",
    "    ss=sum(RowEach[cnt2][cnt1+1:])\n",
    "    l3.append(ss)\n",
    "    cnt2=cnt2+1\n",
    "    ss=0\n",
    "    if(cnt2>=NoOfDoctors):\n",
    "\n",
    "        cnt1=cnt1+1\n",
    "        cnt2=0\n",
    "        Con=0\n",
    "    if(cnt1>=NoOfPatients):\n",
    "        \n",
    "        cnt1=0\n",
    "        kon=kon+1\n",
    "\n",
    "\n",
    "const= len(l3)/len(l1) \n",
    "l2=np.repeat(l1,const)\n",
    "print(min(np.add(l2, l3)))\n"
   ]
  },
  {
   "cell_type": "code",
   "execution_count": 111,
   "metadata": {},
   "outputs": [],
   "source": [
    "new=np.array(RowEach)"
   ]
  },
  {
   "cell_type": "code",
   "execution_count": 142,
   "metadata": {},
   "outputs": [
    {
     "data": {
      "text/plain": [
       "array([[1, 2, 5, 2, 1],\n",
       "       [1, 1, 1, 7, 5],\n",
       "       [2, 2, 9, 4, 1],\n",
       "       [1, 1, 5, 4, 1],\n",
       "       [1, 3, 5, 2, 1]])"
      ]
     },
     "execution_count": 142,
     "metadata": {},
     "output_type": "execute_result"
    }
   ],
   "source": [
    "new"
   ]
  },
  {
   "cell_type": "code",
   "execution_count": 137,
   "metadata": {},
   "outputs": [
    {
     "data": {
      "text/plain": [
       "1"
      ]
     },
     "execution_count": 137,
     "metadata": {},
     "output_type": "execute_result"
    }
   ],
   "source": [
    "minm=np.array(new).min()\n",
    "minm"
   ]
  },
  {
   "cell_type": "code",
   "execution_count": 155,
   "metadata": {},
   "outputs": [
    {
     "data": {
      "text/plain": [
       "array([[1, 2, 5, 2, 1],\n",
       "       [1, 1, 1, 7, 5],\n",
       "       [2, 2, 9, 4, 1],\n",
       "       [1, 1, 5, 4, 1],\n",
       "       [1, 3, 5, 2, 1]])"
      ]
     },
     "execution_count": 155,
     "metadata": {},
     "output_type": "execute_result"
    }
   ],
   "source": [
    "new"
   ]
  },
  {
   "cell_type": "code",
   "execution_count": 203,
   "metadata": {},
   "outputs": [],
   "source": [
    "from itertools import permutations, combinations, accumulate\n"
   ]
  },
  {
   "cell_type": "code",
   "execution_count": 213,
   "metadata": {},
   "outputs": [
    {
     "name": "stdout",
     "output_type": "stream",
     "text": [
      "(1, 2, 5, 2) (1, 1, 1, 7) (2, 2, 9, 4) (1, 1, 5, 4) (1, 3, 5, 2)\n",
      "(1, 2, 5, 1) (1, 1, 1, 5) (2, 2, 9, 1) (1, 1, 5, 1) (1, 3, 5, 1)\n",
      "(1, 2, 2, 1) (1, 1, 7, 5) (2, 2, 4, 1) (1, 1, 4, 1) (1, 3, 2, 1)\n",
      "(1, 5, 2, 1) (1, 1, 7, 5) (2, 9, 4, 1) (1, 5, 4, 1) (1, 5, 2, 1)\n",
      "(2, 5, 2, 1) (1, 1, 7, 5) (2, 9, 4, 1) (1, 5, 4, 1) (3, 5, 2, 1)\n"
     ]
    }
   ],
   "source": [
    "a=4\n",
    "D1=combinations([1, 2, 5, 2, 1],a)\n",
    "D2=combinations([1, 1, 1, 7, 5],a)\n",
    "D3=combinations([2, 2, 9, 4, 1],a)\n",
    "D4=combinations([1, 1, 5, 4, 1],a)\n",
    "D5=combinations([1, 3, 5, 2, 1],a)\n",
    "for a,b,c,d,e in zip(D1,D2,D3,D4,D5):\n",
    "  \n",
    "    print(a,b,c,d,e)"
   ]
  },
  {
   "cell_type": "code",
   "execution_count": 216,
   "metadata": {},
   "outputs": [
    {
     "name": "stdout",
     "output_type": "stream",
     "text": [
      "(1, 2, 3, 4)\n",
      "(1, 2, 3, 5)\n",
      "(1, 2, 4, 3)\n",
      "(1, 2, 4, 5)\n",
      "(1, 2, 5, 3)\n",
      "(1, 2, 5, 4)\n",
      "(1, 3, 2, 4)\n",
      "(1, 3, 2, 5)\n",
      "(1, 3, 4, 2)\n",
      "(1, 3, 4, 5)\n",
      "(1, 3, 5, 2)\n",
      "(1, 3, 5, 4)\n",
      "(1, 4, 2, 3)\n",
      "(1, 4, 2, 5)\n",
      "(1, 4, 3, 2)\n",
      "(1, 4, 3, 5)\n",
      "(1, 4, 5, 2)\n",
      "(1, 4, 5, 3)\n",
      "(1, 5, 2, 3)\n",
      "(1, 5, 2, 4)\n",
      "(1, 5, 3, 2)\n",
      "(1, 5, 3, 4)\n",
      "(1, 5, 4, 2)\n",
      "(1, 5, 4, 3)\n",
      "(2, 1, 3, 4)\n",
      "(2, 1, 3, 5)\n",
      "(2, 1, 4, 3)\n",
      "(2, 1, 4, 5)\n",
      "(2, 1, 5, 3)\n",
      "(2, 1, 5, 4)\n",
      "(2, 3, 1, 4)\n",
      "(2, 3, 1, 5)\n",
      "(2, 3, 4, 1)\n",
      "(2, 3, 4, 5)\n",
      "(2, 3, 5, 1)\n",
      "(2, 3, 5, 4)\n",
      "(2, 4, 1, 3)\n",
      "(2, 4, 1, 5)\n",
      "(2, 4, 3, 1)\n",
      "(2, 4, 3, 5)\n",
      "(2, 4, 5, 1)\n",
      "(2, 4, 5, 3)\n",
      "(2, 5, 1, 3)\n",
      "(2, 5, 1, 4)\n",
      "(2, 5, 3, 1)\n",
      "(2, 5, 3, 4)\n",
      "(2, 5, 4, 1)\n",
      "(2, 5, 4, 3)\n",
      "(3, 1, 2, 4)\n",
      "(3, 1, 2, 5)\n",
      "(3, 1, 4, 2)\n",
      "(3, 1, 4, 5)\n",
      "(3, 1, 5, 2)\n",
      "(3, 1, 5, 4)\n",
      "(3, 2, 1, 4)\n",
      "(3, 2, 1, 5)\n",
      "(3, 2, 4, 1)\n",
      "(3, 2, 4, 5)\n",
      "(3, 2, 5, 1)\n",
      "(3, 2, 5, 4)\n",
      "(3, 4, 1, 2)\n",
      "(3, 4, 1, 5)\n",
      "(3, 4, 2, 1)\n",
      "(3, 4, 2, 5)\n",
      "(3, 4, 5, 1)\n",
      "(3, 4, 5, 2)\n",
      "(3, 5, 1, 2)\n",
      "(3, 5, 1, 4)\n",
      "(3, 5, 2, 1)\n",
      "(3, 5, 2, 4)\n",
      "(3, 5, 4, 1)\n",
      "(3, 5, 4, 2)\n",
      "(4, 1, 2, 3)\n",
      "(4, 1, 2, 5)\n",
      "(4, 1, 3, 2)\n",
      "(4, 1, 3, 5)\n",
      "(4, 1, 5, 2)\n",
      "(4, 1, 5, 3)\n",
      "(4, 2, 1, 3)\n",
      "(4, 2, 1, 5)\n",
      "(4, 2, 3, 1)\n",
      "(4, 2, 3, 5)\n",
      "(4, 2, 5, 1)\n",
      "(4, 2, 5, 3)\n",
      "(4, 3, 1, 2)\n",
      "(4, 3, 1, 5)\n",
      "(4, 3, 2, 1)\n",
      "(4, 3, 2, 5)\n",
      "(4, 3, 5, 1)\n",
      "(4, 3, 5, 2)\n",
      "(4, 5, 1, 2)\n",
      "(4, 5, 1, 3)\n",
      "(4, 5, 2, 1)\n",
      "(4, 5, 2, 3)\n",
      "(4, 5, 3, 1)\n",
      "(4, 5, 3, 2)\n",
      "(5, 1, 2, 3)\n",
      "(5, 1, 2, 4)\n",
      "(5, 1, 3, 2)\n",
      "(5, 1, 3, 4)\n",
      "(5, 1, 4, 2)\n",
      "(5, 1, 4, 3)\n",
      "(5, 2, 1, 3)\n",
      "(5, 2, 1, 4)\n",
      "(5, 2, 3, 1)\n",
      "(5, 2, 3, 4)\n",
      "(5, 2, 4, 1)\n",
      "(5, 2, 4, 3)\n",
      "(5, 3, 1, 2)\n",
      "(5, 3, 1, 4)\n",
      "(5, 3, 2, 1)\n",
      "(5, 3, 2, 4)\n",
      "(5, 3, 4, 1)\n",
      "(5, 3, 4, 2)\n",
      "(5, 4, 1, 2)\n",
      "(5, 4, 1, 3)\n",
      "(5, 4, 2, 1)\n",
      "(5, 4, 2, 3)\n",
      "(5, 4, 3, 1)\n",
      "(5, 4, 3, 2)\n"
     ]
    }
   ],
   "source": [
    "perms=permutations([1,2,3,4,5],4)\n",
    "for i in perms:\n",
    "  \n",
    "    print(i)"
   ]
  },
  {
   "cell_type": "code",
   "execution_count": 223,
   "metadata": {},
   "outputs": [
    {
     "name": "stdout",
     "output_type": "stream",
     "text": [
      "2\n",
      "4\n",
      "6\n",
      "8\n"
     ]
    }
   ],
   "source": [
    "D1=accumulate([2, 2, 2, 2])\n",
    "D2=accumulate([2, 2, 2, 2])\n",
    "for i in perms:\n",
    "  \n",
    "    print(i)"
   ]
  },
  {
   "cell_type": "code",
   "execution_count": 221,
   "metadata": {},
   "outputs": [
    {
     "data": {
      "text/plain": [
       "array([[2, 2, 2, 2],\n",
       "       [3, 1, 2, 3]])"
      ]
     },
     "execution_count": 221,
     "metadata": {},
     "output_type": "execute_result"
    }
   ],
   "source": [
    "x=np.array([[2, 2, 2, 2],\n",
    "[3, 1, 2, 3]])\n",
    "x"
   ]
  }
 ],
 "metadata": {
  "kernelspec": {
   "display_name": "Python 3",
   "language": "python",
   "name": "python3"
  },
  "language_info": {
   "codemirror_mode": {
    "name": "ipython",
    "version": 3
   },
   "file_extension": ".py",
   "mimetype": "text/x-python",
   "name": "python",
   "nbconvert_exporter": "python",
   "pygments_lexer": "ipython3",
   "version": "3.8.1"
  }
 },
 "nbformat": 4,
 "nbformat_minor": 4
}
