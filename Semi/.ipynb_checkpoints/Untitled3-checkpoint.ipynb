{
 "cells": [
  {
   "cell_type": "code",
   "execution_count": 2,
   "metadata": {},
   "outputs": [
    {
     "name": "stdout",
     "output_type": "stream",
     "text": [
      "5 5\n",
      "1 2 5 2 1\n",
      "1 1 1 7 5\n",
      "2 2 9 4 1\n",
      "1 1 5 4 1\n",
      "1 3 5 2 1\n",
      "6\n"
     ]
    }
   ],
   "source": [
    "''' Read input from STDIN. Print your output to STDOUT '''\n",
    "# Use input() to read input from STDIN and use print to write your output to STDOUT\n",
    "\n",
    "\n",
    "def main():\n",
    "    import numpy as np\n",
    "    NoOfPatientDoc = input().strip().split(\" \")\n",
    "    NoOfPatients = int(NoOfPatientDoc[0])\n",
    "    NoOfDoctors = int(NoOfPatientDoc[1])\n",
    "\n",
    "    counter = 1\n",
    "    DocEfforts = []\n",
    "    RowEach = []\n",
    "    while (counter <= NoOfDoctors):\n",
    "        data = input().strip().split(\" \")[:NoOfPatients]\n",
    "        DocEfforts = [int(numeric_string) for numeric_string in data]\n",
    "        RowEach.append(DocEfforts)\n",
    "        counter = counter + 1\n",
    "    l1=[]\n",
    "    l3=[]\n",
    "    ss=0\n",
    "\n",
    "\n",
    "    for row in RowEach:\n",
    "        cnt1=0\n",
    "        l2=[]\n",
    "        \n",
    "\n",
    "        while(cnt1<NoOfPatients):\n",
    "\n",
    "            l1.append(sum(row[:cnt1+1]))\n",
    "            cnt2=0\n",
    "            ss=0\n",
    "\n",
    "            while(cnt2<NoOfDoctors):\n",
    "\n",
    "                ss=sum(RowEach[cnt2][cnt1+1:])\n",
    "                l3.append(ss)\n",
    "\n",
    "                cnt2=cnt2+1\n",
    "\n",
    "\n",
    "            cnt1=cnt1+1\n",
    "\n",
    "\n",
    "\n",
    "    const= len(l3)/len(l1) \n",
    "    l2=np.repeat(l1,const)\n",
    "    print(min(np.add(l2, l3)))\n",
    "main()"
   ]
  },
  {
   "cell_type": "code",
   "execution_count": 18,
   "metadata": {},
   "outputs": [
    {
     "name": "stdout",
     "output_type": "stream",
     "text": [
      "5 5\n",
      "1 2 5 2 1\n",
      "1 1 1 7 5\n",
      "2 2 9 4 1\n",
      "1 1 5 4 1\n",
      "1 3 5 2 1\n",
      "11\n"
     ]
    }
   ],
   "source": [
    "''' Read input from STDIN. Print your output to STDOUT '''\n",
    "# Use input() to read input from STDIN and use print to write your output to STDOUT\n",
    "\n",
    "\n",
    "\n",
    "import numpy as np\n",
    "NoOfPatientDoc = input().strip().split(\" \")\n",
    "NoOfPatients = int(NoOfPatientDoc[0])\n",
    "NoOfDoctors = int(NoOfPatientDoc[1])\n",
    "\n",
    "counter = 1\n",
    "DocEfforts = []\n",
    "RowEach = []\n",
    "while (counter <= NoOfDoctors):\n",
    "    data = input().strip().split(\" \")[:NoOfPatients]\n",
    "    DocEfforts = [int(numeric_string) for numeric_string in data]\n",
    "    RowEach.append(DocEfforts)\n",
    "    counter = counter + 1\n",
    "l1=[]\n",
    "l3=[]\n",
    "ss=0\n",
    "\n",
    "\n",
    "for row in RowEach:\n",
    "    cnt1=0\n",
    "    l2=[]\n",
    "    cnt2=0\n",
    "    while(cnt1<NoOfPatients and cnt2<NoOfDoctors):\n",
    "\n",
    "        if(cnt1>cnt2 or cnt2==cnt1==0 ):\n",
    "            l1.append(sum(row[:cnt1+1]))\n",
    "\n",
    "        ss=sum(RowEach[cnt2][cnt1+1:])\n",
    "        l3.append(ss)\n",
    "        \n",
    "\n",
    "        if(cnt2>=NoOfDoctors):\n",
    "\n",
    "            cnt1=cnt1+1\n",
    "            cnt2=0\n",
    "            ss=0\n",
    "        else:\n",
    "            cnt2=cnt2+1\n",
    "            ss=0\n",
    "\n",
    "\n",
    "const= len(l3)/len(l1) \n",
    "l2=np.repeat(l1,const)\n",
    "print(min(np.add(l2, l3)))\n"
   ]
  },
  {
   "cell_type": "code",
   "execution_count": 45,
   "metadata": {},
   "outputs": [
    {
     "name": "stdout",
     "output_type": "stream",
     "text": [
      "6\n"
     ]
    }
   ],
   "source": [
    "l1=[]\n",
    "l3=[]\n",
    "ss=0\n",
    "\n",
    "\n",
    "for row in RowEach:\n",
    "    cnt1=0\n",
    "    l2=[]\n",
    "\n",
    "\n",
    "    while(cnt1<NoOfPatients):\n",
    "\n",
    "        l1.append(sum(row[:cnt1+1]))\n",
    "        cnt2=0\n",
    "        ss=0\n",
    "\n",
    "        while(cnt2<NoOfDoctors):\n",
    "\n",
    "            ss=sum(RowEach[cnt2][cnt1+1:])\n",
    "            l3.append(ss)\n",
    "\n",
    "            cnt2=cnt2+1\n",
    "\n",
    "\n",
    "        cnt1=cnt1+1\n",
    "\n",
    "\n",
    "\n",
    "const= len(l3)/len(l1) \n",
    "l2=np.repeat(l1,const)\n",
    "print(min(np.add(l2, l3)))"
   ]
  },
  {
   "cell_type": "code",
   "execution_count": 70,
   "metadata": {},
   "outputs": [
    {
     "name": "stdout",
     "output_type": "stream",
     "text": [
      "6\n"
     ]
    }
   ],
   "source": [
    "l1=[]\n",
    "l3=[]\n",
    "ss=0\n",
    "Con=0\n",
    "for row in RowEach:\n",
    "    cnt1=0\n",
    "    l2=[]\n",
    "    cnt2=0\n",
    "    while(cnt1<NoOfPatients and cnt2<NoOfDoctors):\n",
    "\n",
    "        if(Con==0):\n",
    "            l1.append(sum(row[:cnt1+1]))\n",
    "        Con=1\n",
    "\n",
    "        ss=sum(RowEach[cnt2][cnt1+1:])\n",
    "        l3.append(ss)\n",
    "        cnt2=cnt2+1\n",
    "        ss=0\n",
    "        if(cnt2>=NoOfDoctors):\n",
    "\n",
    "            cnt1=cnt1+1\n",
    "            cnt2=0\n",
    "            \n",
    "            Con=0\n",
    "\n",
    "\n",
    "\n",
    "const= len(l3)/len(l1) \n",
    "l2=np.repeat(l1,const)\n",
    "print(min(np.add(l2, l3)))\n"
   ]
  },
  {
   "cell_type": "code",
   "execution_count": 72,
   "metadata": {},
   "outputs": [
    {
     "name": "stdout",
     "output_type": "stream",
     "text": [
      "11\n"
     ]
    }
   ],
   "source": [
    "l1=[]\n",
    "l3=[]\n",
    "ss=0\n",
    "Con=0\n",
    "k=len(RowEach)\n",
    "j=0\n",
    "\n",
    "\n",
    "while(j<k):\n",
    "    cnt1=0\n",
    "    l2=[]\n",
    "    cnt2=0\n",
    "    while(cnt1<NoOfPatients and cnt2<NoOfDoctors):\n",
    "\n",
    "        if(Con==0):\n",
    "            l1.append(sum(row[:cnt1+1]))\n",
    "        Con=1\n",
    "\n",
    "        ss=sum(RowEach[cnt2][cnt1+1:])\n",
    "        l3.append(ss)\n",
    "        cnt2=cnt2+1\n",
    "        ss=0\n",
    "        if(cnt2>=NoOfDoctors):\n",
    "\n",
    "            cnt1=cnt1+1\n",
    "            cnt2=0\n",
    "            Con=0\n",
    "            \n",
    "    j=j+1\n",
    "\n",
    "\n",
    "const= len(l3)/len(l1) \n",
    "l2=np.repeat(l1,const)\n",
    "print(min(np.add(l2, l3)))\n"
   ]
  },
  {
   "cell_type": "code",
   "execution_count": 71,
   "metadata": {},
   "outputs": [
    {
     "data": {
      "text/plain": [
       "[1,\n",
       " 3,\n",
       " 8,\n",
       " 10,\n",
       " 11,\n",
       " 1,\n",
       " 2,\n",
       " 3,\n",
       " 10,\n",
       " 15,\n",
       " 2,\n",
       " 4,\n",
       " 13,\n",
       " 17,\n",
       " 18,\n",
       " 1,\n",
       " 2,\n",
       " 7,\n",
       " 11,\n",
       " 12,\n",
       " 1,\n",
       " 4,\n",
       " 9,\n",
       " 11,\n",
       " 12]"
      ]
     },
     "execution_count": 71,
     "metadata": {},
     "output_type": "execute_result"
    }
   ],
   "source": [
    "l1"
   ]
  }
 ],
 "metadata": {
  "kernelspec": {
   "display_name": "Python 3",
   "language": "python",
   "name": "python3"
  },
  "language_info": {
   "codemirror_mode": {
    "name": "ipython",
    "version": 3
   },
   "file_extension": ".py",
   "mimetype": "text/x-python",
   "name": "python",
   "nbconvert_exporter": "python",
   "pygments_lexer": "ipython3",
   "version": "3.8.1"
  }
 },
 "nbformat": 4,
 "nbformat_minor": 4
}
