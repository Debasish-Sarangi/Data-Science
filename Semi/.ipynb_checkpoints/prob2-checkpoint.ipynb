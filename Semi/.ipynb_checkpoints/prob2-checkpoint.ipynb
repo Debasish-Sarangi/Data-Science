{
 "cells": [
  {
   "cell_type": "code",
   "execution_count": null,
   "metadata": {},
   "outputs": [],
   "source": [
    "import numpy as np\n",
    "number_of_people = int(input().strip())\n",
    "Red_Orange= int(input().strip())\n",
    "Red_Green= int(input().strip())\n",
    "Orange_Red= int(input().strip())\n",
    "Orange_Green = int(input().strip())\n",
    "Green_Red= int(input().strip())\n",
    "Green_Orange= int(input().strip())\n",
    "\n",
    "\n",
    "\n"
   ]
  }
 ],
 "metadata": {
  "kernelspec": {
   "display_name": "Python 3",
   "language": "python",
   "name": "python3"
  },
  "language_info": {
   "codemirror_mode": {
    "name": "ipython",
    "version": 3
   },
   "file_extension": ".py",
   "mimetype": "text/x-python",
   "name": "python",
   "nbconvert_exporter": "python",
   "pygments_lexer": "ipython3",
   "version": "3.8.1"
  }
 },
 "nbformat": 4,
 "nbformat_minor": 4
}
