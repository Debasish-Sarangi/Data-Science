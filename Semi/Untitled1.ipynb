{
 "cells": [
  {
   "cell_type": "code",
   "execution_count": 3,
   "metadata": {},
   "outputs": [
    {
     "name": "stdout",
     "output_type": "stream",
     "text": [
      "4 2\n",
      "2 2 2 2\n",
      "3 1 2 3\n",
      "8\n"
     ]
    }
   ],
   "source": [
    "def main():\n",
    "    NoOfPatientDoc = input().strip().split(\" \")\n",
    "    NoOfPatients = int(NoOfPatientDoc[0])\n",
    "    NoOfDoctors = int(NoOfPatientDoc[1])\n",
    "\n",
    "    counter = 1\n",
    "    DocEfforts = []\n",
    "    RowEach = []\n",
    "\n",
    "    while (counter <= NoOfDoctors):\n",
    "        data = input().strip().split(\" \")[:NoOfPatients]\n",
    "        DocEfforts = [int(numeric_string) for numeric_string in data]\n",
    "        RowEach.append(DocEfforts)\n",
    "        counter = counter + 1\n",
    "\n",
    "    sumofEach = []\n",
    "    l1 = []\n",
    "    l2 = []\n",
    "\n",
    "    for row in RowEach:\n",
    "        # sumofEach.append(min(row))\n",
    "        # print(RowEach.index(row))\n",
    "        c_index = RowEach.index(row)\n",
    "        l1.append(sum(row[c_index:]))\n",
    "        l2.append(sum(row[:c_index]))\n",
    "    import numpy as np\n",
    "    print(min(np.add(l1, l2)))\n",
    "\n",
    "main()"
   ]
  }
 ],
 "metadata": {
  "kernelspec": {
   "display_name": "Python 3",
   "language": "python",
   "name": "python3"
  },
  "language_info": {
   "codemirror_mode": {
    "name": "ipython",
    "version": 3
   },
   "file_extension": ".py",
   "mimetype": "text/x-python",
   "name": "python",
   "nbconvert_exporter": "python",
   "pygments_lexer": "ipython3",
   "version": "3.8.1"
  }
 },
 "nbformat": 4,
 "nbformat_minor": 4
}
