{
 "cells": [
  {
   "cell_type": "code",
   "execution_count": 41,
   "metadata": {},
   "outputs": [
    {
     "name": "stdout",
     "output_type": "stream",
     "text": [
      "5 5\n",
      "1 2 5 2 1\n",
      "1 1 1 7 5\n",
      "2 2 9 4 1\n",
      "1 1 5 4 1\n",
      "1 3 5 2 1\n",
      "11\n"
     ]
    }
   ],
   "source": [
    "\n",
    "    NoOfPatientDoc = input().strip().split(\" \")\n",
    "    NoOfPatients = int(NoOfPatientDoc[0])\n",
    "    NoOfDoctors = int(NoOfPatientDoc[1])\n",
    "\n",
    "    counter = 1\n",
    "    DocEfforts = []\n",
    "    RowEach = []\n",
    "\n",
    "    while (counter <= NoOfDoctors):\n",
    "        data = input().strip().split(\" \")[:NoOfPatients]\n",
    "        DocEfforts = [int(numeric_string) for numeric_string in data]\n",
    "        RowEach.append(DocEfforts)\n",
    "        counter = counter + 1\n",
    "\n",
    "    sumofEach = []\n",
    "    l1 = []\n",
    "    l2 = []\n",
    "\n",
    "    for row in RowEach:\n",
    "        # sumofEach.append(min(row))\n",
    "        # print(RowEach.index(row))\n",
    "        c_index = RowEach.index(row)\n",
    "        l1.append(sum(row[c_index:]))\n",
    "        l2.append(sum(row[:c_index]))\n",
    "    import numpy as np\n",
    "    print(min(np.add(l1, l2)))\n",
    "\n"
   ]
  },
  {
   "cell_type": "code",
   "execution_count": 107,
   "metadata": {},
   "outputs": [],
   "source": [
    "    l1 = []\n",
    "    l2 = []"
   ]
  },
  {
   "cell_type": "code",
   "execution_count": 245,
   "metadata": {},
   "outputs": [
    {
     "ename": "KeyboardInterrupt",
     "evalue": "",
     "output_type": "error",
     "traceback": [
      "\u001b[1;31m---------------------------------------------------------------------------\u001b[0m",
      "\u001b[1;31mKeyboardInterrupt\u001b[0m                         Traceback (most recent call last)",
      "\u001b[1;32m<ipython-input-245-2e13f00c7c4e>\u001b[0m in \u001b[0;36m<module>\u001b[1;34m\u001b[0m\n\u001b[0;32m      1\u001b[0m \u001b[0mcnt1\u001b[0m\u001b[1;33m=\u001b[0m\u001b[1;36m0\u001b[0m\u001b[1;33m\u001b[0m\u001b[1;33m\u001b[0m\u001b[0m\n\u001b[0;32m      2\u001b[0m \u001b[1;32mwhile\u001b[0m\u001b[1;33m(\u001b[0m\u001b[0mcnt1\u001b[0m\u001b[1;33m<\u001b[0m\u001b[0mNoOfDoctors\u001b[0m\u001b[1;33m)\u001b[0m\u001b[1;33m:\u001b[0m\u001b[1;33m\u001b[0m\u001b[1;33m\u001b[0m\u001b[0m\n\u001b[1;32m----> 3\u001b[1;33m     \u001b[1;32mwhile\u001b[0m\u001b[1;33m(\u001b[0m\u001b[0mcnt2\u001b[0m\u001b[1;33m<\u001b[0m\u001b[0mNoOfPatients\u001b[0m\u001b[1;33m)\u001b[0m\u001b[1;33m:\u001b[0m\u001b[1;33m\u001b[0m\u001b[1;33m\u001b[0m\u001b[0m\n\u001b[0m\u001b[0;32m      4\u001b[0m         \u001b[1;31m#cnt2=0\u001b[0m\u001b[1;33m\u001b[0m\u001b[1;33m\u001b[0m\u001b[1;33m\u001b[0m\u001b[0m\n\u001b[0;32m      5\u001b[0m         \u001b[0ml1\u001b[0m\u001b[1;33m.\u001b[0m\u001b[0mappend\u001b[0m\u001b[1;33m(\u001b[0m\u001b[0msum\u001b[0m\u001b[1;33m(\u001b[0m\u001b[0mRowEach\u001b[0m\u001b[1;33m[\u001b[0m\u001b[0mcnt2\u001b[0m\u001b[1;33m]\u001b[0m\u001b[1;33m[\u001b[0m\u001b[0mcnt2\u001b[0m\u001b[1;33m:\u001b[0m\u001b[1;33m]\u001b[0m\u001b[1;33m)\u001b[0m\u001b[1;33m)\u001b[0m\u001b[1;33m\u001b[0m\u001b[1;33m\u001b[0m\u001b[0m\n",
      "\u001b[1;31mKeyboardInterrupt\u001b[0m: "
     ]
    }
   ],
   "source": [
    "cnt1=0\n",
    "while(cnt1<NoOfDoctors):    \n",
    "    while(cnt2<NoOfPatients):\n",
    "        #cnt2=0\n",
    "        l1.append(sum(RowEach[cnt2][cnt2:]))\n",
    "        cnt1=cnt1+1\n",
    "        cnt2=cnt2+1\n",
    "        #while(cnt2<len(RowEach)):\n",
    "            #l2.append(sum(RowEach[cnt2:][:cnt1]))\n",
    "            #cnt2=cnt2+1\n",
    "\n",
    "        "
   ]
  },
  {
   "cell_type": "code",
   "execution_count": null,
   "metadata": {},
   "outputs": [],
   "source": [
    "l1"
   ]
  },
  {
   "cell_type": "code",
   "execution_count": null,
   "metadata": {},
   "outputs": [],
   "source": [
    "RowEach[1:][cnt2]row[:cnt1]"
   ]
  },
  {
   "cell_type": "code",
   "execution_count": 66,
   "metadata": {},
   "outputs": [
    {
     "ename": "TypeError",
     "evalue": "int() argument must be a string, a bytes-like object or a number, not 'list'",
     "output_type": "error",
     "traceback": [
      "\u001b[1;31m---------------------------------------------------------------------------\u001b[0m",
      "\u001b[1;31mTypeError\u001b[0m                                 Traceback (most recent call last)",
      "\u001b[1;32m<ipython-input-66-4d1c7fa8e7d8>\u001b[0m in \u001b[0;36m<module>\u001b[1;34m\u001b[0m\n\u001b[0;32m      3\u001b[0m \u001b[1;32mwhile\u001b[0m\u001b[1;33m(\u001b[0m\u001b[0mcnt1\u001b[0m\u001b[1;33m<\u001b[0m\u001b[0mNoOfDoctors\u001b[0m\u001b[1;33m)\u001b[0m\u001b[1;33m:\u001b[0m\u001b[1;33m\u001b[0m\u001b[1;33m\u001b[0m\u001b[0m\n\u001b[0;32m      4\u001b[0m     \u001b[1;32mwhile\u001b[0m\u001b[1;33m(\u001b[0m\u001b[0mcnt2\u001b[0m\u001b[1;33m<\u001b[0m\u001b[0mNoOfPatients\u001b[0m\u001b[1;33m)\u001b[0m\u001b[1;33m:\u001b[0m\u001b[1;33m\u001b[0m\u001b[1;33m\u001b[0m\u001b[0m\n\u001b[1;32m----> 5\u001b[1;33m         \u001b[0ml2\u001b[0m\u001b[1;33m.\u001b[0m\u001b[0mappend\u001b[0m\u001b[1;33m(\u001b[0m\u001b[0mmin\u001b[0m\u001b[1;33m(\u001b[0m\u001b[0msum\u001b[0m\u001b[1;33m(\u001b[0m\u001b[0mint\u001b[0m\u001b[1;33m(\u001b[0m\u001b[0mRowEach\u001b[0m\u001b[1;33m[\u001b[0m\u001b[0mcnt1\u001b[0m\u001b[1;33m:\u001b[0m\u001b[1;33m]\u001b[0m\u001b[1;33m[\u001b[0m\u001b[1;36m0\u001b[0m\u001b[1;33m]\u001b[0m\u001b[1;33m[\u001b[0m\u001b[0mcnt2\u001b[0m\u001b[1;33m:\u001b[0m\u001b[1;33m]\u001b[0m\u001b[1;33m)\u001b[0m\u001b[1;33m)\u001b[0m\u001b[1;33m)\u001b[0m\u001b[1;33m)\u001b[0m\u001b[1;33m\u001b[0m\u001b[1;33m\u001b[0m\u001b[0m\n\u001b[0m",
      "\u001b[1;31mTypeError\u001b[0m: int() argument must be a string, a bytes-like object or a number, not 'list'"
     ]
    }
   ],
   "source": [
    "cnt1=0\n",
    "cnt2=0\n",
    "while(cnt1<NoOfDoctors):\n",
    "    while(cnt2<NoOfPatients):\n",
    "        l2.append(min(sum(RowEach[cnt1:][0][cnt2:])))\n",
    "        cnt2=cnt2+1\n",
    "    cnt1=cnt1+1"
   ]
  },
  {
   "cell_type": "code",
   "execution_count": null,
   "metadata": {},
   "outputs": [],
   "source": [
    "sum(RowEach[1:][0][1:])"
   ]
  },
  {
   "cell_type": "code",
   "execution_count": null,
   "metadata": {},
   "outputs": [],
   "source": [
    "RowEach[1:][0][1:]"
   ]
  },
  {
   "cell_type": "code",
   "execution_count": 318,
   "metadata": {},
   "outputs": [
    {
     "name": "stdout",
     "output_type": "stream",
     "text": [
      "[1, 3, 8, 10, 1, 2, 3, 10, 2, 4, 13, 17, 1, 2, 7, 10, 1, 4, 9, 11]\n"
     ]
    }
   ],
   "source": [
    "l1=[]\n",
    "\n",
    "for row in RowEach:\n",
    "    cnt1=0\n",
    "    r_index = RowEach.index(row)    \n",
    "    while(cnt1<NoOfPatients):\n",
    "        if(sum(row[:cnt1])>0):   \n",
    "            l1.append(sum(row[:cnt1]))\n",
    "        cnt1=cnt1+1\n",
    "        \n",
    "        \n",
    "        \n",
    "print(l1)\n"
   ]
  },
  {
   "cell_type": "code",
   "execution_count": 316,
   "metadata": {},
   "outputs": [
    {
     "name": "stdout",
     "output_type": "stream",
     "text": [
      "[10, 8, 3, 1, 15, 13, 12, 5, 18, 16, 5, 1, 11, 10, 9, 1, 12, 11, 8, 3]\n"
     ]
    }
   ],
   "source": [
    "\n",
    "l2=[]\n",
    "for row in RowEach:\n",
    "    cnt3=0\n",
    "    cnt2=0\n",
    "    cnt1=0\n",
    "    r_index = RowEach.index(row)\n",
    "    cnt3=r_index\n",
    "    while(cnt2<NoOfDoctors):\n",
    "       \n",
    "        while(cnt1<NoOfPatients):     \n",
    "            #if(cnt1==r_index):\n",
    "               # pass\n",
    "            #else:\n",
    "                #l2.append(sum(RowEach[r_index][:cnt1]))\n",
    "            l2.append(sum(row[cnt1:]))\n",
    "            cnt3=cnt3-1\n",
    "            cnt1=cnt1+1\n",
    "        cnt2=cnt2+1\n",
    "print(l2)"
   ]
  },
  {
   "cell_type": "code",
   "execution_count": 317,
   "metadata": {},
   "outputs": [
    {
     "data": {
      "text/plain": [
       "array([11, 11, 11, 11, 16, 15, 15, 15, 20, 20, 18, 18, 12, 12, 16, 11, 13,\n",
       "       15, 17, 14])"
      ]
     },
     "execution_count": 317,
     "metadata": {},
     "output_type": "execute_result"
    }
   ],
   "source": [
    "import numpy as np\n",
    "np.add(l1, l2)"
   ]
  },
  {
   "cell_type": "code",
   "execution_count": 26,
   "metadata": {},
   "outputs": [
    {
     "name": "stdout",
     "output_type": "stream",
     "text": [
      "[2, 4, 6, 8, 3, 4, 6, 9]\n",
      "[6, 6, 4, 5, 2, 3, 0, 0, 6, 6, 4, 5, 2, 3, 0, 0]\n"
     ]
    }
   ],
   "source": [
    "l1=[]\n",
    "l3=[]\n",
    "ss=0\n",
    "jj=0\n",
    "\n",
    "for row in RowEach:\n",
    "    cnt1=0\n",
    "    l2=[]\n",
    "    r_index = RowEach.index(row)\n",
    "    \n",
    "    while(cnt1<NoOfPatients):\n",
    "        #if(sum(row[:cnt1])>0):   \n",
    "        l1.append(sum(row[:cnt1+1]))\n",
    "        cnt2=0\n",
    "        ss=0\n",
    "        #l3=[]\n",
    "        while(cnt2<NoOfDoctors):\n",
    "            #if(cnt2!=r_index):\n",
    "            ss=sum(RowEach[cnt2][cnt1+1:])\n",
    "            l3.append(ss)\n",
    "            #print(ss)\n",
    "            cnt2=cnt2+1\n",
    "            \n",
    "        #print(min(l3))\n",
    "        cnt1=cnt1+1\n",
    "        #l2.append(min(l3))\n",
    "       \n",
    "       \n",
    "        \n",
    "print(l1)\n",
    "#print(l2)\n",
    "print(l3)\n"
   ]
  },
  {
   "cell_type": "code",
   "execution_count": 8,
   "metadata": {},
   "outputs": [
    {
     "data": {
      "text/plain": [
       "12"
      ]
     },
     "execution_count": 8,
     "metadata": {},
     "output_type": "execute_result"
    }
   ],
   "source": [
    "sum(RowEach[1][2+1:])"
   ]
  },
  {
   "cell_type": "code",
   "execution_count": 6,
   "metadata": {},
   "outputs": [
    {
     "data": {
      "text/plain": [
       "[1, 1, 5, 4, 1]"
      ]
     },
     "execution_count": 6,
     "metadata": {},
     "output_type": "execute_result"
    }
   ],
   "source": [
    "RowEach[3]"
   ]
  },
  {
   "cell_type": "code",
   "execution_count": 376,
   "metadata": {},
   "outputs": [
    {
     "ename": "ValueError",
     "evalue": "operands could not be broadcast together with shapes (20,) (4,) ",
     "output_type": "error",
     "traceback": [
      "\u001b[1;31m---------------------------------------------------------------------------\u001b[0m",
      "\u001b[1;31mValueError\u001b[0m                                Traceback (most recent call last)",
      "\u001b[1;32m<ipython-input-376-c7ab2a071b34>\u001b[0m in \u001b[0;36m<module>\u001b[1;34m\u001b[0m\n\u001b[0;32m      1\u001b[0m \u001b[1;32mimport\u001b[0m \u001b[0mnumpy\u001b[0m \u001b[1;32mas\u001b[0m \u001b[0mnp\u001b[0m\u001b[1;33m\u001b[0m\u001b[1;33m\u001b[0m\u001b[0m\n\u001b[1;32m----> 2\u001b[1;33m \u001b[0mprint\u001b[0m\u001b[1;33m(\u001b[0m\u001b[0mmin\u001b[0m\u001b[1;33m(\u001b[0m\u001b[0mnp\u001b[0m\u001b[1;33m.\u001b[0m\u001b[0madd\u001b[0m\u001b[1;33m(\u001b[0m\u001b[0ml1\u001b[0m\u001b[1;33m,\u001b[0m \u001b[0ml3\u001b[0m\u001b[1;33m)\u001b[0m\u001b[1;33m)\u001b[0m\u001b[1;33m)\u001b[0m\u001b[1;33m\u001b[0m\u001b[1;33m\u001b[0m\u001b[0m\n\u001b[0m",
      "\u001b[1;31mValueError\u001b[0m: operands could not be broadcast together with shapes (20,) (4,) "
     ]
    }
   ],
   "source": [
    "import numpy as np\n",
    "print(min(np.add(l1, l3)))"
   ]
  },
  {
   "cell_type": "code",
   "execution_count": null,
   "metadata": {},
   "outputs": [],
   "source": []
  },
  {
   "cell_type": "code",
   "execution_count": 36,
   "metadata": {},
   "outputs": [
    {
     "data": {
      "text/plain": [
       "array([11, 11, 11, 11, 11, 15, 15, 15, 15, 15, 18, 18, 18, 18, 18, 11, 11,\n",
       "       11, 11, 11, 12, 12, 12, 12, 12, 11, 10,  8,  3,  1, 15, 14, 13, 12,\n",
       "        5, 18, 16, 14,  5,  1, 11, 10,  9,  4,  1, 12, 11,  8,  3,  1])"
      ]
     },
     "execution_count": 36,
     "metadata": {},
     "output_type": "execute_result"
    }
   ],
   "source": [
    "np.add(l1, l2)"
   ]
  },
  {
   "cell_type": "code",
   "execution_count": 267,
   "metadata": {},
   "outputs": [
    {
     "data": {
      "text/plain": [
       "[11,\n",
       " 10,\n",
       " 8,\n",
       " 3,\n",
       " 1,\n",
       " 15,\n",
       " 14,\n",
       " 13,\n",
       " 12,\n",
       " 5,\n",
       " 18,\n",
       " 16,\n",
       " 14,\n",
       " 5,\n",
       " 1,\n",
       " 11,\n",
       " 10,\n",
       " 9,\n",
       " 4,\n",
       " 1,\n",
       " 12,\n",
       " 11,\n",
       " 8,\n",
       " 3,\n",
       " 1]"
      ]
     },
     "execution_count": 267,
     "metadata": {},
     "output_type": "execute_result"
    }
   ],
   "source": [
    "l1"
   ]
  },
  {
   "cell_type": "code",
   "execution_count": 268,
   "metadata": {},
   "outputs": [
    {
     "data": {
      "text/plain": [
       "[0, 1, 2, 3, 10, 0, 2, 4, 13, 17, 0, 1, 2, 7, 10, 0, 1, 4, 9, 11]"
      ]
     },
     "execution_count": 268,
     "metadata": {},
     "output_type": "execute_result"
    }
   ],
   "source": [
    "l2"
   ]
  },
  {
   "cell_type": "code",
   "execution_count": 403,
   "metadata": {},
   "outputs": [
    {
     "name": "stdout",
     "output_type": "stream",
     "text": [
      "[1, 3, 8, 10, 1, 2, 3, 10, 2, 4, 13, 17, 1, 2, 7, 10, 1, 4, 9, 11]\n",
      "[11, 10, 8, 3, 1]\n",
      "[1, 5, 1, 1]\n",
      "[]\n"
     ]
    }
   ],
   "source": [
    "l1=[]\n",
    "l3=[]\n",
    "ss=0\n",
    "jj=0\n",
    "l4=[]\n",
    "for row in RowEach:\n",
    "    cnt1=0\n",
    "    l2=[]\n",
    "    r_index = RowEach.index(row)\n",
    "    \n",
    "    while(cnt1<NoOfPatients):\n",
    "        if(sum(row[:cnt1])>0):   \n",
    "            jj=sum(row[:cnt1])\n",
    "            l1.append(jj)\n",
    "            \n",
    "        cnt2=0\n",
    "        ss=0\n",
    "        l3=[]\n",
    "\n",
    "        while(cnt2<NoOfDoctors):\n",
    "            if(cnt2!=r_index):\n",
    "                ss=sum(RowEach[cnt2][cnt1:])\n",
    "                l3.append(ss)\n",
    "            cnt2=cnt2+1\n",
    "            \n",
    "        #print(min(l3))\n",
    "        cnt1=cnt1+1\n",
    "        l2.append(min(l3))\n",
    "       \n",
    "       \n",
    "        \n",
    "print(l1)\n",
    "print(l2)\n",
    "print(l3)\n",
    "print(l4)\n"
   ]
  },
  {
   "cell_type": "code",
   "execution_count": 38,
   "metadata": {},
   "outputs": [
    {
     "data": {
      "text/plain": [
       "array([2, 2, 2, 4, 4, 4, 6, 6, 6, 8, 8, 8, 3, 3, 3, 4, 4, 4, 6, 6, 6, 9,\n",
       "       9, 9])"
      ]
     },
     "execution_count": 38,
     "metadata": {},
     "output_type": "execute_result"
    }
   ],
   "source": [
    "a=np.array([2, 4, 6, 8, 3, 4, 6, 9])\n",
    "np.repeat(l1,3.0)"
   ]
  },
  {
   "cell_type": "code",
   "execution_count": 42,
   "metadata": {},
   "outputs": [
    {
     "name": "stdout",
     "output_type": "stream",
     "text": [
      "[1, 3, 8, 10, 11, 1, 2, 3, 10, 15, 2, 4, 13, 17, 18, 1, 2, 7, 11, 12, 1, 4, 9, 11, 12]\n",
      "[ 1  1  1  1  1  3  3  3  3  3  8  8  8  8  8 10 10 10 10 10 11 11 11 11\n",
      " 11  1  1  1  1  1  2  2  2  2  2  3  3  3  3  3 10 10 10 10 10 15 15 15\n",
      " 15 15  2  2  2  2  2  4  4  4  4  4 13 13 13 13 13 17 17 17 17 17 18 18\n",
      " 18 18 18  1  1  1  1  1  2  2  2  2  2  7  7  7  7  7 11 11 11 11 11 12\n",
      " 12 12 12 12  1  1  1  1  1  4  4  4  4  4  9  9  9  9  9 11 11 11 11 11\n",
      " 12 12 12 12 12]\n",
      "[10, 14, 16, 11, 11, 8, 13, 14, 10, 8, 3, 12, 5, 5, 3, 1, 5, 1, 1, 1, 0, 0, 0, 0, 0, 10, 14, 16, 11, 11, 8, 13, 14, 10, 8, 3, 12, 5, 5, 3, 1, 5, 1, 1, 1, 0, 0, 0, 0, 0, 10, 14, 16, 11, 11, 8, 13, 14, 10, 8, 3, 12, 5, 5, 3, 1, 5, 1, 1, 1, 0, 0, 0, 0, 0, 10, 14, 16, 11, 11, 8, 13, 14, 10, 8, 3, 12, 5, 5, 3, 1, 5, 1, 1, 1, 0, 0, 0, 0, 0, 10, 14, 16, 11, 11, 8, 13, 14, 10, 8, 3, 12, 5, 5, 3, 1, 5, 1, 1, 1, 0, 0, 0, 0, 0]\n"
     ]
    }
   ],
   "source": [
    "l1=[]\n",
    "l3=[]\n",
    "ss=0\n",
    "jj=0\n",
    "\n",
    "for row in RowEach:\n",
    "    cnt1=0\n",
    "    l2=[]\n",
    "    r_index = RowEach.index(row)\n",
    "    \n",
    "    while(cnt1<NoOfPatients):\n",
    "        #if(sum(row[:cnt1])>0):   \n",
    "        l1.append(sum(row[:cnt1+1]))\n",
    "        cnt2=0\n",
    "        ss=0\n",
    "        #l3=[]\n",
    "        while(cnt2<NoOfDoctors):\n",
    "            #if(cnt2!=r_index):\n",
    "            ss=sum(RowEach[cnt2][cnt1+1:])\n",
    "            l3.append(ss)\n",
    "            #print(ss)\n",
    "            cnt2=cnt2+1\n",
    "            \n",
    "        #print(min(l3))\n",
    "        cnt1=cnt1+1\n",
    "        #l2.append(min(l3))\n",
    "       \n",
    "       \n",
    "const= len(l3)/len(l1) \n",
    "l2=np.repeat(l1,const)\n",
    "print(l1)\n",
    "print(l2)\n",
    "print(l3)\n"
   ]
  },
  {
   "cell_type": "code",
   "execution_count": 43,
   "metadata": {},
   "outputs": [
    {
     "name": "stdout",
     "output_type": "stream",
     "text": [
      "6\n"
     ]
    }
   ],
   "source": [
    "import numpy as np\n",
    "print(min(np.add(l2, l3)))"
   ]
  }
 ],
 "metadata": {
  "kernelspec": {
   "display_name": "Python 3",
   "language": "python",
   "name": "python3"
  },
  "language_info": {
   "codemirror_mode": {
    "name": "ipython",
    "version": 3
   },
   "file_extension": ".py",
   "mimetype": "text/x-python",
   "name": "python",
   "nbconvert_exporter": "python",
   "pygments_lexer": "ipython3",
   "version": "3.8.1"
  }
 },
 "nbformat": 4,
 "nbformat_minor": 4
}
