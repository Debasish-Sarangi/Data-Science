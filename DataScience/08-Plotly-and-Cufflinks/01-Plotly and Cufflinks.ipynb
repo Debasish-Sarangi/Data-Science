{
 "cells": [
  {
   "cell_type": "markdown",
   "metadata": {},
   "source": [
    "___\n",
    "\n",
    "<a href='http://www.pieriandata.com'> <img src='../Pierian_Data_Logo.png' /></a>\n",
    "___\n",
    "# Plotly and Cufflinks"
   ]
  },
  {
   "cell_type": "markdown",
   "metadata": {},
   "source": [
    "Plotly is a library that allows you to create interactive plots that you can use in dashboards or websites (you can save them as html files or static images).\n",
    "\n",
    "## Installation\n",
    "\n",
    "In order for this all to work, you'll need to install plotly and cufflinks to call plots directly off of a pandas dataframe. These libraries are not currently available through **conda** but are available through **pip**. Install the libraries at your command line/terminal using:\n",
    "\n",
    "    pip install plotly\n",
    "    pip install cufflinks\n",
    "\n",
    "** NOTE: Make sure you only have one installation of Python on your computer when you do this, otherwise the installation may not work. **\n",
    "\n",
    "## Imports and Set-up"
   ]
  },
  {
   "cell_type": "code",
   "execution_count": 6,
   "metadata": {},
   "outputs": [],
   "source": [
    "import pandas as pd\n",
    "import numpy as np\n",
    "%matplotlib inline"
   ]
  },
  {
   "cell_type": "code",
   "execution_count": 7,
   "metadata": {},
   "outputs": [
    {
     "name": "stdout",
     "output_type": "stream",
     "text": [
      "4.8.1\n"
     ]
    }
   ],
   "source": [
    "from plotly import __version__\n",
    "from plotly.offline import download_plotlyjs, init_notebook_mode, plot, iplot\n",
    "\n",
    "print(__version__) # requires version >= 1.9.0"
   ]
  },
  {
   "cell_type": "code",
   "execution_count": 8,
   "metadata": {},
   "outputs": [],
   "source": [
    "import cufflinks as cf"
   ]
  },
  {
   "cell_type": "code",
   "execution_count": 9,
   "metadata": {},
   "outputs": [
    {
     "data": {
      "text/html": [
       "        <script type=\"text/javascript\">\n",
       "        window.PlotlyConfig = {MathJaxConfig: 'local'};\n",
       "        if (window.MathJax) {MathJax.Hub.Config({SVG: {font: \"STIX-Web\"}});}\n",
       "        if (typeof require !== 'undefined') {\n",
       "        require.undef(\"plotly\");\n",
       "        requirejs.config({\n",
       "            paths: {\n",
       "                'plotly': ['https://cdn.plot.ly/plotly-latest.min']\n",
       "            }\n",
       "        });\n",
       "        require(['plotly'], function(Plotly) {\n",
       "            window._Plotly = Plotly;\n",
       "        });\n",
       "        }\n",
       "        </script>\n",
       "        "
      ]
     },
     "metadata": {},
     "output_type": "display_data"
    }
   ],
   "source": [
    "# For Notebooks\n",
    "init_notebook_mode(connected=True)"
   ]
  },
  {
   "cell_type": "code",
   "execution_count": 10,
   "metadata": {},
   "outputs": [
    {
     "data": {
      "text/html": [
       "        <script type=\"text/javascript\">\n",
       "        window.PlotlyConfig = {MathJaxConfig: 'local'};\n",
       "        if (window.MathJax) {MathJax.Hub.Config({SVG: {font: \"STIX-Web\"}});}\n",
       "        if (typeof require !== 'undefined') {\n",
       "        require.undef(\"plotly\");\n",
       "        requirejs.config({\n",
       "            paths: {\n",
       "                'plotly': ['https://cdn.plot.ly/plotly-latest.min']\n",
       "            }\n",
       "        });\n",
       "        require(['plotly'], function(Plotly) {\n",
       "            window._Plotly = Plotly;\n",
       "        });\n",
       "        }\n",
       "        </script>\n",
       "        "
      ]
     },
     "metadata": {},
     "output_type": "display_data"
    }
   ],
   "source": [
    "# For offline use\n",
    "cf.go_offline()"
   ]
  },
  {
   "cell_type": "markdown",
   "metadata": {},
   "source": [
    "### Fake Data"
   ]
  },
  {
   "cell_type": "code",
   "execution_count": 11,
   "metadata": {},
   "outputs": [],
   "source": [
    "df = pd.DataFrame(np.random.randn(100,4),columns='A B C D'.split())"
   ]
  },
  {
   "cell_type": "code",
   "execution_count": 22,
   "metadata": {},
   "outputs": [
    {
     "data": {
      "text/html": [
       "<div>\n",
       "<table border=\"1\" class=\"dataframe\">\n",
       "  <thead>\n",
       "    <tr style=\"text-align: right;\">\n",
       "      <th></th>\n",
       "      <th>A</th>\n",
       "      <th>B</th>\n",
       "      <th>C</th>\n",
       "      <th>D</th>\n",
       "    </tr>\n",
       "  </thead>\n",
       "  <tbody>\n",
       "    <tr>\n",
       "      <th>0</th>\n",
       "      <td>1.878725</td>\n",
       "      <td>0.688719</td>\n",
       "      <td>1.066733</td>\n",
       "      <td>0.543956</td>\n",
       "    </tr>\n",
       "    <tr>\n",
       "      <th>1</th>\n",
       "      <td>0.028734</td>\n",
       "      <td>0.104054</td>\n",
       "      <td>0.048176</td>\n",
       "      <td>1.842188</td>\n",
       "    </tr>\n",
       "    <tr>\n",
       "      <th>2</th>\n",
       "      <td>-0.158793</td>\n",
       "      <td>0.387926</td>\n",
       "      <td>-0.635371</td>\n",
       "      <td>-0.637558</td>\n",
       "    </tr>\n",
       "    <tr>\n",
       "      <th>3</th>\n",
       "      <td>-1.221972</td>\n",
       "      <td>1.393423</td>\n",
       "      <td>-0.299794</td>\n",
       "      <td>-1.113622</td>\n",
       "    </tr>\n",
       "    <tr>\n",
       "      <th>4</th>\n",
       "      <td>1.253152</td>\n",
       "      <td>-0.537598</td>\n",
       "      <td>0.302917</td>\n",
       "      <td>-2.546083</td>\n",
       "    </tr>\n",
       "  </tbody>\n",
       "</table>\n",
       "</div>"
      ],
      "text/plain": [
       "          A         B         C         D\n",
       "0  1.878725  0.688719  1.066733  0.543956\n",
       "1  0.028734  0.104054  0.048176  1.842188\n",
       "2 -0.158793  0.387926 -0.635371 -0.637558\n",
       "3 -1.221972  1.393423 -0.299794 -1.113622\n",
       "4  1.253152 -0.537598  0.302917 -2.546083"
      ]
     },
     "execution_count": 22,
     "metadata": {},
     "output_type": "execute_result"
    }
   ],
   "source": [
    "df.head()"
   ]
  },
  {
   "cell_type": "code",
   "execution_count": 12,
   "metadata": {},
   "outputs": [],
   "source": [
    "df2 = pd.DataFrame({'Category':['A','B','C'],'Values':[32,43,50]})"
   ]
  },
  {
   "cell_type": "code",
   "execution_count": 40,
   "metadata": {},
   "outputs": [
    {
     "data": {
      "text/html": [
       "<div>\n",
       "<table border=\"1\" class=\"dataframe\">\n",
       "  <thead>\n",
       "    <tr style=\"text-align: right;\">\n",
       "      <th></th>\n",
       "      <th>Category</th>\n",
       "      <th>Values</th>\n",
       "    </tr>\n",
       "  </thead>\n",
       "  <tbody>\n",
       "    <tr>\n",
       "      <th>0</th>\n",
       "      <td>A</td>\n",
       "      <td>32</td>\n",
       "    </tr>\n",
       "    <tr>\n",
       "      <th>1</th>\n",
       "      <td>B</td>\n",
       "      <td>43</td>\n",
       "    </tr>\n",
       "    <tr>\n",
       "      <th>2</th>\n",
       "      <td>C</td>\n",
       "      <td>50</td>\n",
       "    </tr>\n",
       "  </tbody>\n",
       "</table>\n",
       "</div>"
      ],
      "text/plain": [
       "  Category  Values\n",
       "0        A      32\n",
       "1        B      43\n",
       "2        C      50"
      ]
     },
     "execution_count": 40,
     "metadata": {},
     "output_type": "execute_result"
    }
   ],
   "source": [
    "df2.head()"
   ]
  },
  {
   "cell_type": "markdown",
   "metadata": {},
   "source": [
    "## Using Cufflinks and iplot()\n",
    "\n",
    "* scatter\n",
    "* bar\n",
    "* box\n",
    "* spread\n",
    "* ratio\n",
    "* heatmap\n",
    "* surface\n",
    "* histogram\n",
    "* bubble"
   ]
  },
  {
   "cell_type": "markdown",
   "metadata": {},
   "source": [
    "## Scatter"
   ]
  },
  {
   "cell_type": "code",
   "execution_count": 13,
   "metadata": {},
   "outputs": [
    {
     "data": {
      "application/vnd.plotly.v1+json": {
       "config": {
        "linkText": "Export to plot.ly",
        "plotlyServerURL": "https://plot.ly",
        "showLink": true
       },
       "data": [
        {
         "line": {
          "color": "rgba(255, 153, 51, 1.0)",
          "dash": "solid",
          "shape": "linear",
          "width": 1.3
         },
         "marker": {
          "size": 10,
          "symbol": "circle"
         },
         "mode": "markers",
         "name": "B",
         "text": "",
         "type": "scatter",
         "x": [
          0.2192150126893649,
          0.41212764663850154,
          -0.27839766837010627,
          0.3222178500267178,
          1.1359559733338713,
          -0.971720425769713,
          1.4329161629803917,
          -0.34578250445780295,
          0.9221363208457326,
          -0.46018427034111126,
          0.032535916019239226,
          -1.5775132350080174,
          1.2509653911100467,
          0.8333489234269918,
          -0.09408230960773854,
          0.010236286462784547,
          0.6198798548523512,
          -2.3694740941164874,
          0.6446131044139314,
          3.5825153483746544,
          -1.100859730297812,
          -0.28637707270395063,
          1.2663027275521734,
          0.4480018504819275,
          -0.04075310173488496,
          -1.3188747595733246,
          -0.25669888175689487,
          -0.7892384287614435,
          -0.5027860677713014,
          0.08430359155613538,
          -0.40896809921325916,
          1.2708262506705303,
          -0.38766034310350395,
          0.4304639325836553,
          1.8071040246302588,
          1.4568874186053604,
          0.9042403428138212,
          -0.7816990895945196,
          0.7868373081101285,
          0.9476543351449195,
          1.1956296073512873,
          0.41095470596658434,
          1.0094261937662572,
          -0.44046838256526516,
          1.0346716931466176,
          0.11523886763913334,
          -0.31723607081444566,
          -0.716904274124458,
          0.26466695448679606,
          -0.6379239557948869,
          0.955179550321454,
          1.6925209088368083,
          1.7812391056276533,
          -1.4877766892101543,
          -1.1899544134286546,
          -0.10895806189072393,
          1.321027710937083,
          -0.8784194756051036,
          0.6504071261387132,
          1.094753327689872,
          -0.2132623568016486,
          -0.7927137163590783,
          -0.45765125612752156,
          0.28711097689175746,
          -0.8352933868433253,
          -2.0667869160062238,
          -0.35007642593563354,
          0.9947487894082441,
          -1.1831678986229839,
          -0.8486257818723462,
          -0.2765927487443163,
          0.7680784213053352,
          -0.9335626713391687,
          0.21802436036050304,
          -0.9349362054526161,
          -0.011134013758786858,
          -1.6743957170983006,
          0.12574163202444208,
          1.1531777911767431,
          1.2999741110066083,
          -0.2735192157650116,
          0.595818583592944,
          0.41802287494605567,
          0.45030528691780813,
          -0.514456906944202,
          -0.4162077818331348,
          2.4691714751126876,
          -1.365196733109609,
          0.26790894446099445,
          -0.06926500967640424,
          0.311983304253257,
          1.1795697874824076,
          0.3690061425350321,
          1.0369119759384802,
          0.11344630289523762,
          -0.8618742507166238,
          1.0502865219767203,
          -0.6297527108271594,
          2.0620223895254988,
          0.28102629664114714
         ],
         "y": [
          -2.5296842304295915,
          -0.9124939583658659,
          1.9371572689115752,
          -0.04233086880753978,
          1.1755323137692275,
          -0.7913343687872296,
          0.34679771300378864,
          0.1472644768462741,
          -0.5576417622152579,
          1.0153627370487877,
          -0.006675276814364406,
          -1.3831667133442893,
          0.23794366571150333,
          -0.046584210842764394,
          -0.23286229979657497,
          -1.059043175997328,
          -0.5639209672124689,
          1.2466006179249922,
          1.785304178140208,
          0.7289995222261205,
          -0.2394784072597976,
          0.6674022767035093,
          -1.7636884877840329,
          -1.7239697309413886,
          1.6336503512461968,
          -0.09202348674133626,
          1.0195082254673082,
          0.6284543531925654,
          -0.9230405694743555,
          0.8912283886498443,
          0.6633555600973492,
          -1.5256437045839726,
          0.9770914272419425,
          1.7175529208127185,
          0.8406491088530332,
          -1.2707511635610007,
          1.38083980414698,
          -0.9203591200540816,
          -0.5004906455425786,
          -0.5399747143298336,
          -0.9896963608623736,
          1.3306609274638301,
          0.8926496038118524,
          -2.033822133364184,
          -0.8334681002973663,
          0.14001110291725294,
          -0.685037044884312,
          0.9415217721260292,
          -0.7396063904143044,
          1.4124225135238375,
          1.9904956031872585,
          0.42500823802958937,
          1.930846927734657,
          -1.9760870203704148,
          -1.0777631936672263,
          0.902624464861868,
          -0.94669113465832,
          -0.9373697872008047,
          -1.4821469944733676,
          -0.9426236297971836,
          1.0841383783955747,
          -2.0884924313952187,
          0.8969041011425303,
          -1.5803644182734884,
          -1.3823710740159605,
          -1.5206872295882883,
          -0.2581375790682765,
          1.156228135822335,
          -0.41662244466772547,
          -0.3490920630112603,
          1.2895317025169495,
          -0.8821858086096042,
          -0.5387923050763868,
          -0.5663537185351362,
          -1.095431469835826,
          0.6009775868516194,
          2.614098758958872,
          -0.9592823177952877,
          0.06536082847107165,
          -0.8496657523610329,
          -1.4681299656741593,
          0.6701367636720044,
          0.7744265354513329,
          2.0586936414104375,
          0.7915794301092625,
          2.592940852157227,
          -1.3221424278325977,
          2.8901840068359896,
          0.561794978690869,
          0.6610147433500252,
          1.9933671238820154,
          0.11772975628376309,
          -1.3513533772700421,
          0.8043126148336902,
          -0.5690624329172052,
          0.536251241812792,
          0.7386353343412105,
          -0.976006012430902,
          -0.9283420207337423,
          0.04110546621274906
         ]
        }
       ],
       "layout": {
        "legend": {
         "bgcolor": "#F5F6F9",
         "font": {
          "color": "#4D5663"
         }
        },
        "paper_bgcolor": "#F5F6F9",
        "plot_bgcolor": "#F5F6F9",
        "template": {
         "data": {
          "bar": [
           {
            "error_x": {
             "color": "#2a3f5f"
            },
            "error_y": {
             "color": "#2a3f5f"
            },
            "marker": {
             "line": {
              "color": "#E5ECF6",
              "width": 0.5
             }
            },
            "type": "bar"
           }
          ],
          "barpolar": [
           {
            "marker": {
             "line": {
              "color": "#E5ECF6",
              "width": 0.5
             }
            },
            "type": "barpolar"
           }
          ],
          "carpet": [
           {
            "aaxis": {
             "endlinecolor": "#2a3f5f",
             "gridcolor": "white",
             "linecolor": "white",
             "minorgridcolor": "white",
             "startlinecolor": "#2a3f5f"
            },
            "baxis": {
             "endlinecolor": "#2a3f5f",
             "gridcolor": "white",
             "linecolor": "white",
             "minorgridcolor": "white",
             "startlinecolor": "#2a3f5f"
            },
            "type": "carpet"
           }
          ],
          "choropleth": [
           {
            "colorbar": {
             "outlinewidth": 0,
             "ticks": ""
            },
            "type": "choropleth"
           }
          ],
          "contour": [
           {
            "colorbar": {
             "outlinewidth": 0,
             "ticks": ""
            },
            "colorscale": [
             [
              0,
              "#0d0887"
             ],
             [
              0.1111111111111111,
              "#46039f"
             ],
             [
              0.2222222222222222,
              "#7201a8"
             ],
             [
              0.3333333333333333,
              "#9c179e"
             ],
             [
              0.4444444444444444,
              "#bd3786"
             ],
             [
              0.5555555555555556,
              "#d8576b"
             ],
             [
              0.6666666666666666,
              "#ed7953"
             ],
             [
              0.7777777777777778,
              "#fb9f3a"
             ],
             [
              0.8888888888888888,
              "#fdca26"
             ],
             [
              1,
              "#f0f921"
             ]
            ],
            "type": "contour"
           }
          ],
          "contourcarpet": [
           {
            "colorbar": {
             "outlinewidth": 0,
             "ticks": ""
            },
            "type": "contourcarpet"
           }
          ],
          "heatmap": [
           {
            "colorbar": {
             "outlinewidth": 0,
             "ticks": ""
            },
            "colorscale": [
             [
              0,
              "#0d0887"
             ],
             [
              0.1111111111111111,
              "#46039f"
             ],
             [
              0.2222222222222222,
              "#7201a8"
             ],
             [
              0.3333333333333333,
              "#9c179e"
             ],
             [
              0.4444444444444444,
              "#bd3786"
             ],
             [
              0.5555555555555556,
              "#d8576b"
             ],
             [
              0.6666666666666666,
              "#ed7953"
             ],
             [
              0.7777777777777778,
              "#fb9f3a"
             ],
             [
              0.8888888888888888,
              "#fdca26"
             ],
             [
              1,
              "#f0f921"
             ]
            ],
            "type": "heatmap"
           }
          ],
          "heatmapgl": [
           {
            "colorbar": {
             "outlinewidth": 0,
             "ticks": ""
            },
            "colorscale": [
             [
              0,
              "#0d0887"
             ],
             [
              0.1111111111111111,
              "#46039f"
             ],
             [
              0.2222222222222222,
              "#7201a8"
             ],
             [
              0.3333333333333333,
              "#9c179e"
             ],
             [
              0.4444444444444444,
              "#bd3786"
             ],
             [
              0.5555555555555556,
              "#d8576b"
             ],
             [
              0.6666666666666666,
              "#ed7953"
             ],
             [
              0.7777777777777778,
              "#fb9f3a"
             ],
             [
              0.8888888888888888,
              "#fdca26"
             ],
             [
              1,
              "#f0f921"
             ]
            ],
            "type": "heatmapgl"
           }
          ],
          "histogram": [
           {
            "marker": {
             "colorbar": {
              "outlinewidth": 0,
              "ticks": ""
             }
            },
            "type": "histogram"
           }
          ],
          "histogram2d": [
           {
            "colorbar": {
             "outlinewidth": 0,
             "ticks": ""
            },
            "colorscale": [
             [
              0,
              "#0d0887"
             ],
             [
              0.1111111111111111,
              "#46039f"
             ],
             [
              0.2222222222222222,
              "#7201a8"
             ],
             [
              0.3333333333333333,
              "#9c179e"
             ],
             [
              0.4444444444444444,
              "#bd3786"
             ],
             [
              0.5555555555555556,
              "#d8576b"
             ],
             [
              0.6666666666666666,
              "#ed7953"
             ],
             [
              0.7777777777777778,
              "#fb9f3a"
             ],
             [
              0.8888888888888888,
              "#fdca26"
             ],
             [
              1,
              "#f0f921"
             ]
            ],
            "type": "histogram2d"
           }
          ],
          "histogram2dcontour": [
           {
            "colorbar": {
             "outlinewidth": 0,
             "ticks": ""
            },
            "colorscale": [
             [
              0,
              "#0d0887"
             ],
             [
              0.1111111111111111,
              "#46039f"
             ],
             [
              0.2222222222222222,
              "#7201a8"
             ],
             [
              0.3333333333333333,
              "#9c179e"
             ],
             [
              0.4444444444444444,
              "#bd3786"
             ],
             [
              0.5555555555555556,
              "#d8576b"
             ],
             [
              0.6666666666666666,
              "#ed7953"
             ],
             [
              0.7777777777777778,
              "#fb9f3a"
             ],
             [
              0.8888888888888888,
              "#fdca26"
             ],
             [
              1,
              "#f0f921"
             ]
            ],
            "type": "histogram2dcontour"
           }
          ],
          "mesh3d": [
           {
            "colorbar": {
             "outlinewidth": 0,
             "ticks": ""
            },
            "type": "mesh3d"
           }
          ],
          "parcoords": [
           {
            "line": {
             "colorbar": {
              "outlinewidth": 0,
              "ticks": ""
             }
            },
            "type": "parcoords"
           }
          ],
          "pie": [
           {
            "automargin": true,
            "type": "pie"
           }
          ],
          "scatter": [
           {
            "marker": {
             "colorbar": {
              "outlinewidth": 0,
              "ticks": ""
             }
            },
            "type": "scatter"
           }
          ],
          "scatter3d": [
           {
            "line": {
             "colorbar": {
              "outlinewidth": 0,
              "ticks": ""
             }
            },
            "marker": {
             "colorbar": {
              "outlinewidth": 0,
              "ticks": ""
             }
            },
            "type": "scatter3d"
           }
          ],
          "scattercarpet": [
           {
            "marker": {
             "colorbar": {
              "outlinewidth": 0,
              "ticks": ""
             }
            },
            "type": "scattercarpet"
           }
          ],
          "scattergeo": [
           {
            "marker": {
             "colorbar": {
              "outlinewidth": 0,
              "ticks": ""
             }
            },
            "type": "scattergeo"
           }
          ],
          "scattergl": [
           {
            "marker": {
             "colorbar": {
              "outlinewidth": 0,
              "ticks": ""
             }
            },
            "type": "scattergl"
           }
          ],
          "scattermapbox": [
           {
            "marker": {
             "colorbar": {
              "outlinewidth": 0,
              "ticks": ""
             }
            },
            "type": "scattermapbox"
           }
          ],
          "scatterpolar": [
           {
            "marker": {
             "colorbar": {
              "outlinewidth": 0,
              "ticks": ""
             }
            },
            "type": "scatterpolar"
           }
          ],
          "scatterpolargl": [
           {
            "marker": {
             "colorbar": {
              "outlinewidth": 0,
              "ticks": ""
             }
            },
            "type": "scatterpolargl"
           }
          ],
          "scatterternary": [
           {
            "marker": {
             "colorbar": {
              "outlinewidth": 0,
              "ticks": ""
             }
            },
            "type": "scatterternary"
           }
          ],
          "surface": [
           {
            "colorbar": {
             "outlinewidth": 0,
             "ticks": ""
            },
            "colorscale": [
             [
              0,
              "#0d0887"
             ],
             [
              0.1111111111111111,
              "#46039f"
             ],
             [
              0.2222222222222222,
              "#7201a8"
             ],
             [
              0.3333333333333333,
              "#9c179e"
             ],
             [
              0.4444444444444444,
              "#bd3786"
             ],
             [
              0.5555555555555556,
              "#d8576b"
             ],
             [
              0.6666666666666666,
              "#ed7953"
             ],
             [
              0.7777777777777778,
              "#fb9f3a"
             ],
             [
              0.8888888888888888,
              "#fdca26"
             ],
             [
              1,
              "#f0f921"
             ]
            ],
            "type": "surface"
           }
          ],
          "table": [
           {
            "cells": {
             "fill": {
              "color": "#EBF0F8"
             },
             "line": {
              "color": "white"
             }
            },
            "header": {
             "fill": {
              "color": "#C8D4E3"
             },
             "line": {
              "color": "white"
             }
            },
            "type": "table"
           }
          ]
         },
         "layout": {
          "annotationdefaults": {
           "arrowcolor": "#2a3f5f",
           "arrowhead": 0,
           "arrowwidth": 1
          },
          "coloraxis": {
           "colorbar": {
            "outlinewidth": 0,
            "ticks": ""
           }
          },
          "colorscale": {
           "diverging": [
            [
             0,
             "#8e0152"
            ],
            [
             0.1,
             "#c51b7d"
            ],
            [
             0.2,
             "#de77ae"
            ],
            [
             0.3,
             "#f1b6da"
            ],
            [
             0.4,
             "#fde0ef"
            ],
            [
             0.5,
             "#f7f7f7"
            ],
            [
             0.6,
             "#e6f5d0"
            ],
            [
             0.7,
             "#b8e186"
            ],
            [
             0.8,
             "#7fbc41"
            ],
            [
             0.9,
             "#4d9221"
            ],
            [
             1,
             "#276419"
            ]
           ],
           "sequential": [
            [
             0,
             "#0d0887"
            ],
            [
             0.1111111111111111,
             "#46039f"
            ],
            [
             0.2222222222222222,
             "#7201a8"
            ],
            [
             0.3333333333333333,
             "#9c179e"
            ],
            [
             0.4444444444444444,
             "#bd3786"
            ],
            [
             0.5555555555555556,
             "#d8576b"
            ],
            [
             0.6666666666666666,
             "#ed7953"
            ],
            [
             0.7777777777777778,
             "#fb9f3a"
            ],
            [
             0.8888888888888888,
             "#fdca26"
            ],
            [
             1,
             "#f0f921"
            ]
           ],
           "sequentialminus": [
            [
             0,
             "#0d0887"
            ],
            [
             0.1111111111111111,
             "#46039f"
            ],
            [
             0.2222222222222222,
             "#7201a8"
            ],
            [
             0.3333333333333333,
             "#9c179e"
            ],
            [
             0.4444444444444444,
             "#bd3786"
            ],
            [
             0.5555555555555556,
             "#d8576b"
            ],
            [
             0.6666666666666666,
             "#ed7953"
            ],
            [
             0.7777777777777778,
             "#fb9f3a"
            ],
            [
             0.8888888888888888,
             "#fdca26"
            ],
            [
             1,
             "#f0f921"
            ]
           ]
          },
          "colorway": [
           "#636efa",
           "#EF553B",
           "#00cc96",
           "#ab63fa",
           "#FFA15A",
           "#19d3f3",
           "#FF6692",
           "#B6E880",
           "#FF97FF",
           "#FECB52"
          ],
          "font": {
           "color": "#2a3f5f"
          },
          "geo": {
           "bgcolor": "white",
           "lakecolor": "white",
           "landcolor": "#E5ECF6",
           "showlakes": true,
           "showland": true,
           "subunitcolor": "white"
          },
          "hoverlabel": {
           "align": "left"
          },
          "hovermode": "closest",
          "mapbox": {
           "style": "light"
          },
          "paper_bgcolor": "white",
          "plot_bgcolor": "#E5ECF6",
          "polar": {
           "angularaxis": {
            "gridcolor": "white",
            "linecolor": "white",
            "ticks": ""
           },
           "bgcolor": "#E5ECF6",
           "radialaxis": {
            "gridcolor": "white",
            "linecolor": "white",
            "ticks": ""
           }
          },
          "scene": {
           "xaxis": {
            "backgroundcolor": "#E5ECF6",
            "gridcolor": "white",
            "gridwidth": 2,
            "linecolor": "white",
            "showbackground": true,
            "ticks": "",
            "zerolinecolor": "white"
           },
           "yaxis": {
            "backgroundcolor": "#E5ECF6",
            "gridcolor": "white",
            "gridwidth": 2,
            "linecolor": "white",
            "showbackground": true,
            "ticks": "",
            "zerolinecolor": "white"
           },
           "zaxis": {
            "backgroundcolor": "#E5ECF6",
            "gridcolor": "white",
            "gridwidth": 2,
            "linecolor": "white",
            "showbackground": true,
            "ticks": "",
            "zerolinecolor": "white"
           }
          },
          "shapedefaults": {
           "line": {
            "color": "#2a3f5f"
           }
          },
          "ternary": {
           "aaxis": {
            "gridcolor": "white",
            "linecolor": "white",
            "ticks": ""
           },
           "baxis": {
            "gridcolor": "white",
            "linecolor": "white",
            "ticks": ""
           },
           "bgcolor": "#E5ECF6",
           "caxis": {
            "gridcolor": "white",
            "linecolor": "white",
            "ticks": ""
           }
          },
          "title": {
           "x": 0.05
          },
          "xaxis": {
           "automargin": true,
           "gridcolor": "white",
           "linecolor": "white",
           "ticks": "",
           "title": {
            "standoff": 15
           },
           "zerolinecolor": "white",
           "zerolinewidth": 2
          },
          "yaxis": {
           "automargin": true,
           "gridcolor": "white",
           "linecolor": "white",
           "ticks": "",
           "title": {
            "standoff": 15
           },
           "zerolinecolor": "white",
           "zerolinewidth": 2
          }
         }
        },
        "title": {
         "font": {
          "color": "#4D5663"
         }
        },
        "xaxis": {
         "gridcolor": "#E1E5ED",
         "showgrid": true,
         "tickfont": {
          "color": "#4D5663"
         },
         "title": {
          "font": {
           "color": "#4D5663"
          },
          "text": ""
         },
         "zerolinecolor": "#E1E5ED"
        },
        "yaxis": {
         "gridcolor": "#E1E5ED",
         "showgrid": true,
         "tickfont": {
          "color": "#4D5663"
         },
         "title": {
          "font": {
           "color": "#4D5663"
          },
          "text": ""
         },
         "zerolinecolor": "#E1E5ED"
        }
       }
      },
      "text/html": [
       "<div>\n",
       "        \n",
       "        \n",
       "            <div id=\"075d3133-367d-4345-86e0-8acdc794b24d\" class=\"plotly-graph-div\" style=\"height:525px; width:100%;\"></div>\n",
       "            <script type=\"text/javascript\">\n",
       "                require([\"plotly\"], function(Plotly) {\n",
       "                    window.PLOTLYENV=window.PLOTLYENV || {};\n",
       "                    window.PLOTLYENV.BASE_URL='https://plot.ly';\n",
       "                    \n",
       "                if (document.getElementById(\"075d3133-367d-4345-86e0-8acdc794b24d\")) {\n",
       "                    Plotly.newPlot(\n",
       "                        '075d3133-367d-4345-86e0-8acdc794b24d',\n",
       "                        [{\"line\": {\"color\": \"rgba(255, 153, 51, 1.0)\", \"dash\": \"solid\", \"shape\": \"linear\", \"width\": 1.3}, \"marker\": {\"size\": 10, \"symbol\": \"circle\"}, \"mode\": \"markers\", \"name\": \"B\", \"text\": \"\", \"type\": \"scatter\", \"x\": [0.2192150126893649, 0.41212764663850154, -0.27839766837010627, 0.3222178500267178, 1.1359559733338713, -0.971720425769713, 1.4329161629803917, -0.34578250445780295, 0.9221363208457326, -0.46018427034111126, 0.032535916019239226, -1.5775132350080174, 1.2509653911100467, 0.8333489234269918, -0.09408230960773854, 0.010236286462784547, 0.6198798548523512, -2.3694740941164874, 0.6446131044139314, 3.5825153483746544, -1.100859730297812, -0.28637707270395063, 1.2663027275521734, 0.4480018504819275, -0.04075310173488496, -1.3188747595733246, -0.25669888175689487, -0.7892384287614435, -0.5027860677713014, 0.08430359155613538, -0.40896809921325916, 1.2708262506705303, -0.38766034310350395, 0.4304639325836553, 1.8071040246302588, 1.4568874186053604, 0.9042403428138212, -0.7816990895945196, 0.7868373081101285, 0.9476543351449195, 1.1956296073512873, 0.41095470596658434, 1.0094261937662572, -0.44046838256526516, 1.0346716931466176, 0.11523886763913334, -0.31723607081444566, -0.716904274124458, 0.26466695448679606, -0.6379239557948869, 0.955179550321454, 1.6925209088368083, 1.7812391056276533, -1.4877766892101543, -1.1899544134286546, -0.10895806189072393, 1.321027710937083, -0.8784194756051036, 0.6504071261387132, 1.094753327689872, -0.2132623568016486, -0.7927137163590783, -0.45765125612752156, 0.28711097689175746, -0.8352933868433253, -2.0667869160062238, -0.35007642593563354, 0.9947487894082441, -1.1831678986229839, -0.8486257818723462, -0.2765927487443163, 0.7680784213053352, -0.9335626713391687, 0.21802436036050304, -0.9349362054526161, -0.011134013758786858, -1.6743957170983006, 0.12574163202444208, 1.1531777911767431, 1.2999741110066083, -0.2735192157650116, 0.595818583592944, 0.41802287494605567, 0.45030528691780813, -0.514456906944202, -0.4162077818331348, 2.4691714751126876, -1.365196733109609, 0.26790894446099445, -0.06926500967640424, 0.311983304253257, 1.1795697874824076, 0.3690061425350321, 1.0369119759384802, 0.11344630289523762, -0.8618742507166238, 1.0502865219767203, -0.6297527108271594, 2.0620223895254988, 0.28102629664114714], \"y\": [-2.5296842304295915, -0.9124939583658659, 1.9371572689115752, -0.04233086880753978, 1.1755323137692275, -0.7913343687872296, 0.34679771300378864, 0.1472644768462741, -0.5576417622152579, 1.0153627370487877, -0.006675276814364406, -1.3831667133442893, 0.23794366571150333, -0.046584210842764394, -0.23286229979657497, -1.059043175997328, -0.5639209672124689, 1.2466006179249922, 1.785304178140208, 0.7289995222261205, -0.2394784072597976, 0.6674022767035093, -1.7636884877840329, -1.7239697309413886, 1.6336503512461968, -0.09202348674133626, 1.0195082254673082, 0.6284543531925654, -0.9230405694743555, 0.8912283886498443, 0.6633555600973492, -1.5256437045839726, 0.9770914272419425, 1.7175529208127185, 0.8406491088530332, -1.2707511635610007, 1.38083980414698, -0.9203591200540816, -0.5004906455425786, -0.5399747143298336, -0.9896963608623736, 1.3306609274638301, 0.8926496038118524, -2.033822133364184, -0.8334681002973663, 0.14001110291725294, -0.685037044884312, 0.9415217721260292, -0.7396063904143044, 1.4124225135238375, 1.9904956031872585, 0.42500823802958937, 1.930846927734657, -1.9760870203704148, -1.0777631936672263, 0.902624464861868, -0.94669113465832, -0.9373697872008047, -1.4821469944733676, -0.9426236297971836, 1.0841383783955747, -2.0884924313952187, 0.8969041011425303, -1.5803644182734884, -1.3823710740159605, -1.5206872295882883, -0.2581375790682765, 1.156228135822335, -0.41662244466772547, -0.3490920630112603, 1.2895317025169495, -0.8821858086096042, -0.5387923050763868, -0.5663537185351362, -1.095431469835826, 0.6009775868516194, 2.614098758958872, -0.9592823177952877, 0.06536082847107165, -0.8496657523610329, -1.4681299656741593, 0.6701367636720044, 0.7744265354513329, 2.0586936414104375, 0.7915794301092625, 2.592940852157227, -1.3221424278325977, 2.8901840068359896, 0.561794978690869, 0.6610147433500252, 1.9933671238820154, 0.11772975628376309, -1.3513533772700421, 0.8043126148336902, -0.5690624329172052, 0.536251241812792, 0.7386353343412105, -0.976006012430902, -0.9283420207337423, 0.04110546621274906]}],\n",
       "                        {\"legend\": {\"bgcolor\": \"#F5F6F9\", \"font\": {\"color\": \"#4D5663\"}}, \"paper_bgcolor\": \"#F5F6F9\", \"plot_bgcolor\": \"#F5F6F9\", \"template\": {\"data\": {\"bar\": [{\"error_x\": {\"color\": \"#2a3f5f\"}, \"error_y\": {\"color\": \"#2a3f5f\"}, \"marker\": {\"line\": {\"color\": \"#E5ECF6\", \"width\": 0.5}}, \"type\": \"bar\"}], \"barpolar\": [{\"marker\": {\"line\": {\"color\": \"#E5ECF6\", \"width\": 0.5}}, \"type\": \"barpolar\"}], \"carpet\": [{\"aaxis\": {\"endlinecolor\": \"#2a3f5f\", \"gridcolor\": \"white\", \"linecolor\": \"white\", \"minorgridcolor\": \"white\", \"startlinecolor\": \"#2a3f5f\"}, \"baxis\": {\"endlinecolor\": \"#2a3f5f\", \"gridcolor\": \"white\", \"linecolor\": \"white\", \"minorgridcolor\": \"white\", \"startlinecolor\": \"#2a3f5f\"}, \"type\": \"carpet\"}], \"choropleth\": [{\"colorbar\": {\"outlinewidth\": 0, \"ticks\": \"\"}, \"type\": \"choropleth\"}], \"contour\": [{\"colorbar\": {\"outlinewidth\": 0, \"ticks\": \"\"}, \"colorscale\": [[0.0, \"#0d0887\"], [0.1111111111111111, \"#46039f\"], [0.2222222222222222, \"#7201a8\"], [0.3333333333333333, \"#9c179e\"], [0.4444444444444444, \"#bd3786\"], [0.5555555555555556, \"#d8576b\"], [0.6666666666666666, \"#ed7953\"], [0.7777777777777778, \"#fb9f3a\"], [0.8888888888888888, \"#fdca26\"], [1.0, \"#f0f921\"]], \"type\": \"contour\"}], \"contourcarpet\": [{\"colorbar\": {\"outlinewidth\": 0, \"ticks\": \"\"}, \"type\": \"contourcarpet\"}], \"heatmap\": [{\"colorbar\": {\"outlinewidth\": 0, \"ticks\": \"\"}, \"colorscale\": [[0.0, \"#0d0887\"], [0.1111111111111111, \"#46039f\"], [0.2222222222222222, \"#7201a8\"], [0.3333333333333333, \"#9c179e\"], [0.4444444444444444, \"#bd3786\"], [0.5555555555555556, \"#d8576b\"], [0.6666666666666666, \"#ed7953\"], [0.7777777777777778, \"#fb9f3a\"], [0.8888888888888888, \"#fdca26\"], [1.0, \"#f0f921\"]], \"type\": \"heatmap\"}], \"heatmapgl\": [{\"colorbar\": {\"outlinewidth\": 0, \"ticks\": \"\"}, \"colorscale\": [[0.0, \"#0d0887\"], [0.1111111111111111, \"#46039f\"], [0.2222222222222222, \"#7201a8\"], [0.3333333333333333, \"#9c179e\"], [0.4444444444444444, \"#bd3786\"], [0.5555555555555556, \"#d8576b\"], [0.6666666666666666, \"#ed7953\"], [0.7777777777777778, \"#fb9f3a\"], [0.8888888888888888, \"#fdca26\"], [1.0, \"#f0f921\"]], \"type\": \"heatmapgl\"}], \"histogram\": [{\"marker\": {\"colorbar\": {\"outlinewidth\": 0, \"ticks\": \"\"}}, \"type\": \"histogram\"}], \"histogram2d\": [{\"colorbar\": {\"outlinewidth\": 0, \"ticks\": \"\"}, \"colorscale\": [[0.0, \"#0d0887\"], [0.1111111111111111, \"#46039f\"], [0.2222222222222222, \"#7201a8\"], [0.3333333333333333, \"#9c179e\"], [0.4444444444444444, \"#bd3786\"], [0.5555555555555556, \"#d8576b\"], [0.6666666666666666, \"#ed7953\"], [0.7777777777777778, \"#fb9f3a\"], [0.8888888888888888, \"#fdca26\"], [1.0, \"#f0f921\"]], \"type\": \"histogram2d\"}], \"histogram2dcontour\": [{\"colorbar\": {\"outlinewidth\": 0, \"ticks\": \"\"}, \"colorscale\": [[0.0, \"#0d0887\"], [0.1111111111111111, \"#46039f\"], [0.2222222222222222, \"#7201a8\"], [0.3333333333333333, \"#9c179e\"], [0.4444444444444444, \"#bd3786\"], [0.5555555555555556, \"#d8576b\"], [0.6666666666666666, \"#ed7953\"], [0.7777777777777778, \"#fb9f3a\"], [0.8888888888888888, \"#fdca26\"], [1.0, \"#f0f921\"]], \"type\": \"histogram2dcontour\"}], \"mesh3d\": [{\"colorbar\": {\"outlinewidth\": 0, \"ticks\": \"\"}, \"type\": \"mesh3d\"}], \"parcoords\": [{\"line\": {\"colorbar\": {\"outlinewidth\": 0, \"ticks\": \"\"}}, \"type\": \"parcoords\"}], \"pie\": [{\"automargin\": true, \"type\": \"pie\"}], \"scatter\": [{\"marker\": {\"colorbar\": {\"outlinewidth\": 0, \"ticks\": \"\"}}, \"type\": \"scatter\"}], \"scatter3d\": [{\"line\": {\"colorbar\": {\"outlinewidth\": 0, \"ticks\": \"\"}}, \"marker\": {\"colorbar\": {\"outlinewidth\": 0, \"ticks\": \"\"}}, \"type\": \"scatter3d\"}], \"scattercarpet\": [{\"marker\": {\"colorbar\": {\"outlinewidth\": 0, \"ticks\": \"\"}}, \"type\": \"scattercarpet\"}], \"scattergeo\": [{\"marker\": {\"colorbar\": {\"outlinewidth\": 0, \"ticks\": \"\"}}, \"type\": \"scattergeo\"}], \"scattergl\": [{\"marker\": {\"colorbar\": {\"outlinewidth\": 0, \"ticks\": \"\"}}, \"type\": \"scattergl\"}], \"scattermapbox\": [{\"marker\": {\"colorbar\": {\"outlinewidth\": 0, \"ticks\": \"\"}}, \"type\": \"scattermapbox\"}], \"scatterpolar\": [{\"marker\": {\"colorbar\": {\"outlinewidth\": 0, \"ticks\": \"\"}}, \"type\": \"scatterpolar\"}], \"scatterpolargl\": [{\"marker\": {\"colorbar\": {\"outlinewidth\": 0, \"ticks\": \"\"}}, \"type\": \"scatterpolargl\"}], \"scatterternary\": [{\"marker\": {\"colorbar\": {\"outlinewidth\": 0, \"ticks\": \"\"}}, \"type\": \"scatterternary\"}], \"surface\": [{\"colorbar\": {\"outlinewidth\": 0, \"ticks\": \"\"}, \"colorscale\": [[0.0, \"#0d0887\"], [0.1111111111111111, \"#46039f\"], [0.2222222222222222, \"#7201a8\"], [0.3333333333333333, \"#9c179e\"], [0.4444444444444444, \"#bd3786\"], [0.5555555555555556, \"#d8576b\"], [0.6666666666666666, \"#ed7953\"], [0.7777777777777778, \"#fb9f3a\"], [0.8888888888888888, \"#fdca26\"], [1.0, \"#f0f921\"]], \"type\": \"surface\"}], \"table\": [{\"cells\": {\"fill\": {\"color\": \"#EBF0F8\"}, \"line\": {\"color\": \"white\"}}, \"header\": {\"fill\": {\"color\": \"#C8D4E3\"}, \"line\": {\"color\": \"white\"}}, \"type\": \"table\"}]}, \"layout\": {\"annotationdefaults\": {\"arrowcolor\": \"#2a3f5f\", \"arrowhead\": 0, \"arrowwidth\": 1}, \"coloraxis\": {\"colorbar\": {\"outlinewidth\": 0, \"ticks\": \"\"}}, \"colorscale\": {\"diverging\": [[0, \"#8e0152\"], [0.1, \"#c51b7d\"], [0.2, \"#de77ae\"], [0.3, \"#f1b6da\"], [0.4, \"#fde0ef\"], [0.5, \"#f7f7f7\"], [0.6, \"#e6f5d0\"], [0.7, \"#b8e186\"], [0.8, \"#7fbc41\"], [0.9, \"#4d9221\"], [1, \"#276419\"]], \"sequential\": [[0.0, \"#0d0887\"], [0.1111111111111111, \"#46039f\"], [0.2222222222222222, \"#7201a8\"], [0.3333333333333333, \"#9c179e\"], [0.4444444444444444, \"#bd3786\"], [0.5555555555555556, \"#d8576b\"], [0.6666666666666666, \"#ed7953\"], [0.7777777777777778, \"#fb9f3a\"], [0.8888888888888888, \"#fdca26\"], [1.0, \"#f0f921\"]], \"sequentialminus\": [[0.0, \"#0d0887\"], [0.1111111111111111, \"#46039f\"], [0.2222222222222222, \"#7201a8\"], [0.3333333333333333, \"#9c179e\"], [0.4444444444444444, \"#bd3786\"], [0.5555555555555556, \"#d8576b\"], [0.6666666666666666, \"#ed7953\"], [0.7777777777777778, \"#fb9f3a\"], [0.8888888888888888, \"#fdca26\"], [1.0, \"#f0f921\"]]}, \"colorway\": [\"#636efa\", \"#EF553B\", \"#00cc96\", \"#ab63fa\", \"#FFA15A\", \"#19d3f3\", \"#FF6692\", \"#B6E880\", \"#FF97FF\", \"#FECB52\"], \"font\": {\"color\": \"#2a3f5f\"}, \"geo\": {\"bgcolor\": \"white\", \"lakecolor\": \"white\", \"landcolor\": \"#E5ECF6\", \"showlakes\": true, \"showland\": true, \"subunitcolor\": \"white\"}, \"hoverlabel\": {\"align\": \"left\"}, \"hovermode\": \"closest\", \"mapbox\": {\"style\": \"light\"}, \"paper_bgcolor\": \"white\", \"plot_bgcolor\": \"#E5ECF6\", \"polar\": {\"angularaxis\": {\"gridcolor\": \"white\", \"linecolor\": \"white\", \"ticks\": \"\"}, \"bgcolor\": \"#E5ECF6\", \"radialaxis\": {\"gridcolor\": \"white\", \"linecolor\": \"white\", \"ticks\": \"\"}}, \"scene\": {\"xaxis\": {\"backgroundcolor\": \"#E5ECF6\", \"gridcolor\": \"white\", \"gridwidth\": 2, \"linecolor\": \"white\", \"showbackground\": true, \"ticks\": \"\", \"zerolinecolor\": \"white\"}, \"yaxis\": {\"backgroundcolor\": \"#E5ECF6\", \"gridcolor\": \"white\", \"gridwidth\": 2, \"linecolor\": \"white\", \"showbackground\": true, \"ticks\": \"\", \"zerolinecolor\": \"white\"}, \"zaxis\": {\"backgroundcolor\": \"#E5ECF6\", \"gridcolor\": \"white\", \"gridwidth\": 2, \"linecolor\": \"white\", \"showbackground\": true, \"ticks\": \"\", \"zerolinecolor\": \"white\"}}, \"shapedefaults\": {\"line\": {\"color\": \"#2a3f5f\"}}, \"ternary\": {\"aaxis\": {\"gridcolor\": \"white\", \"linecolor\": \"white\", \"ticks\": \"\"}, \"baxis\": {\"gridcolor\": \"white\", \"linecolor\": \"white\", \"ticks\": \"\"}, \"bgcolor\": \"#E5ECF6\", \"caxis\": {\"gridcolor\": \"white\", \"linecolor\": \"white\", \"ticks\": \"\"}}, \"title\": {\"x\": 0.05}, \"xaxis\": {\"automargin\": true, \"gridcolor\": \"white\", \"linecolor\": \"white\", \"ticks\": \"\", \"title\": {\"standoff\": 15}, \"zerolinecolor\": \"white\", \"zerolinewidth\": 2}, \"yaxis\": {\"automargin\": true, \"gridcolor\": \"white\", \"linecolor\": \"white\", \"ticks\": \"\", \"title\": {\"standoff\": 15}, \"zerolinecolor\": \"white\", \"zerolinewidth\": 2}}}, \"title\": {\"font\": {\"color\": \"#4D5663\"}}, \"xaxis\": {\"gridcolor\": \"#E1E5ED\", \"showgrid\": true, \"tickfont\": {\"color\": \"#4D5663\"}, \"title\": {\"font\": {\"color\": \"#4D5663\"}, \"text\": \"\"}, \"zerolinecolor\": \"#E1E5ED\"}, \"yaxis\": {\"gridcolor\": \"#E1E5ED\", \"showgrid\": true, \"tickfont\": {\"color\": \"#4D5663\"}, \"title\": {\"font\": {\"color\": \"#4D5663\"}, \"text\": \"\"}, \"zerolinecolor\": \"#E1E5ED\"}},\n",
       "                        {\"showLink\": true, \"linkText\": \"Export to plot.ly\", \"plotlyServerURL\": \"https://plot.ly\", \"responsive\": true}\n",
       "                    ).then(function(){\n",
       "                            \n",
       "var gd = document.getElementById('075d3133-367d-4345-86e0-8acdc794b24d');\n",
       "var x = new MutationObserver(function (mutations, observer) {{\n",
       "        var display = window.getComputedStyle(gd).display;\n",
       "        if (!display || display === 'none') {{\n",
       "            console.log([gd, 'removed!']);\n",
       "            Plotly.purge(gd);\n",
       "            observer.disconnect();\n",
       "        }}\n",
       "}});\n",
       "\n",
       "// Listen for the removal of the full notebook cells\n",
       "var notebookContainer = gd.closest('#notebook-container');\n",
       "if (notebookContainer) {{\n",
       "    x.observe(notebookContainer, {childList: true});\n",
       "}}\n",
       "\n",
       "// Listen for the clearing of the current output cell\n",
       "var outputEl = gd.closest('.output');\n",
       "if (outputEl) {{\n",
       "    x.observe(outputEl, {childList: true});\n",
       "}}\n",
       "\n",
       "                        })\n",
       "                };\n",
       "                });\n",
       "            </script>\n",
       "        </div>"
      ]
     },
     "metadata": {},
     "output_type": "display_data"
    }
   ],
   "source": [
    "df.iplot(kind='scatter',x='A',y='B',mode='markers',size=10)"
   ]
  },
  {
   "cell_type": "markdown",
   "metadata": {},
   "source": [
    "## Bar Plots"
   ]
  },
  {
   "cell_type": "code",
   "execution_count": 14,
   "metadata": {},
   "outputs": [
    {
     "data": {
      "application/vnd.plotly.v1+json": {
       "config": {
        "linkText": "Export to plot.ly",
        "plotlyServerURL": "https://plot.ly",
        "showLink": true
       },
       "data": [
        {
         "marker": {
          "color": "rgba(255, 153, 51, 0.6)",
          "line": {
           "color": "rgba(255, 153, 51, 1.0)",
           "width": 1
          }
         },
         "name": "Values",
         "orientation": "v",
         "text": "",
         "type": "bar",
         "x": [
          "A",
          "B",
          "C"
         ],
         "y": [
          32,
          43,
          50
         ]
        }
       ],
       "layout": {
        "legend": {
         "bgcolor": "#F5F6F9",
         "font": {
          "color": "#4D5663"
         }
        },
        "paper_bgcolor": "#F5F6F9",
        "plot_bgcolor": "#F5F6F9",
        "template": {
         "data": {
          "bar": [
           {
            "error_x": {
             "color": "#2a3f5f"
            },
            "error_y": {
             "color": "#2a3f5f"
            },
            "marker": {
             "line": {
              "color": "#E5ECF6",
              "width": 0.5
             }
            },
            "type": "bar"
           }
          ],
          "barpolar": [
           {
            "marker": {
             "line": {
              "color": "#E5ECF6",
              "width": 0.5
             }
            },
            "type": "barpolar"
           }
          ],
          "carpet": [
           {
            "aaxis": {
             "endlinecolor": "#2a3f5f",
             "gridcolor": "white",
             "linecolor": "white",
             "minorgridcolor": "white",
             "startlinecolor": "#2a3f5f"
            },
            "baxis": {
             "endlinecolor": "#2a3f5f",
             "gridcolor": "white",
             "linecolor": "white",
             "minorgridcolor": "white",
             "startlinecolor": "#2a3f5f"
            },
            "type": "carpet"
           }
          ],
          "choropleth": [
           {
            "colorbar": {
             "outlinewidth": 0,
             "ticks": ""
            },
            "type": "choropleth"
           }
          ],
          "contour": [
           {
            "colorbar": {
             "outlinewidth": 0,
             "ticks": ""
            },
            "colorscale": [
             [
              0,
              "#0d0887"
             ],
             [
              0.1111111111111111,
              "#46039f"
             ],
             [
              0.2222222222222222,
              "#7201a8"
             ],
             [
              0.3333333333333333,
              "#9c179e"
             ],
             [
              0.4444444444444444,
              "#bd3786"
             ],
             [
              0.5555555555555556,
              "#d8576b"
             ],
             [
              0.6666666666666666,
              "#ed7953"
             ],
             [
              0.7777777777777778,
              "#fb9f3a"
             ],
             [
              0.8888888888888888,
              "#fdca26"
             ],
             [
              1,
              "#f0f921"
             ]
            ],
            "type": "contour"
           }
          ],
          "contourcarpet": [
           {
            "colorbar": {
             "outlinewidth": 0,
             "ticks": ""
            },
            "type": "contourcarpet"
           }
          ],
          "heatmap": [
           {
            "colorbar": {
             "outlinewidth": 0,
             "ticks": ""
            },
            "colorscale": [
             [
              0,
              "#0d0887"
             ],
             [
              0.1111111111111111,
              "#46039f"
             ],
             [
              0.2222222222222222,
              "#7201a8"
             ],
             [
              0.3333333333333333,
              "#9c179e"
             ],
             [
              0.4444444444444444,
              "#bd3786"
             ],
             [
              0.5555555555555556,
              "#d8576b"
             ],
             [
              0.6666666666666666,
              "#ed7953"
             ],
             [
              0.7777777777777778,
              "#fb9f3a"
             ],
             [
              0.8888888888888888,
              "#fdca26"
             ],
             [
              1,
              "#f0f921"
             ]
            ],
            "type": "heatmap"
           }
          ],
          "heatmapgl": [
           {
            "colorbar": {
             "outlinewidth": 0,
             "ticks": ""
            },
            "colorscale": [
             [
              0,
              "#0d0887"
             ],
             [
              0.1111111111111111,
              "#46039f"
             ],
             [
              0.2222222222222222,
              "#7201a8"
             ],
             [
              0.3333333333333333,
              "#9c179e"
             ],
             [
              0.4444444444444444,
              "#bd3786"
             ],
             [
              0.5555555555555556,
              "#d8576b"
             ],
             [
              0.6666666666666666,
              "#ed7953"
             ],
             [
              0.7777777777777778,
              "#fb9f3a"
             ],
             [
              0.8888888888888888,
              "#fdca26"
             ],
             [
              1,
              "#f0f921"
             ]
            ],
            "type": "heatmapgl"
           }
          ],
          "histogram": [
           {
            "marker": {
             "colorbar": {
              "outlinewidth": 0,
              "ticks": ""
             }
            },
            "type": "histogram"
           }
          ],
          "histogram2d": [
           {
            "colorbar": {
             "outlinewidth": 0,
             "ticks": ""
            },
            "colorscale": [
             [
              0,
              "#0d0887"
             ],
             [
              0.1111111111111111,
              "#46039f"
             ],
             [
              0.2222222222222222,
              "#7201a8"
             ],
             [
              0.3333333333333333,
              "#9c179e"
             ],
             [
              0.4444444444444444,
              "#bd3786"
             ],
             [
              0.5555555555555556,
              "#d8576b"
             ],
             [
              0.6666666666666666,
              "#ed7953"
             ],
             [
              0.7777777777777778,
              "#fb9f3a"
             ],
             [
              0.8888888888888888,
              "#fdca26"
             ],
             [
              1,
              "#f0f921"
             ]
            ],
            "type": "histogram2d"
           }
          ],
          "histogram2dcontour": [
           {
            "colorbar": {
             "outlinewidth": 0,
             "ticks": ""
            },
            "colorscale": [
             [
              0,
              "#0d0887"
             ],
             [
              0.1111111111111111,
              "#46039f"
             ],
             [
              0.2222222222222222,
              "#7201a8"
             ],
             [
              0.3333333333333333,
              "#9c179e"
             ],
             [
              0.4444444444444444,
              "#bd3786"
             ],
             [
              0.5555555555555556,
              "#d8576b"
             ],
             [
              0.6666666666666666,
              "#ed7953"
             ],
             [
              0.7777777777777778,
              "#fb9f3a"
             ],
             [
              0.8888888888888888,
              "#fdca26"
             ],
             [
              1,
              "#f0f921"
             ]
            ],
            "type": "histogram2dcontour"
           }
          ],
          "mesh3d": [
           {
            "colorbar": {
             "outlinewidth": 0,
             "ticks": ""
            },
            "type": "mesh3d"
           }
          ],
          "parcoords": [
           {
            "line": {
             "colorbar": {
              "outlinewidth": 0,
              "ticks": ""
             }
            },
            "type": "parcoords"
           }
          ],
          "pie": [
           {
            "automargin": true,
            "type": "pie"
           }
          ],
          "scatter": [
           {
            "marker": {
             "colorbar": {
              "outlinewidth": 0,
              "ticks": ""
             }
            },
            "type": "scatter"
           }
          ],
          "scatter3d": [
           {
            "line": {
             "colorbar": {
              "outlinewidth": 0,
              "ticks": ""
             }
            },
            "marker": {
             "colorbar": {
              "outlinewidth": 0,
              "ticks": ""
             }
            },
            "type": "scatter3d"
           }
          ],
          "scattercarpet": [
           {
            "marker": {
             "colorbar": {
              "outlinewidth": 0,
              "ticks": ""
             }
            },
            "type": "scattercarpet"
           }
          ],
          "scattergeo": [
           {
            "marker": {
             "colorbar": {
              "outlinewidth": 0,
              "ticks": ""
             }
            },
            "type": "scattergeo"
           }
          ],
          "scattergl": [
           {
            "marker": {
             "colorbar": {
              "outlinewidth": 0,
              "ticks": ""
             }
            },
            "type": "scattergl"
           }
          ],
          "scattermapbox": [
           {
            "marker": {
             "colorbar": {
              "outlinewidth": 0,
              "ticks": ""
             }
            },
            "type": "scattermapbox"
           }
          ],
          "scatterpolar": [
           {
            "marker": {
             "colorbar": {
              "outlinewidth": 0,
              "ticks": ""
             }
            },
            "type": "scatterpolar"
           }
          ],
          "scatterpolargl": [
           {
            "marker": {
             "colorbar": {
              "outlinewidth": 0,
              "ticks": ""
             }
            },
            "type": "scatterpolargl"
           }
          ],
          "scatterternary": [
           {
            "marker": {
             "colorbar": {
              "outlinewidth": 0,
              "ticks": ""
             }
            },
            "type": "scatterternary"
           }
          ],
          "surface": [
           {
            "colorbar": {
             "outlinewidth": 0,
             "ticks": ""
            },
            "colorscale": [
             [
              0,
              "#0d0887"
             ],
             [
              0.1111111111111111,
              "#46039f"
             ],
             [
              0.2222222222222222,
              "#7201a8"
             ],
             [
              0.3333333333333333,
              "#9c179e"
             ],
             [
              0.4444444444444444,
              "#bd3786"
             ],
             [
              0.5555555555555556,
              "#d8576b"
             ],
             [
              0.6666666666666666,
              "#ed7953"
             ],
             [
              0.7777777777777778,
              "#fb9f3a"
             ],
             [
              0.8888888888888888,
              "#fdca26"
             ],
             [
              1,
              "#f0f921"
             ]
            ],
            "type": "surface"
           }
          ],
          "table": [
           {
            "cells": {
             "fill": {
              "color": "#EBF0F8"
             },
             "line": {
              "color": "white"
             }
            },
            "header": {
             "fill": {
              "color": "#C8D4E3"
             },
             "line": {
              "color": "white"
             }
            },
            "type": "table"
           }
          ]
         },
         "layout": {
          "annotationdefaults": {
           "arrowcolor": "#2a3f5f",
           "arrowhead": 0,
           "arrowwidth": 1
          },
          "coloraxis": {
           "colorbar": {
            "outlinewidth": 0,
            "ticks": ""
           }
          },
          "colorscale": {
           "diverging": [
            [
             0,
             "#8e0152"
            ],
            [
             0.1,
             "#c51b7d"
            ],
            [
             0.2,
             "#de77ae"
            ],
            [
             0.3,
             "#f1b6da"
            ],
            [
             0.4,
             "#fde0ef"
            ],
            [
             0.5,
             "#f7f7f7"
            ],
            [
             0.6,
             "#e6f5d0"
            ],
            [
             0.7,
             "#b8e186"
            ],
            [
             0.8,
             "#7fbc41"
            ],
            [
             0.9,
             "#4d9221"
            ],
            [
             1,
             "#276419"
            ]
           ],
           "sequential": [
            [
             0,
             "#0d0887"
            ],
            [
             0.1111111111111111,
             "#46039f"
            ],
            [
             0.2222222222222222,
             "#7201a8"
            ],
            [
             0.3333333333333333,
             "#9c179e"
            ],
            [
             0.4444444444444444,
             "#bd3786"
            ],
            [
             0.5555555555555556,
             "#d8576b"
            ],
            [
             0.6666666666666666,
             "#ed7953"
            ],
            [
             0.7777777777777778,
             "#fb9f3a"
            ],
            [
             0.8888888888888888,
             "#fdca26"
            ],
            [
             1,
             "#f0f921"
            ]
           ],
           "sequentialminus": [
            [
             0,
             "#0d0887"
            ],
            [
             0.1111111111111111,
             "#46039f"
            ],
            [
             0.2222222222222222,
             "#7201a8"
            ],
            [
             0.3333333333333333,
             "#9c179e"
            ],
            [
             0.4444444444444444,
             "#bd3786"
            ],
            [
             0.5555555555555556,
             "#d8576b"
            ],
            [
             0.6666666666666666,
             "#ed7953"
            ],
            [
             0.7777777777777778,
             "#fb9f3a"
            ],
            [
             0.8888888888888888,
             "#fdca26"
            ],
            [
             1,
             "#f0f921"
            ]
           ]
          },
          "colorway": [
           "#636efa",
           "#EF553B",
           "#00cc96",
           "#ab63fa",
           "#FFA15A",
           "#19d3f3",
           "#FF6692",
           "#B6E880",
           "#FF97FF",
           "#FECB52"
          ],
          "font": {
           "color": "#2a3f5f"
          },
          "geo": {
           "bgcolor": "white",
           "lakecolor": "white",
           "landcolor": "#E5ECF6",
           "showlakes": true,
           "showland": true,
           "subunitcolor": "white"
          },
          "hoverlabel": {
           "align": "left"
          },
          "hovermode": "closest",
          "mapbox": {
           "style": "light"
          },
          "paper_bgcolor": "white",
          "plot_bgcolor": "#E5ECF6",
          "polar": {
           "angularaxis": {
            "gridcolor": "white",
            "linecolor": "white",
            "ticks": ""
           },
           "bgcolor": "#E5ECF6",
           "radialaxis": {
            "gridcolor": "white",
            "linecolor": "white",
            "ticks": ""
           }
          },
          "scene": {
           "xaxis": {
            "backgroundcolor": "#E5ECF6",
            "gridcolor": "white",
            "gridwidth": 2,
            "linecolor": "white",
            "showbackground": true,
            "ticks": "",
            "zerolinecolor": "white"
           },
           "yaxis": {
            "backgroundcolor": "#E5ECF6",
            "gridcolor": "white",
            "gridwidth": 2,
            "linecolor": "white",
            "showbackground": true,
            "ticks": "",
            "zerolinecolor": "white"
           },
           "zaxis": {
            "backgroundcolor": "#E5ECF6",
            "gridcolor": "white",
            "gridwidth": 2,
            "linecolor": "white",
            "showbackground": true,
            "ticks": "",
            "zerolinecolor": "white"
           }
          },
          "shapedefaults": {
           "line": {
            "color": "#2a3f5f"
           }
          },
          "ternary": {
           "aaxis": {
            "gridcolor": "white",
            "linecolor": "white",
            "ticks": ""
           },
           "baxis": {
            "gridcolor": "white",
            "linecolor": "white",
            "ticks": ""
           },
           "bgcolor": "#E5ECF6",
           "caxis": {
            "gridcolor": "white",
            "linecolor": "white",
            "ticks": ""
           }
          },
          "title": {
           "x": 0.05
          },
          "xaxis": {
           "automargin": true,
           "gridcolor": "white",
           "linecolor": "white",
           "ticks": "",
           "title": {
            "standoff": 15
           },
           "zerolinecolor": "white",
           "zerolinewidth": 2
          },
          "yaxis": {
           "automargin": true,
           "gridcolor": "white",
           "linecolor": "white",
           "ticks": "",
           "title": {
            "standoff": 15
           },
           "zerolinecolor": "white",
           "zerolinewidth": 2
          }
         }
        },
        "title": {
         "font": {
          "color": "#4D5663"
         }
        },
        "xaxis": {
         "gridcolor": "#E1E5ED",
         "showgrid": true,
         "tickfont": {
          "color": "#4D5663"
         },
         "title": {
          "font": {
           "color": "#4D5663"
          },
          "text": ""
         },
         "zerolinecolor": "#E1E5ED"
        },
        "yaxis": {
         "gridcolor": "#E1E5ED",
         "showgrid": true,
         "tickfont": {
          "color": "#4D5663"
         },
         "title": {
          "font": {
           "color": "#4D5663"
          },
          "text": ""
         },
         "zerolinecolor": "#E1E5ED"
        }
       }
      },
      "text/html": [
       "<div>\n",
       "        \n",
       "        \n",
       "            <div id=\"ea55b9fa-5f55-46a5-80b4-89d13a879e32\" class=\"plotly-graph-div\" style=\"height:525px; width:100%;\"></div>\n",
       "            <script type=\"text/javascript\">\n",
       "                require([\"plotly\"], function(Plotly) {\n",
       "                    window.PLOTLYENV=window.PLOTLYENV || {};\n",
       "                    window.PLOTLYENV.BASE_URL='https://plot.ly';\n",
       "                    \n",
       "                if (document.getElementById(\"ea55b9fa-5f55-46a5-80b4-89d13a879e32\")) {\n",
       "                    Plotly.newPlot(\n",
       "                        'ea55b9fa-5f55-46a5-80b4-89d13a879e32',\n",
       "                        [{\"marker\": {\"color\": \"rgba(255, 153, 51, 0.6)\", \"line\": {\"color\": \"rgba(255, 153, 51, 1.0)\", \"width\": 1}}, \"name\": \"Values\", \"orientation\": \"v\", \"text\": \"\", \"type\": \"bar\", \"x\": [\"A\", \"B\", \"C\"], \"y\": [32, 43, 50]}],\n",
       "                        {\"legend\": {\"bgcolor\": \"#F5F6F9\", \"font\": {\"color\": \"#4D5663\"}}, \"paper_bgcolor\": \"#F5F6F9\", \"plot_bgcolor\": \"#F5F6F9\", \"template\": {\"data\": {\"bar\": [{\"error_x\": {\"color\": \"#2a3f5f\"}, \"error_y\": {\"color\": \"#2a3f5f\"}, \"marker\": {\"line\": {\"color\": \"#E5ECF6\", \"width\": 0.5}}, \"type\": \"bar\"}], \"barpolar\": [{\"marker\": {\"line\": {\"color\": \"#E5ECF6\", \"width\": 0.5}}, \"type\": \"barpolar\"}], \"carpet\": [{\"aaxis\": {\"endlinecolor\": \"#2a3f5f\", \"gridcolor\": \"white\", \"linecolor\": \"white\", \"minorgridcolor\": \"white\", \"startlinecolor\": \"#2a3f5f\"}, \"baxis\": {\"endlinecolor\": \"#2a3f5f\", \"gridcolor\": \"white\", \"linecolor\": \"white\", \"minorgridcolor\": \"white\", \"startlinecolor\": \"#2a3f5f\"}, \"type\": \"carpet\"}], \"choropleth\": [{\"colorbar\": {\"outlinewidth\": 0, \"ticks\": \"\"}, \"type\": \"choropleth\"}], \"contour\": [{\"colorbar\": {\"outlinewidth\": 0, \"ticks\": \"\"}, \"colorscale\": [[0.0, \"#0d0887\"], [0.1111111111111111, \"#46039f\"], [0.2222222222222222, \"#7201a8\"], [0.3333333333333333, \"#9c179e\"], [0.4444444444444444, \"#bd3786\"], [0.5555555555555556, \"#d8576b\"], [0.6666666666666666, \"#ed7953\"], [0.7777777777777778, \"#fb9f3a\"], [0.8888888888888888, \"#fdca26\"], [1.0, \"#f0f921\"]], \"type\": \"contour\"}], \"contourcarpet\": [{\"colorbar\": {\"outlinewidth\": 0, \"ticks\": \"\"}, \"type\": \"contourcarpet\"}], \"heatmap\": [{\"colorbar\": {\"outlinewidth\": 0, \"ticks\": \"\"}, \"colorscale\": [[0.0, \"#0d0887\"], [0.1111111111111111, \"#46039f\"], [0.2222222222222222, \"#7201a8\"], [0.3333333333333333, \"#9c179e\"], [0.4444444444444444, \"#bd3786\"], [0.5555555555555556, \"#d8576b\"], [0.6666666666666666, \"#ed7953\"], [0.7777777777777778, \"#fb9f3a\"], [0.8888888888888888, \"#fdca26\"], [1.0, \"#f0f921\"]], \"type\": \"heatmap\"}], \"heatmapgl\": [{\"colorbar\": {\"outlinewidth\": 0, \"ticks\": \"\"}, \"colorscale\": [[0.0, \"#0d0887\"], [0.1111111111111111, \"#46039f\"], [0.2222222222222222, \"#7201a8\"], [0.3333333333333333, \"#9c179e\"], [0.4444444444444444, \"#bd3786\"], [0.5555555555555556, \"#d8576b\"], [0.6666666666666666, \"#ed7953\"], [0.7777777777777778, \"#fb9f3a\"], [0.8888888888888888, \"#fdca26\"], [1.0, \"#f0f921\"]], \"type\": \"heatmapgl\"}], \"histogram\": [{\"marker\": {\"colorbar\": {\"outlinewidth\": 0, \"ticks\": \"\"}}, \"type\": \"histogram\"}], \"histogram2d\": [{\"colorbar\": {\"outlinewidth\": 0, \"ticks\": \"\"}, \"colorscale\": [[0.0, \"#0d0887\"], [0.1111111111111111, \"#46039f\"], [0.2222222222222222, \"#7201a8\"], [0.3333333333333333, \"#9c179e\"], [0.4444444444444444, \"#bd3786\"], [0.5555555555555556, \"#d8576b\"], [0.6666666666666666, \"#ed7953\"], [0.7777777777777778, \"#fb9f3a\"], [0.8888888888888888, \"#fdca26\"], [1.0, \"#f0f921\"]], \"type\": \"histogram2d\"}], \"histogram2dcontour\": [{\"colorbar\": {\"outlinewidth\": 0, \"ticks\": \"\"}, \"colorscale\": [[0.0, \"#0d0887\"], [0.1111111111111111, \"#46039f\"], [0.2222222222222222, \"#7201a8\"], [0.3333333333333333, \"#9c179e\"], [0.4444444444444444, \"#bd3786\"], [0.5555555555555556, \"#d8576b\"], [0.6666666666666666, \"#ed7953\"], [0.7777777777777778, \"#fb9f3a\"], [0.8888888888888888, \"#fdca26\"], [1.0, \"#f0f921\"]], \"type\": \"histogram2dcontour\"}], \"mesh3d\": [{\"colorbar\": {\"outlinewidth\": 0, \"ticks\": \"\"}, \"type\": \"mesh3d\"}], \"parcoords\": [{\"line\": {\"colorbar\": {\"outlinewidth\": 0, \"ticks\": \"\"}}, \"type\": \"parcoords\"}], \"pie\": [{\"automargin\": true, \"type\": \"pie\"}], \"scatter\": [{\"marker\": {\"colorbar\": {\"outlinewidth\": 0, \"ticks\": \"\"}}, \"type\": \"scatter\"}], \"scatter3d\": [{\"line\": {\"colorbar\": {\"outlinewidth\": 0, \"ticks\": \"\"}}, \"marker\": {\"colorbar\": {\"outlinewidth\": 0, \"ticks\": \"\"}}, \"type\": \"scatter3d\"}], \"scattercarpet\": [{\"marker\": {\"colorbar\": {\"outlinewidth\": 0, \"ticks\": \"\"}}, \"type\": \"scattercarpet\"}], \"scattergeo\": [{\"marker\": {\"colorbar\": {\"outlinewidth\": 0, \"ticks\": \"\"}}, \"type\": \"scattergeo\"}], \"scattergl\": [{\"marker\": {\"colorbar\": {\"outlinewidth\": 0, \"ticks\": \"\"}}, \"type\": \"scattergl\"}], \"scattermapbox\": [{\"marker\": {\"colorbar\": {\"outlinewidth\": 0, \"ticks\": \"\"}}, \"type\": \"scattermapbox\"}], \"scatterpolar\": [{\"marker\": {\"colorbar\": {\"outlinewidth\": 0, \"ticks\": \"\"}}, \"type\": \"scatterpolar\"}], \"scatterpolargl\": [{\"marker\": {\"colorbar\": {\"outlinewidth\": 0, \"ticks\": \"\"}}, \"type\": \"scatterpolargl\"}], \"scatterternary\": [{\"marker\": {\"colorbar\": {\"outlinewidth\": 0, \"ticks\": \"\"}}, \"type\": \"scatterternary\"}], \"surface\": [{\"colorbar\": {\"outlinewidth\": 0, \"ticks\": \"\"}, \"colorscale\": [[0.0, \"#0d0887\"], [0.1111111111111111, \"#46039f\"], [0.2222222222222222, \"#7201a8\"], [0.3333333333333333, \"#9c179e\"], [0.4444444444444444, \"#bd3786\"], [0.5555555555555556, \"#d8576b\"], [0.6666666666666666, \"#ed7953\"], [0.7777777777777778, \"#fb9f3a\"], [0.8888888888888888, \"#fdca26\"], [1.0, \"#f0f921\"]], \"type\": \"surface\"}], \"table\": [{\"cells\": {\"fill\": {\"color\": \"#EBF0F8\"}, \"line\": {\"color\": \"white\"}}, \"header\": {\"fill\": {\"color\": \"#C8D4E3\"}, \"line\": {\"color\": \"white\"}}, \"type\": \"table\"}]}, \"layout\": {\"annotationdefaults\": {\"arrowcolor\": \"#2a3f5f\", \"arrowhead\": 0, \"arrowwidth\": 1}, \"coloraxis\": {\"colorbar\": {\"outlinewidth\": 0, \"ticks\": \"\"}}, \"colorscale\": {\"diverging\": [[0, \"#8e0152\"], [0.1, \"#c51b7d\"], [0.2, \"#de77ae\"], [0.3, \"#f1b6da\"], [0.4, \"#fde0ef\"], [0.5, \"#f7f7f7\"], [0.6, \"#e6f5d0\"], [0.7, \"#b8e186\"], [0.8, \"#7fbc41\"], [0.9, \"#4d9221\"], [1, \"#276419\"]], \"sequential\": [[0.0, \"#0d0887\"], [0.1111111111111111, \"#46039f\"], [0.2222222222222222, \"#7201a8\"], [0.3333333333333333, \"#9c179e\"], [0.4444444444444444, \"#bd3786\"], [0.5555555555555556, \"#d8576b\"], [0.6666666666666666, \"#ed7953\"], [0.7777777777777778, \"#fb9f3a\"], [0.8888888888888888, \"#fdca26\"], [1.0, \"#f0f921\"]], \"sequentialminus\": [[0.0, \"#0d0887\"], [0.1111111111111111, \"#46039f\"], [0.2222222222222222, \"#7201a8\"], [0.3333333333333333, \"#9c179e\"], [0.4444444444444444, \"#bd3786\"], [0.5555555555555556, \"#d8576b\"], [0.6666666666666666, \"#ed7953\"], [0.7777777777777778, \"#fb9f3a\"], [0.8888888888888888, \"#fdca26\"], [1.0, \"#f0f921\"]]}, \"colorway\": [\"#636efa\", \"#EF553B\", \"#00cc96\", \"#ab63fa\", \"#FFA15A\", \"#19d3f3\", \"#FF6692\", \"#B6E880\", \"#FF97FF\", \"#FECB52\"], \"font\": {\"color\": \"#2a3f5f\"}, \"geo\": {\"bgcolor\": \"white\", \"lakecolor\": \"white\", \"landcolor\": \"#E5ECF6\", \"showlakes\": true, \"showland\": true, \"subunitcolor\": \"white\"}, \"hoverlabel\": {\"align\": \"left\"}, \"hovermode\": \"closest\", \"mapbox\": {\"style\": \"light\"}, \"paper_bgcolor\": \"white\", \"plot_bgcolor\": \"#E5ECF6\", \"polar\": {\"angularaxis\": {\"gridcolor\": \"white\", \"linecolor\": \"white\", \"ticks\": \"\"}, \"bgcolor\": \"#E5ECF6\", \"radialaxis\": {\"gridcolor\": \"white\", \"linecolor\": \"white\", \"ticks\": \"\"}}, \"scene\": {\"xaxis\": {\"backgroundcolor\": \"#E5ECF6\", \"gridcolor\": \"white\", \"gridwidth\": 2, \"linecolor\": \"white\", \"showbackground\": true, \"ticks\": \"\", \"zerolinecolor\": \"white\"}, \"yaxis\": {\"backgroundcolor\": \"#E5ECF6\", \"gridcolor\": \"white\", \"gridwidth\": 2, \"linecolor\": \"white\", \"showbackground\": true, \"ticks\": \"\", \"zerolinecolor\": \"white\"}, \"zaxis\": {\"backgroundcolor\": \"#E5ECF6\", \"gridcolor\": \"white\", \"gridwidth\": 2, \"linecolor\": \"white\", \"showbackground\": true, \"ticks\": \"\", \"zerolinecolor\": \"white\"}}, \"shapedefaults\": {\"line\": {\"color\": \"#2a3f5f\"}}, \"ternary\": {\"aaxis\": {\"gridcolor\": \"white\", \"linecolor\": \"white\", \"ticks\": \"\"}, \"baxis\": {\"gridcolor\": \"white\", \"linecolor\": \"white\", \"ticks\": \"\"}, \"bgcolor\": \"#E5ECF6\", \"caxis\": {\"gridcolor\": \"white\", \"linecolor\": \"white\", \"ticks\": \"\"}}, \"title\": {\"x\": 0.05}, \"xaxis\": {\"automargin\": true, \"gridcolor\": \"white\", \"linecolor\": \"white\", \"ticks\": \"\", \"title\": {\"standoff\": 15}, \"zerolinecolor\": \"white\", \"zerolinewidth\": 2}, \"yaxis\": {\"automargin\": true, \"gridcolor\": \"white\", \"linecolor\": \"white\", \"ticks\": \"\", \"title\": {\"standoff\": 15}, \"zerolinecolor\": \"white\", \"zerolinewidth\": 2}}}, \"title\": {\"font\": {\"color\": \"#4D5663\"}}, \"xaxis\": {\"gridcolor\": \"#E1E5ED\", \"showgrid\": true, \"tickfont\": {\"color\": \"#4D5663\"}, \"title\": {\"font\": {\"color\": \"#4D5663\"}, \"text\": \"\"}, \"zerolinecolor\": \"#E1E5ED\"}, \"yaxis\": {\"gridcolor\": \"#E1E5ED\", \"showgrid\": true, \"tickfont\": {\"color\": \"#4D5663\"}, \"title\": {\"font\": {\"color\": \"#4D5663\"}, \"text\": \"\"}, \"zerolinecolor\": \"#E1E5ED\"}},\n",
       "                        {\"showLink\": true, \"linkText\": \"Export to plot.ly\", \"plotlyServerURL\": \"https://plot.ly\", \"responsive\": true}\n",
       "                    ).then(function(){\n",
       "                            \n",
       "var gd = document.getElementById('ea55b9fa-5f55-46a5-80b4-89d13a879e32');\n",
       "var x = new MutationObserver(function (mutations, observer) {{\n",
       "        var display = window.getComputedStyle(gd).display;\n",
       "        if (!display || display === 'none') {{\n",
       "            console.log([gd, 'removed!']);\n",
       "            Plotly.purge(gd);\n",
       "            observer.disconnect();\n",
       "        }}\n",
       "}});\n",
       "\n",
       "// Listen for the removal of the full notebook cells\n",
       "var notebookContainer = gd.closest('#notebook-container');\n",
       "if (notebookContainer) {{\n",
       "    x.observe(notebookContainer, {childList: true});\n",
       "}}\n",
       "\n",
       "// Listen for the clearing of the current output cell\n",
       "var outputEl = gd.closest('.output');\n",
       "if (outputEl) {{\n",
       "    x.observe(outputEl, {childList: true});\n",
       "}}\n",
       "\n",
       "                        })\n",
       "                };\n",
       "                });\n",
       "            </script>\n",
       "        </div>"
      ]
     },
     "metadata": {},
     "output_type": "display_data"
    }
   ],
   "source": [
    "df2.iplot(kind='bar',x='Category',y='Values')"
   ]
  },
  {
   "cell_type": "code",
   "execution_count": 15,
   "metadata": {},
   "outputs": [
    {
     "data": {
      "application/vnd.plotly.v1+json": {
       "config": {
        "linkText": "Export to plot.ly",
        "plotlyServerURL": "https://plot.ly",
        "showLink": true
       },
       "data": [
        {
         "marker": {
          "color": "rgba(255, 153, 51, 0.6)",
          "line": {
           "color": "rgba(255, 153, 51, 1.0)",
           "width": 1
          }
         },
         "name": "None",
         "orientation": "v",
         "text": "",
         "type": "bar",
         "x": [
          "A",
          "B",
          "C",
          "D"
         ],
         "y": [
          100,
          100,
          100,
          100
         ]
        }
       ],
       "layout": {
        "legend": {
         "bgcolor": "#F5F6F9",
         "font": {
          "color": "#4D5663"
         }
        },
        "paper_bgcolor": "#F5F6F9",
        "plot_bgcolor": "#F5F6F9",
        "template": {
         "data": {
          "bar": [
           {
            "error_x": {
             "color": "#2a3f5f"
            },
            "error_y": {
             "color": "#2a3f5f"
            },
            "marker": {
             "line": {
              "color": "#E5ECF6",
              "width": 0.5
             }
            },
            "type": "bar"
           }
          ],
          "barpolar": [
           {
            "marker": {
             "line": {
              "color": "#E5ECF6",
              "width": 0.5
             }
            },
            "type": "barpolar"
           }
          ],
          "carpet": [
           {
            "aaxis": {
             "endlinecolor": "#2a3f5f",
             "gridcolor": "white",
             "linecolor": "white",
             "minorgridcolor": "white",
             "startlinecolor": "#2a3f5f"
            },
            "baxis": {
             "endlinecolor": "#2a3f5f",
             "gridcolor": "white",
             "linecolor": "white",
             "minorgridcolor": "white",
             "startlinecolor": "#2a3f5f"
            },
            "type": "carpet"
           }
          ],
          "choropleth": [
           {
            "colorbar": {
             "outlinewidth": 0,
             "ticks": ""
            },
            "type": "choropleth"
           }
          ],
          "contour": [
           {
            "colorbar": {
             "outlinewidth": 0,
             "ticks": ""
            },
            "colorscale": [
             [
              0,
              "#0d0887"
             ],
             [
              0.1111111111111111,
              "#46039f"
             ],
             [
              0.2222222222222222,
              "#7201a8"
             ],
             [
              0.3333333333333333,
              "#9c179e"
             ],
             [
              0.4444444444444444,
              "#bd3786"
             ],
             [
              0.5555555555555556,
              "#d8576b"
             ],
             [
              0.6666666666666666,
              "#ed7953"
             ],
             [
              0.7777777777777778,
              "#fb9f3a"
             ],
             [
              0.8888888888888888,
              "#fdca26"
             ],
             [
              1,
              "#f0f921"
             ]
            ],
            "type": "contour"
           }
          ],
          "contourcarpet": [
           {
            "colorbar": {
             "outlinewidth": 0,
             "ticks": ""
            },
            "type": "contourcarpet"
           }
          ],
          "heatmap": [
           {
            "colorbar": {
             "outlinewidth": 0,
             "ticks": ""
            },
            "colorscale": [
             [
              0,
              "#0d0887"
             ],
             [
              0.1111111111111111,
              "#46039f"
             ],
             [
              0.2222222222222222,
              "#7201a8"
             ],
             [
              0.3333333333333333,
              "#9c179e"
             ],
             [
              0.4444444444444444,
              "#bd3786"
             ],
             [
              0.5555555555555556,
              "#d8576b"
             ],
             [
              0.6666666666666666,
              "#ed7953"
             ],
             [
              0.7777777777777778,
              "#fb9f3a"
             ],
             [
              0.8888888888888888,
              "#fdca26"
             ],
             [
              1,
              "#f0f921"
             ]
            ],
            "type": "heatmap"
           }
          ],
          "heatmapgl": [
           {
            "colorbar": {
             "outlinewidth": 0,
             "ticks": ""
            },
            "colorscale": [
             [
              0,
              "#0d0887"
             ],
             [
              0.1111111111111111,
              "#46039f"
             ],
             [
              0.2222222222222222,
              "#7201a8"
             ],
             [
              0.3333333333333333,
              "#9c179e"
             ],
             [
              0.4444444444444444,
              "#bd3786"
             ],
             [
              0.5555555555555556,
              "#d8576b"
             ],
             [
              0.6666666666666666,
              "#ed7953"
             ],
             [
              0.7777777777777778,
              "#fb9f3a"
             ],
             [
              0.8888888888888888,
              "#fdca26"
             ],
             [
              1,
              "#f0f921"
             ]
            ],
            "type": "heatmapgl"
           }
          ],
          "histogram": [
           {
            "marker": {
             "colorbar": {
              "outlinewidth": 0,
              "ticks": ""
             }
            },
            "type": "histogram"
           }
          ],
          "histogram2d": [
           {
            "colorbar": {
             "outlinewidth": 0,
             "ticks": ""
            },
            "colorscale": [
             [
              0,
              "#0d0887"
             ],
             [
              0.1111111111111111,
              "#46039f"
             ],
             [
              0.2222222222222222,
              "#7201a8"
             ],
             [
              0.3333333333333333,
              "#9c179e"
             ],
             [
              0.4444444444444444,
              "#bd3786"
             ],
             [
              0.5555555555555556,
              "#d8576b"
             ],
             [
              0.6666666666666666,
              "#ed7953"
             ],
             [
              0.7777777777777778,
              "#fb9f3a"
             ],
             [
              0.8888888888888888,
              "#fdca26"
             ],
             [
              1,
              "#f0f921"
             ]
            ],
            "type": "histogram2d"
           }
          ],
          "histogram2dcontour": [
           {
            "colorbar": {
             "outlinewidth": 0,
             "ticks": ""
            },
            "colorscale": [
             [
              0,
              "#0d0887"
             ],
             [
              0.1111111111111111,
              "#46039f"
             ],
             [
              0.2222222222222222,
              "#7201a8"
             ],
             [
              0.3333333333333333,
              "#9c179e"
             ],
             [
              0.4444444444444444,
              "#bd3786"
             ],
             [
              0.5555555555555556,
              "#d8576b"
             ],
             [
              0.6666666666666666,
              "#ed7953"
             ],
             [
              0.7777777777777778,
              "#fb9f3a"
             ],
             [
              0.8888888888888888,
              "#fdca26"
             ],
             [
              1,
              "#f0f921"
             ]
            ],
            "type": "histogram2dcontour"
           }
          ],
          "mesh3d": [
           {
            "colorbar": {
             "outlinewidth": 0,
             "ticks": ""
            },
            "type": "mesh3d"
           }
          ],
          "parcoords": [
           {
            "line": {
             "colorbar": {
              "outlinewidth": 0,
              "ticks": ""
             }
            },
            "type": "parcoords"
           }
          ],
          "pie": [
           {
            "automargin": true,
            "type": "pie"
           }
          ],
          "scatter": [
           {
            "marker": {
             "colorbar": {
              "outlinewidth": 0,
              "ticks": ""
             }
            },
            "type": "scatter"
           }
          ],
          "scatter3d": [
           {
            "line": {
             "colorbar": {
              "outlinewidth": 0,
              "ticks": ""
             }
            },
            "marker": {
             "colorbar": {
              "outlinewidth": 0,
              "ticks": ""
             }
            },
            "type": "scatter3d"
           }
          ],
          "scattercarpet": [
           {
            "marker": {
             "colorbar": {
              "outlinewidth": 0,
              "ticks": ""
             }
            },
            "type": "scattercarpet"
           }
          ],
          "scattergeo": [
           {
            "marker": {
             "colorbar": {
              "outlinewidth": 0,
              "ticks": ""
             }
            },
            "type": "scattergeo"
           }
          ],
          "scattergl": [
           {
            "marker": {
             "colorbar": {
              "outlinewidth": 0,
              "ticks": ""
             }
            },
            "type": "scattergl"
           }
          ],
          "scattermapbox": [
           {
            "marker": {
             "colorbar": {
              "outlinewidth": 0,
              "ticks": ""
             }
            },
            "type": "scattermapbox"
           }
          ],
          "scatterpolar": [
           {
            "marker": {
             "colorbar": {
              "outlinewidth": 0,
              "ticks": ""
             }
            },
            "type": "scatterpolar"
           }
          ],
          "scatterpolargl": [
           {
            "marker": {
             "colorbar": {
              "outlinewidth": 0,
              "ticks": ""
             }
            },
            "type": "scatterpolargl"
           }
          ],
          "scatterternary": [
           {
            "marker": {
             "colorbar": {
              "outlinewidth": 0,
              "ticks": ""
             }
            },
            "type": "scatterternary"
           }
          ],
          "surface": [
           {
            "colorbar": {
             "outlinewidth": 0,
             "ticks": ""
            },
            "colorscale": [
             [
              0,
              "#0d0887"
             ],
             [
              0.1111111111111111,
              "#46039f"
             ],
             [
              0.2222222222222222,
              "#7201a8"
             ],
             [
              0.3333333333333333,
              "#9c179e"
             ],
             [
              0.4444444444444444,
              "#bd3786"
             ],
             [
              0.5555555555555556,
              "#d8576b"
             ],
             [
              0.6666666666666666,
              "#ed7953"
             ],
             [
              0.7777777777777778,
              "#fb9f3a"
             ],
             [
              0.8888888888888888,
              "#fdca26"
             ],
             [
              1,
              "#f0f921"
             ]
            ],
            "type": "surface"
           }
          ],
          "table": [
           {
            "cells": {
             "fill": {
              "color": "#EBF0F8"
             },
             "line": {
              "color": "white"
             }
            },
            "header": {
             "fill": {
              "color": "#C8D4E3"
             },
             "line": {
              "color": "white"
             }
            },
            "type": "table"
           }
          ]
         },
         "layout": {
          "annotationdefaults": {
           "arrowcolor": "#2a3f5f",
           "arrowhead": 0,
           "arrowwidth": 1
          },
          "coloraxis": {
           "colorbar": {
            "outlinewidth": 0,
            "ticks": ""
           }
          },
          "colorscale": {
           "diverging": [
            [
             0,
             "#8e0152"
            ],
            [
             0.1,
             "#c51b7d"
            ],
            [
             0.2,
             "#de77ae"
            ],
            [
             0.3,
             "#f1b6da"
            ],
            [
             0.4,
             "#fde0ef"
            ],
            [
             0.5,
             "#f7f7f7"
            ],
            [
             0.6,
             "#e6f5d0"
            ],
            [
             0.7,
             "#b8e186"
            ],
            [
             0.8,
             "#7fbc41"
            ],
            [
             0.9,
             "#4d9221"
            ],
            [
             1,
             "#276419"
            ]
           ],
           "sequential": [
            [
             0,
             "#0d0887"
            ],
            [
             0.1111111111111111,
             "#46039f"
            ],
            [
             0.2222222222222222,
             "#7201a8"
            ],
            [
             0.3333333333333333,
             "#9c179e"
            ],
            [
             0.4444444444444444,
             "#bd3786"
            ],
            [
             0.5555555555555556,
             "#d8576b"
            ],
            [
             0.6666666666666666,
             "#ed7953"
            ],
            [
             0.7777777777777778,
             "#fb9f3a"
            ],
            [
             0.8888888888888888,
             "#fdca26"
            ],
            [
             1,
             "#f0f921"
            ]
           ],
           "sequentialminus": [
            [
             0,
             "#0d0887"
            ],
            [
             0.1111111111111111,
             "#46039f"
            ],
            [
             0.2222222222222222,
             "#7201a8"
            ],
            [
             0.3333333333333333,
             "#9c179e"
            ],
            [
             0.4444444444444444,
             "#bd3786"
            ],
            [
             0.5555555555555556,
             "#d8576b"
            ],
            [
             0.6666666666666666,
             "#ed7953"
            ],
            [
             0.7777777777777778,
             "#fb9f3a"
            ],
            [
             0.8888888888888888,
             "#fdca26"
            ],
            [
             1,
             "#f0f921"
            ]
           ]
          },
          "colorway": [
           "#636efa",
           "#EF553B",
           "#00cc96",
           "#ab63fa",
           "#FFA15A",
           "#19d3f3",
           "#FF6692",
           "#B6E880",
           "#FF97FF",
           "#FECB52"
          ],
          "font": {
           "color": "#2a3f5f"
          },
          "geo": {
           "bgcolor": "white",
           "lakecolor": "white",
           "landcolor": "#E5ECF6",
           "showlakes": true,
           "showland": true,
           "subunitcolor": "white"
          },
          "hoverlabel": {
           "align": "left"
          },
          "hovermode": "closest",
          "mapbox": {
           "style": "light"
          },
          "paper_bgcolor": "white",
          "plot_bgcolor": "#E5ECF6",
          "polar": {
           "angularaxis": {
            "gridcolor": "white",
            "linecolor": "white",
            "ticks": ""
           },
           "bgcolor": "#E5ECF6",
           "radialaxis": {
            "gridcolor": "white",
            "linecolor": "white",
            "ticks": ""
           }
          },
          "scene": {
           "xaxis": {
            "backgroundcolor": "#E5ECF6",
            "gridcolor": "white",
            "gridwidth": 2,
            "linecolor": "white",
            "showbackground": true,
            "ticks": "",
            "zerolinecolor": "white"
           },
           "yaxis": {
            "backgroundcolor": "#E5ECF6",
            "gridcolor": "white",
            "gridwidth": 2,
            "linecolor": "white",
            "showbackground": true,
            "ticks": "",
            "zerolinecolor": "white"
           },
           "zaxis": {
            "backgroundcolor": "#E5ECF6",
            "gridcolor": "white",
            "gridwidth": 2,
            "linecolor": "white",
            "showbackground": true,
            "ticks": "",
            "zerolinecolor": "white"
           }
          },
          "shapedefaults": {
           "line": {
            "color": "#2a3f5f"
           }
          },
          "ternary": {
           "aaxis": {
            "gridcolor": "white",
            "linecolor": "white",
            "ticks": ""
           },
           "baxis": {
            "gridcolor": "white",
            "linecolor": "white",
            "ticks": ""
           },
           "bgcolor": "#E5ECF6",
           "caxis": {
            "gridcolor": "white",
            "linecolor": "white",
            "ticks": ""
           }
          },
          "title": {
           "x": 0.05
          },
          "xaxis": {
           "automargin": true,
           "gridcolor": "white",
           "linecolor": "white",
           "ticks": "",
           "title": {
            "standoff": 15
           },
           "zerolinecolor": "white",
           "zerolinewidth": 2
          },
          "yaxis": {
           "automargin": true,
           "gridcolor": "white",
           "linecolor": "white",
           "ticks": "",
           "title": {
            "standoff": 15
           },
           "zerolinecolor": "white",
           "zerolinewidth": 2
          }
         }
        },
        "title": {
         "font": {
          "color": "#4D5663"
         }
        },
        "xaxis": {
         "gridcolor": "#E1E5ED",
         "showgrid": true,
         "tickfont": {
          "color": "#4D5663"
         },
         "title": {
          "font": {
           "color": "#4D5663"
          },
          "text": ""
         },
         "zerolinecolor": "#E1E5ED"
        },
        "yaxis": {
         "gridcolor": "#E1E5ED",
         "showgrid": true,
         "tickfont": {
          "color": "#4D5663"
         },
         "title": {
          "font": {
           "color": "#4D5663"
          },
          "text": ""
         },
         "zerolinecolor": "#E1E5ED"
        }
       }
      },
      "text/html": [
       "<div>\n",
       "        \n",
       "        \n",
       "            <div id=\"9103e35e-3737-4382-88f5-e32eeab28c82\" class=\"plotly-graph-div\" style=\"height:525px; width:100%;\"></div>\n",
       "            <script type=\"text/javascript\">\n",
       "                require([\"plotly\"], function(Plotly) {\n",
       "                    window.PLOTLYENV=window.PLOTLYENV || {};\n",
       "                    window.PLOTLYENV.BASE_URL='https://plot.ly';\n",
       "                    \n",
       "                if (document.getElementById(\"9103e35e-3737-4382-88f5-e32eeab28c82\")) {\n",
       "                    Plotly.newPlot(\n",
       "                        '9103e35e-3737-4382-88f5-e32eeab28c82',\n",
       "                        [{\"marker\": {\"color\": \"rgba(255, 153, 51, 0.6)\", \"line\": {\"color\": \"rgba(255, 153, 51, 1.0)\", \"width\": 1}}, \"name\": \"None\", \"orientation\": \"v\", \"text\": \"\", \"type\": \"bar\", \"x\": [\"A\", \"B\", \"C\", \"D\"], \"y\": [100, 100, 100, 100]}],\n",
       "                        {\"legend\": {\"bgcolor\": \"#F5F6F9\", \"font\": {\"color\": \"#4D5663\"}}, \"paper_bgcolor\": \"#F5F6F9\", \"plot_bgcolor\": \"#F5F6F9\", \"template\": {\"data\": {\"bar\": [{\"error_x\": {\"color\": \"#2a3f5f\"}, \"error_y\": {\"color\": \"#2a3f5f\"}, \"marker\": {\"line\": {\"color\": \"#E5ECF6\", \"width\": 0.5}}, \"type\": \"bar\"}], \"barpolar\": [{\"marker\": {\"line\": {\"color\": \"#E5ECF6\", \"width\": 0.5}}, \"type\": \"barpolar\"}], \"carpet\": [{\"aaxis\": {\"endlinecolor\": \"#2a3f5f\", \"gridcolor\": \"white\", \"linecolor\": \"white\", \"minorgridcolor\": \"white\", \"startlinecolor\": \"#2a3f5f\"}, \"baxis\": {\"endlinecolor\": \"#2a3f5f\", \"gridcolor\": \"white\", \"linecolor\": \"white\", \"minorgridcolor\": \"white\", \"startlinecolor\": \"#2a3f5f\"}, \"type\": \"carpet\"}], \"choropleth\": [{\"colorbar\": {\"outlinewidth\": 0, \"ticks\": \"\"}, \"type\": \"choropleth\"}], \"contour\": [{\"colorbar\": {\"outlinewidth\": 0, \"ticks\": \"\"}, \"colorscale\": [[0.0, \"#0d0887\"], [0.1111111111111111, \"#46039f\"], [0.2222222222222222, \"#7201a8\"], [0.3333333333333333, \"#9c179e\"], [0.4444444444444444, \"#bd3786\"], [0.5555555555555556, \"#d8576b\"], [0.6666666666666666, \"#ed7953\"], [0.7777777777777778, \"#fb9f3a\"], [0.8888888888888888, \"#fdca26\"], [1.0, \"#f0f921\"]], \"type\": \"contour\"}], \"contourcarpet\": [{\"colorbar\": {\"outlinewidth\": 0, \"ticks\": \"\"}, \"type\": \"contourcarpet\"}], \"heatmap\": [{\"colorbar\": {\"outlinewidth\": 0, \"ticks\": \"\"}, \"colorscale\": [[0.0, \"#0d0887\"], [0.1111111111111111, \"#46039f\"], [0.2222222222222222, \"#7201a8\"], [0.3333333333333333, \"#9c179e\"], [0.4444444444444444, \"#bd3786\"], [0.5555555555555556, \"#d8576b\"], [0.6666666666666666, \"#ed7953\"], [0.7777777777777778, \"#fb9f3a\"], [0.8888888888888888, \"#fdca26\"], [1.0, \"#f0f921\"]], \"type\": \"heatmap\"}], \"heatmapgl\": [{\"colorbar\": {\"outlinewidth\": 0, \"ticks\": \"\"}, \"colorscale\": [[0.0, \"#0d0887\"], [0.1111111111111111, \"#46039f\"], [0.2222222222222222, \"#7201a8\"], [0.3333333333333333, \"#9c179e\"], [0.4444444444444444, \"#bd3786\"], [0.5555555555555556, \"#d8576b\"], [0.6666666666666666, \"#ed7953\"], [0.7777777777777778, \"#fb9f3a\"], [0.8888888888888888, \"#fdca26\"], [1.0, \"#f0f921\"]], \"type\": \"heatmapgl\"}], \"histogram\": [{\"marker\": {\"colorbar\": {\"outlinewidth\": 0, \"ticks\": \"\"}}, \"type\": \"histogram\"}], \"histogram2d\": [{\"colorbar\": {\"outlinewidth\": 0, \"ticks\": \"\"}, \"colorscale\": [[0.0, \"#0d0887\"], [0.1111111111111111, \"#46039f\"], [0.2222222222222222, \"#7201a8\"], [0.3333333333333333, \"#9c179e\"], [0.4444444444444444, \"#bd3786\"], [0.5555555555555556, \"#d8576b\"], [0.6666666666666666, \"#ed7953\"], [0.7777777777777778, \"#fb9f3a\"], [0.8888888888888888, \"#fdca26\"], [1.0, \"#f0f921\"]], \"type\": \"histogram2d\"}], \"histogram2dcontour\": [{\"colorbar\": {\"outlinewidth\": 0, \"ticks\": \"\"}, \"colorscale\": [[0.0, \"#0d0887\"], [0.1111111111111111, \"#46039f\"], [0.2222222222222222, \"#7201a8\"], [0.3333333333333333, \"#9c179e\"], [0.4444444444444444, \"#bd3786\"], [0.5555555555555556, \"#d8576b\"], [0.6666666666666666, \"#ed7953\"], [0.7777777777777778, \"#fb9f3a\"], [0.8888888888888888, \"#fdca26\"], [1.0, \"#f0f921\"]], \"type\": \"histogram2dcontour\"}], \"mesh3d\": [{\"colorbar\": {\"outlinewidth\": 0, \"ticks\": \"\"}, \"type\": \"mesh3d\"}], \"parcoords\": [{\"line\": {\"colorbar\": {\"outlinewidth\": 0, \"ticks\": \"\"}}, \"type\": \"parcoords\"}], \"pie\": [{\"automargin\": true, \"type\": \"pie\"}], \"scatter\": [{\"marker\": {\"colorbar\": {\"outlinewidth\": 0, \"ticks\": \"\"}}, \"type\": \"scatter\"}], \"scatter3d\": [{\"line\": {\"colorbar\": {\"outlinewidth\": 0, \"ticks\": \"\"}}, \"marker\": {\"colorbar\": {\"outlinewidth\": 0, \"ticks\": \"\"}}, \"type\": \"scatter3d\"}], \"scattercarpet\": [{\"marker\": {\"colorbar\": {\"outlinewidth\": 0, \"ticks\": \"\"}}, \"type\": \"scattercarpet\"}], \"scattergeo\": [{\"marker\": {\"colorbar\": {\"outlinewidth\": 0, \"ticks\": \"\"}}, \"type\": \"scattergeo\"}], \"scattergl\": [{\"marker\": {\"colorbar\": {\"outlinewidth\": 0, \"ticks\": \"\"}}, \"type\": \"scattergl\"}], \"scattermapbox\": [{\"marker\": {\"colorbar\": {\"outlinewidth\": 0, \"ticks\": \"\"}}, \"type\": \"scattermapbox\"}], \"scatterpolar\": [{\"marker\": {\"colorbar\": {\"outlinewidth\": 0, \"ticks\": \"\"}}, \"type\": \"scatterpolar\"}], \"scatterpolargl\": [{\"marker\": {\"colorbar\": {\"outlinewidth\": 0, \"ticks\": \"\"}}, \"type\": \"scatterpolargl\"}], \"scatterternary\": [{\"marker\": {\"colorbar\": {\"outlinewidth\": 0, \"ticks\": \"\"}}, \"type\": \"scatterternary\"}], \"surface\": [{\"colorbar\": {\"outlinewidth\": 0, \"ticks\": \"\"}, \"colorscale\": [[0.0, \"#0d0887\"], [0.1111111111111111, \"#46039f\"], [0.2222222222222222, \"#7201a8\"], [0.3333333333333333, \"#9c179e\"], [0.4444444444444444, \"#bd3786\"], [0.5555555555555556, \"#d8576b\"], [0.6666666666666666, \"#ed7953\"], [0.7777777777777778, \"#fb9f3a\"], [0.8888888888888888, \"#fdca26\"], [1.0, \"#f0f921\"]], \"type\": \"surface\"}], \"table\": [{\"cells\": {\"fill\": {\"color\": \"#EBF0F8\"}, \"line\": {\"color\": \"white\"}}, \"header\": {\"fill\": {\"color\": \"#C8D4E3\"}, \"line\": {\"color\": \"white\"}}, \"type\": \"table\"}]}, \"layout\": {\"annotationdefaults\": {\"arrowcolor\": \"#2a3f5f\", \"arrowhead\": 0, \"arrowwidth\": 1}, \"coloraxis\": {\"colorbar\": {\"outlinewidth\": 0, \"ticks\": \"\"}}, \"colorscale\": {\"diverging\": [[0, \"#8e0152\"], [0.1, \"#c51b7d\"], [0.2, \"#de77ae\"], [0.3, \"#f1b6da\"], [0.4, \"#fde0ef\"], [0.5, \"#f7f7f7\"], [0.6, \"#e6f5d0\"], [0.7, \"#b8e186\"], [0.8, \"#7fbc41\"], [0.9, \"#4d9221\"], [1, \"#276419\"]], \"sequential\": [[0.0, \"#0d0887\"], [0.1111111111111111, \"#46039f\"], [0.2222222222222222, \"#7201a8\"], [0.3333333333333333, \"#9c179e\"], [0.4444444444444444, \"#bd3786\"], [0.5555555555555556, \"#d8576b\"], [0.6666666666666666, \"#ed7953\"], [0.7777777777777778, \"#fb9f3a\"], [0.8888888888888888, \"#fdca26\"], [1.0, \"#f0f921\"]], \"sequentialminus\": [[0.0, \"#0d0887\"], [0.1111111111111111, \"#46039f\"], [0.2222222222222222, \"#7201a8\"], [0.3333333333333333, \"#9c179e\"], [0.4444444444444444, \"#bd3786\"], [0.5555555555555556, \"#d8576b\"], [0.6666666666666666, \"#ed7953\"], [0.7777777777777778, \"#fb9f3a\"], [0.8888888888888888, \"#fdca26\"], [1.0, \"#f0f921\"]]}, \"colorway\": [\"#636efa\", \"#EF553B\", \"#00cc96\", \"#ab63fa\", \"#FFA15A\", \"#19d3f3\", \"#FF6692\", \"#B6E880\", \"#FF97FF\", \"#FECB52\"], \"font\": {\"color\": \"#2a3f5f\"}, \"geo\": {\"bgcolor\": \"white\", \"lakecolor\": \"white\", \"landcolor\": \"#E5ECF6\", \"showlakes\": true, \"showland\": true, \"subunitcolor\": \"white\"}, \"hoverlabel\": {\"align\": \"left\"}, \"hovermode\": \"closest\", \"mapbox\": {\"style\": \"light\"}, \"paper_bgcolor\": \"white\", \"plot_bgcolor\": \"#E5ECF6\", \"polar\": {\"angularaxis\": {\"gridcolor\": \"white\", \"linecolor\": \"white\", \"ticks\": \"\"}, \"bgcolor\": \"#E5ECF6\", \"radialaxis\": {\"gridcolor\": \"white\", \"linecolor\": \"white\", \"ticks\": \"\"}}, \"scene\": {\"xaxis\": {\"backgroundcolor\": \"#E5ECF6\", \"gridcolor\": \"white\", \"gridwidth\": 2, \"linecolor\": \"white\", \"showbackground\": true, \"ticks\": \"\", \"zerolinecolor\": \"white\"}, \"yaxis\": {\"backgroundcolor\": \"#E5ECF6\", \"gridcolor\": \"white\", \"gridwidth\": 2, \"linecolor\": \"white\", \"showbackground\": true, \"ticks\": \"\", \"zerolinecolor\": \"white\"}, \"zaxis\": {\"backgroundcolor\": \"#E5ECF6\", \"gridcolor\": \"white\", \"gridwidth\": 2, \"linecolor\": \"white\", \"showbackground\": true, \"ticks\": \"\", \"zerolinecolor\": \"white\"}}, \"shapedefaults\": {\"line\": {\"color\": \"#2a3f5f\"}}, \"ternary\": {\"aaxis\": {\"gridcolor\": \"white\", \"linecolor\": \"white\", \"ticks\": \"\"}, \"baxis\": {\"gridcolor\": \"white\", \"linecolor\": \"white\", \"ticks\": \"\"}, \"bgcolor\": \"#E5ECF6\", \"caxis\": {\"gridcolor\": \"white\", \"linecolor\": \"white\", \"ticks\": \"\"}}, \"title\": {\"x\": 0.05}, \"xaxis\": {\"automargin\": true, \"gridcolor\": \"white\", \"linecolor\": \"white\", \"ticks\": \"\", \"title\": {\"standoff\": 15}, \"zerolinecolor\": \"white\", \"zerolinewidth\": 2}, \"yaxis\": {\"automargin\": true, \"gridcolor\": \"white\", \"linecolor\": \"white\", \"ticks\": \"\", \"title\": {\"standoff\": 15}, \"zerolinecolor\": \"white\", \"zerolinewidth\": 2}}}, \"title\": {\"font\": {\"color\": \"#4D5663\"}}, \"xaxis\": {\"gridcolor\": \"#E1E5ED\", \"showgrid\": true, \"tickfont\": {\"color\": \"#4D5663\"}, \"title\": {\"font\": {\"color\": \"#4D5663\"}, \"text\": \"\"}, \"zerolinecolor\": \"#E1E5ED\"}, \"yaxis\": {\"gridcolor\": \"#E1E5ED\", \"showgrid\": true, \"tickfont\": {\"color\": \"#4D5663\"}, \"title\": {\"font\": {\"color\": \"#4D5663\"}, \"text\": \"\"}, \"zerolinecolor\": \"#E1E5ED\"}},\n",
       "                        {\"showLink\": true, \"linkText\": \"Export to plot.ly\", \"plotlyServerURL\": \"https://plot.ly\", \"responsive\": true}\n",
       "                    ).then(function(){\n",
       "                            \n",
       "var gd = document.getElementById('9103e35e-3737-4382-88f5-e32eeab28c82');\n",
       "var x = new MutationObserver(function (mutations, observer) {{\n",
       "        var display = window.getComputedStyle(gd).display;\n",
       "        if (!display || display === 'none') {{\n",
       "            console.log([gd, 'removed!']);\n",
       "            Plotly.purge(gd);\n",
       "            observer.disconnect();\n",
       "        }}\n",
       "}});\n",
       "\n",
       "// Listen for the removal of the full notebook cells\n",
       "var notebookContainer = gd.closest('#notebook-container');\n",
       "if (notebookContainer) {{\n",
       "    x.observe(notebookContainer, {childList: true});\n",
       "}}\n",
       "\n",
       "// Listen for the clearing of the current output cell\n",
       "var outputEl = gd.closest('.output');\n",
       "if (outputEl) {{\n",
       "    x.observe(outputEl, {childList: true});\n",
       "}}\n",
       "\n",
       "                        })\n",
       "                };\n",
       "                });\n",
       "            </script>\n",
       "        </div>"
      ]
     },
     "metadata": {},
     "output_type": "display_data"
    }
   ],
   "source": [
    "df.count().iplot(kind='bar')"
   ]
  },
  {
   "cell_type": "markdown",
   "metadata": {},
   "source": [
    "## Boxplots"
   ]
  },
  {
   "cell_type": "code",
   "execution_count": 16,
   "metadata": {},
   "outputs": [
    {
     "data": {
      "application/vnd.plotly.v1+json": {
       "config": {
        "linkText": "Export to plot.ly",
        "plotlyServerURL": "https://plot.ly",
        "showLink": true
       },
       "data": [
        {
         "boxpoints": false,
         "line": {
          "width": 1.3
         },
         "marker": {
          "color": "rgba(255, 153, 51, 1.0)"
         },
         "name": "A",
         "orientation": "v",
         "type": "box",
         "y": [
          0.2192150126893649,
          0.41212764663850154,
          -0.27839766837010627,
          0.3222178500267178,
          1.1359559733338713,
          -0.971720425769713,
          1.4329161629803917,
          -0.34578250445780295,
          0.9221363208457326,
          -0.46018427034111126,
          0.032535916019239226,
          -1.5775132350080174,
          1.2509653911100467,
          0.8333489234269918,
          -0.09408230960773854,
          0.010236286462784547,
          0.6198798548523512,
          -2.3694740941164874,
          0.6446131044139314,
          3.5825153483746544,
          -1.100859730297812,
          -0.28637707270395063,
          1.2663027275521734,
          0.4480018504819275,
          -0.04075310173488496,
          -1.3188747595733246,
          -0.25669888175689487,
          -0.7892384287614435,
          -0.5027860677713014,
          0.08430359155613538,
          -0.40896809921325916,
          1.2708262506705303,
          -0.38766034310350395,
          0.4304639325836553,
          1.8071040246302588,
          1.4568874186053604,
          0.9042403428138212,
          -0.7816990895945196,
          0.7868373081101285,
          0.9476543351449195,
          1.1956296073512873,
          0.41095470596658434,
          1.0094261937662572,
          -0.44046838256526516,
          1.0346716931466176,
          0.11523886763913334,
          -0.31723607081444566,
          -0.716904274124458,
          0.26466695448679606,
          -0.6379239557948869,
          0.955179550321454,
          1.6925209088368083,
          1.7812391056276533,
          -1.4877766892101543,
          -1.1899544134286546,
          -0.10895806189072393,
          1.321027710937083,
          -0.8784194756051036,
          0.6504071261387132,
          1.094753327689872,
          -0.2132623568016486,
          -0.7927137163590783,
          -0.45765125612752156,
          0.28711097689175746,
          -0.8352933868433253,
          -2.0667869160062238,
          -0.35007642593563354,
          0.9947487894082441,
          -1.1831678986229839,
          -0.8486257818723462,
          -0.2765927487443163,
          0.7680784213053352,
          -0.9335626713391687,
          0.21802436036050304,
          -0.9349362054526161,
          -0.011134013758786858,
          -1.6743957170983006,
          0.12574163202444208,
          1.1531777911767431,
          1.2999741110066083,
          -0.2735192157650116,
          0.595818583592944,
          0.41802287494605567,
          0.45030528691780813,
          -0.514456906944202,
          -0.4162077818331348,
          2.4691714751126876,
          -1.365196733109609,
          0.26790894446099445,
          -0.06926500967640424,
          0.311983304253257,
          1.1795697874824076,
          0.3690061425350321,
          1.0369119759384802,
          0.11344630289523762,
          -0.8618742507166238,
          1.0502865219767203,
          -0.6297527108271594,
          2.0620223895254988,
          0.28102629664114714
         ]
        },
        {
         "boxpoints": false,
         "line": {
          "width": 1.3
         },
         "marker": {
          "color": "rgba(55, 128, 191, 1.0)"
         },
         "name": "B",
         "orientation": "v",
         "type": "box",
         "y": [
          -2.5296842304295915,
          -0.9124939583658659,
          1.9371572689115752,
          -0.04233086880753978,
          1.1755323137692275,
          -0.7913343687872296,
          0.34679771300378864,
          0.1472644768462741,
          -0.5576417622152579,
          1.0153627370487877,
          -0.006675276814364406,
          -1.3831667133442893,
          0.23794366571150333,
          -0.046584210842764394,
          -0.23286229979657497,
          -1.059043175997328,
          -0.5639209672124689,
          1.2466006179249922,
          1.785304178140208,
          0.7289995222261205,
          -0.2394784072597976,
          0.6674022767035093,
          -1.7636884877840329,
          -1.7239697309413886,
          1.6336503512461968,
          -0.09202348674133626,
          1.0195082254673082,
          0.6284543531925654,
          -0.9230405694743555,
          0.8912283886498443,
          0.6633555600973492,
          -1.5256437045839726,
          0.9770914272419425,
          1.7175529208127185,
          0.8406491088530332,
          -1.2707511635610007,
          1.38083980414698,
          -0.9203591200540816,
          -0.5004906455425786,
          -0.5399747143298336,
          -0.9896963608623736,
          1.3306609274638301,
          0.8926496038118524,
          -2.033822133364184,
          -0.8334681002973663,
          0.14001110291725294,
          -0.685037044884312,
          0.9415217721260292,
          -0.7396063904143044,
          1.4124225135238375,
          1.9904956031872585,
          0.42500823802958937,
          1.930846927734657,
          -1.9760870203704148,
          -1.0777631936672263,
          0.902624464861868,
          -0.94669113465832,
          -0.9373697872008047,
          -1.4821469944733676,
          -0.9426236297971836,
          1.0841383783955747,
          -2.0884924313952187,
          0.8969041011425303,
          -1.5803644182734884,
          -1.3823710740159605,
          -1.5206872295882883,
          -0.2581375790682765,
          1.156228135822335,
          -0.41662244466772547,
          -0.3490920630112603,
          1.2895317025169495,
          -0.8821858086096042,
          -0.5387923050763868,
          -0.5663537185351362,
          -1.095431469835826,
          0.6009775868516194,
          2.614098758958872,
          -0.9592823177952877,
          0.06536082847107165,
          -0.8496657523610329,
          -1.4681299656741593,
          0.6701367636720044,
          0.7744265354513329,
          2.0586936414104375,
          0.7915794301092625,
          2.592940852157227,
          -1.3221424278325977,
          2.8901840068359896,
          0.561794978690869,
          0.6610147433500252,
          1.9933671238820154,
          0.11772975628376309,
          -1.3513533772700421,
          0.8043126148336902,
          -0.5690624329172052,
          0.536251241812792,
          0.7386353343412105,
          -0.976006012430902,
          -0.9283420207337423,
          0.04110546621274906
         ]
        },
        {
         "boxpoints": false,
         "line": {
          "width": 1.3
         },
         "marker": {
          "color": "rgba(50, 171, 96, 1.0)"
         },
         "name": "C",
         "orientation": "v",
         "type": "box",
         "y": [
          -1.1057842548270977,
          -0.624447081861106,
          -1.1463046847851772,
          -2.0516528664086016,
          -0.2536472013819978,
          0.9861718486144034,
          1.0689897955393939,
          -0.1585854788296682,
          -1.3077937818699334,
          -0.8208406371273543,
          1.8740322680110295,
          0.6333913673562931,
          0.3178947957116137,
          -0.015736534377424564,
          2.0321046242319687,
          0.06375926251515106,
          -0.3390673097091017,
          -0.401837996609353,
          1.2346788296440208,
          2.276149956123622,
          0.37569579834636213,
          0.3953364275693833,
          -0.247553039354438,
          -1.2869865347564768,
          0.835516096054234,
          0.65890210050644,
          0.3012561169493466,
          -1.271307379056707,
          -0.6003437313545574,
          -0.4739198313223118,
          1.3267237113368835,
          -0.5578709223481126,
          -0.7399846035106609,
          -1.1846867750462509,
          1.0361213738287873,
          0.24158089735531355,
          -1.7081680105288097,
          -1.690694163108148,
          -1.1482330961742127,
          0.217297700281279,
          -0.7562434147855459,
          0.8876630556060952,
          -0.9168718756703037,
          -2.4859795041900496,
          -1.1414639324014766,
          -1.7554578054650556,
          1.0377455208260824,
          2.281931426077602,
          -0.3127148942114271,
          -1.412087816616137,
          -0.9257671377072907,
          -1.7468219516771972,
          0.19949328132156197,
          -0.5441380405794646,
          -0.24844150446616758,
          1.3924373328595068,
          1.0991871563843334,
          0.4639167604141466,
          0.5971530163443323,
          1.69804068317003,
          0.4922814159340416,
          0.722704455458475,
          1.5993261724325747,
          -2.2371059073938695,
          -0.21008970484627734,
          -0.4493148789517706,
          0.8995738126801441,
          0.590873981732288,
          0.18298494096037912,
          0.9883161308378683,
          0.440433763633946,
          -0.967373887800737,
          0.17678595175618295,
          -0.175182346557614,
          0.3655468037910308,
          -0.8392541776916436,
          0.8921675859970574,
          -0.6696875442130119,
          2.3921981316395287,
          -0.16737461966501416,
          -0.10569484690535733,
          0.806222165175453,
          -0.21171561737066233,
          0.24146077603021113,
          0.8050299291107749,
          -1.4586981180464924,
          -0.17949033231634512,
          0.24933419637187354,
          -1.0016664814270693,
          -1.0310117830282746,
          0.6172378771346466,
          1.6460689541691134,
          0.22247929101871433,
          1.1122959881698997,
          -0.03692066792117503,
          0.24482297693849198,
          -0.11924156202238932,
          -0.529984146740525,
          1.6270305526062274,
          -0.6651648340822217
         ]
        },
        {
         "boxpoints": false,
         "line": {
          "width": 1.3
         },
         "marker": {
          "color": "rgba(128, 0, 128, 1.0)"
         },
         "name": "D",
         "orientation": "v",
         "type": "box",
         "y": [
          -0.6888520130434728,
          1.2478942299437972,
          -0.6910030563362499,
          0.6633937903835291,
          1.207011098767084,
          -0.0501587935275598,
          1.4403495910459987,
          0.6593186713810559,
          0.8392960277754612,
          -0.8463909963062793,
          0.8806397761586382,
          -0.9092802790816509,
          -0.18068852731817323,
          1.782362983160367,
          -1.389746193951448,
          1.8521076653037216,
          -0.6805460810710358,
          -1.8626639821088389,
          0.39881287947045035,
          1.8794567093480854,
          1.4772474439124987,
          0.9714282361405215,
          0.4757459667745016,
          -0.21758173305929074,
          -0.9535346328427691,
          0.3229353850264389,
          -0.06609962347331595,
          0.34119418983522354,
          -0.005102556273799416,
          1.5383460834996734,
          -0.44041059206688926,
          -0.29050418807046224,
          0.08376608511847015,
          0.2136126241861683,
          -0.6150633970483889,
          1.3422412568502053,
          1.3253437991664234,
          -0.704081417634952,
          -1.5850165287088795,
          -1.1803875501519396,
          0.4167274231177229,
          0.23422899585172988,
          -1.3989737323147369,
          0.8229848353882916,
          -2.179724701187986,
          -1.9850353456455285,
          -0.13837495171300337,
          -1.8138557686372656,
          1.4868531021875417,
          -1.9062470012029196,
          0.28741739155320234,
          0.7711078726665829,
          -0.532917852397217,
          -2.1706971308667478,
          -2.2618877811324887,
          0.7719701344522324,
          0.8095485633696264,
          0.41610668242332727,
          -0.44133376688330395,
          -0.49269229078030513,
          -1.880963038201057,
          1.0108218818879948,
          0.44492300762638737,
          1.9141574240141155,
          -0.22271326954574053,
          0.24114473449983687,
          -0.1607733348886458,
          -1.5757585020970784,
          -0.2071801368015469,
          1.5388537992008704,
          -0.01027993174490521,
          0.23275646792273363,
          0.14633088199439911,
          -0.30740529588837634,
          0.397326794331163,
          0.8405167455431644,
          -0.45759285002931893,
          1.4072806684764043,
          -0.7695229333094545,
          0.20096074700634062,
          -0.3125522962682811,
          -0.13179455179870486,
          -0.6695572145913227,
          -0.0438013151056822,
          -0.33301348963770727,
          -0.02575045255163641,
          -0.5123216086652627,
          -1.3676062515875993,
          1.260487387004233,
          -0.12986916435730478,
          -0.2683307074031764,
          -0.8341211597551491,
          -1.079219641601013,
          -0.011414089476490382,
          -0.40916183184984434,
          -0.2597283947168098,
          1.3405791004795815,
          -0.9435890085699381,
          -1.0987361219683982,
          -0.1439562375863744
         ]
        }
       ],
       "layout": {
        "legend": {
         "bgcolor": "#F5F6F9",
         "font": {
          "color": "#4D5663"
         }
        },
        "paper_bgcolor": "#F5F6F9",
        "plot_bgcolor": "#F5F6F9",
        "template": {
         "data": {
          "bar": [
           {
            "error_x": {
             "color": "#2a3f5f"
            },
            "error_y": {
             "color": "#2a3f5f"
            },
            "marker": {
             "line": {
              "color": "#E5ECF6",
              "width": 0.5
             }
            },
            "type": "bar"
           }
          ],
          "barpolar": [
           {
            "marker": {
             "line": {
              "color": "#E5ECF6",
              "width": 0.5
             }
            },
            "type": "barpolar"
           }
          ],
          "carpet": [
           {
            "aaxis": {
             "endlinecolor": "#2a3f5f",
             "gridcolor": "white",
             "linecolor": "white",
             "minorgridcolor": "white",
             "startlinecolor": "#2a3f5f"
            },
            "baxis": {
             "endlinecolor": "#2a3f5f",
             "gridcolor": "white",
             "linecolor": "white",
             "minorgridcolor": "white",
             "startlinecolor": "#2a3f5f"
            },
            "type": "carpet"
           }
          ],
          "choropleth": [
           {
            "colorbar": {
             "outlinewidth": 0,
             "ticks": ""
            },
            "type": "choropleth"
           }
          ],
          "contour": [
           {
            "colorbar": {
             "outlinewidth": 0,
             "ticks": ""
            },
            "colorscale": [
             [
              0,
              "#0d0887"
             ],
             [
              0.1111111111111111,
              "#46039f"
             ],
             [
              0.2222222222222222,
              "#7201a8"
             ],
             [
              0.3333333333333333,
              "#9c179e"
             ],
             [
              0.4444444444444444,
              "#bd3786"
             ],
             [
              0.5555555555555556,
              "#d8576b"
             ],
             [
              0.6666666666666666,
              "#ed7953"
             ],
             [
              0.7777777777777778,
              "#fb9f3a"
             ],
             [
              0.8888888888888888,
              "#fdca26"
             ],
             [
              1,
              "#f0f921"
             ]
            ],
            "type": "contour"
           }
          ],
          "contourcarpet": [
           {
            "colorbar": {
             "outlinewidth": 0,
             "ticks": ""
            },
            "type": "contourcarpet"
           }
          ],
          "heatmap": [
           {
            "colorbar": {
             "outlinewidth": 0,
             "ticks": ""
            },
            "colorscale": [
             [
              0,
              "#0d0887"
             ],
             [
              0.1111111111111111,
              "#46039f"
             ],
             [
              0.2222222222222222,
              "#7201a8"
             ],
             [
              0.3333333333333333,
              "#9c179e"
             ],
             [
              0.4444444444444444,
              "#bd3786"
             ],
             [
              0.5555555555555556,
              "#d8576b"
             ],
             [
              0.6666666666666666,
              "#ed7953"
             ],
             [
              0.7777777777777778,
              "#fb9f3a"
             ],
             [
              0.8888888888888888,
              "#fdca26"
             ],
             [
              1,
              "#f0f921"
             ]
            ],
            "type": "heatmap"
           }
          ],
          "heatmapgl": [
           {
            "colorbar": {
             "outlinewidth": 0,
             "ticks": ""
            },
            "colorscale": [
             [
              0,
              "#0d0887"
             ],
             [
              0.1111111111111111,
              "#46039f"
             ],
             [
              0.2222222222222222,
              "#7201a8"
             ],
             [
              0.3333333333333333,
              "#9c179e"
             ],
             [
              0.4444444444444444,
              "#bd3786"
             ],
             [
              0.5555555555555556,
              "#d8576b"
             ],
             [
              0.6666666666666666,
              "#ed7953"
             ],
             [
              0.7777777777777778,
              "#fb9f3a"
             ],
             [
              0.8888888888888888,
              "#fdca26"
             ],
             [
              1,
              "#f0f921"
             ]
            ],
            "type": "heatmapgl"
           }
          ],
          "histogram": [
           {
            "marker": {
             "colorbar": {
              "outlinewidth": 0,
              "ticks": ""
             }
            },
            "type": "histogram"
           }
          ],
          "histogram2d": [
           {
            "colorbar": {
             "outlinewidth": 0,
             "ticks": ""
            },
            "colorscale": [
             [
              0,
              "#0d0887"
             ],
             [
              0.1111111111111111,
              "#46039f"
             ],
             [
              0.2222222222222222,
              "#7201a8"
             ],
             [
              0.3333333333333333,
              "#9c179e"
             ],
             [
              0.4444444444444444,
              "#bd3786"
             ],
             [
              0.5555555555555556,
              "#d8576b"
             ],
             [
              0.6666666666666666,
              "#ed7953"
             ],
             [
              0.7777777777777778,
              "#fb9f3a"
             ],
             [
              0.8888888888888888,
              "#fdca26"
             ],
             [
              1,
              "#f0f921"
             ]
            ],
            "type": "histogram2d"
           }
          ],
          "histogram2dcontour": [
           {
            "colorbar": {
             "outlinewidth": 0,
             "ticks": ""
            },
            "colorscale": [
             [
              0,
              "#0d0887"
             ],
             [
              0.1111111111111111,
              "#46039f"
             ],
             [
              0.2222222222222222,
              "#7201a8"
             ],
             [
              0.3333333333333333,
              "#9c179e"
             ],
             [
              0.4444444444444444,
              "#bd3786"
             ],
             [
              0.5555555555555556,
              "#d8576b"
             ],
             [
              0.6666666666666666,
              "#ed7953"
             ],
             [
              0.7777777777777778,
              "#fb9f3a"
             ],
             [
              0.8888888888888888,
              "#fdca26"
             ],
             [
              1,
              "#f0f921"
             ]
            ],
            "type": "histogram2dcontour"
           }
          ],
          "mesh3d": [
           {
            "colorbar": {
             "outlinewidth": 0,
             "ticks": ""
            },
            "type": "mesh3d"
           }
          ],
          "parcoords": [
           {
            "line": {
             "colorbar": {
              "outlinewidth": 0,
              "ticks": ""
             }
            },
            "type": "parcoords"
           }
          ],
          "pie": [
           {
            "automargin": true,
            "type": "pie"
           }
          ],
          "scatter": [
           {
            "marker": {
             "colorbar": {
              "outlinewidth": 0,
              "ticks": ""
             }
            },
            "type": "scatter"
           }
          ],
          "scatter3d": [
           {
            "line": {
             "colorbar": {
              "outlinewidth": 0,
              "ticks": ""
             }
            },
            "marker": {
             "colorbar": {
              "outlinewidth": 0,
              "ticks": ""
             }
            },
            "type": "scatter3d"
           }
          ],
          "scattercarpet": [
           {
            "marker": {
             "colorbar": {
              "outlinewidth": 0,
              "ticks": ""
             }
            },
            "type": "scattercarpet"
           }
          ],
          "scattergeo": [
           {
            "marker": {
             "colorbar": {
              "outlinewidth": 0,
              "ticks": ""
             }
            },
            "type": "scattergeo"
           }
          ],
          "scattergl": [
           {
            "marker": {
             "colorbar": {
              "outlinewidth": 0,
              "ticks": ""
             }
            },
            "type": "scattergl"
           }
          ],
          "scattermapbox": [
           {
            "marker": {
             "colorbar": {
              "outlinewidth": 0,
              "ticks": ""
             }
            },
            "type": "scattermapbox"
           }
          ],
          "scatterpolar": [
           {
            "marker": {
             "colorbar": {
              "outlinewidth": 0,
              "ticks": ""
             }
            },
            "type": "scatterpolar"
           }
          ],
          "scatterpolargl": [
           {
            "marker": {
             "colorbar": {
              "outlinewidth": 0,
              "ticks": ""
             }
            },
            "type": "scatterpolargl"
           }
          ],
          "scatterternary": [
           {
            "marker": {
             "colorbar": {
              "outlinewidth": 0,
              "ticks": ""
             }
            },
            "type": "scatterternary"
           }
          ],
          "surface": [
           {
            "colorbar": {
             "outlinewidth": 0,
             "ticks": ""
            },
            "colorscale": [
             [
              0,
              "#0d0887"
             ],
             [
              0.1111111111111111,
              "#46039f"
             ],
             [
              0.2222222222222222,
              "#7201a8"
             ],
             [
              0.3333333333333333,
              "#9c179e"
             ],
             [
              0.4444444444444444,
              "#bd3786"
             ],
             [
              0.5555555555555556,
              "#d8576b"
             ],
             [
              0.6666666666666666,
              "#ed7953"
             ],
             [
              0.7777777777777778,
              "#fb9f3a"
             ],
             [
              0.8888888888888888,
              "#fdca26"
             ],
             [
              1,
              "#f0f921"
             ]
            ],
            "type": "surface"
           }
          ],
          "table": [
           {
            "cells": {
             "fill": {
              "color": "#EBF0F8"
             },
             "line": {
              "color": "white"
             }
            },
            "header": {
             "fill": {
              "color": "#C8D4E3"
             },
             "line": {
              "color": "white"
             }
            },
            "type": "table"
           }
          ]
         },
         "layout": {
          "annotationdefaults": {
           "arrowcolor": "#2a3f5f",
           "arrowhead": 0,
           "arrowwidth": 1
          },
          "coloraxis": {
           "colorbar": {
            "outlinewidth": 0,
            "ticks": ""
           }
          },
          "colorscale": {
           "diverging": [
            [
             0,
             "#8e0152"
            ],
            [
             0.1,
             "#c51b7d"
            ],
            [
             0.2,
             "#de77ae"
            ],
            [
             0.3,
             "#f1b6da"
            ],
            [
             0.4,
             "#fde0ef"
            ],
            [
             0.5,
             "#f7f7f7"
            ],
            [
             0.6,
             "#e6f5d0"
            ],
            [
             0.7,
             "#b8e186"
            ],
            [
             0.8,
             "#7fbc41"
            ],
            [
             0.9,
             "#4d9221"
            ],
            [
             1,
             "#276419"
            ]
           ],
           "sequential": [
            [
             0,
             "#0d0887"
            ],
            [
             0.1111111111111111,
             "#46039f"
            ],
            [
             0.2222222222222222,
             "#7201a8"
            ],
            [
             0.3333333333333333,
             "#9c179e"
            ],
            [
             0.4444444444444444,
             "#bd3786"
            ],
            [
             0.5555555555555556,
             "#d8576b"
            ],
            [
             0.6666666666666666,
             "#ed7953"
            ],
            [
             0.7777777777777778,
             "#fb9f3a"
            ],
            [
             0.8888888888888888,
             "#fdca26"
            ],
            [
             1,
             "#f0f921"
            ]
           ],
           "sequentialminus": [
            [
             0,
             "#0d0887"
            ],
            [
             0.1111111111111111,
             "#46039f"
            ],
            [
             0.2222222222222222,
             "#7201a8"
            ],
            [
             0.3333333333333333,
             "#9c179e"
            ],
            [
             0.4444444444444444,
             "#bd3786"
            ],
            [
             0.5555555555555556,
             "#d8576b"
            ],
            [
             0.6666666666666666,
             "#ed7953"
            ],
            [
             0.7777777777777778,
             "#fb9f3a"
            ],
            [
             0.8888888888888888,
             "#fdca26"
            ],
            [
             1,
             "#f0f921"
            ]
           ]
          },
          "colorway": [
           "#636efa",
           "#EF553B",
           "#00cc96",
           "#ab63fa",
           "#FFA15A",
           "#19d3f3",
           "#FF6692",
           "#B6E880",
           "#FF97FF",
           "#FECB52"
          ],
          "font": {
           "color": "#2a3f5f"
          },
          "geo": {
           "bgcolor": "white",
           "lakecolor": "white",
           "landcolor": "#E5ECF6",
           "showlakes": true,
           "showland": true,
           "subunitcolor": "white"
          },
          "hoverlabel": {
           "align": "left"
          },
          "hovermode": "closest",
          "mapbox": {
           "style": "light"
          },
          "paper_bgcolor": "white",
          "plot_bgcolor": "#E5ECF6",
          "polar": {
           "angularaxis": {
            "gridcolor": "white",
            "linecolor": "white",
            "ticks": ""
           },
           "bgcolor": "#E5ECF6",
           "radialaxis": {
            "gridcolor": "white",
            "linecolor": "white",
            "ticks": ""
           }
          },
          "scene": {
           "xaxis": {
            "backgroundcolor": "#E5ECF6",
            "gridcolor": "white",
            "gridwidth": 2,
            "linecolor": "white",
            "showbackground": true,
            "ticks": "",
            "zerolinecolor": "white"
           },
           "yaxis": {
            "backgroundcolor": "#E5ECF6",
            "gridcolor": "white",
            "gridwidth": 2,
            "linecolor": "white",
            "showbackground": true,
            "ticks": "",
            "zerolinecolor": "white"
           },
           "zaxis": {
            "backgroundcolor": "#E5ECF6",
            "gridcolor": "white",
            "gridwidth": 2,
            "linecolor": "white",
            "showbackground": true,
            "ticks": "",
            "zerolinecolor": "white"
           }
          },
          "shapedefaults": {
           "line": {
            "color": "#2a3f5f"
           }
          },
          "ternary": {
           "aaxis": {
            "gridcolor": "white",
            "linecolor": "white",
            "ticks": ""
           },
           "baxis": {
            "gridcolor": "white",
            "linecolor": "white",
            "ticks": ""
           },
           "bgcolor": "#E5ECF6",
           "caxis": {
            "gridcolor": "white",
            "linecolor": "white",
            "ticks": ""
           }
          },
          "title": {
           "x": 0.05
          },
          "xaxis": {
           "automargin": true,
           "gridcolor": "white",
           "linecolor": "white",
           "ticks": "",
           "title": {
            "standoff": 15
           },
           "zerolinecolor": "white",
           "zerolinewidth": 2
          },
          "yaxis": {
           "automargin": true,
           "gridcolor": "white",
           "linecolor": "white",
           "ticks": "",
           "title": {
            "standoff": 15
           },
           "zerolinecolor": "white",
           "zerolinewidth": 2
          }
         }
        },
        "title": {
         "font": {
          "color": "#4D5663"
         }
        },
        "xaxis": {
         "gridcolor": "#E1E5ED",
         "showgrid": true,
         "tickfont": {
          "color": "#4D5663"
         },
         "title": {
          "font": {
           "color": "#4D5663"
          },
          "text": ""
         },
         "zerolinecolor": "#E1E5ED"
        },
        "yaxis": {
         "gridcolor": "#E1E5ED",
         "showgrid": true,
         "tickfont": {
          "color": "#4D5663"
         },
         "title": {
          "font": {
           "color": "#4D5663"
          },
          "text": ""
         },
         "zerolinecolor": "#E1E5ED"
        }
       }
      },
      "text/html": [
       "<div>\n",
       "        \n",
       "        \n",
       "            <div id=\"2efd1ef1-5d19-4605-8a27-04611e1d8960\" class=\"plotly-graph-div\" style=\"height:525px; width:100%;\"></div>\n",
       "            <script type=\"text/javascript\">\n",
       "                require([\"plotly\"], function(Plotly) {\n",
       "                    window.PLOTLYENV=window.PLOTLYENV || {};\n",
       "                    window.PLOTLYENV.BASE_URL='https://plot.ly';\n",
       "                    \n",
       "                if (document.getElementById(\"2efd1ef1-5d19-4605-8a27-04611e1d8960\")) {\n",
       "                    Plotly.newPlot(\n",
       "                        '2efd1ef1-5d19-4605-8a27-04611e1d8960',\n",
       "                        [{\"boxpoints\": false, \"line\": {\"width\": 1.3}, \"marker\": {\"color\": \"rgba(255, 153, 51, 1.0)\"}, \"name\": \"A\", \"orientation\": \"v\", \"type\": \"box\", \"y\": [0.2192150126893649, 0.41212764663850154, -0.27839766837010627, 0.3222178500267178, 1.1359559733338713, -0.971720425769713, 1.4329161629803917, -0.34578250445780295, 0.9221363208457326, -0.46018427034111126, 0.032535916019239226, -1.5775132350080174, 1.2509653911100467, 0.8333489234269918, -0.09408230960773854, 0.010236286462784547, 0.6198798548523512, -2.3694740941164874, 0.6446131044139314, 3.5825153483746544, -1.100859730297812, -0.28637707270395063, 1.2663027275521734, 0.4480018504819275, -0.04075310173488496, -1.3188747595733246, -0.25669888175689487, -0.7892384287614435, -0.5027860677713014, 0.08430359155613538, -0.40896809921325916, 1.2708262506705303, -0.38766034310350395, 0.4304639325836553, 1.8071040246302588, 1.4568874186053604, 0.9042403428138212, -0.7816990895945196, 0.7868373081101285, 0.9476543351449195, 1.1956296073512873, 0.41095470596658434, 1.0094261937662572, -0.44046838256526516, 1.0346716931466176, 0.11523886763913334, -0.31723607081444566, -0.716904274124458, 0.26466695448679606, -0.6379239557948869, 0.955179550321454, 1.6925209088368083, 1.7812391056276533, -1.4877766892101543, -1.1899544134286546, -0.10895806189072393, 1.321027710937083, -0.8784194756051036, 0.6504071261387132, 1.094753327689872, -0.2132623568016486, -0.7927137163590783, -0.45765125612752156, 0.28711097689175746, -0.8352933868433253, -2.0667869160062238, -0.35007642593563354, 0.9947487894082441, -1.1831678986229839, -0.8486257818723462, -0.2765927487443163, 0.7680784213053352, -0.9335626713391687, 0.21802436036050304, -0.9349362054526161, -0.011134013758786858, -1.6743957170983006, 0.12574163202444208, 1.1531777911767431, 1.2999741110066083, -0.2735192157650116, 0.595818583592944, 0.41802287494605567, 0.45030528691780813, -0.514456906944202, -0.4162077818331348, 2.4691714751126876, -1.365196733109609, 0.26790894446099445, -0.06926500967640424, 0.311983304253257, 1.1795697874824076, 0.3690061425350321, 1.0369119759384802, 0.11344630289523762, -0.8618742507166238, 1.0502865219767203, -0.6297527108271594, 2.0620223895254988, 0.28102629664114714]}, {\"boxpoints\": false, \"line\": {\"width\": 1.3}, \"marker\": {\"color\": \"rgba(55, 128, 191, 1.0)\"}, \"name\": \"B\", \"orientation\": \"v\", \"type\": \"box\", \"y\": [-2.5296842304295915, -0.9124939583658659, 1.9371572689115752, -0.04233086880753978, 1.1755323137692275, -0.7913343687872296, 0.34679771300378864, 0.1472644768462741, -0.5576417622152579, 1.0153627370487877, -0.006675276814364406, -1.3831667133442893, 0.23794366571150333, -0.046584210842764394, -0.23286229979657497, -1.059043175997328, -0.5639209672124689, 1.2466006179249922, 1.785304178140208, 0.7289995222261205, -0.2394784072597976, 0.6674022767035093, -1.7636884877840329, -1.7239697309413886, 1.6336503512461968, -0.09202348674133626, 1.0195082254673082, 0.6284543531925654, -0.9230405694743555, 0.8912283886498443, 0.6633555600973492, -1.5256437045839726, 0.9770914272419425, 1.7175529208127185, 0.8406491088530332, -1.2707511635610007, 1.38083980414698, -0.9203591200540816, -0.5004906455425786, -0.5399747143298336, -0.9896963608623736, 1.3306609274638301, 0.8926496038118524, -2.033822133364184, -0.8334681002973663, 0.14001110291725294, -0.685037044884312, 0.9415217721260292, -0.7396063904143044, 1.4124225135238375, 1.9904956031872585, 0.42500823802958937, 1.930846927734657, -1.9760870203704148, -1.0777631936672263, 0.902624464861868, -0.94669113465832, -0.9373697872008047, -1.4821469944733676, -0.9426236297971836, 1.0841383783955747, -2.0884924313952187, 0.8969041011425303, -1.5803644182734884, -1.3823710740159605, -1.5206872295882883, -0.2581375790682765, 1.156228135822335, -0.41662244466772547, -0.3490920630112603, 1.2895317025169495, -0.8821858086096042, -0.5387923050763868, -0.5663537185351362, -1.095431469835826, 0.6009775868516194, 2.614098758958872, -0.9592823177952877, 0.06536082847107165, -0.8496657523610329, -1.4681299656741593, 0.6701367636720044, 0.7744265354513329, 2.0586936414104375, 0.7915794301092625, 2.592940852157227, -1.3221424278325977, 2.8901840068359896, 0.561794978690869, 0.6610147433500252, 1.9933671238820154, 0.11772975628376309, -1.3513533772700421, 0.8043126148336902, -0.5690624329172052, 0.536251241812792, 0.7386353343412105, -0.976006012430902, -0.9283420207337423, 0.04110546621274906]}, {\"boxpoints\": false, \"line\": {\"width\": 1.3}, \"marker\": {\"color\": \"rgba(50, 171, 96, 1.0)\"}, \"name\": \"C\", \"orientation\": \"v\", \"type\": \"box\", \"y\": [-1.1057842548270977, -0.624447081861106, -1.1463046847851772, -2.0516528664086016, -0.2536472013819978, 0.9861718486144034, 1.0689897955393939, -0.1585854788296682, -1.3077937818699334, -0.8208406371273543, 1.8740322680110295, 0.6333913673562931, 0.3178947957116137, -0.015736534377424564, 2.0321046242319687, 0.06375926251515106, -0.3390673097091017, -0.401837996609353, 1.2346788296440208, 2.276149956123622, 0.37569579834636213, 0.3953364275693833, -0.247553039354438, -1.2869865347564768, 0.835516096054234, 0.65890210050644, 0.3012561169493466, -1.271307379056707, -0.6003437313545574, -0.4739198313223118, 1.3267237113368835, -0.5578709223481126, -0.7399846035106609, -1.1846867750462509, 1.0361213738287873, 0.24158089735531355, -1.7081680105288097, -1.690694163108148, -1.1482330961742127, 0.217297700281279, -0.7562434147855459, 0.8876630556060952, -0.9168718756703037, -2.4859795041900496, -1.1414639324014766, -1.7554578054650556, 1.0377455208260824, 2.281931426077602, -0.3127148942114271, -1.412087816616137, -0.9257671377072907, -1.7468219516771972, 0.19949328132156197, -0.5441380405794646, -0.24844150446616758, 1.3924373328595068, 1.0991871563843334, 0.4639167604141466, 0.5971530163443323, 1.69804068317003, 0.4922814159340416, 0.722704455458475, 1.5993261724325747, -2.2371059073938695, -0.21008970484627734, -0.4493148789517706, 0.8995738126801441, 0.590873981732288, 0.18298494096037912, 0.9883161308378683, 0.440433763633946, -0.967373887800737, 0.17678595175618295, -0.175182346557614, 0.3655468037910308, -0.8392541776916436, 0.8921675859970574, -0.6696875442130119, 2.3921981316395287, -0.16737461966501416, -0.10569484690535733, 0.806222165175453, -0.21171561737066233, 0.24146077603021113, 0.8050299291107749, -1.4586981180464924, -0.17949033231634512, 0.24933419637187354, -1.0016664814270693, -1.0310117830282746, 0.6172378771346466, 1.6460689541691134, 0.22247929101871433, 1.1122959881698997, -0.03692066792117503, 0.24482297693849198, -0.11924156202238932, -0.529984146740525, 1.6270305526062274, -0.6651648340822217]}, {\"boxpoints\": false, \"line\": {\"width\": 1.3}, \"marker\": {\"color\": \"rgba(128, 0, 128, 1.0)\"}, \"name\": \"D\", \"orientation\": \"v\", \"type\": \"box\", \"y\": [-0.6888520130434728, 1.2478942299437972, -0.6910030563362499, 0.6633937903835291, 1.207011098767084, -0.0501587935275598, 1.4403495910459987, 0.6593186713810559, 0.8392960277754612, -0.8463909963062793, 0.8806397761586382, -0.9092802790816509, -0.18068852731817323, 1.782362983160367, -1.389746193951448, 1.8521076653037216, -0.6805460810710358, -1.8626639821088389, 0.39881287947045035, 1.8794567093480854, 1.4772474439124987, 0.9714282361405215, 0.4757459667745016, -0.21758173305929074, -0.9535346328427691, 0.3229353850264389, -0.06609962347331595, 0.34119418983522354, -0.005102556273799416, 1.5383460834996734, -0.44041059206688926, -0.29050418807046224, 0.08376608511847015, 0.2136126241861683, -0.6150633970483889, 1.3422412568502053, 1.3253437991664234, -0.704081417634952, -1.5850165287088795, -1.1803875501519396, 0.4167274231177229, 0.23422899585172988, -1.3989737323147369, 0.8229848353882916, -2.179724701187986, -1.9850353456455285, -0.13837495171300337, -1.8138557686372656, 1.4868531021875417, -1.9062470012029196, 0.28741739155320234, 0.7711078726665829, -0.532917852397217, -2.1706971308667478, -2.2618877811324887, 0.7719701344522324, 0.8095485633696264, 0.41610668242332727, -0.44133376688330395, -0.49269229078030513, -1.880963038201057, 1.0108218818879948, 0.44492300762638737, 1.9141574240141155, -0.22271326954574053, 0.24114473449983687, -0.1607733348886458, -1.5757585020970784, -0.2071801368015469, 1.5388537992008704, -0.01027993174490521, 0.23275646792273363, 0.14633088199439911, -0.30740529588837634, 0.397326794331163, 0.8405167455431644, -0.45759285002931893, 1.4072806684764043, -0.7695229333094545, 0.20096074700634062, -0.3125522962682811, -0.13179455179870486, -0.6695572145913227, -0.0438013151056822, -0.33301348963770727, -0.02575045255163641, -0.5123216086652627, -1.3676062515875993, 1.260487387004233, -0.12986916435730478, -0.2683307074031764, -0.8341211597551491, -1.079219641601013, -0.011414089476490382, -0.40916183184984434, -0.2597283947168098, 1.3405791004795815, -0.9435890085699381, -1.0987361219683982, -0.1439562375863744]}],\n",
       "                        {\"legend\": {\"bgcolor\": \"#F5F6F9\", \"font\": {\"color\": \"#4D5663\"}}, \"paper_bgcolor\": \"#F5F6F9\", \"plot_bgcolor\": \"#F5F6F9\", \"template\": {\"data\": {\"bar\": [{\"error_x\": {\"color\": \"#2a3f5f\"}, \"error_y\": {\"color\": \"#2a3f5f\"}, \"marker\": {\"line\": {\"color\": \"#E5ECF6\", \"width\": 0.5}}, \"type\": \"bar\"}], \"barpolar\": [{\"marker\": {\"line\": {\"color\": \"#E5ECF6\", \"width\": 0.5}}, \"type\": \"barpolar\"}], \"carpet\": [{\"aaxis\": {\"endlinecolor\": \"#2a3f5f\", \"gridcolor\": \"white\", \"linecolor\": \"white\", \"minorgridcolor\": \"white\", \"startlinecolor\": \"#2a3f5f\"}, \"baxis\": {\"endlinecolor\": \"#2a3f5f\", \"gridcolor\": \"white\", \"linecolor\": \"white\", \"minorgridcolor\": \"white\", \"startlinecolor\": \"#2a3f5f\"}, \"type\": \"carpet\"}], \"choropleth\": [{\"colorbar\": {\"outlinewidth\": 0, \"ticks\": \"\"}, \"type\": \"choropleth\"}], \"contour\": [{\"colorbar\": {\"outlinewidth\": 0, \"ticks\": \"\"}, \"colorscale\": [[0.0, \"#0d0887\"], [0.1111111111111111, \"#46039f\"], [0.2222222222222222, \"#7201a8\"], [0.3333333333333333, \"#9c179e\"], [0.4444444444444444, \"#bd3786\"], [0.5555555555555556, \"#d8576b\"], [0.6666666666666666, \"#ed7953\"], [0.7777777777777778, \"#fb9f3a\"], [0.8888888888888888, \"#fdca26\"], [1.0, \"#f0f921\"]], \"type\": \"contour\"}], \"contourcarpet\": [{\"colorbar\": {\"outlinewidth\": 0, \"ticks\": \"\"}, \"type\": \"contourcarpet\"}], \"heatmap\": [{\"colorbar\": {\"outlinewidth\": 0, \"ticks\": \"\"}, \"colorscale\": [[0.0, \"#0d0887\"], [0.1111111111111111, \"#46039f\"], [0.2222222222222222, \"#7201a8\"], [0.3333333333333333, \"#9c179e\"], [0.4444444444444444, \"#bd3786\"], [0.5555555555555556, \"#d8576b\"], [0.6666666666666666, \"#ed7953\"], [0.7777777777777778, \"#fb9f3a\"], [0.8888888888888888, \"#fdca26\"], [1.0, \"#f0f921\"]], \"type\": \"heatmap\"}], \"heatmapgl\": [{\"colorbar\": {\"outlinewidth\": 0, \"ticks\": \"\"}, \"colorscale\": [[0.0, \"#0d0887\"], [0.1111111111111111, \"#46039f\"], [0.2222222222222222, \"#7201a8\"], [0.3333333333333333, \"#9c179e\"], [0.4444444444444444, \"#bd3786\"], [0.5555555555555556, \"#d8576b\"], [0.6666666666666666, \"#ed7953\"], [0.7777777777777778, \"#fb9f3a\"], [0.8888888888888888, \"#fdca26\"], [1.0, \"#f0f921\"]], \"type\": \"heatmapgl\"}], \"histogram\": [{\"marker\": {\"colorbar\": {\"outlinewidth\": 0, \"ticks\": \"\"}}, \"type\": \"histogram\"}], \"histogram2d\": [{\"colorbar\": {\"outlinewidth\": 0, \"ticks\": \"\"}, \"colorscale\": [[0.0, \"#0d0887\"], [0.1111111111111111, \"#46039f\"], [0.2222222222222222, \"#7201a8\"], [0.3333333333333333, \"#9c179e\"], [0.4444444444444444, \"#bd3786\"], [0.5555555555555556, \"#d8576b\"], [0.6666666666666666, \"#ed7953\"], [0.7777777777777778, \"#fb9f3a\"], [0.8888888888888888, \"#fdca26\"], [1.0, \"#f0f921\"]], \"type\": \"histogram2d\"}], \"histogram2dcontour\": [{\"colorbar\": {\"outlinewidth\": 0, \"ticks\": \"\"}, \"colorscale\": [[0.0, \"#0d0887\"], [0.1111111111111111, \"#46039f\"], [0.2222222222222222, \"#7201a8\"], [0.3333333333333333, \"#9c179e\"], [0.4444444444444444, \"#bd3786\"], [0.5555555555555556, \"#d8576b\"], [0.6666666666666666, \"#ed7953\"], [0.7777777777777778, \"#fb9f3a\"], [0.8888888888888888, \"#fdca26\"], [1.0, \"#f0f921\"]], \"type\": \"histogram2dcontour\"}], \"mesh3d\": [{\"colorbar\": {\"outlinewidth\": 0, \"ticks\": \"\"}, \"type\": \"mesh3d\"}], \"parcoords\": [{\"line\": {\"colorbar\": {\"outlinewidth\": 0, \"ticks\": \"\"}}, \"type\": \"parcoords\"}], \"pie\": [{\"automargin\": true, \"type\": \"pie\"}], \"scatter\": [{\"marker\": {\"colorbar\": {\"outlinewidth\": 0, \"ticks\": \"\"}}, \"type\": \"scatter\"}], \"scatter3d\": [{\"line\": {\"colorbar\": {\"outlinewidth\": 0, \"ticks\": \"\"}}, \"marker\": {\"colorbar\": {\"outlinewidth\": 0, \"ticks\": \"\"}}, \"type\": \"scatter3d\"}], \"scattercarpet\": [{\"marker\": {\"colorbar\": {\"outlinewidth\": 0, \"ticks\": \"\"}}, \"type\": \"scattercarpet\"}], \"scattergeo\": [{\"marker\": {\"colorbar\": {\"outlinewidth\": 0, \"ticks\": \"\"}}, \"type\": \"scattergeo\"}], \"scattergl\": [{\"marker\": {\"colorbar\": {\"outlinewidth\": 0, \"ticks\": \"\"}}, \"type\": \"scattergl\"}], \"scattermapbox\": [{\"marker\": {\"colorbar\": {\"outlinewidth\": 0, \"ticks\": \"\"}}, \"type\": \"scattermapbox\"}], \"scatterpolar\": [{\"marker\": {\"colorbar\": {\"outlinewidth\": 0, \"ticks\": \"\"}}, \"type\": \"scatterpolar\"}], \"scatterpolargl\": [{\"marker\": {\"colorbar\": {\"outlinewidth\": 0, \"ticks\": \"\"}}, \"type\": \"scatterpolargl\"}], \"scatterternary\": [{\"marker\": {\"colorbar\": {\"outlinewidth\": 0, \"ticks\": \"\"}}, \"type\": \"scatterternary\"}], \"surface\": [{\"colorbar\": {\"outlinewidth\": 0, \"ticks\": \"\"}, \"colorscale\": [[0.0, \"#0d0887\"], [0.1111111111111111, \"#46039f\"], [0.2222222222222222, \"#7201a8\"], [0.3333333333333333, \"#9c179e\"], [0.4444444444444444, \"#bd3786\"], [0.5555555555555556, \"#d8576b\"], [0.6666666666666666, \"#ed7953\"], [0.7777777777777778, \"#fb9f3a\"], [0.8888888888888888, \"#fdca26\"], [1.0, \"#f0f921\"]], \"type\": \"surface\"}], \"table\": [{\"cells\": {\"fill\": {\"color\": \"#EBF0F8\"}, \"line\": {\"color\": \"white\"}}, \"header\": {\"fill\": {\"color\": \"#C8D4E3\"}, \"line\": {\"color\": \"white\"}}, \"type\": \"table\"}]}, \"layout\": {\"annotationdefaults\": {\"arrowcolor\": \"#2a3f5f\", \"arrowhead\": 0, \"arrowwidth\": 1}, \"coloraxis\": {\"colorbar\": {\"outlinewidth\": 0, \"ticks\": \"\"}}, \"colorscale\": {\"diverging\": [[0, \"#8e0152\"], [0.1, \"#c51b7d\"], [0.2, \"#de77ae\"], [0.3, \"#f1b6da\"], [0.4, \"#fde0ef\"], [0.5, \"#f7f7f7\"], [0.6, \"#e6f5d0\"], [0.7, \"#b8e186\"], [0.8, \"#7fbc41\"], [0.9, \"#4d9221\"], [1, \"#276419\"]], \"sequential\": [[0.0, \"#0d0887\"], [0.1111111111111111, \"#46039f\"], [0.2222222222222222, \"#7201a8\"], [0.3333333333333333, \"#9c179e\"], [0.4444444444444444, \"#bd3786\"], [0.5555555555555556, \"#d8576b\"], [0.6666666666666666, \"#ed7953\"], [0.7777777777777778, \"#fb9f3a\"], [0.8888888888888888, \"#fdca26\"], [1.0, \"#f0f921\"]], \"sequentialminus\": [[0.0, \"#0d0887\"], [0.1111111111111111, \"#46039f\"], [0.2222222222222222, \"#7201a8\"], [0.3333333333333333, \"#9c179e\"], [0.4444444444444444, \"#bd3786\"], [0.5555555555555556, \"#d8576b\"], [0.6666666666666666, \"#ed7953\"], [0.7777777777777778, \"#fb9f3a\"], [0.8888888888888888, \"#fdca26\"], [1.0, \"#f0f921\"]]}, \"colorway\": [\"#636efa\", \"#EF553B\", \"#00cc96\", \"#ab63fa\", \"#FFA15A\", \"#19d3f3\", \"#FF6692\", \"#B6E880\", \"#FF97FF\", \"#FECB52\"], \"font\": {\"color\": \"#2a3f5f\"}, \"geo\": {\"bgcolor\": \"white\", \"lakecolor\": \"white\", \"landcolor\": \"#E5ECF6\", \"showlakes\": true, \"showland\": true, \"subunitcolor\": \"white\"}, \"hoverlabel\": {\"align\": \"left\"}, \"hovermode\": \"closest\", \"mapbox\": {\"style\": \"light\"}, \"paper_bgcolor\": \"white\", \"plot_bgcolor\": \"#E5ECF6\", \"polar\": {\"angularaxis\": {\"gridcolor\": \"white\", \"linecolor\": \"white\", \"ticks\": \"\"}, \"bgcolor\": \"#E5ECF6\", \"radialaxis\": {\"gridcolor\": \"white\", \"linecolor\": \"white\", \"ticks\": \"\"}}, \"scene\": {\"xaxis\": {\"backgroundcolor\": \"#E5ECF6\", \"gridcolor\": \"white\", \"gridwidth\": 2, \"linecolor\": \"white\", \"showbackground\": true, \"ticks\": \"\", \"zerolinecolor\": \"white\"}, \"yaxis\": {\"backgroundcolor\": \"#E5ECF6\", \"gridcolor\": \"white\", \"gridwidth\": 2, \"linecolor\": \"white\", \"showbackground\": true, \"ticks\": \"\", \"zerolinecolor\": \"white\"}, \"zaxis\": {\"backgroundcolor\": \"#E5ECF6\", \"gridcolor\": \"white\", \"gridwidth\": 2, \"linecolor\": \"white\", \"showbackground\": true, \"ticks\": \"\", \"zerolinecolor\": \"white\"}}, \"shapedefaults\": {\"line\": {\"color\": \"#2a3f5f\"}}, \"ternary\": {\"aaxis\": {\"gridcolor\": \"white\", \"linecolor\": \"white\", \"ticks\": \"\"}, \"baxis\": {\"gridcolor\": \"white\", \"linecolor\": \"white\", \"ticks\": \"\"}, \"bgcolor\": \"#E5ECF6\", \"caxis\": {\"gridcolor\": \"white\", \"linecolor\": \"white\", \"ticks\": \"\"}}, \"title\": {\"x\": 0.05}, \"xaxis\": {\"automargin\": true, \"gridcolor\": \"white\", \"linecolor\": \"white\", \"ticks\": \"\", \"title\": {\"standoff\": 15}, \"zerolinecolor\": \"white\", \"zerolinewidth\": 2}, \"yaxis\": {\"automargin\": true, \"gridcolor\": \"white\", \"linecolor\": \"white\", \"ticks\": \"\", \"title\": {\"standoff\": 15}, \"zerolinecolor\": \"white\", \"zerolinewidth\": 2}}}, \"title\": {\"font\": {\"color\": \"#4D5663\"}}, \"xaxis\": {\"gridcolor\": \"#E1E5ED\", \"showgrid\": true, \"tickfont\": {\"color\": \"#4D5663\"}, \"title\": {\"font\": {\"color\": \"#4D5663\"}, \"text\": \"\"}, \"zerolinecolor\": \"#E1E5ED\"}, \"yaxis\": {\"gridcolor\": \"#E1E5ED\", \"showgrid\": true, \"tickfont\": {\"color\": \"#4D5663\"}, \"title\": {\"font\": {\"color\": \"#4D5663\"}, \"text\": \"\"}, \"zerolinecolor\": \"#E1E5ED\"}},\n",
       "                        {\"showLink\": true, \"linkText\": \"Export to plot.ly\", \"plotlyServerURL\": \"https://plot.ly\", \"responsive\": true}\n",
       "                    ).then(function(){\n",
       "                            \n",
       "var gd = document.getElementById('2efd1ef1-5d19-4605-8a27-04611e1d8960');\n",
       "var x = new MutationObserver(function (mutations, observer) {{\n",
       "        var display = window.getComputedStyle(gd).display;\n",
       "        if (!display || display === 'none') {{\n",
       "            console.log([gd, 'removed!']);\n",
       "            Plotly.purge(gd);\n",
       "            observer.disconnect();\n",
       "        }}\n",
       "}});\n",
       "\n",
       "// Listen for the removal of the full notebook cells\n",
       "var notebookContainer = gd.closest('#notebook-container');\n",
       "if (notebookContainer) {{\n",
       "    x.observe(notebookContainer, {childList: true});\n",
       "}}\n",
       "\n",
       "// Listen for the clearing of the current output cell\n",
       "var outputEl = gd.closest('.output');\n",
       "if (outputEl) {{\n",
       "    x.observe(outputEl, {childList: true});\n",
       "}}\n",
       "\n",
       "                        })\n",
       "                };\n",
       "                });\n",
       "            </script>\n",
       "        </div>"
      ]
     },
     "metadata": {},
     "output_type": "display_data"
    }
   ],
   "source": [
    "df.iplot(kind='box')"
   ]
  },
  {
   "cell_type": "markdown",
   "metadata": {},
   "source": [
    "## 3d Surface"
   ]
  },
  {
   "cell_type": "code",
   "execution_count": 17,
   "metadata": {},
   "outputs": [
    {
     "data": {
      "application/vnd.plotly.v1+json": {
       "config": {
        "linkText": "Export to plot.ly",
        "plotlyServerURL": "https://plot.ly",
        "showLink": true
       },
       "data": [
        {
         "colorscale": [
          [
           0,
           "rgb(165,0,38)"
          ],
          [
           0.1,
           "rgb(215,48,39)"
          ],
          [
           0.2,
           "rgb(244,109,67)"
          ],
          [
           0.3,
           "rgb(253,174,97)"
          ],
          [
           0.4,
           "rgb(254,224,144)"
          ],
          [
           0.5,
           "rgb(255,255,191)"
          ],
          [
           0.6,
           "rgb(224,243,248)"
          ],
          [
           0.7,
           "rgb(171,217,233)"
          ],
          [
           0.8,
           "rgb(116,173,209)"
          ],
          [
           0.9,
           "rgb(69,117,180)"
          ],
          [
           1,
           "rgb(49,54,149)"
          ]
         ],
         "type": "surface",
         "x": [
          0,
          1,
          2,
          3,
          4
         ],
         "y": [
          "x",
          "y",
          "z"
         ],
         "z": [
          [
           1,
           2,
           3,
           4,
           5
          ],
          [
           10,
           20,
           30,
           20,
           10
          ],
          [
           5,
           4,
           3,
           2,
           1
          ]
         ]
        }
       ],
       "layout": {
        "legend": {
         "bgcolor": "#F5F6F9",
         "font": {
          "color": "#4D5663"
         }
        },
        "paper_bgcolor": "#F5F6F9",
        "plot_bgcolor": "#F5F6F9",
        "template": {
         "data": {
          "bar": [
           {
            "error_x": {
             "color": "#2a3f5f"
            },
            "error_y": {
             "color": "#2a3f5f"
            },
            "marker": {
             "line": {
              "color": "#E5ECF6",
              "width": 0.5
             }
            },
            "type": "bar"
           }
          ],
          "barpolar": [
           {
            "marker": {
             "line": {
              "color": "#E5ECF6",
              "width": 0.5
             }
            },
            "type": "barpolar"
           }
          ],
          "carpet": [
           {
            "aaxis": {
             "endlinecolor": "#2a3f5f",
             "gridcolor": "white",
             "linecolor": "white",
             "minorgridcolor": "white",
             "startlinecolor": "#2a3f5f"
            },
            "baxis": {
             "endlinecolor": "#2a3f5f",
             "gridcolor": "white",
             "linecolor": "white",
             "minorgridcolor": "white",
             "startlinecolor": "#2a3f5f"
            },
            "type": "carpet"
           }
          ],
          "choropleth": [
           {
            "colorbar": {
             "outlinewidth": 0,
             "ticks": ""
            },
            "type": "choropleth"
           }
          ],
          "contour": [
           {
            "colorbar": {
             "outlinewidth": 0,
             "ticks": ""
            },
            "colorscale": [
             [
              0,
              "#0d0887"
             ],
             [
              0.1111111111111111,
              "#46039f"
             ],
             [
              0.2222222222222222,
              "#7201a8"
             ],
             [
              0.3333333333333333,
              "#9c179e"
             ],
             [
              0.4444444444444444,
              "#bd3786"
             ],
             [
              0.5555555555555556,
              "#d8576b"
             ],
             [
              0.6666666666666666,
              "#ed7953"
             ],
             [
              0.7777777777777778,
              "#fb9f3a"
             ],
             [
              0.8888888888888888,
              "#fdca26"
             ],
             [
              1,
              "#f0f921"
             ]
            ],
            "type": "contour"
           }
          ],
          "contourcarpet": [
           {
            "colorbar": {
             "outlinewidth": 0,
             "ticks": ""
            },
            "type": "contourcarpet"
           }
          ],
          "heatmap": [
           {
            "colorbar": {
             "outlinewidth": 0,
             "ticks": ""
            },
            "colorscale": [
             [
              0,
              "#0d0887"
             ],
             [
              0.1111111111111111,
              "#46039f"
             ],
             [
              0.2222222222222222,
              "#7201a8"
             ],
             [
              0.3333333333333333,
              "#9c179e"
             ],
             [
              0.4444444444444444,
              "#bd3786"
             ],
             [
              0.5555555555555556,
              "#d8576b"
             ],
             [
              0.6666666666666666,
              "#ed7953"
             ],
             [
              0.7777777777777778,
              "#fb9f3a"
             ],
             [
              0.8888888888888888,
              "#fdca26"
             ],
             [
              1,
              "#f0f921"
             ]
            ],
            "type": "heatmap"
           }
          ],
          "heatmapgl": [
           {
            "colorbar": {
             "outlinewidth": 0,
             "ticks": ""
            },
            "colorscale": [
             [
              0,
              "#0d0887"
             ],
             [
              0.1111111111111111,
              "#46039f"
             ],
             [
              0.2222222222222222,
              "#7201a8"
             ],
             [
              0.3333333333333333,
              "#9c179e"
             ],
             [
              0.4444444444444444,
              "#bd3786"
             ],
             [
              0.5555555555555556,
              "#d8576b"
             ],
             [
              0.6666666666666666,
              "#ed7953"
             ],
             [
              0.7777777777777778,
              "#fb9f3a"
             ],
             [
              0.8888888888888888,
              "#fdca26"
             ],
             [
              1,
              "#f0f921"
             ]
            ],
            "type": "heatmapgl"
           }
          ],
          "histogram": [
           {
            "marker": {
             "colorbar": {
              "outlinewidth": 0,
              "ticks": ""
             }
            },
            "type": "histogram"
           }
          ],
          "histogram2d": [
           {
            "colorbar": {
             "outlinewidth": 0,
             "ticks": ""
            },
            "colorscale": [
             [
              0,
              "#0d0887"
             ],
             [
              0.1111111111111111,
              "#46039f"
             ],
             [
              0.2222222222222222,
              "#7201a8"
             ],
             [
              0.3333333333333333,
              "#9c179e"
             ],
             [
              0.4444444444444444,
              "#bd3786"
             ],
             [
              0.5555555555555556,
              "#d8576b"
             ],
             [
              0.6666666666666666,
              "#ed7953"
             ],
             [
              0.7777777777777778,
              "#fb9f3a"
             ],
             [
              0.8888888888888888,
              "#fdca26"
             ],
             [
              1,
              "#f0f921"
             ]
            ],
            "type": "histogram2d"
           }
          ],
          "histogram2dcontour": [
           {
            "colorbar": {
             "outlinewidth": 0,
             "ticks": ""
            },
            "colorscale": [
             [
              0,
              "#0d0887"
             ],
             [
              0.1111111111111111,
              "#46039f"
             ],
             [
              0.2222222222222222,
              "#7201a8"
             ],
             [
              0.3333333333333333,
              "#9c179e"
             ],
             [
              0.4444444444444444,
              "#bd3786"
             ],
             [
              0.5555555555555556,
              "#d8576b"
             ],
             [
              0.6666666666666666,
              "#ed7953"
             ],
             [
              0.7777777777777778,
              "#fb9f3a"
             ],
             [
              0.8888888888888888,
              "#fdca26"
             ],
             [
              1,
              "#f0f921"
             ]
            ],
            "type": "histogram2dcontour"
           }
          ],
          "mesh3d": [
           {
            "colorbar": {
             "outlinewidth": 0,
             "ticks": ""
            },
            "type": "mesh3d"
           }
          ],
          "parcoords": [
           {
            "line": {
             "colorbar": {
              "outlinewidth": 0,
              "ticks": ""
             }
            },
            "type": "parcoords"
           }
          ],
          "pie": [
           {
            "automargin": true,
            "type": "pie"
           }
          ],
          "scatter": [
           {
            "marker": {
             "colorbar": {
              "outlinewidth": 0,
              "ticks": ""
             }
            },
            "type": "scatter"
           }
          ],
          "scatter3d": [
           {
            "line": {
             "colorbar": {
              "outlinewidth": 0,
              "ticks": ""
             }
            },
            "marker": {
             "colorbar": {
              "outlinewidth": 0,
              "ticks": ""
             }
            },
            "type": "scatter3d"
           }
          ],
          "scattercarpet": [
           {
            "marker": {
             "colorbar": {
              "outlinewidth": 0,
              "ticks": ""
             }
            },
            "type": "scattercarpet"
           }
          ],
          "scattergeo": [
           {
            "marker": {
             "colorbar": {
              "outlinewidth": 0,
              "ticks": ""
             }
            },
            "type": "scattergeo"
           }
          ],
          "scattergl": [
           {
            "marker": {
             "colorbar": {
              "outlinewidth": 0,
              "ticks": ""
             }
            },
            "type": "scattergl"
           }
          ],
          "scattermapbox": [
           {
            "marker": {
             "colorbar": {
              "outlinewidth": 0,
              "ticks": ""
             }
            },
            "type": "scattermapbox"
           }
          ],
          "scatterpolar": [
           {
            "marker": {
             "colorbar": {
              "outlinewidth": 0,
              "ticks": ""
             }
            },
            "type": "scatterpolar"
           }
          ],
          "scatterpolargl": [
           {
            "marker": {
             "colorbar": {
              "outlinewidth": 0,
              "ticks": ""
             }
            },
            "type": "scatterpolargl"
           }
          ],
          "scatterternary": [
           {
            "marker": {
             "colorbar": {
              "outlinewidth": 0,
              "ticks": ""
             }
            },
            "type": "scatterternary"
           }
          ],
          "surface": [
           {
            "colorbar": {
             "outlinewidth": 0,
             "ticks": ""
            },
            "colorscale": [
             [
              0,
              "#0d0887"
             ],
             [
              0.1111111111111111,
              "#46039f"
             ],
             [
              0.2222222222222222,
              "#7201a8"
             ],
             [
              0.3333333333333333,
              "#9c179e"
             ],
             [
              0.4444444444444444,
              "#bd3786"
             ],
             [
              0.5555555555555556,
              "#d8576b"
             ],
             [
              0.6666666666666666,
              "#ed7953"
             ],
             [
              0.7777777777777778,
              "#fb9f3a"
             ],
             [
              0.8888888888888888,
              "#fdca26"
             ],
             [
              1,
              "#f0f921"
             ]
            ],
            "type": "surface"
           }
          ],
          "table": [
           {
            "cells": {
             "fill": {
              "color": "#EBF0F8"
             },
             "line": {
              "color": "white"
             }
            },
            "header": {
             "fill": {
              "color": "#C8D4E3"
             },
             "line": {
              "color": "white"
             }
            },
            "type": "table"
           }
          ]
         },
         "layout": {
          "annotationdefaults": {
           "arrowcolor": "#2a3f5f",
           "arrowhead": 0,
           "arrowwidth": 1
          },
          "coloraxis": {
           "colorbar": {
            "outlinewidth": 0,
            "ticks": ""
           }
          },
          "colorscale": {
           "diverging": [
            [
             0,
             "#8e0152"
            ],
            [
             0.1,
             "#c51b7d"
            ],
            [
             0.2,
             "#de77ae"
            ],
            [
             0.3,
             "#f1b6da"
            ],
            [
             0.4,
             "#fde0ef"
            ],
            [
             0.5,
             "#f7f7f7"
            ],
            [
             0.6,
             "#e6f5d0"
            ],
            [
             0.7,
             "#b8e186"
            ],
            [
             0.8,
             "#7fbc41"
            ],
            [
             0.9,
             "#4d9221"
            ],
            [
             1,
             "#276419"
            ]
           ],
           "sequential": [
            [
             0,
             "#0d0887"
            ],
            [
             0.1111111111111111,
             "#46039f"
            ],
            [
             0.2222222222222222,
             "#7201a8"
            ],
            [
             0.3333333333333333,
             "#9c179e"
            ],
            [
             0.4444444444444444,
             "#bd3786"
            ],
            [
             0.5555555555555556,
             "#d8576b"
            ],
            [
             0.6666666666666666,
             "#ed7953"
            ],
            [
             0.7777777777777778,
             "#fb9f3a"
            ],
            [
             0.8888888888888888,
             "#fdca26"
            ],
            [
             1,
             "#f0f921"
            ]
           ],
           "sequentialminus": [
            [
             0,
             "#0d0887"
            ],
            [
             0.1111111111111111,
             "#46039f"
            ],
            [
             0.2222222222222222,
             "#7201a8"
            ],
            [
             0.3333333333333333,
             "#9c179e"
            ],
            [
             0.4444444444444444,
             "#bd3786"
            ],
            [
             0.5555555555555556,
             "#d8576b"
            ],
            [
             0.6666666666666666,
             "#ed7953"
            ],
            [
             0.7777777777777778,
             "#fb9f3a"
            ],
            [
             0.8888888888888888,
             "#fdca26"
            ],
            [
             1,
             "#f0f921"
            ]
           ]
          },
          "colorway": [
           "#636efa",
           "#EF553B",
           "#00cc96",
           "#ab63fa",
           "#FFA15A",
           "#19d3f3",
           "#FF6692",
           "#B6E880",
           "#FF97FF",
           "#FECB52"
          ],
          "font": {
           "color": "#2a3f5f"
          },
          "geo": {
           "bgcolor": "white",
           "lakecolor": "white",
           "landcolor": "#E5ECF6",
           "showlakes": true,
           "showland": true,
           "subunitcolor": "white"
          },
          "hoverlabel": {
           "align": "left"
          },
          "hovermode": "closest",
          "mapbox": {
           "style": "light"
          },
          "paper_bgcolor": "white",
          "plot_bgcolor": "#E5ECF6",
          "polar": {
           "angularaxis": {
            "gridcolor": "white",
            "linecolor": "white",
            "ticks": ""
           },
           "bgcolor": "#E5ECF6",
           "radialaxis": {
            "gridcolor": "white",
            "linecolor": "white",
            "ticks": ""
           }
          },
          "scene": {
           "xaxis": {
            "backgroundcolor": "#E5ECF6",
            "gridcolor": "white",
            "gridwidth": 2,
            "linecolor": "white",
            "showbackground": true,
            "ticks": "",
            "zerolinecolor": "white"
           },
           "yaxis": {
            "backgroundcolor": "#E5ECF6",
            "gridcolor": "white",
            "gridwidth": 2,
            "linecolor": "white",
            "showbackground": true,
            "ticks": "",
            "zerolinecolor": "white"
           },
           "zaxis": {
            "backgroundcolor": "#E5ECF6",
            "gridcolor": "white",
            "gridwidth": 2,
            "linecolor": "white",
            "showbackground": true,
            "ticks": "",
            "zerolinecolor": "white"
           }
          },
          "shapedefaults": {
           "line": {
            "color": "#2a3f5f"
           }
          },
          "ternary": {
           "aaxis": {
            "gridcolor": "white",
            "linecolor": "white",
            "ticks": ""
           },
           "baxis": {
            "gridcolor": "white",
            "linecolor": "white",
            "ticks": ""
           },
           "bgcolor": "#E5ECF6",
           "caxis": {
            "gridcolor": "white",
            "linecolor": "white",
            "ticks": ""
           }
          },
          "title": {
           "x": 0.05
          },
          "xaxis": {
           "automargin": true,
           "gridcolor": "white",
           "linecolor": "white",
           "ticks": "",
           "title": {
            "standoff": 15
           },
           "zerolinecolor": "white",
           "zerolinewidth": 2
          },
          "yaxis": {
           "automargin": true,
           "gridcolor": "white",
           "linecolor": "white",
           "ticks": "",
           "title": {
            "standoff": 15
           },
           "zerolinecolor": "white",
           "zerolinewidth": 2
          }
         }
        },
        "title": {
         "font": {
          "color": "#4D5663"
         }
        },
        "xaxis": {
         "gridcolor": "#E1E5ED",
         "showgrid": true,
         "tickfont": {
          "color": "#4D5663"
         },
         "title": {
          "font": {
           "color": "#4D5663"
          },
          "text": ""
         },
         "zerolinecolor": "#E1E5ED"
        },
        "yaxis": {
         "gridcolor": "#E1E5ED",
         "showgrid": true,
         "tickfont": {
          "color": "#4D5663"
         },
         "title": {
          "font": {
           "color": "#4D5663"
          },
          "text": ""
         },
         "zerolinecolor": "#E1E5ED"
        }
       }
      },
      "text/html": [
       "<div>\n",
       "        \n",
       "        \n",
       "            <div id=\"284b8cfe-1557-4b0d-9a66-ac2fecb19e39\" class=\"plotly-graph-div\" style=\"height:525px; width:100%;\"></div>\n",
       "            <script type=\"text/javascript\">\n",
       "                require([\"plotly\"], function(Plotly) {\n",
       "                    window.PLOTLYENV=window.PLOTLYENV || {};\n",
       "                    window.PLOTLYENV.BASE_URL='https://plot.ly';\n",
       "                    \n",
       "                if (document.getElementById(\"284b8cfe-1557-4b0d-9a66-ac2fecb19e39\")) {\n",
       "                    Plotly.newPlot(\n",
       "                        '284b8cfe-1557-4b0d-9a66-ac2fecb19e39',\n",
       "                        [{\"colorscale\": [[0.0, \"rgb(165,0,38)\"], [0.1, \"rgb(215,48,39)\"], [0.2, \"rgb(244,109,67)\"], [0.3, \"rgb(253,174,97)\"], [0.4, \"rgb(254,224,144)\"], [0.5, \"rgb(255,255,191)\"], [0.6, \"rgb(224,243,248)\"], [0.7, \"rgb(171,217,233)\"], [0.8, \"rgb(116,173,209)\"], [0.9, \"rgb(69,117,180)\"], [1.0, \"rgb(49,54,149)\"]], \"type\": \"surface\", \"x\": [0, 1, 2, 3, 4], \"y\": [\"x\", \"y\", \"z\"], \"z\": [[1, 2, 3, 4, 5], [10, 20, 30, 20, 10], [5, 4, 3, 2, 1]]}],\n",
       "                        {\"legend\": {\"bgcolor\": \"#F5F6F9\", \"font\": {\"color\": \"#4D5663\"}}, \"paper_bgcolor\": \"#F5F6F9\", \"plot_bgcolor\": \"#F5F6F9\", \"template\": {\"data\": {\"bar\": [{\"error_x\": {\"color\": \"#2a3f5f\"}, \"error_y\": {\"color\": \"#2a3f5f\"}, \"marker\": {\"line\": {\"color\": \"#E5ECF6\", \"width\": 0.5}}, \"type\": \"bar\"}], \"barpolar\": [{\"marker\": {\"line\": {\"color\": \"#E5ECF6\", \"width\": 0.5}}, \"type\": \"barpolar\"}], \"carpet\": [{\"aaxis\": {\"endlinecolor\": \"#2a3f5f\", \"gridcolor\": \"white\", \"linecolor\": \"white\", \"minorgridcolor\": \"white\", \"startlinecolor\": \"#2a3f5f\"}, \"baxis\": {\"endlinecolor\": \"#2a3f5f\", \"gridcolor\": \"white\", \"linecolor\": \"white\", \"minorgridcolor\": \"white\", \"startlinecolor\": \"#2a3f5f\"}, \"type\": \"carpet\"}], \"choropleth\": [{\"colorbar\": {\"outlinewidth\": 0, \"ticks\": \"\"}, \"type\": \"choropleth\"}], \"contour\": [{\"colorbar\": {\"outlinewidth\": 0, \"ticks\": \"\"}, \"colorscale\": [[0.0, \"#0d0887\"], [0.1111111111111111, \"#46039f\"], [0.2222222222222222, \"#7201a8\"], [0.3333333333333333, \"#9c179e\"], [0.4444444444444444, \"#bd3786\"], [0.5555555555555556, \"#d8576b\"], [0.6666666666666666, \"#ed7953\"], [0.7777777777777778, \"#fb9f3a\"], [0.8888888888888888, \"#fdca26\"], [1.0, \"#f0f921\"]], \"type\": \"contour\"}], \"contourcarpet\": [{\"colorbar\": {\"outlinewidth\": 0, \"ticks\": \"\"}, \"type\": \"contourcarpet\"}], \"heatmap\": [{\"colorbar\": {\"outlinewidth\": 0, \"ticks\": \"\"}, \"colorscale\": [[0.0, \"#0d0887\"], [0.1111111111111111, \"#46039f\"], [0.2222222222222222, \"#7201a8\"], [0.3333333333333333, \"#9c179e\"], [0.4444444444444444, \"#bd3786\"], [0.5555555555555556, \"#d8576b\"], [0.6666666666666666, \"#ed7953\"], [0.7777777777777778, \"#fb9f3a\"], [0.8888888888888888, \"#fdca26\"], [1.0, \"#f0f921\"]], \"type\": \"heatmap\"}], \"heatmapgl\": [{\"colorbar\": {\"outlinewidth\": 0, \"ticks\": \"\"}, \"colorscale\": [[0.0, \"#0d0887\"], [0.1111111111111111, \"#46039f\"], [0.2222222222222222, \"#7201a8\"], [0.3333333333333333, \"#9c179e\"], [0.4444444444444444, \"#bd3786\"], [0.5555555555555556, \"#d8576b\"], [0.6666666666666666, \"#ed7953\"], [0.7777777777777778, \"#fb9f3a\"], [0.8888888888888888, \"#fdca26\"], [1.0, \"#f0f921\"]], \"type\": \"heatmapgl\"}], \"histogram\": [{\"marker\": {\"colorbar\": {\"outlinewidth\": 0, \"ticks\": \"\"}}, \"type\": \"histogram\"}], \"histogram2d\": [{\"colorbar\": {\"outlinewidth\": 0, \"ticks\": \"\"}, \"colorscale\": [[0.0, \"#0d0887\"], [0.1111111111111111, \"#46039f\"], [0.2222222222222222, \"#7201a8\"], [0.3333333333333333, \"#9c179e\"], [0.4444444444444444, \"#bd3786\"], [0.5555555555555556, \"#d8576b\"], [0.6666666666666666, \"#ed7953\"], [0.7777777777777778, \"#fb9f3a\"], [0.8888888888888888, \"#fdca26\"], [1.0, \"#f0f921\"]], \"type\": \"histogram2d\"}], \"histogram2dcontour\": [{\"colorbar\": {\"outlinewidth\": 0, \"ticks\": \"\"}, \"colorscale\": [[0.0, \"#0d0887\"], [0.1111111111111111, \"#46039f\"], [0.2222222222222222, \"#7201a8\"], [0.3333333333333333, \"#9c179e\"], [0.4444444444444444, \"#bd3786\"], [0.5555555555555556, \"#d8576b\"], [0.6666666666666666, \"#ed7953\"], [0.7777777777777778, \"#fb9f3a\"], [0.8888888888888888, \"#fdca26\"], [1.0, \"#f0f921\"]], \"type\": \"histogram2dcontour\"}], \"mesh3d\": [{\"colorbar\": {\"outlinewidth\": 0, \"ticks\": \"\"}, \"type\": \"mesh3d\"}], \"parcoords\": [{\"line\": {\"colorbar\": {\"outlinewidth\": 0, \"ticks\": \"\"}}, \"type\": \"parcoords\"}], \"pie\": [{\"automargin\": true, \"type\": \"pie\"}], \"scatter\": [{\"marker\": {\"colorbar\": {\"outlinewidth\": 0, \"ticks\": \"\"}}, \"type\": \"scatter\"}], \"scatter3d\": [{\"line\": {\"colorbar\": {\"outlinewidth\": 0, \"ticks\": \"\"}}, \"marker\": {\"colorbar\": {\"outlinewidth\": 0, \"ticks\": \"\"}}, \"type\": \"scatter3d\"}], \"scattercarpet\": [{\"marker\": {\"colorbar\": {\"outlinewidth\": 0, \"ticks\": \"\"}}, \"type\": \"scattercarpet\"}], \"scattergeo\": [{\"marker\": {\"colorbar\": {\"outlinewidth\": 0, \"ticks\": \"\"}}, \"type\": \"scattergeo\"}], \"scattergl\": [{\"marker\": {\"colorbar\": {\"outlinewidth\": 0, \"ticks\": \"\"}}, \"type\": \"scattergl\"}], \"scattermapbox\": [{\"marker\": {\"colorbar\": {\"outlinewidth\": 0, \"ticks\": \"\"}}, \"type\": \"scattermapbox\"}], \"scatterpolar\": [{\"marker\": {\"colorbar\": {\"outlinewidth\": 0, \"ticks\": \"\"}}, \"type\": \"scatterpolar\"}], \"scatterpolargl\": [{\"marker\": {\"colorbar\": {\"outlinewidth\": 0, \"ticks\": \"\"}}, \"type\": \"scatterpolargl\"}], \"scatterternary\": [{\"marker\": {\"colorbar\": {\"outlinewidth\": 0, \"ticks\": \"\"}}, \"type\": \"scatterternary\"}], \"surface\": [{\"colorbar\": {\"outlinewidth\": 0, \"ticks\": \"\"}, \"colorscale\": [[0.0, \"#0d0887\"], [0.1111111111111111, \"#46039f\"], [0.2222222222222222, \"#7201a8\"], [0.3333333333333333, \"#9c179e\"], [0.4444444444444444, \"#bd3786\"], [0.5555555555555556, \"#d8576b\"], [0.6666666666666666, \"#ed7953\"], [0.7777777777777778, \"#fb9f3a\"], [0.8888888888888888, \"#fdca26\"], [1.0, \"#f0f921\"]], \"type\": \"surface\"}], \"table\": [{\"cells\": {\"fill\": {\"color\": \"#EBF0F8\"}, \"line\": {\"color\": \"white\"}}, \"header\": {\"fill\": {\"color\": \"#C8D4E3\"}, \"line\": {\"color\": \"white\"}}, \"type\": \"table\"}]}, \"layout\": {\"annotationdefaults\": {\"arrowcolor\": \"#2a3f5f\", \"arrowhead\": 0, \"arrowwidth\": 1}, \"coloraxis\": {\"colorbar\": {\"outlinewidth\": 0, \"ticks\": \"\"}}, \"colorscale\": {\"diverging\": [[0, \"#8e0152\"], [0.1, \"#c51b7d\"], [0.2, \"#de77ae\"], [0.3, \"#f1b6da\"], [0.4, \"#fde0ef\"], [0.5, \"#f7f7f7\"], [0.6, \"#e6f5d0\"], [0.7, \"#b8e186\"], [0.8, \"#7fbc41\"], [0.9, \"#4d9221\"], [1, \"#276419\"]], \"sequential\": [[0.0, \"#0d0887\"], [0.1111111111111111, \"#46039f\"], [0.2222222222222222, \"#7201a8\"], [0.3333333333333333, \"#9c179e\"], [0.4444444444444444, \"#bd3786\"], [0.5555555555555556, \"#d8576b\"], [0.6666666666666666, \"#ed7953\"], [0.7777777777777778, \"#fb9f3a\"], [0.8888888888888888, \"#fdca26\"], [1.0, \"#f0f921\"]], \"sequentialminus\": [[0.0, \"#0d0887\"], [0.1111111111111111, \"#46039f\"], [0.2222222222222222, \"#7201a8\"], [0.3333333333333333, \"#9c179e\"], [0.4444444444444444, \"#bd3786\"], [0.5555555555555556, \"#d8576b\"], [0.6666666666666666, \"#ed7953\"], [0.7777777777777778, \"#fb9f3a\"], [0.8888888888888888, \"#fdca26\"], [1.0, \"#f0f921\"]]}, \"colorway\": [\"#636efa\", \"#EF553B\", \"#00cc96\", \"#ab63fa\", \"#FFA15A\", \"#19d3f3\", \"#FF6692\", \"#B6E880\", \"#FF97FF\", \"#FECB52\"], \"font\": {\"color\": \"#2a3f5f\"}, \"geo\": {\"bgcolor\": \"white\", \"lakecolor\": \"white\", \"landcolor\": \"#E5ECF6\", \"showlakes\": true, \"showland\": true, \"subunitcolor\": \"white\"}, \"hoverlabel\": {\"align\": \"left\"}, \"hovermode\": \"closest\", \"mapbox\": {\"style\": \"light\"}, \"paper_bgcolor\": \"white\", \"plot_bgcolor\": \"#E5ECF6\", \"polar\": {\"angularaxis\": {\"gridcolor\": \"white\", \"linecolor\": \"white\", \"ticks\": \"\"}, \"bgcolor\": \"#E5ECF6\", \"radialaxis\": {\"gridcolor\": \"white\", \"linecolor\": \"white\", \"ticks\": \"\"}}, \"scene\": {\"xaxis\": {\"backgroundcolor\": \"#E5ECF6\", \"gridcolor\": \"white\", \"gridwidth\": 2, \"linecolor\": \"white\", \"showbackground\": true, \"ticks\": \"\", \"zerolinecolor\": \"white\"}, \"yaxis\": {\"backgroundcolor\": \"#E5ECF6\", \"gridcolor\": \"white\", \"gridwidth\": 2, \"linecolor\": \"white\", \"showbackground\": true, \"ticks\": \"\", \"zerolinecolor\": \"white\"}, \"zaxis\": {\"backgroundcolor\": \"#E5ECF6\", \"gridcolor\": \"white\", \"gridwidth\": 2, \"linecolor\": \"white\", \"showbackground\": true, \"ticks\": \"\", \"zerolinecolor\": \"white\"}}, \"shapedefaults\": {\"line\": {\"color\": \"#2a3f5f\"}}, \"ternary\": {\"aaxis\": {\"gridcolor\": \"white\", \"linecolor\": \"white\", \"ticks\": \"\"}, \"baxis\": {\"gridcolor\": \"white\", \"linecolor\": \"white\", \"ticks\": \"\"}, \"bgcolor\": \"#E5ECF6\", \"caxis\": {\"gridcolor\": \"white\", \"linecolor\": \"white\", \"ticks\": \"\"}}, \"title\": {\"x\": 0.05}, \"xaxis\": {\"automargin\": true, \"gridcolor\": \"white\", \"linecolor\": \"white\", \"ticks\": \"\", \"title\": {\"standoff\": 15}, \"zerolinecolor\": \"white\", \"zerolinewidth\": 2}, \"yaxis\": {\"automargin\": true, \"gridcolor\": \"white\", \"linecolor\": \"white\", \"ticks\": \"\", \"title\": {\"standoff\": 15}, \"zerolinecolor\": \"white\", \"zerolinewidth\": 2}}}, \"title\": {\"font\": {\"color\": \"#4D5663\"}}, \"xaxis\": {\"gridcolor\": \"#E1E5ED\", \"showgrid\": true, \"tickfont\": {\"color\": \"#4D5663\"}, \"title\": {\"font\": {\"color\": \"#4D5663\"}, \"text\": \"\"}, \"zerolinecolor\": \"#E1E5ED\"}, \"yaxis\": {\"gridcolor\": \"#E1E5ED\", \"showgrid\": true, \"tickfont\": {\"color\": \"#4D5663\"}, \"title\": {\"font\": {\"color\": \"#4D5663\"}, \"text\": \"\"}, \"zerolinecolor\": \"#E1E5ED\"}},\n",
       "                        {\"showLink\": true, \"linkText\": \"Export to plot.ly\", \"plotlyServerURL\": \"https://plot.ly\", \"responsive\": true}\n",
       "                    ).then(function(){\n",
       "                            \n",
       "var gd = document.getElementById('284b8cfe-1557-4b0d-9a66-ac2fecb19e39');\n",
       "var x = new MutationObserver(function (mutations, observer) {{\n",
       "        var display = window.getComputedStyle(gd).display;\n",
       "        if (!display || display === 'none') {{\n",
       "            console.log([gd, 'removed!']);\n",
       "            Plotly.purge(gd);\n",
       "            observer.disconnect();\n",
       "        }}\n",
       "}});\n",
       "\n",
       "// Listen for the removal of the full notebook cells\n",
       "var notebookContainer = gd.closest('#notebook-container');\n",
       "if (notebookContainer) {{\n",
       "    x.observe(notebookContainer, {childList: true});\n",
       "}}\n",
       "\n",
       "// Listen for the clearing of the current output cell\n",
       "var outputEl = gd.closest('.output');\n",
       "if (outputEl) {{\n",
       "    x.observe(outputEl, {childList: true});\n",
       "}}\n",
       "\n",
       "                        })\n",
       "                };\n",
       "                });\n",
       "            </script>\n",
       "        </div>"
      ]
     },
     "metadata": {},
     "output_type": "display_data"
    }
   ],
   "source": [
    "df3 = pd.DataFrame({'x':[1,2,3,4,5],'y':[10,20,30,20,10],'z':[5,4,3,2,1]})\n",
    "df3.iplot(kind='surface',colorscale='rdylbu')"
   ]
  },
  {
   "cell_type": "markdown",
   "metadata": {},
   "source": [
    "## Spread"
   ]
  },
  {
   "cell_type": "code",
   "execution_count": 18,
   "metadata": {},
   "outputs": [
    {
     "name": "stderr",
     "output_type": "stream",
     "text": [
      "c:\\users\\dsarangi\\appdata\\local\\programs\\python\\python38\\lib\\site-packages\\cufflinks\\plotlytools.py:849: FutureWarning:\n",
      "\n",
      "The pandas.np module is deprecated and will be removed from pandas in a future version. Import numpy directly instead\n",
      "\n",
      "c:\\users\\dsarangi\\appdata\\local\\programs\\python\\python38\\lib\\site-packages\\cufflinks\\plotlytools.py:850: FutureWarning:\n",
      "\n",
      "The pandas.np module is deprecated and will be removed from pandas in a future version. Import numpy directly instead\n",
      "\n"
     ]
    },
    {
     "data": {
      "application/vnd.plotly.v1+json": {
       "config": {
        "linkText": "Export to plot.ly",
        "plotlyServerURL": "https://plot.ly",
        "showLink": true
       },
       "data": [
        {
         "line": {
          "color": "rgba(255, 153, 51, 1.0)",
          "dash": "solid",
          "shape": "linear",
          "width": 1.3
         },
         "mode": "lines",
         "name": "A",
         "text": "",
         "type": "scatter",
         "x": [
          0,
          1,
          2,
          3,
          4,
          5,
          6,
          7,
          8,
          9,
          10,
          11,
          12,
          13,
          14,
          15,
          16,
          17,
          18,
          19,
          20,
          21,
          22,
          23,
          24,
          25,
          26,
          27,
          28,
          29,
          30,
          31,
          32,
          33,
          34,
          35,
          36,
          37,
          38,
          39,
          40,
          41,
          42,
          43,
          44,
          45,
          46,
          47,
          48,
          49,
          50,
          51,
          52,
          53,
          54,
          55,
          56,
          57,
          58,
          59,
          60,
          61,
          62,
          63,
          64,
          65,
          66,
          67,
          68,
          69,
          70,
          71,
          72,
          73,
          74,
          75,
          76,
          77,
          78,
          79,
          80,
          81,
          82,
          83,
          84,
          85,
          86,
          87,
          88,
          89,
          90,
          91,
          92,
          93,
          94,
          95,
          96,
          97,
          98,
          99
         ],
         "y": [
          0.2192150126893649,
          0.41212764663850154,
          -0.27839766837010627,
          0.3222178500267178,
          1.1359559733338713,
          -0.971720425769713,
          1.4329161629803917,
          -0.34578250445780295,
          0.9221363208457326,
          -0.46018427034111126,
          0.032535916019239226,
          -1.5775132350080174,
          1.2509653911100467,
          0.8333489234269918,
          -0.09408230960773854,
          0.010236286462784547,
          0.6198798548523512,
          -2.3694740941164874,
          0.6446131044139314,
          3.5825153483746544,
          -1.100859730297812,
          -0.28637707270395063,
          1.2663027275521734,
          0.4480018504819275,
          -0.04075310173488496,
          -1.3188747595733246,
          -0.25669888175689487,
          -0.7892384287614435,
          -0.5027860677713014,
          0.08430359155613538,
          -0.40896809921325916,
          1.2708262506705303,
          -0.38766034310350395,
          0.4304639325836553,
          1.8071040246302588,
          1.4568874186053604,
          0.9042403428138212,
          -0.7816990895945196,
          0.7868373081101285,
          0.9476543351449195,
          1.1956296073512873,
          0.41095470596658434,
          1.0094261937662572,
          -0.44046838256526516,
          1.0346716931466176,
          0.11523886763913334,
          -0.31723607081444566,
          -0.716904274124458,
          0.26466695448679606,
          -0.6379239557948869,
          0.955179550321454,
          1.6925209088368083,
          1.7812391056276533,
          -1.4877766892101543,
          -1.1899544134286546,
          -0.10895806189072393,
          1.321027710937083,
          -0.8784194756051036,
          0.6504071261387132,
          1.094753327689872,
          -0.2132623568016486,
          -0.7927137163590783,
          -0.45765125612752156,
          0.28711097689175746,
          -0.8352933868433253,
          -2.0667869160062238,
          -0.35007642593563354,
          0.9947487894082441,
          -1.1831678986229839,
          -0.8486257818723462,
          -0.2765927487443163,
          0.7680784213053352,
          -0.9335626713391687,
          0.21802436036050304,
          -0.9349362054526161,
          -0.011134013758786858,
          -1.6743957170983006,
          0.12574163202444208,
          1.1531777911767431,
          1.2999741110066083,
          -0.2735192157650116,
          0.595818583592944,
          0.41802287494605567,
          0.45030528691780813,
          -0.514456906944202,
          -0.4162077818331348,
          2.4691714751126876,
          -1.365196733109609,
          0.26790894446099445,
          -0.06926500967640424,
          0.311983304253257,
          1.1795697874824076,
          0.3690061425350321,
          1.0369119759384802,
          0.11344630289523762,
          -0.8618742507166238,
          1.0502865219767203,
          -0.6297527108271594,
          2.0620223895254988,
          0.28102629664114714
         ]
        },
        {
         "line": {
          "color": "rgba(55, 128, 191, 1.0)",
          "dash": "solid",
          "shape": "linear",
          "width": 1.3
         },
         "mode": "lines",
         "name": "B",
         "text": "",
         "type": "scatter",
         "x": [
          0,
          1,
          2,
          3,
          4,
          5,
          6,
          7,
          8,
          9,
          10,
          11,
          12,
          13,
          14,
          15,
          16,
          17,
          18,
          19,
          20,
          21,
          22,
          23,
          24,
          25,
          26,
          27,
          28,
          29,
          30,
          31,
          32,
          33,
          34,
          35,
          36,
          37,
          38,
          39,
          40,
          41,
          42,
          43,
          44,
          45,
          46,
          47,
          48,
          49,
          50,
          51,
          52,
          53,
          54,
          55,
          56,
          57,
          58,
          59,
          60,
          61,
          62,
          63,
          64,
          65,
          66,
          67,
          68,
          69,
          70,
          71,
          72,
          73,
          74,
          75,
          76,
          77,
          78,
          79,
          80,
          81,
          82,
          83,
          84,
          85,
          86,
          87,
          88,
          89,
          90,
          91,
          92,
          93,
          94,
          95,
          96,
          97,
          98,
          99
         ],
         "y": [
          -2.5296842304295915,
          -0.9124939583658659,
          1.9371572689115752,
          -0.04233086880753978,
          1.1755323137692275,
          -0.7913343687872296,
          0.34679771300378864,
          0.1472644768462741,
          -0.5576417622152579,
          1.0153627370487877,
          -0.006675276814364406,
          -1.3831667133442893,
          0.23794366571150333,
          -0.046584210842764394,
          -0.23286229979657497,
          -1.059043175997328,
          -0.5639209672124689,
          1.2466006179249922,
          1.785304178140208,
          0.7289995222261205,
          -0.2394784072597976,
          0.6674022767035093,
          -1.7636884877840329,
          -1.7239697309413886,
          1.6336503512461968,
          -0.09202348674133626,
          1.0195082254673082,
          0.6284543531925654,
          -0.9230405694743555,
          0.8912283886498443,
          0.6633555600973492,
          -1.5256437045839726,
          0.9770914272419425,
          1.7175529208127185,
          0.8406491088530332,
          -1.2707511635610007,
          1.38083980414698,
          -0.9203591200540816,
          -0.5004906455425786,
          -0.5399747143298336,
          -0.9896963608623736,
          1.3306609274638301,
          0.8926496038118524,
          -2.033822133364184,
          -0.8334681002973663,
          0.14001110291725294,
          -0.685037044884312,
          0.9415217721260292,
          -0.7396063904143044,
          1.4124225135238375,
          1.9904956031872585,
          0.42500823802958937,
          1.930846927734657,
          -1.9760870203704148,
          -1.0777631936672263,
          0.902624464861868,
          -0.94669113465832,
          -0.9373697872008047,
          -1.4821469944733676,
          -0.9426236297971836,
          1.0841383783955747,
          -2.0884924313952187,
          0.8969041011425303,
          -1.5803644182734884,
          -1.3823710740159605,
          -1.5206872295882883,
          -0.2581375790682765,
          1.156228135822335,
          -0.41662244466772547,
          -0.3490920630112603,
          1.2895317025169495,
          -0.8821858086096042,
          -0.5387923050763868,
          -0.5663537185351362,
          -1.095431469835826,
          0.6009775868516194,
          2.614098758958872,
          -0.9592823177952877,
          0.06536082847107165,
          -0.8496657523610329,
          -1.4681299656741593,
          0.6701367636720044,
          0.7744265354513329,
          2.0586936414104375,
          0.7915794301092625,
          2.592940852157227,
          -1.3221424278325977,
          2.8901840068359896,
          0.561794978690869,
          0.6610147433500252,
          1.9933671238820154,
          0.11772975628376309,
          -1.3513533772700421,
          0.8043126148336902,
          -0.5690624329172052,
          0.536251241812792,
          0.7386353343412105,
          -0.976006012430902,
          -0.9283420207337423,
          0.04110546621274906
         ]
        },
        {
         "connectgaps": false,
         "fill": "tozeroy",
         "line": {
          "color": "green",
          "dash": "solid",
          "shape": "linear",
          "width": 0.5
         },
         "mode": "lines",
         "name": "Spread",
         "showlegend": false,
         "type": "scatter",
         "x": [
          0,
          1,
          2,
          3,
          4,
          5,
          6,
          7,
          8,
          9,
          10,
          11,
          12,
          13,
          14,
          15,
          16,
          17,
          18,
          19,
          20,
          21,
          22,
          23,
          24,
          25,
          26,
          27,
          28,
          29,
          30,
          31,
          32,
          33,
          34,
          35,
          36,
          37,
          38,
          39,
          40,
          41,
          42,
          43,
          44,
          45,
          46,
          47,
          48,
          49,
          50,
          51,
          52,
          53,
          54,
          55,
          56,
          57,
          58,
          59,
          60,
          61,
          62,
          63,
          64,
          65,
          66,
          67,
          68,
          69,
          70,
          71,
          72,
          73,
          74,
          75,
          76,
          77,
          78,
          79,
          80,
          81,
          82,
          83,
          84,
          85,
          86,
          87,
          88,
          89,
          90,
          91,
          92,
          93,
          94,
          95,
          96,
          97,
          98,
          99
         ],
         "xaxis": "x2",
         "y": [
          2.7488992431189563,
          1.3246216050043675,
          "",
          0.3645487188342576,
          "",
          "",
          1.086118449976603,
          "",
          1.4797780830609906,
          "",
          0.03921119283360363,
          "",
          1.0130217253985434,
          0.8799331342697563,
          0.1387799901888364,
          1.0692794624601125,
          1.18380082206482,
          "",
          "",
          2.853515826148534,
          "",
          "",
          3.0299912153362065,
          2.1719715814233163,
          "",
          "",
          "",
          "",
          0.4202545017030541,
          "",
          "",
          2.796469955254503,
          "",
          "",
          0.9664549157772255,
          2.727638582166361,
          "",
          0.138660030459562,
          1.2873279536527071,
          1.487629049474753,
          2.185325968213661,
          "",
          0.11677658995440476,
          1.5933537507989188,
          1.8681397934439838,
          "",
          0.3678009740698664,
          "",
          1.0042733449011005,
          "",
          "",
          1.2675126708072189,
          "",
          0.48831033116026057,
          "",
          "",
          2.267718845595403,
          0.05895031159570108,
          2.132554120612081,
          2.0373769574870555,
          "",
          1.2957787150361404,
          "",
          1.8674753951652459,
          0.5470776871726352,
          "",
          "",
          "",
          "",
          "",
          "",
          1.6502642299149395,
          "",
          0.7843780788956392,
          0.16049526438320993,
          "",
          "",
          1.0850239498197298,
          1.0878169627056715,
          2.149639863367641,
          1.1946107499091476,
          "",
          "",
          "",
          "",
          "",
          3.7913139029452854,
          "",
          "",
          "",
          "",
          1.0618400311986445,
          1.7203595198050743,
          0.23259936110478996,
          0.6825087358124428,
          "",
          0.3116511876355098,
          0.34625330160374257,
          2.9903644102592413,
          0.23992083042839807
         ],
         "yaxis": "y2"
        },
        {
         "connectgaps": false,
         "fill": "tozeroy",
         "line": {
          "color": "red",
          "dash": "solid",
          "shape": "linear",
          "width": 0.5
         },
         "mode": "lines",
         "name": "Spread",
         "showlegend": false,
         "type": "scatter",
         "x": [
          0,
          1,
          2,
          3,
          4,
          5,
          6,
          7,
          8,
          9,
          10,
          11,
          12,
          13,
          14,
          15,
          16,
          17,
          18,
          19,
          20,
          21,
          22,
          23,
          24,
          25,
          26,
          27,
          28,
          29,
          30,
          31,
          32,
          33,
          34,
          35,
          36,
          37,
          38,
          39,
          40,
          41,
          42,
          43,
          44,
          45,
          46,
          47,
          48,
          49,
          50,
          51,
          52,
          53,
          54,
          55,
          56,
          57,
          58,
          59,
          60,
          61,
          62,
          63,
          64,
          65,
          66,
          67,
          68,
          69,
          70,
          71,
          72,
          73,
          74,
          75,
          76,
          77,
          78,
          79,
          80,
          81,
          82,
          83,
          84,
          85,
          86,
          87,
          88,
          89,
          90,
          91,
          92,
          93,
          94,
          95,
          96,
          97,
          98,
          99
         ],
         "xaxis": "x2",
         "y": [
          "",
          "",
          -2.2155549372816816,
          "",
          -0.03957634043535618,
          -0.18038605698248333,
          "",
          -0.4930469813040771,
          "",
          -1.4755470073898989,
          "",
          -0.19434652166372812,
          "",
          "",
          "",
          "",
          "",
          -3.6160747120414793,
          -1.1406910737262765,
          "",
          -0.8613813230380144,
          -0.9537793494074599,
          "",
          "",
          -1.6744034529810818,
          -1.2268512728319882,
          -1.2762071072242032,
          -1.4176927819540088,
          "",
          -0.8069247970937089,
          -1.0723236593106082,
          "",
          -1.3647517703454466,
          -1.2870889882290633,
          "",
          "",
          -0.4765994613331589,
          "",
          "",
          "",
          "",
          -0.9197062214972458,
          "",
          "",
          "",
          -0.0247722352781196,
          "",
          -1.6584260462504872,
          "",
          -2.0503464693187246,
          -1.0353160528658045,
          "",
          -0.14960782210700363,
          "",
          -0.11219121976142832,
          -1.011582526752592,
          "",
          "",
          "",
          "",
          -1.2974007351972232,
          "",
          -1.3545553572700517,
          "",
          "",
          -0.5460996864179355,
          -0.09193884686735704,
          -0.1614793464140909,
          -0.7665454539552584,
          -0.4995337188610859,
          -1.5661244512612658,
          "",
          -0.39477036626278195,
          "",
          "",
          -0.6121116006104063,
          -4.288494476057172,
          "",
          "",
          "",
          "",
          -0.07431818007906033,
          -0.3564036605052772,
          -1.6083883544926294,
          -1.3060363370534644,
          -3.0091486339903617,
          "",
          -4.255380739945599,
          -0.2938860342298746,
          -0.7302797530264294,
          -1.6813838196287585,
          "",
          "",
          "",
          "",
          -1.3981254925294158,
          "",
          "",
          "",
          ""
         ],
         "yaxis": "y2"
        }
       ],
       "layout": {
        "hovermode": "x",
        "legend": {
         "bgcolor": "#F5F6F9",
         "font": {
          "color": "#4D5663"
         }
        },
        "paper_bgcolor": "#F5F6F9",
        "plot_bgcolor": "#F5F6F9",
        "template": {
         "data": {
          "bar": [
           {
            "error_x": {
             "color": "#2a3f5f"
            },
            "error_y": {
             "color": "#2a3f5f"
            },
            "marker": {
             "line": {
              "color": "#E5ECF6",
              "width": 0.5
             }
            },
            "type": "bar"
           }
          ],
          "barpolar": [
           {
            "marker": {
             "line": {
              "color": "#E5ECF6",
              "width": 0.5
             }
            },
            "type": "barpolar"
           }
          ],
          "carpet": [
           {
            "aaxis": {
             "endlinecolor": "#2a3f5f",
             "gridcolor": "white",
             "linecolor": "white",
             "minorgridcolor": "white",
             "startlinecolor": "#2a3f5f"
            },
            "baxis": {
             "endlinecolor": "#2a3f5f",
             "gridcolor": "white",
             "linecolor": "white",
             "minorgridcolor": "white",
             "startlinecolor": "#2a3f5f"
            },
            "type": "carpet"
           }
          ],
          "choropleth": [
           {
            "colorbar": {
             "outlinewidth": 0,
             "ticks": ""
            },
            "type": "choropleth"
           }
          ],
          "contour": [
           {
            "colorbar": {
             "outlinewidth": 0,
             "ticks": ""
            },
            "colorscale": [
             [
              0,
              "#0d0887"
             ],
             [
              0.1111111111111111,
              "#46039f"
             ],
             [
              0.2222222222222222,
              "#7201a8"
             ],
             [
              0.3333333333333333,
              "#9c179e"
             ],
             [
              0.4444444444444444,
              "#bd3786"
             ],
             [
              0.5555555555555556,
              "#d8576b"
             ],
             [
              0.6666666666666666,
              "#ed7953"
             ],
             [
              0.7777777777777778,
              "#fb9f3a"
             ],
             [
              0.8888888888888888,
              "#fdca26"
             ],
             [
              1,
              "#f0f921"
             ]
            ],
            "type": "contour"
           }
          ],
          "contourcarpet": [
           {
            "colorbar": {
             "outlinewidth": 0,
             "ticks": ""
            },
            "type": "contourcarpet"
           }
          ],
          "heatmap": [
           {
            "colorbar": {
             "outlinewidth": 0,
             "ticks": ""
            },
            "colorscale": [
             [
              0,
              "#0d0887"
             ],
             [
              0.1111111111111111,
              "#46039f"
             ],
             [
              0.2222222222222222,
              "#7201a8"
             ],
             [
              0.3333333333333333,
              "#9c179e"
             ],
             [
              0.4444444444444444,
              "#bd3786"
             ],
             [
              0.5555555555555556,
              "#d8576b"
             ],
             [
              0.6666666666666666,
              "#ed7953"
             ],
             [
              0.7777777777777778,
              "#fb9f3a"
             ],
             [
              0.8888888888888888,
              "#fdca26"
             ],
             [
              1,
              "#f0f921"
             ]
            ],
            "type": "heatmap"
           }
          ],
          "heatmapgl": [
           {
            "colorbar": {
             "outlinewidth": 0,
             "ticks": ""
            },
            "colorscale": [
             [
              0,
              "#0d0887"
             ],
             [
              0.1111111111111111,
              "#46039f"
             ],
             [
              0.2222222222222222,
              "#7201a8"
             ],
             [
              0.3333333333333333,
              "#9c179e"
             ],
             [
              0.4444444444444444,
              "#bd3786"
             ],
             [
              0.5555555555555556,
              "#d8576b"
             ],
             [
              0.6666666666666666,
              "#ed7953"
             ],
             [
              0.7777777777777778,
              "#fb9f3a"
             ],
             [
              0.8888888888888888,
              "#fdca26"
             ],
             [
              1,
              "#f0f921"
             ]
            ],
            "type": "heatmapgl"
           }
          ],
          "histogram": [
           {
            "marker": {
             "colorbar": {
              "outlinewidth": 0,
              "ticks": ""
             }
            },
            "type": "histogram"
           }
          ],
          "histogram2d": [
           {
            "colorbar": {
             "outlinewidth": 0,
             "ticks": ""
            },
            "colorscale": [
             [
              0,
              "#0d0887"
             ],
             [
              0.1111111111111111,
              "#46039f"
             ],
             [
              0.2222222222222222,
              "#7201a8"
             ],
             [
              0.3333333333333333,
              "#9c179e"
             ],
             [
              0.4444444444444444,
              "#bd3786"
             ],
             [
              0.5555555555555556,
              "#d8576b"
             ],
             [
              0.6666666666666666,
              "#ed7953"
             ],
             [
              0.7777777777777778,
              "#fb9f3a"
             ],
             [
              0.8888888888888888,
              "#fdca26"
             ],
             [
              1,
              "#f0f921"
             ]
            ],
            "type": "histogram2d"
           }
          ],
          "histogram2dcontour": [
           {
            "colorbar": {
             "outlinewidth": 0,
             "ticks": ""
            },
            "colorscale": [
             [
              0,
              "#0d0887"
             ],
             [
              0.1111111111111111,
              "#46039f"
             ],
             [
              0.2222222222222222,
              "#7201a8"
             ],
             [
              0.3333333333333333,
              "#9c179e"
             ],
             [
              0.4444444444444444,
              "#bd3786"
             ],
             [
              0.5555555555555556,
              "#d8576b"
             ],
             [
              0.6666666666666666,
              "#ed7953"
             ],
             [
              0.7777777777777778,
              "#fb9f3a"
             ],
             [
              0.8888888888888888,
              "#fdca26"
             ],
             [
              1,
              "#f0f921"
             ]
            ],
            "type": "histogram2dcontour"
           }
          ],
          "mesh3d": [
           {
            "colorbar": {
             "outlinewidth": 0,
             "ticks": ""
            },
            "type": "mesh3d"
           }
          ],
          "parcoords": [
           {
            "line": {
             "colorbar": {
              "outlinewidth": 0,
              "ticks": ""
             }
            },
            "type": "parcoords"
           }
          ],
          "pie": [
           {
            "automargin": true,
            "type": "pie"
           }
          ],
          "scatter": [
           {
            "marker": {
             "colorbar": {
              "outlinewidth": 0,
              "ticks": ""
             }
            },
            "type": "scatter"
           }
          ],
          "scatter3d": [
           {
            "line": {
             "colorbar": {
              "outlinewidth": 0,
              "ticks": ""
             }
            },
            "marker": {
             "colorbar": {
              "outlinewidth": 0,
              "ticks": ""
             }
            },
            "type": "scatter3d"
           }
          ],
          "scattercarpet": [
           {
            "marker": {
             "colorbar": {
              "outlinewidth": 0,
              "ticks": ""
             }
            },
            "type": "scattercarpet"
           }
          ],
          "scattergeo": [
           {
            "marker": {
             "colorbar": {
              "outlinewidth": 0,
              "ticks": ""
             }
            },
            "type": "scattergeo"
           }
          ],
          "scattergl": [
           {
            "marker": {
             "colorbar": {
              "outlinewidth": 0,
              "ticks": ""
             }
            },
            "type": "scattergl"
           }
          ],
          "scattermapbox": [
           {
            "marker": {
             "colorbar": {
              "outlinewidth": 0,
              "ticks": ""
             }
            },
            "type": "scattermapbox"
           }
          ],
          "scatterpolar": [
           {
            "marker": {
             "colorbar": {
              "outlinewidth": 0,
              "ticks": ""
             }
            },
            "type": "scatterpolar"
           }
          ],
          "scatterpolargl": [
           {
            "marker": {
             "colorbar": {
              "outlinewidth": 0,
              "ticks": ""
             }
            },
            "type": "scatterpolargl"
           }
          ],
          "scatterternary": [
           {
            "marker": {
             "colorbar": {
              "outlinewidth": 0,
              "ticks": ""
             }
            },
            "type": "scatterternary"
           }
          ],
          "surface": [
           {
            "colorbar": {
             "outlinewidth": 0,
             "ticks": ""
            },
            "colorscale": [
             [
              0,
              "#0d0887"
             ],
             [
              0.1111111111111111,
              "#46039f"
             ],
             [
              0.2222222222222222,
              "#7201a8"
             ],
             [
              0.3333333333333333,
              "#9c179e"
             ],
             [
              0.4444444444444444,
              "#bd3786"
             ],
             [
              0.5555555555555556,
              "#d8576b"
             ],
             [
              0.6666666666666666,
              "#ed7953"
             ],
             [
              0.7777777777777778,
              "#fb9f3a"
             ],
             [
              0.8888888888888888,
              "#fdca26"
             ],
             [
              1,
              "#f0f921"
             ]
            ],
            "type": "surface"
           }
          ],
          "table": [
           {
            "cells": {
             "fill": {
              "color": "#EBF0F8"
             },
             "line": {
              "color": "white"
             }
            },
            "header": {
             "fill": {
              "color": "#C8D4E3"
             },
             "line": {
              "color": "white"
             }
            },
            "type": "table"
           }
          ]
         },
         "layout": {
          "annotationdefaults": {
           "arrowcolor": "#2a3f5f",
           "arrowhead": 0,
           "arrowwidth": 1
          },
          "coloraxis": {
           "colorbar": {
            "outlinewidth": 0,
            "ticks": ""
           }
          },
          "colorscale": {
           "diverging": [
            [
             0,
             "#8e0152"
            ],
            [
             0.1,
             "#c51b7d"
            ],
            [
             0.2,
             "#de77ae"
            ],
            [
             0.3,
             "#f1b6da"
            ],
            [
             0.4,
             "#fde0ef"
            ],
            [
             0.5,
             "#f7f7f7"
            ],
            [
             0.6,
             "#e6f5d0"
            ],
            [
             0.7,
             "#b8e186"
            ],
            [
             0.8,
             "#7fbc41"
            ],
            [
             0.9,
             "#4d9221"
            ],
            [
             1,
             "#276419"
            ]
           ],
           "sequential": [
            [
             0,
             "#0d0887"
            ],
            [
             0.1111111111111111,
             "#46039f"
            ],
            [
             0.2222222222222222,
             "#7201a8"
            ],
            [
             0.3333333333333333,
             "#9c179e"
            ],
            [
             0.4444444444444444,
             "#bd3786"
            ],
            [
             0.5555555555555556,
             "#d8576b"
            ],
            [
             0.6666666666666666,
             "#ed7953"
            ],
            [
             0.7777777777777778,
             "#fb9f3a"
            ],
            [
             0.8888888888888888,
             "#fdca26"
            ],
            [
             1,
             "#f0f921"
            ]
           ],
           "sequentialminus": [
            [
             0,
             "#0d0887"
            ],
            [
             0.1111111111111111,
             "#46039f"
            ],
            [
             0.2222222222222222,
             "#7201a8"
            ],
            [
             0.3333333333333333,
             "#9c179e"
            ],
            [
             0.4444444444444444,
             "#bd3786"
            ],
            [
             0.5555555555555556,
             "#d8576b"
            ],
            [
             0.6666666666666666,
             "#ed7953"
            ],
            [
             0.7777777777777778,
             "#fb9f3a"
            ],
            [
             0.8888888888888888,
             "#fdca26"
            ],
            [
             1,
             "#f0f921"
            ]
           ]
          },
          "colorway": [
           "#636efa",
           "#EF553B",
           "#00cc96",
           "#ab63fa",
           "#FFA15A",
           "#19d3f3",
           "#FF6692",
           "#B6E880",
           "#FF97FF",
           "#FECB52"
          ],
          "font": {
           "color": "#2a3f5f"
          },
          "geo": {
           "bgcolor": "white",
           "lakecolor": "white",
           "landcolor": "#E5ECF6",
           "showlakes": true,
           "showland": true,
           "subunitcolor": "white"
          },
          "hoverlabel": {
           "align": "left"
          },
          "hovermode": "closest",
          "mapbox": {
           "style": "light"
          },
          "paper_bgcolor": "white",
          "plot_bgcolor": "#E5ECF6",
          "polar": {
           "angularaxis": {
            "gridcolor": "white",
            "linecolor": "white",
            "ticks": ""
           },
           "bgcolor": "#E5ECF6",
           "radialaxis": {
            "gridcolor": "white",
            "linecolor": "white",
            "ticks": ""
           }
          },
          "scene": {
           "xaxis": {
            "backgroundcolor": "#E5ECF6",
            "gridcolor": "white",
            "gridwidth": 2,
            "linecolor": "white",
            "showbackground": true,
            "ticks": "",
            "zerolinecolor": "white"
           },
           "yaxis": {
            "backgroundcolor": "#E5ECF6",
            "gridcolor": "white",
            "gridwidth": 2,
            "linecolor": "white",
            "showbackground": true,
            "ticks": "",
            "zerolinecolor": "white"
           },
           "zaxis": {
            "backgroundcolor": "#E5ECF6",
            "gridcolor": "white",
            "gridwidth": 2,
            "linecolor": "white",
            "showbackground": true,
            "ticks": "",
            "zerolinecolor": "white"
           }
          },
          "shapedefaults": {
           "line": {
            "color": "#2a3f5f"
           }
          },
          "ternary": {
           "aaxis": {
            "gridcolor": "white",
            "linecolor": "white",
            "ticks": ""
           },
           "baxis": {
            "gridcolor": "white",
            "linecolor": "white",
            "ticks": ""
           },
           "bgcolor": "#E5ECF6",
           "caxis": {
            "gridcolor": "white",
            "linecolor": "white",
            "ticks": ""
           }
          },
          "title": {
           "x": 0.05
          },
          "xaxis": {
           "automargin": true,
           "gridcolor": "white",
           "linecolor": "white",
           "ticks": "",
           "title": {
            "standoff": 15
           },
           "zerolinecolor": "white",
           "zerolinewidth": 2
          },
          "yaxis": {
           "automargin": true,
           "gridcolor": "white",
           "linecolor": "white",
           "ticks": "",
           "title": {
            "standoff": 15
           },
           "zerolinecolor": "white",
           "zerolinewidth": 2
          }
         }
        },
        "title": {
         "font": {
          "color": "#4D5663"
         }
        },
        "xaxis": {
         "gridcolor": "#E1E5ED",
         "showgrid": true,
         "tickfont": {
          "color": "#4D5663"
         },
         "title": {
          "font": {
           "color": "#4D5663"
          },
          "text": ""
         },
         "zerolinecolor": "#E1E5ED"
        },
        "xaxis2": {
         "anchor": "y2",
         "gridcolor": "#E1E5ED",
         "showgrid": true,
         "showticklabels": false,
         "tickfont": {
          "color": "#4D5663"
         },
         "title": {
          "font": {
           "color": "#4D5663"
          },
          "text": ""
         },
         "zerolinecolor": "#E1E5ED"
        },
        "yaxis": {
         "domain": [
          0.3,
          1
         ],
         "gridcolor": "#E1E5ED",
         "showgrid": true,
         "tickfont": {
          "color": "#4D5663"
         },
         "title": {
          "font": {
           "color": "#4D5663"
          },
          "text": ""
         },
         "zerolinecolor": "#E1E5ED"
        },
        "yaxis2": {
         "domain": [
          0,
          0.25
         ],
         "gridcolor": "#E1E5ED",
         "showgrid": true,
         "tickfont": {
          "color": "#4D5663"
         },
         "title": {
          "font": {
           "color": "#4D5663"
          },
          "text": "Spread"
         },
         "zerolinecolor": "#E1E5ED"
        }
       }
      },
      "text/html": [
       "<div>\n",
       "        \n",
       "        \n",
       "            <div id=\"fabd2429-06db-40b7-9f77-1d6dd5d4f587\" class=\"plotly-graph-div\" style=\"height:525px; width:100%;\"></div>\n",
       "            <script type=\"text/javascript\">\n",
       "                require([\"plotly\"], function(Plotly) {\n",
       "                    window.PLOTLYENV=window.PLOTLYENV || {};\n",
       "                    window.PLOTLYENV.BASE_URL='https://plot.ly';\n",
       "                    \n",
       "                if (document.getElementById(\"fabd2429-06db-40b7-9f77-1d6dd5d4f587\")) {\n",
       "                    Plotly.newPlot(\n",
       "                        'fabd2429-06db-40b7-9f77-1d6dd5d4f587',\n",
       "                        [{\"line\": {\"color\": \"rgba(255, 153, 51, 1.0)\", \"dash\": \"solid\", \"shape\": \"linear\", \"width\": 1.3}, \"mode\": \"lines\", \"name\": \"A\", \"text\": \"\", \"type\": \"scatter\", \"x\": [0, 1, 2, 3, 4, 5, 6, 7, 8, 9, 10, 11, 12, 13, 14, 15, 16, 17, 18, 19, 20, 21, 22, 23, 24, 25, 26, 27, 28, 29, 30, 31, 32, 33, 34, 35, 36, 37, 38, 39, 40, 41, 42, 43, 44, 45, 46, 47, 48, 49, 50, 51, 52, 53, 54, 55, 56, 57, 58, 59, 60, 61, 62, 63, 64, 65, 66, 67, 68, 69, 70, 71, 72, 73, 74, 75, 76, 77, 78, 79, 80, 81, 82, 83, 84, 85, 86, 87, 88, 89, 90, 91, 92, 93, 94, 95, 96, 97, 98, 99], \"y\": [0.2192150126893649, 0.41212764663850154, -0.27839766837010627, 0.3222178500267178, 1.1359559733338713, -0.971720425769713, 1.4329161629803917, -0.34578250445780295, 0.9221363208457326, -0.46018427034111126, 0.032535916019239226, -1.5775132350080174, 1.2509653911100467, 0.8333489234269918, -0.09408230960773854, 0.010236286462784547, 0.6198798548523512, -2.3694740941164874, 0.6446131044139314, 3.5825153483746544, -1.100859730297812, -0.28637707270395063, 1.2663027275521734, 0.4480018504819275, -0.04075310173488496, -1.3188747595733246, -0.25669888175689487, -0.7892384287614435, -0.5027860677713014, 0.08430359155613538, -0.40896809921325916, 1.2708262506705303, -0.38766034310350395, 0.4304639325836553, 1.8071040246302588, 1.4568874186053604, 0.9042403428138212, -0.7816990895945196, 0.7868373081101285, 0.9476543351449195, 1.1956296073512873, 0.41095470596658434, 1.0094261937662572, -0.44046838256526516, 1.0346716931466176, 0.11523886763913334, -0.31723607081444566, -0.716904274124458, 0.26466695448679606, -0.6379239557948869, 0.955179550321454, 1.6925209088368083, 1.7812391056276533, -1.4877766892101543, -1.1899544134286546, -0.10895806189072393, 1.321027710937083, -0.8784194756051036, 0.6504071261387132, 1.094753327689872, -0.2132623568016486, -0.7927137163590783, -0.45765125612752156, 0.28711097689175746, -0.8352933868433253, -2.0667869160062238, -0.35007642593563354, 0.9947487894082441, -1.1831678986229839, -0.8486257818723462, -0.2765927487443163, 0.7680784213053352, -0.9335626713391687, 0.21802436036050304, -0.9349362054526161, -0.011134013758786858, -1.6743957170983006, 0.12574163202444208, 1.1531777911767431, 1.2999741110066083, -0.2735192157650116, 0.595818583592944, 0.41802287494605567, 0.45030528691780813, -0.514456906944202, -0.4162077818331348, 2.4691714751126876, -1.365196733109609, 0.26790894446099445, -0.06926500967640424, 0.311983304253257, 1.1795697874824076, 0.3690061425350321, 1.0369119759384802, 0.11344630289523762, -0.8618742507166238, 1.0502865219767203, -0.6297527108271594, 2.0620223895254988, 0.28102629664114714]}, {\"line\": {\"color\": \"rgba(55, 128, 191, 1.0)\", \"dash\": \"solid\", \"shape\": \"linear\", \"width\": 1.3}, \"mode\": \"lines\", \"name\": \"B\", \"text\": \"\", \"type\": \"scatter\", \"x\": [0, 1, 2, 3, 4, 5, 6, 7, 8, 9, 10, 11, 12, 13, 14, 15, 16, 17, 18, 19, 20, 21, 22, 23, 24, 25, 26, 27, 28, 29, 30, 31, 32, 33, 34, 35, 36, 37, 38, 39, 40, 41, 42, 43, 44, 45, 46, 47, 48, 49, 50, 51, 52, 53, 54, 55, 56, 57, 58, 59, 60, 61, 62, 63, 64, 65, 66, 67, 68, 69, 70, 71, 72, 73, 74, 75, 76, 77, 78, 79, 80, 81, 82, 83, 84, 85, 86, 87, 88, 89, 90, 91, 92, 93, 94, 95, 96, 97, 98, 99], \"y\": [-2.5296842304295915, -0.9124939583658659, 1.9371572689115752, -0.04233086880753978, 1.1755323137692275, -0.7913343687872296, 0.34679771300378864, 0.1472644768462741, -0.5576417622152579, 1.0153627370487877, -0.006675276814364406, -1.3831667133442893, 0.23794366571150333, -0.046584210842764394, -0.23286229979657497, -1.059043175997328, -0.5639209672124689, 1.2466006179249922, 1.785304178140208, 0.7289995222261205, -0.2394784072597976, 0.6674022767035093, -1.7636884877840329, -1.7239697309413886, 1.6336503512461968, -0.09202348674133626, 1.0195082254673082, 0.6284543531925654, -0.9230405694743555, 0.8912283886498443, 0.6633555600973492, -1.5256437045839726, 0.9770914272419425, 1.7175529208127185, 0.8406491088530332, -1.2707511635610007, 1.38083980414698, -0.9203591200540816, -0.5004906455425786, -0.5399747143298336, -0.9896963608623736, 1.3306609274638301, 0.8926496038118524, -2.033822133364184, -0.8334681002973663, 0.14001110291725294, -0.685037044884312, 0.9415217721260292, -0.7396063904143044, 1.4124225135238375, 1.9904956031872585, 0.42500823802958937, 1.930846927734657, -1.9760870203704148, -1.0777631936672263, 0.902624464861868, -0.94669113465832, -0.9373697872008047, -1.4821469944733676, -0.9426236297971836, 1.0841383783955747, -2.0884924313952187, 0.8969041011425303, -1.5803644182734884, -1.3823710740159605, -1.5206872295882883, -0.2581375790682765, 1.156228135822335, -0.41662244466772547, -0.3490920630112603, 1.2895317025169495, -0.8821858086096042, -0.5387923050763868, -0.5663537185351362, -1.095431469835826, 0.6009775868516194, 2.614098758958872, -0.9592823177952877, 0.06536082847107165, -0.8496657523610329, -1.4681299656741593, 0.6701367636720044, 0.7744265354513329, 2.0586936414104375, 0.7915794301092625, 2.592940852157227, -1.3221424278325977, 2.8901840068359896, 0.561794978690869, 0.6610147433500252, 1.9933671238820154, 0.11772975628376309, -1.3513533772700421, 0.8043126148336902, -0.5690624329172052, 0.536251241812792, 0.7386353343412105, -0.976006012430902, -0.9283420207337423, 0.04110546621274906]}, {\"connectgaps\": false, \"fill\": \"tozeroy\", \"line\": {\"color\": \"green\", \"dash\": \"solid\", \"shape\": \"linear\", \"width\": 0.5}, \"mode\": \"lines\", \"name\": \"Spread\", \"showlegend\": false, \"type\": \"scatter\", \"x\": [0, 1, 2, 3, 4, 5, 6, 7, 8, 9, 10, 11, 12, 13, 14, 15, 16, 17, 18, 19, 20, 21, 22, 23, 24, 25, 26, 27, 28, 29, 30, 31, 32, 33, 34, 35, 36, 37, 38, 39, 40, 41, 42, 43, 44, 45, 46, 47, 48, 49, 50, 51, 52, 53, 54, 55, 56, 57, 58, 59, 60, 61, 62, 63, 64, 65, 66, 67, 68, 69, 70, 71, 72, 73, 74, 75, 76, 77, 78, 79, 80, 81, 82, 83, 84, 85, 86, 87, 88, 89, 90, 91, 92, 93, 94, 95, 96, 97, 98, 99], \"xaxis\": \"x2\", \"y\": [2.7488992431189563, 1.3246216050043675, \"\", 0.3645487188342576, \"\", \"\", 1.086118449976603, \"\", 1.4797780830609906, \"\", 0.03921119283360363, \"\", 1.0130217253985434, 0.8799331342697563, 0.1387799901888364, 1.0692794624601125, 1.18380082206482, \"\", \"\", 2.853515826148534, \"\", \"\", 3.0299912153362065, 2.1719715814233163, \"\", \"\", \"\", \"\", 0.4202545017030541, \"\", \"\", 2.796469955254503, \"\", \"\", 0.9664549157772255, 2.727638582166361, \"\", 0.138660030459562, 1.2873279536527071, 1.487629049474753, 2.185325968213661, \"\", 0.11677658995440476, 1.5933537507989188, 1.8681397934439838, \"\", 0.3678009740698664, \"\", 1.0042733449011005, \"\", \"\", 1.2675126708072189, \"\", 0.48831033116026057, \"\", \"\", 2.267718845595403, 0.05895031159570108, 2.132554120612081, 2.0373769574870555, \"\", 1.2957787150361404, \"\", 1.8674753951652459, 0.5470776871726352, \"\", \"\", \"\", \"\", \"\", \"\", 1.6502642299149395, \"\", 0.7843780788956392, 0.16049526438320993, \"\", \"\", 1.0850239498197298, 1.0878169627056715, 2.149639863367641, 1.1946107499091476, \"\", \"\", \"\", \"\", \"\", 3.7913139029452854, \"\", \"\", \"\", \"\", 1.0618400311986445, 1.7203595198050743, 0.23259936110478996, 0.6825087358124428, \"\", 0.3116511876355098, 0.34625330160374257, 2.9903644102592413, 0.23992083042839807], \"yaxis\": \"y2\"}, {\"connectgaps\": false, \"fill\": \"tozeroy\", \"line\": {\"color\": \"red\", \"dash\": \"solid\", \"shape\": \"linear\", \"width\": 0.5}, \"mode\": \"lines\", \"name\": \"Spread\", \"showlegend\": false, \"type\": \"scatter\", \"x\": [0, 1, 2, 3, 4, 5, 6, 7, 8, 9, 10, 11, 12, 13, 14, 15, 16, 17, 18, 19, 20, 21, 22, 23, 24, 25, 26, 27, 28, 29, 30, 31, 32, 33, 34, 35, 36, 37, 38, 39, 40, 41, 42, 43, 44, 45, 46, 47, 48, 49, 50, 51, 52, 53, 54, 55, 56, 57, 58, 59, 60, 61, 62, 63, 64, 65, 66, 67, 68, 69, 70, 71, 72, 73, 74, 75, 76, 77, 78, 79, 80, 81, 82, 83, 84, 85, 86, 87, 88, 89, 90, 91, 92, 93, 94, 95, 96, 97, 98, 99], \"xaxis\": \"x2\", \"y\": [\"\", \"\", -2.2155549372816816, \"\", -0.03957634043535618, -0.18038605698248333, \"\", -0.4930469813040771, \"\", -1.4755470073898989, \"\", -0.19434652166372812, \"\", \"\", \"\", \"\", \"\", -3.6160747120414793, -1.1406910737262765, \"\", -0.8613813230380144, -0.9537793494074599, \"\", \"\", -1.6744034529810818, -1.2268512728319882, -1.2762071072242032, -1.4176927819540088, \"\", -0.8069247970937089, -1.0723236593106082, \"\", -1.3647517703454466, -1.2870889882290633, \"\", \"\", -0.4765994613331589, \"\", \"\", \"\", \"\", -0.9197062214972458, \"\", \"\", \"\", -0.0247722352781196, \"\", -1.6584260462504872, \"\", -2.0503464693187246, -1.0353160528658045, \"\", -0.14960782210700363, \"\", -0.11219121976142832, -1.011582526752592, \"\", \"\", \"\", \"\", -1.2974007351972232, \"\", -1.3545553572700517, \"\", \"\", -0.5460996864179355, -0.09193884686735704, -0.1614793464140909, -0.7665454539552584, -0.4995337188610859, -1.5661244512612658, \"\", -0.39477036626278195, \"\", \"\", -0.6121116006104063, -4.288494476057172, \"\", \"\", \"\", \"\", -0.07431818007906033, -0.3564036605052772, -1.6083883544926294, -1.3060363370534644, -3.0091486339903617, \"\", -4.255380739945599, -0.2938860342298746, -0.7302797530264294, -1.6813838196287585, \"\", \"\", \"\", \"\", -1.3981254925294158, \"\", \"\", \"\", \"\"], \"yaxis\": \"y2\"}],\n",
       "                        {\"hovermode\": \"x\", \"legend\": {\"bgcolor\": \"#F5F6F9\", \"font\": {\"color\": \"#4D5663\"}}, \"paper_bgcolor\": \"#F5F6F9\", \"plot_bgcolor\": \"#F5F6F9\", \"template\": {\"data\": {\"bar\": [{\"error_x\": {\"color\": \"#2a3f5f\"}, \"error_y\": {\"color\": \"#2a3f5f\"}, \"marker\": {\"line\": {\"color\": \"#E5ECF6\", \"width\": 0.5}}, \"type\": \"bar\"}], \"barpolar\": [{\"marker\": {\"line\": {\"color\": \"#E5ECF6\", \"width\": 0.5}}, \"type\": \"barpolar\"}], \"carpet\": [{\"aaxis\": {\"endlinecolor\": \"#2a3f5f\", \"gridcolor\": \"white\", \"linecolor\": \"white\", \"minorgridcolor\": \"white\", \"startlinecolor\": \"#2a3f5f\"}, \"baxis\": {\"endlinecolor\": \"#2a3f5f\", \"gridcolor\": \"white\", \"linecolor\": \"white\", \"minorgridcolor\": \"white\", \"startlinecolor\": \"#2a3f5f\"}, \"type\": \"carpet\"}], \"choropleth\": [{\"colorbar\": {\"outlinewidth\": 0, \"ticks\": \"\"}, \"type\": \"choropleth\"}], \"contour\": [{\"colorbar\": {\"outlinewidth\": 0, \"ticks\": \"\"}, \"colorscale\": [[0.0, \"#0d0887\"], [0.1111111111111111, \"#46039f\"], [0.2222222222222222, \"#7201a8\"], [0.3333333333333333, \"#9c179e\"], [0.4444444444444444, \"#bd3786\"], [0.5555555555555556, \"#d8576b\"], [0.6666666666666666, \"#ed7953\"], [0.7777777777777778, \"#fb9f3a\"], [0.8888888888888888, \"#fdca26\"], [1.0, \"#f0f921\"]], \"type\": \"contour\"}], \"contourcarpet\": [{\"colorbar\": {\"outlinewidth\": 0, \"ticks\": \"\"}, \"type\": \"contourcarpet\"}], \"heatmap\": [{\"colorbar\": {\"outlinewidth\": 0, \"ticks\": \"\"}, \"colorscale\": [[0.0, \"#0d0887\"], [0.1111111111111111, \"#46039f\"], [0.2222222222222222, \"#7201a8\"], [0.3333333333333333, \"#9c179e\"], [0.4444444444444444, \"#bd3786\"], [0.5555555555555556, \"#d8576b\"], [0.6666666666666666, \"#ed7953\"], [0.7777777777777778, \"#fb9f3a\"], [0.8888888888888888, \"#fdca26\"], [1.0, \"#f0f921\"]], \"type\": \"heatmap\"}], \"heatmapgl\": [{\"colorbar\": {\"outlinewidth\": 0, \"ticks\": \"\"}, \"colorscale\": [[0.0, \"#0d0887\"], [0.1111111111111111, \"#46039f\"], [0.2222222222222222, \"#7201a8\"], [0.3333333333333333, \"#9c179e\"], [0.4444444444444444, \"#bd3786\"], [0.5555555555555556, \"#d8576b\"], [0.6666666666666666, \"#ed7953\"], [0.7777777777777778, \"#fb9f3a\"], [0.8888888888888888, \"#fdca26\"], [1.0, \"#f0f921\"]], \"type\": \"heatmapgl\"}], \"histogram\": [{\"marker\": {\"colorbar\": {\"outlinewidth\": 0, \"ticks\": \"\"}}, \"type\": \"histogram\"}], \"histogram2d\": [{\"colorbar\": {\"outlinewidth\": 0, \"ticks\": \"\"}, \"colorscale\": [[0.0, \"#0d0887\"], [0.1111111111111111, \"#46039f\"], [0.2222222222222222, \"#7201a8\"], [0.3333333333333333, \"#9c179e\"], [0.4444444444444444, \"#bd3786\"], [0.5555555555555556, \"#d8576b\"], [0.6666666666666666, \"#ed7953\"], [0.7777777777777778, \"#fb9f3a\"], [0.8888888888888888, \"#fdca26\"], [1.0, \"#f0f921\"]], \"type\": \"histogram2d\"}], \"histogram2dcontour\": [{\"colorbar\": {\"outlinewidth\": 0, \"ticks\": \"\"}, \"colorscale\": [[0.0, \"#0d0887\"], [0.1111111111111111, \"#46039f\"], [0.2222222222222222, \"#7201a8\"], [0.3333333333333333, \"#9c179e\"], [0.4444444444444444, \"#bd3786\"], [0.5555555555555556, \"#d8576b\"], [0.6666666666666666, \"#ed7953\"], [0.7777777777777778, \"#fb9f3a\"], [0.8888888888888888, \"#fdca26\"], [1.0, \"#f0f921\"]], \"type\": \"histogram2dcontour\"}], \"mesh3d\": [{\"colorbar\": {\"outlinewidth\": 0, \"ticks\": \"\"}, \"type\": \"mesh3d\"}], \"parcoords\": [{\"line\": {\"colorbar\": {\"outlinewidth\": 0, \"ticks\": \"\"}}, \"type\": \"parcoords\"}], \"pie\": [{\"automargin\": true, \"type\": \"pie\"}], \"scatter\": [{\"marker\": {\"colorbar\": {\"outlinewidth\": 0, \"ticks\": \"\"}}, \"type\": \"scatter\"}], \"scatter3d\": [{\"line\": {\"colorbar\": {\"outlinewidth\": 0, \"ticks\": \"\"}}, \"marker\": {\"colorbar\": {\"outlinewidth\": 0, \"ticks\": \"\"}}, \"type\": \"scatter3d\"}], \"scattercarpet\": [{\"marker\": {\"colorbar\": {\"outlinewidth\": 0, \"ticks\": \"\"}}, \"type\": \"scattercarpet\"}], \"scattergeo\": [{\"marker\": {\"colorbar\": {\"outlinewidth\": 0, \"ticks\": \"\"}}, \"type\": \"scattergeo\"}], \"scattergl\": [{\"marker\": {\"colorbar\": {\"outlinewidth\": 0, \"ticks\": \"\"}}, \"type\": \"scattergl\"}], \"scattermapbox\": [{\"marker\": {\"colorbar\": {\"outlinewidth\": 0, \"ticks\": \"\"}}, \"type\": \"scattermapbox\"}], \"scatterpolar\": [{\"marker\": {\"colorbar\": {\"outlinewidth\": 0, \"ticks\": \"\"}}, \"type\": \"scatterpolar\"}], \"scatterpolargl\": [{\"marker\": {\"colorbar\": {\"outlinewidth\": 0, \"ticks\": \"\"}}, \"type\": \"scatterpolargl\"}], \"scatterternary\": [{\"marker\": {\"colorbar\": {\"outlinewidth\": 0, \"ticks\": \"\"}}, \"type\": \"scatterternary\"}], \"surface\": [{\"colorbar\": {\"outlinewidth\": 0, \"ticks\": \"\"}, \"colorscale\": [[0.0, \"#0d0887\"], [0.1111111111111111, \"#46039f\"], [0.2222222222222222, \"#7201a8\"], [0.3333333333333333, \"#9c179e\"], [0.4444444444444444, \"#bd3786\"], [0.5555555555555556, \"#d8576b\"], [0.6666666666666666, \"#ed7953\"], [0.7777777777777778, \"#fb9f3a\"], [0.8888888888888888, \"#fdca26\"], [1.0, \"#f0f921\"]], \"type\": \"surface\"}], \"table\": [{\"cells\": {\"fill\": {\"color\": \"#EBF0F8\"}, \"line\": {\"color\": \"white\"}}, \"header\": {\"fill\": {\"color\": \"#C8D4E3\"}, \"line\": {\"color\": \"white\"}}, \"type\": \"table\"}]}, \"layout\": {\"annotationdefaults\": {\"arrowcolor\": \"#2a3f5f\", \"arrowhead\": 0, \"arrowwidth\": 1}, \"coloraxis\": {\"colorbar\": {\"outlinewidth\": 0, \"ticks\": \"\"}}, \"colorscale\": {\"diverging\": [[0, \"#8e0152\"], [0.1, \"#c51b7d\"], [0.2, \"#de77ae\"], [0.3, \"#f1b6da\"], [0.4, \"#fde0ef\"], [0.5, \"#f7f7f7\"], [0.6, \"#e6f5d0\"], [0.7, \"#b8e186\"], [0.8, \"#7fbc41\"], [0.9, \"#4d9221\"], [1, \"#276419\"]], \"sequential\": [[0.0, \"#0d0887\"], [0.1111111111111111, \"#46039f\"], [0.2222222222222222, \"#7201a8\"], [0.3333333333333333, \"#9c179e\"], [0.4444444444444444, \"#bd3786\"], [0.5555555555555556, \"#d8576b\"], [0.6666666666666666, \"#ed7953\"], [0.7777777777777778, \"#fb9f3a\"], [0.8888888888888888, \"#fdca26\"], [1.0, \"#f0f921\"]], \"sequentialminus\": [[0.0, \"#0d0887\"], [0.1111111111111111, \"#46039f\"], [0.2222222222222222, \"#7201a8\"], [0.3333333333333333, \"#9c179e\"], [0.4444444444444444, \"#bd3786\"], [0.5555555555555556, \"#d8576b\"], [0.6666666666666666, \"#ed7953\"], [0.7777777777777778, \"#fb9f3a\"], [0.8888888888888888, \"#fdca26\"], [1.0, \"#f0f921\"]]}, \"colorway\": [\"#636efa\", \"#EF553B\", \"#00cc96\", \"#ab63fa\", \"#FFA15A\", \"#19d3f3\", \"#FF6692\", \"#B6E880\", \"#FF97FF\", \"#FECB52\"], \"font\": {\"color\": \"#2a3f5f\"}, \"geo\": {\"bgcolor\": \"white\", \"lakecolor\": \"white\", \"landcolor\": \"#E5ECF6\", \"showlakes\": true, \"showland\": true, \"subunitcolor\": \"white\"}, \"hoverlabel\": {\"align\": \"left\"}, \"hovermode\": \"closest\", \"mapbox\": {\"style\": \"light\"}, \"paper_bgcolor\": \"white\", \"plot_bgcolor\": \"#E5ECF6\", \"polar\": {\"angularaxis\": {\"gridcolor\": \"white\", \"linecolor\": \"white\", \"ticks\": \"\"}, \"bgcolor\": \"#E5ECF6\", \"radialaxis\": {\"gridcolor\": \"white\", \"linecolor\": \"white\", \"ticks\": \"\"}}, \"scene\": {\"xaxis\": {\"backgroundcolor\": \"#E5ECF6\", \"gridcolor\": \"white\", \"gridwidth\": 2, \"linecolor\": \"white\", \"showbackground\": true, \"ticks\": \"\", \"zerolinecolor\": \"white\"}, \"yaxis\": {\"backgroundcolor\": \"#E5ECF6\", \"gridcolor\": \"white\", \"gridwidth\": 2, \"linecolor\": \"white\", \"showbackground\": true, \"ticks\": \"\", \"zerolinecolor\": \"white\"}, \"zaxis\": {\"backgroundcolor\": \"#E5ECF6\", \"gridcolor\": \"white\", \"gridwidth\": 2, \"linecolor\": \"white\", \"showbackground\": true, \"ticks\": \"\", \"zerolinecolor\": \"white\"}}, \"shapedefaults\": {\"line\": {\"color\": \"#2a3f5f\"}}, \"ternary\": {\"aaxis\": {\"gridcolor\": \"white\", \"linecolor\": \"white\", \"ticks\": \"\"}, \"baxis\": {\"gridcolor\": \"white\", \"linecolor\": \"white\", \"ticks\": \"\"}, \"bgcolor\": \"#E5ECF6\", \"caxis\": {\"gridcolor\": \"white\", \"linecolor\": \"white\", \"ticks\": \"\"}}, \"title\": {\"x\": 0.05}, \"xaxis\": {\"automargin\": true, \"gridcolor\": \"white\", \"linecolor\": \"white\", \"ticks\": \"\", \"title\": {\"standoff\": 15}, \"zerolinecolor\": \"white\", \"zerolinewidth\": 2}, \"yaxis\": {\"automargin\": true, \"gridcolor\": \"white\", \"linecolor\": \"white\", \"ticks\": \"\", \"title\": {\"standoff\": 15}, \"zerolinecolor\": \"white\", \"zerolinewidth\": 2}}}, \"title\": {\"font\": {\"color\": \"#4D5663\"}}, \"xaxis\": {\"gridcolor\": \"#E1E5ED\", \"showgrid\": true, \"tickfont\": {\"color\": \"#4D5663\"}, \"title\": {\"font\": {\"color\": \"#4D5663\"}, \"text\": \"\"}, \"zerolinecolor\": \"#E1E5ED\"}, \"xaxis2\": {\"anchor\": \"y2\", \"gridcolor\": \"#E1E5ED\", \"showgrid\": true, \"showticklabels\": false, \"tickfont\": {\"color\": \"#4D5663\"}, \"title\": {\"font\": {\"color\": \"#4D5663\"}, \"text\": \"\"}, \"zerolinecolor\": \"#E1E5ED\"}, \"yaxis\": {\"domain\": [0.3, 1], \"gridcolor\": \"#E1E5ED\", \"showgrid\": true, \"tickfont\": {\"color\": \"#4D5663\"}, \"title\": {\"font\": {\"color\": \"#4D5663\"}, \"text\": \"\"}, \"zerolinecolor\": \"#E1E5ED\"}, \"yaxis2\": {\"domain\": [0, 0.25], \"gridcolor\": \"#E1E5ED\", \"showgrid\": true, \"tickfont\": {\"color\": \"#4D5663\"}, \"title\": {\"font\": {\"color\": \"#4D5663\"}, \"text\": \"Spread\"}, \"zerolinecolor\": \"#E1E5ED\"}},\n",
       "                        {\"showLink\": true, \"linkText\": \"Export to plot.ly\", \"plotlyServerURL\": \"https://plot.ly\", \"responsive\": true}\n",
       "                    ).then(function(){\n",
       "                            \n",
       "var gd = document.getElementById('fabd2429-06db-40b7-9f77-1d6dd5d4f587');\n",
       "var x = new MutationObserver(function (mutations, observer) {{\n",
       "        var display = window.getComputedStyle(gd).display;\n",
       "        if (!display || display === 'none') {{\n",
       "            console.log([gd, 'removed!']);\n",
       "            Plotly.purge(gd);\n",
       "            observer.disconnect();\n",
       "        }}\n",
       "}});\n",
       "\n",
       "// Listen for the removal of the full notebook cells\n",
       "var notebookContainer = gd.closest('#notebook-container');\n",
       "if (notebookContainer) {{\n",
       "    x.observe(notebookContainer, {childList: true});\n",
       "}}\n",
       "\n",
       "// Listen for the clearing of the current output cell\n",
       "var outputEl = gd.closest('.output');\n",
       "if (outputEl) {{\n",
       "    x.observe(outputEl, {childList: true});\n",
       "}}\n",
       "\n",
       "                        })\n",
       "                };\n",
       "                });\n",
       "            </script>\n",
       "        </div>"
      ]
     },
     "metadata": {},
     "output_type": "display_data"
    }
   ],
   "source": [
    "df[['A','B']].iplot(kind='spread')"
   ]
  },
  {
   "cell_type": "markdown",
   "metadata": {},
   "source": [
    "## histogram"
   ]
  },
  {
   "cell_type": "code",
   "execution_count": 19,
   "metadata": {},
   "outputs": [
    {
     "data": {
      "application/vnd.plotly.v1+json": {
       "config": {
        "linkText": "Export to plot.ly",
        "plotlyServerURL": "https://plot.ly",
        "showLink": true
       },
       "data": [
        {
         "histfunc": "count",
         "histnorm": "",
         "marker": {
          "color": "rgba(255, 153, 51, 1.0)",
          "line": {
           "color": "#4D5663",
           "width": 1.3
          }
         },
         "name": "A",
         "nbinsx": 25,
         "opacity": 0.8,
         "orientation": "v",
         "type": "histogram",
         "x": [
          0.2192150126893649,
          0.41212764663850154,
          -0.27839766837010627,
          0.3222178500267178,
          1.1359559733338713,
          -0.971720425769713,
          1.4329161629803917,
          -0.34578250445780295,
          0.9221363208457326,
          -0.46018427034111126,
          0.032535916019239226,
          -1.5775132350080174,
          1.2509653911100467,
          0.8333489234269918,
          -0.09408230960773854,
          0.010236286462784547,
          0.6198798548523512,
          -2.3694740941164874,
          0.6446131044139314,
          3.5825153483746544,
          -1.100859730297812,
          -0.28637707270395063,
          1.2663027275521734,
          0.4480018504819275,
          -0.04075310173488496,
          -1.3188747595733246,
          -0.25669888175689487,
          -0.7892384287614435,
          -0.5027860677713014,
          0.08430359155613538,
          -0.40896809921325916,
          1.2708262506705303,
          -0.38766034310350395,
          0.4304639325836553,
          1.8071040246302588,
          1.4568874186053604,
          0.9042403428138212,
          -0.7816990895945196,
          0.7868373081101285,
          0.9476543351449195,
          1.1956296073512873,
          0.41095470596658434,
          1.0094261937662572,
          -0.44046838256526516,
          1.0346716931466176,
          0.11523886763913334,
          -0.31723607081444566,
          -0.716904274124458,
          0.26466695448679606,
          -0.6379239557948869,
          0.955179550321454,
          1.6925209088368083,
          1.7812391056276533,
          -1.4877766892101543,
          -1.1899544134286546,
          -0.10895806189072393,
          1.321027710937083,
          -0.8784194756051036,
          0.6504071261387132,
          1.094753327689872,
          -0.2132623568016486,
          -0.7927137163590783,
          -0.45765125612752156,
          0.28711097689175746,
          -0.8352933868433253,
          -2.0667869160062238,
          -0.35007642593563354,
          0.9947487894082441,
          -1.1831678986229839,
          -0.8486257818723462,
          -0.2765927487443163,
          0.7680784213053352,
          -0.9335626713391687,
          0.21802436036050304,
          -0.9349362054526161,
          -0.011134013758786858,
          -1.6743957170983006,
          0.12574163202444208,
          1.1531777911767431,
          1.2999741110066083,
          -0.2735192157650116,
          0.595818583592944,
          0.41802287494605567,
          0.45030528691780813,
          -0.514456906944202,
          -0.4162077818331348,
          2.4691714751126876,
          -1.365196733109609,
          0.26790894446099445,
          -0.06926500967640424,
          0.311983304253257,
          1.1795697874824076,
          0.3690061425350321,
          1.0369119759384802,
          0.11344630289523762,
          -0.8618742507166238,
          1.0502865219767203,
          -0.6297527108271594,
          2.0620223895254988,
          0.28102629664114714
         ]
        }
       ],
       "layout": {
        "barmode": "overlay",
        "legend": {
         "bgcolor": "#F5F6F9",
         "font": {
          "color": "#4D5663"
         }
        },
        "paper_bgcolor": "#F5F6F9",
        "plot_bgcolor": "#F5F6F9",
        "template": {
         "data": {
          "bar": [
           {
            "error_x": {
             "color": "#2a3f5f"
            },
            "error_y": {
             "color": "#2a3f5f"
            },
            "marker": {
             "line": {
              "color": "#E5ECF6",
              "width": 0.5
             }
            },
            "type": "bar"
           }
          ],
          "barpolar": [
           {
            "marker": {
             "line": {
              "color": "#E5ECF6",
              "width": 0.5
             }
            },
            "type": "barpolar"
           }
          ],
          "carpet": [
           {
            "aaxis": {
             "endlinecolor": "#2a3f5f",
             "gridcolor": "white",
             "linecolor": "white",
             "minorgridcolor": "white",
             "startlinecolor": "#2a3f5f"
            },
            "baxis": {
             "endlinecolor": "#2a3f5f",
             "gridcolor": "white",
             "linecolor": "white",
             "minorgridcolor": "white",
             "startlinecolor": "#2a3f5f"
            },
            "type": "carpet"
           }
          ],
          "choropleth": [
           {
            "colorbar": {
             "outlinewidth": 0,
             "ticks": ""
            },
            "type": "choropleth"
           }
          ],
          "contour": [
           {
            "colorbar": {
             "outlinewidth": 0,
             "ticks": ""
            },
            "colorscale": [
             [
              0,
              "#0d0887"
             ],
             [
              0.1111111111111111,
              "#46039f"
             ],
             [
              0.2222222222222222,
              "#7201a8"
             ],
             [
              0.3333333333333333,
              "#9c179e"
             ],
             [
              0.4444444444444444,
              "#bd3786"
             ],
             [
              0.5555555555555556,
              "#d8576b"
             ],
             [
              0.6666666666666666,
              "#ed7953"
             ],
             [
              0.7777777777777778,
              "#fb9f3a"
             ],
             [
              0.8888888888888888,
              "#fdca26"
             ],
             [
              1,
              "#f0f921"
             ]
            ],
            "type": "contour"
           }
          ],
          "contourcarpet": [
           {
            "colorbar": {
             "outlinewidth": 0,
             "ticks": ""
            },
            "type": "contourcarpet"
           }
          ],
          "heatmap": [
           {
            "colorbar": {
             "outlinewidth": 0,
             "ticks": ""
            },
            "colorscale": [
             [
              0,
              "#0d0887"
             ],
             [
              0.1111111111111111,
              "#46039f"
             ],
             [
              0.2222222222222222,
              "#7201a8"
             ],
             [
              0.3333333333333333,
              "#9c179e"
             ],
             [
              0.4444444444444444,
              "#bd3786"
             ],
             [
              0.5555555555555556,
              "#d8576b"
             ],
             [
              0.6666666666666666,
              "#ed7953"
             ],
             [
              0.7777777777777778,
              "#fb9f3a"
             ],
             [
              0.8888888888888888,
              "#fdca26"
             ],
             [
              1,
              "#f0f921"
             ]
            ],
            "type": "heatmap"
           }
          ],
          "heatmapgl": [
           {
            "colorbar": {
             "outlinewidth": 0,
             "ticks": ""
            },
            "colorscale": [
             [
              0,
              "#0d0887"
             ],
             [
              0.1111111111111111,
              "#46039f"
             ],
             [
              0.2222222222222222,
              "#7201a8"
             ],
             [
              0.3333333333333333,
              "#9c179e"
             ],
             [
              0.4444444444444444,
              "#bd3786"
             ],
             [
              0.5555555555555556,
              "#d8576b"
             ],
             [
              0.6666666666666666,
              "#ed7953"
             ],
             [
              0.7777777777777778,
              "#fb9f3a"
             ],
             [
              0.8888888888888888,
              "#fdca26"
             ],
             [
              1,
              "#f0f921"
             ]
            ],
            "type": "heatmapgl"
           }
          ],
          "histogram": [
           {
            "marker": {
             "colorbar": {
              "outlinewidth": 0,
              "ticks": ""
             }
            },
            "type": "histogram"
           }
          ],
          "histogram2d": [
           {
            "colorbar": {
             "outlinewidth": 0,
             "ticks": ""
            },
            "colorscale": [
             [
              0,
              "#0d0887"
             ],
             [
              0.1111111111111111,
              "#46039f"
             ],
             [
              0.2222222222222222,
              "#7201a8"
             ],
             [
              0.3333333333333333,
              "#9c179e"
             ],
             [
              0.4444444444444444,
              "#bd3786"
             ],
             [
              0.5555555555555556,
              "#d8576b"
             ],
             [
              0.6666666666666666,
              "#ed7953"
             ],
             [
              0.7777777777777778,
              "#fb9f3a"
             ],
             [
              0.8888888888888888,
              "#fdca26"
             ],
             [
              1,
              "#f0f921"
             ]
            ],
            "type": "histogram2d"
           }
          ],
          "histogram2dcontour": [
           {
            "colorbar": {
             "outlinewidth": 0,
             "ticks": ""
            },
            "colorscale": [
             [
              0,
              "#0d0887"
             ],
             [
              0.1111111111111111,
              "#46039f"
             ],
             [
              0.2222222222222222,
              "#7201a8"
             ],
             [
              0.3333333333333333,
              "#9c179e"
             ],
             [
              0.4444444444444444,
              "#bd3786"
             ],
             [
              0.5555555555555556,
              "#d8576b"
             ],
             [
              0.6666666666666666,
              "#ed7953"
             ],
             [
              0.7777777777777778,
              "#fb9f3a"
             ],
             [
              0.8888888888888888,
              "#fdca26"
             ],
             [
              1,
              "#f0f921"
             ]
            ],
            "type": "histogram2dcontour"
           }
          ],
          "mesh3d": [
           {
            "colorbar": {
             "outlinewidth": 0,
             "ticks": ""
            },
            "type": "mesh3d"
           }
          ],
          "parcoords": [
           {
            "line": {
             "colorbar": {
              "outlinewidth": 0,
              "ticks": ""
             }
            },
            "type": "parcoords"
           }
          ],
          "pie": [
           {
            "automargin": true,
            "type": "pie"
           }
          ],
          "scatter": [
           {
            "marker": {
             "colorbar": {
              "outlinewidth": 0,
              "ticks": ""
             }
            },
            "type": "scatter"
           }
          ],
          "scatter3d": [
           {
            "line": {
             "colorbar": {
              "outlinewidth": 0,
              "ticks": ""
             }
            },
            "marker": {
             "colorbar": {
              "outlinewidth": 0,
              "ticks": ""
             }
            },
            "type": "scatter3d"
           }
          ],
          "scattercarpet": [
           {
            "marker": {
             "colorbar": {
              "outlinewidth": 0,
              "ticks": ""
             }
            },
            "type": "scattercarpet"
           }
          ],
          "scattergeo": [
           {
            "marker": {
             "colorbar": {
              "outlinewidth": 0,
              "ticks": ""
             }
            },
            "type": "scattergeo"
           }
          ],
          "scattergl": [
           {
            "marker": {
             "colorbar": {
              "outlinewidth": 0,
              "ticks": ""
             }
            },
            "type": "scattergl"
           }
          ],
          "scattermapbox": [
           {
            "marker": {
             "colorbar": {
              "outlinewidth": 0,
              "ticks": ""
             }
            },
            "type": "scattermapbox"
           }
          ],
          "scatterpolar": [
           {
            "marker": {
             "colorbar": {
              "outlinewidth": 0,
              "ticks": ""
             }
            },
            "type": "scatterpolar"
           }
          ],
          "scatterpolargl": [
           {
            "marker": {
             "colorbar": {
              "outlinewidth": 0,
              "ticks": ""
             }
            },
            "type": "scatterpolargl"
           }
          ],
          "scatterternary": [
           {
            "marker": {
             "colorbar": {
              "outlinewidth": 0,
              "ticks": ""
             }
            },
            "type": "scatterternary"
           }
          ],
          "surface": [
           {
            "colorbar": {
             "outlinewidth": 0,
             "ticks": ""
            },
            "colorscale": [
             [
              0,
              "#0d0887"
             ],
             [
              0.1111111111111111,
              "#46039f"
             ],
             [
              0.2222222222222222,
              "#7201a8"
             ],
             [
              0.3333333333333333,
              "#9c179e"
             ],
             [
              0.4444444444444444,
              "#bd3786"
             ],
             [
              0.5555555555555556,
              "#d8576b"
             ],
             [
              0.6666666666666666,
              "#ed7953"
             ],
             [
              0.7777777777777778,
              "#fb9f3a"
             ],
             [
              0.8888888888888888,
              "#fdca26"
             ],
             [
              1,
              "#f0f921"
             ]
            ],
            "type": "surface"
           }
          ],
          "table": [
           {
            "cells": {
             "fill": {
              "color": "#EBF0F8"
             },
             "line": {
              "color": "white"
             }
            },
            "header": {
             "fill": {
              "color": "#C8D4E3"
             },
             "line": {
              "color": "white"
             }
            },
            "type": "table"
           }
          ]
         },
         "layout": {
          "annotationdefaults": {
           "arrowcolor": "#2a3f5f",
           "arrowhead": 0,
           "arrowwidth": 1
          },
          "coloraxis": {
           "colorbar": {
            "outlinewidth": 0,
            "ticks": ""
           }
          },
          "colorscale": {
           "diverging": [
            [
             0,
             "#8e0152"
            ],
            [
             0.1,
             "#c51b7d"
            ],
            [
             0.2,
             "#de77ae"
            ],
            [
             0.3,
             "#f1b6da"
            ],
            [
             0.4,
             "#fde0ef"
            ],
            [
             0.5,
             "#f7f7f7"
            ],
            [
             0.6,
             "#e6f5d0"
            ],
            [
             0.7,
             "#b8e186"
            ],
            [
             0.8,
             "#7fbc41"
            ],
            [
             0.9,
             "#4d9221"
            ],
            [
             1,
             "#276419"
            ]
           ],
           "sequential": [
            [
             0,
             "#0d0887"
            ],
            [
             0.1111111111111111,
             "#46039f"
            ],
            [
             0.2222222222222222,
             "#7201a8"
            ],
            [
             0.3333333333333333,
             "#9c179e"
            ],
            [
             0.4444444444444444,
             "#bd3786"
            ],
            [
             0.5555555555555556,
             "#d8576b"
            ],
            [
             0.6666666666666666,
             "#ed7953"
            ],
            [
             0.7777777777777778,
             "#fb9f3a"
            ],
            [
             0.8888888888888888,
             "#fdca26"
            ],
            [
             1,
             "#f0f921"
            ]
           ],
           "sequentialminus": [
            [
             0,
             "#0d0887"
            ],
            [
             0.1111111111111111,
             "#46039f"
            ],
            [
             0.2222222222222222,
             "#7201a8"
            ],
            [
             0.3333333333333333,
             "#9c179e"
            ],
            [
             0.4444444444444444,
             "#bd3786"
            ],
            [
             0.5555555555555556,
             "#d8576b"
            ],
            [
             0.6666666666666666,
             "#ed7953"
            ],
            [
             0.7777777777777778,
             "#fb9f3a"
            ],
            [
             0.8888888888888888,
             "#fdca26"
            ],
            [
             1,
             "#f0f921"
            ]
           ]
          },
          "colorway": [
           "#636efa",
           "#EF553B",
           "#00cc96",
           "#ab63fa",
           "#FFA15A",
           "#19d3f3",
           "#FF6692",
           "#B6E880",
           "#FF97FF",
           "#FECB52"
          ],
          "font": {
           "color": "#2a3f5f"
          },
          "geo": {
           "bgcolor": "white",
           "lakecolor": "white",
           "landcolor": "#E5ECF6",
           "showlakes": true,
           "showland": true,
           "subunitcolor": "white"
          },
          "hoverlabel": {
           "align": "left"
          },
          "hovermode": "closest",
          "mapbox": {
           "style": "light"
          },
          "paper_bgcolor": "white",
          "plot_bgcolor": "#E5ECF6",
          "polar": {
           "angularaxis": {
            "gridcolor": "white",
            "linecolor": "white",
            "ticks": ""
           },
           "bgcolor": "#E5ECF6",
           "radialaxis": {
            "gridcolor": "white",
            "linecolor": "white",
            "ticks": ""
           }
          },
          "scene": {
           "xaxis": {
            "backgroundcolor": "#E5ECF6",
            "gridcolor": "white",
            "gridwidth": 2,
            "linecolor": "white",
            "showbackground": true,
            "ticks": "",
            "zerolinecolor": "white"
           },
           "yaxis": {
            "backgroundcolor": "#E5ECF6",
            "gridcolor": "white",
            "gridwidth": 2,
            "linecolor": "white",
            "showbackground": true,
            "ticks": "",
            "zerolinecolor": "white"
           },
           "zaxis": {
            "backgroundcolor": "#E5ECF6",
            "gridcolor": "white",
            "gridwidth": 2,
            "linecolor": "white",
            "showbackground": true,
            "ticks": "",
            "zerolinecolor": "white"
           }
          },
          "shapedefaults": {
           "line": {
            "color": "#2a3f5f"
           }
          },
          "ternary": {
           "aaxis": {
            "gridcolor": "white",
            "linecolor": "white",
            "ticks": ""
           },
           "baxis": {
            "gridcolor": "white",
            "linecolor": "white",
            "ticks": ""
           },
           "bgcolor": "#E5ECF6",
           "caxis": {
            "gridcolor": "white",
            "linecolor": "white",
            "ticks": ""
           }
          },
          "title": {
           "x": 0.05
          },
          "xaxis": {
           "automargin": true,
           "gridcolor": "white",
           "linecolor": "white",
           "ticks": "",
           "title": {
            "standoff": 15
           },
           "zerolinecolor": "white",
           "zerolinewidth": 2
          },
          "yaxis": {
           "automargin": true,
           "gridcolor": "white",
           "linecolor": "white",
           "ticks": "",
           "title": {
            "standoff": 15
           },
           "zerolinecolor": "white",
           "zerolinewidth": 2
          }
         }
        },
        "title": {
         "font": {
          "color": "#4D5663"
         }
        },
        "xaxis": {
         "gridcolor": "#E1E5ED",
         "showgrid": true,
         "tickfont": {
          "color": "#4D5663"
         },
         "title": {
          "font": {
           "color": "#4D5663"
          },
          "text": ""
         },
         "zerolinecolor": "#E1E5ED"
        },
        "yaxis": {
         "gridcolor": "#E1E5ED",
         "showgrid": true,
         "tickfont": {
          "color": "#4D5663"
         },
         "title": {
          "font": {
           "color": "#4D5663"
          },
          "text": ""
         },
         "zerolinecolor": "#E1E5ED"
        }
       }
      },
      "text/html": [
       "<div>\n",
       "        \n",
       "        \n",
       "            <div id=\"6351df74-2ded-4be2-b917-abfc216e9834\" class=\"plotly-graph-div\" style=\"height:525px; width:100%;\"></div>\n",
       "            <script type=\"text/javascript\">\n",
       "                require([\"plotly\"], function(Plotly) {\n",
       "                    window.PLOTLYENV=window.PLOTLYENV || {};\n",
       "                    window.PLOTLYENV.BASE_URL='https://plot.ly';\n",
       "                    \n",
       "                if (document.getElementById(\"6351df74-2ded-4be2-b917-abfc216e9834\")) {\n",
       "                    Plotly.newPlot(\n",
       "                        '6351df74-2ded-4be2-b917-abfc216e9834',\n",
       "                        [{\"histfunc\": \"count\", \"histnorm\": \"\", \"marker\": {\"color\": \"rgba(255, 153, 51, 1.0)\", \"line\": {\"color\": \"#4D5663\", \"width\": 1.3}}, \"name\": \"A\", \"nbinsx\": 25, \"opacity\": 0.8, \"orientation\": \"v\", \"type\": \"histogram\", \"x\": [0.2192150126893649, 0.41212764663850154, -0.27839766837010627, 0.3222178500267178, 1.1359559733338713, -0.971720425769713, 1.4329161629803917, -0.34578250445780295, 0.9221363208457326, -0.46018427034111126, 0.032535916019239226, -1.5775132350080174, 1.2509653911100467, 0.8333489234269918, -0.09408230960773854, 0.010236286462784547, 0.6198798548523512, -2.3694740941164874, 0.6446131044139314, 3.5825153483746544, -1.100859730297812, -0.28637707270395063, 1.2663027275521734, 0.4480018504819275, -0.04075310173488496, -1.3188747595733246, -0.25669888175689487, -0.7892384287614435, -0.5027860677713014, 0.08430359155613538, -0.40896809921325916, 1.2708262506705303, -0.38766034310350395, 0.4304639325836553, 1.8071040246302588, 1.4568874186053604, 0.9042403428138212, -0.7816990895945196, 0.7868373081101285, 0.9476543351449195, 1.1956296073512873, 0.41095470596658434, 1.0094261937662572, -0.44046838256526516, 1.0346716931466176, 0.11523886763913334, -0.31723607081444566, -0.716904274124458, 0.26466695448679606, -0.6379239557948869, 0.955179550321454, 1.6925209088368083, 1.7812391056276533, -1.4877766892101543, -1.1899544134286546, -0.10895806189072393, 1.321027710937083, -0.8784194756051036, 0.6504071261387132, 1.094753327689872, -0.2132623568016486, -0.7927137163590783, -0.45765125612752156, 0.28711097689175746, -0.8352933868433253, -2.0667869160062238, -0.35007642593563354, 0.9947487894082441, -1.1831678986229839, -0.8486257818723462, -0.2765927487443163, 0.7680784213053352, -0.9335626713391687, 0.21802436036050304, -0.9349362054526161, -0.011134013758786858, -1.6743957170983006, 0.12574163202444208, 1.1531777911767431, 1.2999741110066083, -0.2735192157650116, 0.595818583592944, 0.41802287494605567, 0.45030528691780813, -0.514456906944202, -0.4162077818331348, 2.4691714751126876, -1.365196733109609, 0.26790894446099445, -0.06926500967640424, 0.311983304253257, 1.1795697874824076, 0.3690061425350321, 1.0369119759384802, 0.11344630289523762, -0.8618742507166238, 1.0502865219767203, -0.6297527108271594, 2.0620223895254988, 0.28102629664114714]}],\n",
       "                        {\"barmode\": \"overlay\", \"legend\": {\"bgcolor\": \"#F5F6F9\", \"font\": {\"color\": \"#4D5663\"}}, \"paper_bgcolor\": \"#F5F6F9\", \"plot_bgcolor\": \"#F5F6F9\", \"template\": {\"data\": {\"bar\": [{\"error_x\": {\"color\": \"#2a3f5f\"}, \"error_y\": {\"color\": \"#2a3f5f\"}, \"marker\": {\"line\": {\"color\": \"#E5ECF6\", \"width\": 0.5}}, \"type\": \"bar\"}], \"barpolar\": [{\"marker\": {\"line\": {\"color\": \"#E5ECF6\", \"width\": 0.5}}, \"type\": \"barpolar\"}], \"carpet\": [{\"aaxis\": {\"endlinecolor\": \"#2a3f5f\", \"gridcolor\": \"white\", \"linecolor\": \"white\", \"minorgridcolor\": \"white\", \"startlinecolor\": \"#2a3f5f\"}, \"baxis\": {\"endlinecolor\": \"#2a3f5f\", \"gridcolor\": \"white\", \"linecolor\": \"white\", \"minorgridcolor\": \"white\", \"startlinecolor\": \"#2a3f5f\"}, \"type\": \"carpet\"}], \"choropleth\": [{\"colorbar\": {\"outlinewidth\": 0, \"ticks\": \"\"}, \"type\": \"choropleth\"}], \"contour\": [{\"colorbar\": {\"outlinewidth\": 0, \"ticks\": \"\"}, \"colorscale\": [[0.0, \"#0d0887\"], [0.1111111111111111, \"#46039f\"], [0.2222222222222222, \"#7201a8\"], [0.3333333333333333, \"#9c179e\"], [0.4444444444444444, \"#bd3786\"], [0.5555555555555556, \"#d8576b\"], [0.6666666666666666, \"#ed7953\"], [0.7777777777777778, \"#fb9f3a\"], [0.8888888888888888, \"#fdca26\"], [1.0, \"#f0f921\"]], \"type\": \"contour\"}], \"contourcarpet\": [{\"colorbar\": {\"outlinewidth\": 0, \"ticks\": \"\"}, \"type\": \"contourcarpet\"}], \"heatmap\": [{\"colorbar\": {\"outlinewidth\": 0, \"ticks\": \"\"}, \"colorscale\": [[0.0, \"#0d0887\"], [0.1111111111111111, \"#46039f\"], [0.2222222222222222, \"#7201a8\"], [0.3333333333333333, \"#9c179e\"], [0.4444444444444444, \"#bd3786\"], [0.5555555555555556, \"#d8576b\"], [0.6666666666666666, \"#ed7953\"], [0.7777777777777778, \"#fb9f3a\"], [0.8888888888888888, \"#fdca26\"], [1.0, \"#f0f921\"]], \"type\": \"heatmap\"}], \"heatmapgl\": [{\"colorbar\": {\"outlinewidth\": 0, \"ticks\": \"\"}, \"colorscale\": [[0.0, \"#0d0887\"], [0.1111111111111111, \"#46039f\"], [0.2222222222222222, \"#7201a8\"], [0.3333333333333333, \"#9c179e\"], [0.4444444444444444, \"#bd3786\"], [0.5555555555555556, \"#d8576b\"], [0.6666666666666666, \"#ed7953\"], [0.7777777777777778, \"#fb9f3a\"], [0.8888888888888888, \"#fdca26\"], [1.0, \"#f0f921\"]], \"type\": \"heatmapgl\"}], \"histogram\": [{\"marker\": {\"colorbar\": {\"outlinewidth\": 0, \"ticks\": \"\"}}, \"type\": \"histogram\"}], \"histogram2d\": [{\"colorbar\": {\"outlinewidth\": 0, \"ticks\": \"\"}, \"colorscale\": [[0.0, \"#0d0887\"], [0.1111111111111111, \"#46039f\"], [0.2222222222222222, \"#7201a8\"], [0.3333333333333333, \"#9c179e\"], [0.4444444444444444, \"#bd3786\"], [0.5555555555555556, \"#d8576b\"], [0.6666666666666666, \"#ed7953\"], [0.7777777777777778, \"#fb9f3a\"], [0.8888888888888888, \"#fdca26\"], [1.0, \"#f0f921\"]], \"type\": \"histogram2d\"}], \"histogram2dcontour\": [{\"colorbar\": {\"outlinewidth\": 0, \"ticks\": \"\"}, \"colorscale\": [[0.0, \"#0d0887\"], [0.1111111111111111, \"#46039f\"], [0.2222222222222222, \"#7201a8\"], [0.3333333333333333, \"#9c179e\"], [0.4444444444444444, \"#bd3786\"], [0.5555555555555556, \"#d8576b\"], [0.6666666666666666, \"#ed7953\"], [0.7777777777777778, \"#fb9f3a\"], [0.8888888888888888, \"#fdca26\"], [1.0, \"#f0f921\"]], \"type\": \"histogram2dcontour\"}], \"mesh3d\": [{\"colorbar\": {\"outlinewidth\": 0, \"ticks\": \"\"}, \"type\": \"mesh3d\"}], \"parcoords\": [{\"line\": {\"colorbar\": {\"outlinewidth\": 0, \"ticks\": \"\"}}, \"type\": \"parcoords\"}], \"pie\": [{\"automargin\": true, \"type\": \"pie\"}], \"scatter\": [{\"marker\": {\"colorbar\": {\"outlinewidth\": 0, \"ticks\": \"\"}}, \"type\": \"scatter\"}], \"scatter3d\": [{\"line\": {\"colorbar\": {\"outlinewidth\": 0, \"ticks\": \"\"}}, \"marker\": {\"colorbar\": {\"outlinewidth\": 0, \"ticks\": \"\"}}, \"type\": \"scatter3d\"}], \"scattercarpet\": [{\"marker\": {\"colorbar\": {\"outlinewidth\": 0, \"ticks\": \"\"}}, \"type\": \"scattercarpet\"}], \"scattergeo\": [{\"marker\": {\"colorbar\": {\"outlinewidth\": 0, \"ticks\": \"\"}}, \"type\": \"scattergeo\"}], \"scattergl\": [{\"marker\": {\"colorbar\": {\"outlinewidth\": 0, \"ticks\": \"\"}}, \"type\": \"scattergl\"}], \"scattermapbox\": [{\"marker\": {\"colorbar\": {\"outlinewidth\": 0, \"ticks\": \"\"}}, \"type\": \"scattermapbox\"}], \"scatterpolar\": [{\"marker\": {\"colorbar\": {\"outlinewidth\": 0, \"ticks\": \"\"}}, \"type\": \"scatterpolar\"}], \"scatterpolargl\": [{\"marker\": {\"colorbar\": {\"outlinewidth\": 0, \"ticks\": \"\"}}, \"type\": \"scatterpolargl\"}], \"scatterternary\": [{\"marker\": {\"colorbar\": {\"outlinewidth\": 0, \"ticks\": \"\"}}, \"type\": \"scatterternary\"}], \"surface\": [{\"colorbar\": {\"outlinewidth\": 0, \"ticks\": \"\"}, \"colorscale\": [[0.0, \"#0d0887\"], [0.1111111111111111, \"#46039f\"], [0.2222222222222222, \"#7201a8\"], [0.3333333333333333, \"#9c179e\"], [0.4444444444444444, \"#bd3786\"], [0.5555555555555556, \"#d8576b\"], [0.6666666666666666, \"#ed7953\"], [0.7777777777777778, \"#fb9f3a\"], [0.8888888888888888, \"#fdca26\"], [1.0, \"#f0f921\"]], \"type\": \"surface\"}], \"table\": [{\"cells\": {\"fill\": {\"color\": \"#EBF0F8\"}, \"line\": {\"color\": \"white\"}}, \"header\": {\"fill\": {\"color\": \"#C8D4E3\"}, \"line\": {\"color\": \"white\"}}, \"type\": \"table\"}]}, \"layout\": {\"annotationdefaults\": {\"arrowcolor\": \"#2a3f5f\", \"arrowhead\": 0, \"arrowwidth\": 1}, \"coloraxis\": {\"colorbar\": {\"outlinewidth\": 0, \"ticks\": \"\"}}, \"colorscale\": {\"diverging\": [[0, \"#8e0152\"], [0.1, \"#c51b7d\"], [0.2, \"#de77ae\"], [0.3, \"#f1b6da\"], [0.4, \"#fde0ef\"], [0.5, \"#f7f7f7\"], [0.6, \"#e6f5d0\"], [0.7, \"#b8e186\"], [0.8, \"#7fbc41\"], [0.9, \"#4d9221\"], [1, \"#276419\"]], \"sequential\": [[0.0, \"#0d0887\"], [0.1111111111111111, \"#46039f\"], [0.2222222222222222, \"#7201a8\"], [0.3333333333333333, \"#9c179e\"], [0.4444444444444444, \"#bd3786\"], [0.5555555555555556, \"#d8576b\"], [0.6666666666666666, \"#ed7953\"], [0.7777777777777778, \"#fb9f3a\"], [0.8888888888888888, \"#fdca26\"], [1.0, \"#f0f921\"]], \"sequentialminus\": [[0.0, \"#0d0887\"], [0.1111111111111111, \"#46039f\"], [0.2222222222222222, \"#7201a8\"], [0.3333333333333333, \"#9c179e\"], [0.4444444444444444, \"#bd3786\"], [0.5555555555555556, \"#d8576b\"], [0.6666666666666666, \"#ed7953\"], [0.7777777777777778, \"#fb9f3a\"], [0.8888888888888888, \"#fdca26\"], [1.0, \"#f0f921\"]]}, \"colorway\": [\"#636efa\", \"#EF553B\", \"#00cc96\", \"#ab63fa\", \"#FFA15A\", \"#19d3f3\", \"#FF6692\", \"#B6E880\", \"#FF97FF\", \"#FECB52\"], \"font\": {\"color\": \"#2a3f5f\"}, \"geo\": {\"bgcolor\": \"white\", \"lakecolor\": \"white\", \"landcolor\": \"#E5ECF6\", \"showlakes\": true, \"showland\": true, \"subunitcolor\": \"white\"}, \"hoverlabel\": {\"align\": \"left\"}, \"hovermode\": \"closest\", \"mapbox\": {\"style\": \"light\"}, \"paper_bgcolor\": \"white\", \"plot_bgcolor\": \"#E5ECF6\", \"polar\": {\"angularaxis\": {\"gridcolor\": \"white\", \"linecolor\": \"white\", \"ticks\": \"\"}, \"bgcolor\": \"#E5ECF6\", \"radialaxis\": {\"gridcolor\": \"white\", \"linecolor\": \"white\", \"ticks\": \"\"}}, \"scene\": {\"xaxis\": {\"backgroundcolor\": \"#E5ECF6\", \"gridcolor\": \"white\", \"gridwidth\": 2, \"linecolor\": \"white\", \"showbackground\": true, \"ticks\": \"\", \"zerolinecolor\": \"white\"}, \"yaxis\": {\"backgroundcolor\": \"#E5ECF6\", \"gridcolor\": \"white\", \"gridwidth\": 2, \"linecolor\": \"white\", \"showbackground\": true, \"ticks\": \"\", \"zerolinecolor\": \"white\"}, \"zaxis\": {\"backgroundcolor\": \"#E5ECF6\", \"gridcolor\": \"white\", \"gridwidth\": 2, \"linecolor\": \"white\", \"showbackground\": true, \"ticks\": \"\", \"zerolinecolor\": \"white\"}}, \"shapedefaults\": {\"line\": {\"color\": \"#2a3f5f\"}}, \"ternary\": {\"aaxis\": {\"gridcolor\": \"white\", \"linecolor\": \"white\", \"ticks\": \"\"}, \"baxis\": {\"gridcolor\": \"white\", \"linecolor\": \"white\", \"ticks\": \"\"}, \"bgcolor\": \"#E5ECF6\", \"caxis\": {\"gridcolor\": \"white\", \"linecolor\": \"white\", \"ticks\": \"\"}}, \"title\": {\"x\": 0.05}, \"xaxis\": {\"automargin\": true, \"gridcolor\": \"white\", \"linecolor\": \"white\", \"ticks\": \"\", \"title\": {\"standoff\": 15}, \"zerolinecolor\": \"white\", \"zerolinewidth\": 2}, \"yaxis\": {\"automargin\": true, \"gridcolor\": \"white\", \"linecolor\": \"white\", \"ticks\": \"\", \"title\": {\"standoff\": 15}, \"zerolinecolor\": \"white\", \"zerolinewidth\": 2}}}, \"title\": {\"font\": {\"color\": \"#4D5663\"}}, \"xaxis\": {\"gridcolor\": \"#E1E5ED\", \"showgrid\": true, \"tickfont\": {\"color\": \"#4D5663\"}, \"title\": {\"font\": {\"color\": \"#4D5663\"}, \"text\": \"\"}, \"zerolinecolor\": \"#E1E5ED\"}, \"yaxis\": {\"gridcolor\": \"#E1E5ED\", \"showgrid\": true, \"tickfont\": {\"color\": \"#4D5663\"}, \"title\": {\"font\": {\"color\": \"#4D5663\"}, \"text\": \"\"}, \"zerolinecolor\": \"#E1E5ED\"}},\n",
       "                        {\"showLink\": true, \"linkText\": \"Export to plot.ly\", \"plotlyServerURL\": \"https://plot.ly\", \"responsive\": true}\n",
       "                    ).then(function(){\n",
       "                            \n",
       "var gd = document.getElementById('6351df74-2ded-4be2-b917-abfc216e9834');\n",
       "var x = new MutationObserver(function (mutations, observer) {{\n",
       "        var display = window.getComputedStyle(gd).display;\n",
       "        if (!display || display === 'none') {{\n",
       "            console.log([gd, 'removed!']);\n",
       "            Plotly.purge(gd);\n",
       "            observer.disconnect();\n",
       "        }}\n",
       "}});\n",
       "\n",
       "// Listen for the removal of the full notebook cells\n",
       "var notebookContainer = gd.closest('#notebook-container');\n",
       "if (notebookContainer) {{\n",
       "    x.observe(notebookContainer, {childList: true});\n",
       "}}\n",
       "\n",
       "// Listen for the clearing of the current output cell\n",
       "var outputEl = gd.closest('.output');\n",
       "if (outputEl) {{\n",
       "    x.observe(outputEl, {childList: true});\n",
       "}}\n",
       "\n",
       "                        })\n",
       "                };\n",
       "                });\n",
       "            </script>\n",
       "        </div>"
      ]
     },
     "metadata": {},
     "output_type": "display_data"
    }
   ],
   "source": [
    "df['A'].iplot(kind='hist',bins=25)"
   ]
  },
  {
   "cell_type": "code",
   "execution_count": 20,
   "metadata": {},
   "outputs": [
    {
     "data": {
      "application/vnd.plotly.v1+json": {
       "config": {
        "linkText": "Export to plot.ly",
        "plotlyServerURL": "https://plot.ly",
        "showLink": true
       },
       "data": [
        {
         "marker": {
          "color": [
           "rgb(255, 153, 51)",
           "rgb(55, 128, 191)",
           "rgb(50, 171, 96)",
           "rgb(128, 0, 128)",
           "rgb(219, 64, 82)",
           "rgb(0, 128, 128)",
           "rgb(255, 255, 51)",
           "rgb(128, 128, 0)",
           "rgb(251, 128, 114)",
           "rgb(128, 177, 211)"
          ],
          "line": {
           "width": 1.3
          },
          "size": [
           40,
           50,
           39,
           20,
           57,
           83,
           84,
           59,
           36,
           46,
           101,
           75,
           69,
           62,
           104,
           64,
           56,
           54,
           88,
           109,
           70,
           71,
           57,
           36,
           80,
           76,
           69,
           36,
           50,
           53,
           90,
           51,
           47,
           38,
           84,
           67,
           27,
           28,
           39,
           67,
           47,
           81,
           44,
           12,
           39,
           26,
           84,
           109,
           56,
           34,
           43,
           27,
           67,
           51,
           57,
           91,
           85,
           72,
           75,
           97,
           73,
           77,
           95,
           17,
           58,
           53,
           81,
           75,
           66,
           83,
           71,
           43,
           66,
           59,
           70,
           45,
           81,
           49,
           112,
           59,
           60,
           79,
           58,
           67,
           79,
           33,
           59,
           68,
           42,
           41,
           75,
           96,
           67,
           85,
           62,
           67,
           60,
           52,
           96,
           49
          ],
          "symbol": "circle"
         },
         "mode": "markers",
         "text": "",
         "type": "scatter",
         "x": [
          0.2192150126893649,
          0.41212764663850154,
          -0.27839766837010627,
          0.3222178500267178,
          1.1359559733338713,
          -0.971720425769713,
          1.4329161629803917,
          -0.34578250445780295,
          0.9221363208457326,
          -0.46018427034111126,
          0.032535916019239226,
          -1.5775132350080174,
          1.2509653911100467,
          0.8333489234269918,
          -0.09408230960773854,
          0.010236286462784547,
          0.6198798548523512,
          -2.3694740941164874,
          0.6446131044139314,
          3.5825153483746544,
          -1.100859730297812,
          -0.28637707270395063,
          1.2663027275521734,
          0.4480018504819275,
          -0.04075310173488496,
          -1.3188747595733246,
          -0.25669888175689487,
          -0.7892384287614435,
          -0.5027860677713014,
          0.08430359155613538,
          -0.40896809921325916,
          1.2708262506705303,
          -0.38766034310350395,
          0.4304639325836553,
          1.8071040246302588,
          1.4568874186053604,
          0.9042403428138212,
          -0.7816990895945196,
          0.7868373081101285,
          0.9476543351449195,
          1.1956296073512873,
          0.41095470596658434,
          1.0094261937662572,
          -0.44046838256526516,
          1.0346716931466176,
          0.11523886763913334,
          -0.31723607081444566,
          -0.716904274124458,
          0.26466695448679606,
          -0.6379239557948869,
          0.955179550321454,
          1.6925209088368083,
          1.7812391056276533,
          -1.4877766892101543,
          -1.1899544134286546,
          -0.10895806189072393,
          1.321027710937083,
          -0.8784194756051036,
          0.6504071261387132,
          1.094753327689872,
          -0.2132623568016486,
          -0.7927137163590783,
          -0.45765125612752156,
          0.28711097689175746,
          -0.8352933868433253,
          -2.0667869160062238,
          -0.35007642593563354,
          0.9947487894082441,
          -1.1831678986229839,
          -0.8486257818723462,
          -0.2765927487443163,
          0.7680784213053352,
          -0.9335626713391687,
          0.21802436036050304,
          -0.9349362054526161,
          -0.011134013758786858,
          -1.6743957170983006,
          0.12574163202444208,
          1.1531777911767431,
          1.2999741110066083,
          -0.2735192157650116,
          0.595818583592944,
          0.41802287494605567,
          0.45030528691780813,
          -0.514456906944202,
          -0.4162077818331348,
          2.4691714751126876,
          -1.365196733109609,
          0.26790894446099445,
          -0.06926500967640424,
          0.311983304253257,
          1.1795697874824076,
          0.3690061425350321,
          1.0369119759384802,
          0.11344630289523762,
          -0.8618742507166238,
          1.0502865219767203,
          -0.6297527108271594,
          2.0620223895254988,
          0.28102629664114714
         ],
         "y": [
          -2.5296842304295915,
          -0.9124939583658659,
          1.9371572689115752,
          -0.04233086880753978,
          1.1755323137692275,
          -0.7913343687872296,
          0.34679771300378864,
          0.1472644768462741,
          -0.5576417622152579,
          1.0153627370487877,
          -0.006675276814364406,
          -1.3831667133442893,
          0.23794366571150333,
          -0.046584210842764394,
          -0.23286229979657497,
          -1.059043175997328,
          -0.5639209672124689,
          1.2466006179249922,
          1.785304178140208,
          0.7289995222261205,
          -0.2394784072597976,
          0.6674022767035093,
          -1.7636884877840329,
          -1.7239697309413886,
          1.6336503512461968,
          -0.09202348674133626,
          1.0195082254673082,
          0.6284543531925654,
          -0.9230405694743555,
          0.8912283886498443,
          0.6633555600973492,
          -1.5256437045839726,
          0.9770914272419425,
          1.7175529208127185,
          0.8406491088530332,
          -1.2707511635610007,
          1.38083980414698,
          -0.9203591200540816,
          -0.5004906455425786,
          -0.5399747143298336,
          -0.9896963608623736,
          1.3306609274638301,
          0.8926496038118524,
          -2.033822133364184,
          -0.8334681002973663,
          0.14001110291725294,
          -0.685037044884312,
          0.9415217721260292,
          -0.7396063904143044,
          1.4124225135238375,
          1.9904956031872585,
          0.42500823802958937,
          1.930846927734657,
          -1.9760870203704148,
          -1.0777631936672263,
          0.902624464861868,
          -0.94669113465832,
          -0.9373697872008047,
          -1.4821469944733676,
          -0.9426236297971836,
          1.0841383783955747,
          -2.0884924313952187,
          0.8969041011425303,
          -1.5803644182734884,
          -1.3823710740159605,
          -1.5206872295882883,
          -0.2581375790682765,
          1.156228135822335,
          -0.41662244466772547,
          -0.3490920630112603,
          1.2895317025169495,
          -0.8821858086096042,
          -0.5387923050763868,
          -0.5663537185351362,
          -1.095431469835826,
          0.6009775868516194,
          2.614098758958872,
          -0.9592823177952877,
          0.06536082847107165,
          -0.8496657523610329,
          -1.4681299656741593,
          0.6701367636720044,
          0.7744265354513329,
          2.0586936414104375,
          0.7915794301092625,
          2.592940852157227,
          -1.3221424278325977,
          2.8901840068359896,
          0.561794978690869,
          0.6610147433500252,
          1.9933671238820154,
          0.11772975628376309,
          -1.3513533772700421,
          0.8043126148336902,
          -0.5690624329172052,
          0.536251241812792,
          0.7386353343412105,
          -0.976006012430902,
          -0.9283420207337423,
          0.04110546621274906
         ]
        }
       ],
       "layout": {
        "legend": {
         "bgcolor": "#F5F6F9",
         "font": {
          "color": "#4D5663"
         }
        },
        "paper_bgcolor": "#F5F6F9",
        "plot_bgcolor": "#F5F6F9",
        "template": {
         "data": {
          "bar": [
           {
            "error_x": {
             "color": "#2a3f5f"
            },
            "error_y": {
             "color": "#2a3f5f"
            },
            "marker": {
             "line": {
              "color": "#E5ECF6",
              "width": 0.5
             }
            },
            "type": "bar"
           }
          ],
          "barpolar": [
           {
            "marker": {
             "line": {
              "color": "#E5ECF6",
              "width": 0.5
             }
            },
            "type": "barpolar"
           }
          ],
          "carpet": [
           {
            "aaxis": {
             "endlinecolor": "#2a3f5f",
             "gridcolor": "white",
             "linecolor": "white",
             "minorgridcolor": "white",
             "startlinecolor": "#2a3f5f"
            },
            "baxis": {
             "endlinecolor": "#2a3f5f",
             "gridcolor": "white",
             "linecolor": "white",
             "minorgridcolor": "white",
             "startlinecolor": "#2a3f5f"
            },
            "type": "carpet"
           }
          ],
          "choropleth": [
           {
            "colorbar": {
             "outlinewidth": 0,
             "ticks": ""
            },
            "type": "choropleth"
           }
          ],
          "contour": [
           {
            "colorbar": {
             "outlinewidth": 0,
             "ticks": ""
            },
            "colorscale": [
             [
              0,
              "#0d0887"
             ],
             [
              0.1111111111111111,
              "#46039f"
             ],
             [
              0.2222222222222222,
              "#7201a8"
             ],
             [
              0.3333333333333333,
              "#9c179e"
             ],
             [
              0.4444444444444444,
              "#bd3786"
             ],
             [
              0.5555555555555556,
              "#d8576b"
             ],
             [
              0.6666666666666666,
              "#ed7953"
             ],
             [
              0.7777777777777778,
              "#fb9f3a"
             ],
             [
              0.8888888888888888,
              "#fdca26"
             ],
             [
              1,
              "#f0f921"
             ]
            ],
            "type": "contour"
           }
          ],
          "contourcarpet": [
           {
            "colorbar": {
             "outlinewidth": 0,
             "ticks": ""
            },
            "type": "contourcarpet"
           }
          ],
          "heatmap": [
           {
            "colorbar": {
             "outlinewidth": 0,
             "ticks": ""
            },
            "colorscale": [
             [
              0,
              "#0d0887"
             ],
             [
              0.1111111111111111,
              "#46039f"
             ],
             [
              0.2222222222222222,
              "#7201a8"
             ],
             [
              0.3333333333333333,
              "#9c179e"
             ],
             [
              0.4444444444444444,
              "#bd3786"
             ],
             [
              0.5555555555555556,
              "#d8576b"
             ],
             [
              0.6666666666666666,
              "#ed7953"
             ],
             [
              0.7777777777777778,
              "#fb9f3a"
             ],
             [
              0.8888888888888888,
              "#fdca26"
             ],
             [
              1,
              "#f0f921"
             ]
            ],
            "type": "heatmap"
           }
          ],
          "heatmapgl": [
           {
            "colorbar": {
             "outlinewidth": 0,
             "ticks": ""
            },
            "colorscale": [
             [
              0,
              "#0d0887"
             ],
             [
              0.1111111111111111,
              "#46039f"
             ],
             [
              0.2222222222222222,
              "#7201a8"
             ],
             [
              0.3333333333333333,
              "#9c179e"
             ],
             [
              0.4444444444444444,
              "#bd3786"
             ],
             [
              0.5555555555555556,
              "#d8576b"
             ],
             [
              0.6666666666666666,
              "#ed7953"
             ],
             [
              0.7777777777777778,
              "#fb9f3a"
             ],
             [
              0.8888888888888888,
              "#fdca26"
             ],
             [
              1,
              "#f0f921"
             ]
            ],
            "type": "heatmapgl"
           }
          ],
          "histogram": [
           {
            "marker": {
             "colorbar": {
              "outlinewidth": 0,
              "ticks": ""
             }
            },
            "type": "histogram"
           }
          ],
          "histogram2d": [
           {
            "colorbar": {
             "outlinewidth": 0,
             "ticks": ""
            },
            "colorscale": [
             [
              0,
              "#0d0887"
             ],
             [
              0.1111111111111111,
              "#46039f"
             ],
             [
              0.2222222222222222,
              "#7201a8"
             ],
             [
              0.3333333333333333,
              "#9c179e"
             ],
             [
              0.4444444444444444,
              "#bd3786"
             ],
             [
              0.5555555555555556,
              "#d8576b"
             ],
             [
              0.6666666666666666,
              "#ed7953"
             ],
             [
              0.7777777777777778,
              "#fb9f3a"
             ],
             [
              0.8888888888888888,
              "#fdca26"
             ],
             [
              1,
              "#f0f921"
             ]
            ],
            "type": "histogram2d"
           }
          ],
          "histogram2dcontour": [
           {
            "colorbar": {
             "outlinewidth": 0,
             "ticks": ""
            },
            "colorscale": [
             [
              0,
              "#0d0887"
             ],
             [
              0.1111111111111111,
              "#46039f"
             ],
             [
              0.2222222222222222,
              "#7201a8"
             ],
             [
              0.3333333333333333,
              "#9c179e"
             ],
             [
              0.4444444444444444,
              "#bd3786"
             ],
             [
              0.5555555555555556,
              "#d8576b"
             ],
             [
              0.6666666666666666,
              "#ed7953"
             ],
             [
              0.7777777777777778,
              "#fb9f3a"
             ],
             [
              0.8888888888888888,
              "#fdca26"
             ],
             [
              1,
              "#f0f921"
             ]
            ],
            "type": "histogram2dcontour"
           }
          ],
          "mesh3d": [
           {
            "colorbar": {
             "outlinewidth": 0,
             "ticks": ""
            },
            "type": "mesh3d"
           }
          ],
          "parcoords": [
           {
            "line": {
             "colorbar": {
              "outlinewidth": 0,
              "ticks": ""
             }
            },
            "type": "parcoords"
           }
          ],
          "pie": [
           {
            "automargin": true,
            "type": "pie"
           }
          ],
          "scatter": [
           {
            "marker": {
             "colorbar": {
              "outlinewidth": 0,
              "ticks": ""
             }
            },
            "type": "scatter"
           }
          ],
          "scatter3d": [
           {
            "line": {
             "colorbar": {
              "outlinewidth": 0,
              "ticks": ""
             }
            },
            "marker": {
             "colorbar": {
              "outlinewidth": 0,
              "ticks": ""
             }
            },
            "type": "scatter3d"
           }
          ],
          "scattercarpet": [
           {
            "marker": {
             "colorbar": {
              "outlinewidth": 0,
              "ticks": ""
             }
            },
            "type": "scattercarpet"
           }
          ],
          "scattergeo": [
           {
            "marker": {
             "colorbar": {
              "outlinewidth": 0,
              "ticks": ""
             }
            },
            "type": "scattergeo"
           }
          ],
          "scattergl": [
           {
            "marker": {
             "colorbar": {
              "outlinewidth": 0,
              "ticks": ""
             }
            },
            "type": "scattergl"
           }
          ],
          "scattermapbox": [
           {
            "marker": {
             "colorbar": {
              "outlinewidth": 0,
              "ticks": ""
             }
            },
            "type": "scattermapbox"
           }
          ],
          "scatterpolar": [
           {
            "marker": {
             "colorbar": {
              "outlinewidth": 0,
              "ticks": ""
             }
            },
            "type": "scatterpolar"
           }
          ],
          "scatterpolargl": [
           {
            "marker": {
             "colorbar": {
              "outlinewidth": 0,
              "ticks": ""
             }
            },
            "type": "scatterpolargl"
           }
          ],
          "scatterternary": [
           {
            "marker": {
             "colorbar": {
              "outlinewidth": 0,
              "ticks": ""
             }
            },
            "type": "scatterternary"
           }
          ],
          "surface": [
           {
            "colorbar": {
             "outlinewidth": 0,
             "ticks": ""
            },
            "colorscale": [
             [
              0,
              "#0d0887"
             ],
             [
              0.1111111111111111,
              "#46039f"
             ],
             [
              0.2222222222222222,
              "#7201a8"
             ],
             [
              0.3333333333333333,
              "#9c179e"
             ],
             [
              0.4444444444444444,
              "#bd3786"
             ],
             [
              0.5555555555555556,
              "#d8576b"
             ],
             [
              0.6666666666666666,
              "#ed7953"
             ],
             [
              0.7777777777777778,
              "#fb9f3a"
             ],
             [
              0.8888888888888888,
              "#fdca26"
             ],
             [
              1,
              "#f0f921"
             ]
            ],
            "type": "surface"
           }
          ],
          "table": [
           {
            "cells": {
             "fill": {
              "color": "#EBF0F8"
             },
             "line": {
              "color": "white"
             }
            },
            "header": {
             "fill": {
              "color": "#C8D4E3"
             },
             "line": {
              "color": "white"
             }
            },
            "type": "table"
           }
          ]
         },
         "layout": {
          "annotationdefaults": {
           "arrowcolor": "#2a3f5f",
           "arrowhead": 0,
           "arrowwidth": 1
          },
          "coloraxis": {
           "colorbar": {
            "outlinewidth": 0,
            "ticks": ""
           }
          },
          "colorscale": {
           "diverging": [
            [
             0,
             "#8e0152"
            ],
            [
             0.1,
             "#c51b7d"
            ],
            [
             0.2,
             "#de77ae"
            ],
            [
             0.3,
             "#f1b6da"
            ],
            [
             0.4,
             "#fde0ef"
            ],
            [
             0.5,
             "#f7f7f7"
            ],
            [
             0.6,
             "#e6f5d0"
            ],
            [
             0.7,
             "#b8e186"
            ],
            [
             0.8,
             "#7fbc41"
            ],
            [
             0.9,
             "#4d9221"
            ],
            [
             1,
             "#276419"
            ]
           ],
           "sequential": [
            [
             0,
             "#0d0887"
            ],
            [
             0.1111111111111111,
             "#46039f"
            ],
            [
             0.2222222222222222,
             "#7201a8"
            ],
            [
             0.3333333333333333,
             "#9c179e"
            ],
            [
             0.4444444444444444,
             "#bd3786"
            ],
            [
             0.5555555555555556,
             "#d8576b"
            ],
            [
             0.6666666666666666,
             "#ed7953"
            ],
            [
             0.7777777777777778,
             "#fb9f3a"
            ],
            [
             0.8888888888888888,
             "#fdca26"
            ],
            [
             1,
             "#f0f921"
            ]
           ],
           "sequentialminus": [
            [
             0,
             "#0d0887"
            ],
            [
             0.1111111111111111,
             "#46039f"
            ],
            [
             0.2222222222222222,
             "#7201a8"
            ],
            [
             0.3333333333333333,
             "#9c179e"
            ],
            [
             0.4444444444444444,
             "#bd3786"
            ],
            [
             0.5555555555555556,
             "#d8576b"
            ],
            [
             0.6666666666666666,
             "#ed7953"
            ],
            [
             0.7777777777777778,
             "#fb9f3a"
            ],
            [
             0.8888888888888888,
             "#fdca26"
            ],
            [
             1,
             "#f0f921"
            ]
           ]
          },
          "colorway": [
           "#636efa",
           "#EF553B",
           "#00cc96",
           "#ab63fa",
           "#FFA15A",
           "#19d3f3",
           "#FF6692",
           "#B6E880",
           "#FF97FF",
           "#FECB52"
          ],
          "font": {
           "color": "#2a3f5f"
          },
          "geo": {
           "bgcolor": "white",
           "lakecolor": "white",
           "landcolor": "#E5ECF6",
           "showlakes": true,
           "showland": true,
           "subunitcolor": "white"
          },
          "hoverlabel": {
           "align": "left"
          },
          "hovermode": "closest",
          "mapbox": {
           "style": "light"
          },
          "paper_bgcolor": "white",
          "plot_bgcolor": "#E5ECF6",
          "polar": {
           "angularaxis": {
            "gridcolor": "white",
            "linecolor": "white",
            "ticks": ""
           },
           "bgcolor": "#E5ECF6",
           "radialaxis": {
            "gridcolor": "white",
            "linecolor": "white",
            "ticks": ""
           }
          },
          "scene": {
           "xaxis": {
            "backgroundcolor": "#E5ECF6",
            "gridcolor": "white",
            "gridwidth": 2,
            "linecolor": "white",
            "showbackground": true,
            "ticks": "",
            "zerolinecolor": "white"
           },
           "yaxis": {
            "backgroundcolor": "#E5ECF6",
            "gridcolor": "white",
            "gridwidth": 2,
            "linecolor": "white",
            "showbackground": true,
            "ticks": "",
            "zerolinecolor": "white"
           },
           "zaxis": {
            "backgroundcolor": "#E5ECF6",
            "gridcolor": "white",
            "gridwidth": 2,
            "linecolor": "white",
            "showbackground": true,
            "ticks": "",
            "zerolinecolor": "white"
           }
          },
          "shapedefaults": {
           "line": {
            "color": "#2a3f5f"
           }
          },
          "ternary": {
           "aaxis": {
            "gridcolor": "white",
            "linecolor": "white",
            "ticks": ""
           },
           "baxis": {
            "gridcolor": "white",
            "linecolor": "white",
            "ticks": ""
           },
           "bgcolor": "#E5ECF6",
           "caxis": {
            "gridcolor": "white",
            "linecolor": "white",
            "ticks": ""
           }
          },
          "title": {
           "x": 0.05
          },
          "xaxis": {
           "automargin": true,
           "gridcolor": "white",
           "linecolor": "white",
           "ticks": "",
           "title": {
            "standoff": 15
           },
           "zerolinecolor": "white",
           "zerolinewidth": 2
          },
          "yaxis": {
           "automargin": true,
           "gridcolor": "white",
           "linecolor": "white",
           "ticks": "",
           "title": {
            "standoff": 15
           },
           "zerolinecolor": "white",
           "zerolinewidth": 2
          }
         }
        },
        "title": {
         "font": {
          "color": "#4D5663"
         }
        },
        "xaxis": {
         "gridcolor": "#E1E5ED",
         "showgrid": true,
         "tickfont": {
          "color": "#4D5663"
         },
         "title": {
          "font": {
           "color": "#4D5663"
          },
          "text": ""
         },
         "zerolinecolor": "#E1E5ED"
        },
        "yaxis": {
         "gridcolor": "#E1E5ED",
         "showgrid": true,
         "tickfont": {
          "color": "#4D5663"
         },
         "title": {
          "font": {
           "color": "#4D5663"
          },
          "text": ""
         },
         "zerolinecolor": "#E1E5ED"
        }
       }
      },
      "text/html": [
       "<div>\n",
       "        \n",
       "        \n",
       "            <div id=\"9e17444c-3bff-4f05-8f98-dbd5966728b9\" class=\"plotly-graph-div\" style=\"height:525px; width:100%;\"></div>\n",
       "            <script type=\"text/javascript\">\n",
       "                require([\"plotly\"], function(Plotly) {\n",
       "                    window.PLOTLYENV=window.PLOTLYENV || {};\n",
       "                    window.PLOTLYENV.BASE_URL='https://plot.ly';\n",
       "                    \n",
       "                if (document.getElementById(\"9e17444c-3bff-4f05-8f98-dbd5966728b9\")) {\n",
       "                    Plotly.newPlot(\n",
       "                        '9e17444c-3bff-4f05-8f98-dbd5966728b9',\n",
       "                        [{\"marker\": {\"color\": [\"rgb(255, 153, 51)\", \"rgb(55, 128, 191)\", \"rgb(50, 171, 96)\", \"rgb(128, 0, 128)\", \"rgb(219, 64, 82)\", \"rgb(0, 128, 128)\", \"rgb(255, 255, 51)\", \"rgb(128, 128, 0)\", \"rgb(251, 128, 114)\", \"rgb(128, 177, 211)\"], \"line\": {\"width\": 1.3}, \"size\": [40, 50, 39, 20, 57, 83, 84, 59, 36, 46, 101, 75, 69, 62, 104, 64, 56, 54, 88, 109, 70, 71, 57, 36, 80, 76, 69, 36, 50, 53, 90, 51, 47, 38, 84, 67, 27, 28, 39, 67, 47, 81, 44, 12, 39, 26, 84, 109, 56, 34, 43, 27, 67, 51, 57, 91, 85, 72, 75, 97, 73, 77, 95, 17, 58, 53, 81, 75, 66, 83, 71, 43, 66, 59, 70, 45, 81, 49, 112, 59, 60, 79, 58, 67, 79, 33, 59, 68, 42, 41, 75, 96, 67, 85, 62, 67, 60, 52, 96, 49], \"symbol\": \"circle\"}, \"mode\": \"markers\", \"text\": \"\", \"type\": \"scatter\", \"x\": [0.2192150126893649, 0.41212764663850154, -0.27839766837010627, 0.3222178500267178, 1.1359559733338713, -0.971720425769713, 1.4329161629803917, -0.34578250445780295, 0.9221363208457326, -0.46018427034111126, 0.032535916019239226, -1.5775132350080174, 1.2509653911100467, 0.8333489234269918, -0.09408230960773854, 0.010236286462784547, 0.6198798548523512, -2.3694740941164874, 0.6446131044139314, 3.5825153483746544, -1.100859730297812, -0.28637707270395063, 1.2663027275521734, 0.4480018504819275, -0.04075310173488496, -1.3188747595733246, -0.25669888175689487, -0.7892384287614435, -0.5027860677713014, 0.08430359155613538, -0.40896809921325916, 1.2708262506705303, -0.38766034310350395, 0.4304639325836553, 1.8071040246302588, 1.4568874186053604, 0.9042403428138212, -0.7816990895945196, 0.7868373081101285, 0.9476543351449195, 1.1956296073512873, 0.41095470596658434, 1.0094261937662572, -0.44046838256526516, 1.0346716931466176, 0.11523886763913334, -0.31723607081444566, -0.716904274124458, 0.26466695448679606, -0.6379239557948869, 0.955179550321454, 1.6925209088368083, 1.7812391056276533, -1.4877766892101543, -1.1899544134286546, -0.10895806189072393, 1.321027710937083, -0.8784194756051036, 0.6504071261387132, 1.094753327689872, -0.2132623568016486, -0.7927137163590783, -0.45765125612752156, 0.28711097689175746, -0.8352933868433253, -2.0667869160062238, -0.35007642593563354, 0.9947487894082441, -1.1831678986229839, -0.8486257818723462, -0.2765927487443163, 0.7680784213053352, -0.9335626713391687, 0.21802436036050304, -0.9349362054526161, -0.011134013758786858, -1.6743957170983006, 0.12574163202444208, 1.1531777911767431, 1.2999741110066083, -0.2735192157650116, 0.595818583592944, 0.41802287494605567, 0.45030528691780813, -0.514456906944202, -0.4162077818331348, 2.4691714751126876, -1.365196733109609, 0.26790894446099445, -0.06926500967640424, 0.311983304253257, 1.1795697874824076, 0.3690061425350321, 1.0369119759384802, 0.11344630289523762, -0.8618742507166238, 1.0502865219767203, -0.6297527108271594, 2.0620223895254988, 0.28102629664114714], \"y\": [-2.5296842304295915, -0.9124939583658659, 1.9371572689115752, -0.04233086880753978, 1.1755323137692275, -0.7913343687872296, 0.34679771300378864, 0.1472644768462741, -0.5576417622152579, 1.0153627370487877, -0.006675276814364406, -1.3831667133442893, 0.23794366571150333, -0.046584210842764394, -0.23286229979657497, -1.059043175997328, -0.5639209672124689, 1.2466006179249922, 1.785304178140208, 0.7289995222261205, -0.2394784072597976, 0.6674022767035093, -1.7636884877840329, -1.7239697309413886, 1.6336503512461968, -0.09202348674133626, 1.0195082254673082, 0.6284543531925654, -0.9230405694743555, 0.8912283886498443, 0.6633555600973492, -1.5256437045839726, 0.9770914272419425, 1.7175529208127185, 0.8406491088530332, -1.2707511635610007, 1.38083980414698, -0.9203591200540816, -0.5004906455425786, -0.5399747143298336, -0.9896963608623736, 1.3306609274638301, 0.8926496038118524, -2.033822133364184, -0.8334681002973663, 0.14001110291725294, -0.685037044884312, 0.9415217721260292, -0.7396063904143044, 1.4124225135238375, 1.9904956031872585, 0.42500823802958937, 1.930846927734657, -1.9760870203704148, -1.0777631936672263, 0.902624464861868, -0.94669113465832, -0.9373697872008047, -1.4821469944733676, -0.9426236297971836, 1.0841383783955747, -2.0884924313952187, 0.8969041011425303, -1.5803644182734884, -1.3823710740159605, -1.5206872295882883, -0.2581375790682765, 1.156228135822335, -0.41662244466772547, -0.3490920630112603, 1.2895317025169495, -0.8821858086096042, -0.5387923050763868, -0.5663537185351362, -1.095431469835826, 0.6009775868516194, 2.614098758958872, -0.9592823177952877, 0.06536082847107165, -0.8496657523610329, -1.4681299656741593, 0.6701367636720044, 0.7744265354513329, 2.0586936414104375, 0.7915794301092625, 2.592940852157227, -1.3221424278325977, 2.8901840068359896, 0.561794978690869, 0.6610147433500252, 1.9933671238820154, 0.11772975628376309, -1.3513533772700421, 0.8043126148336902, -0.5690624329172052, 0.536251241812792, 0.7386353343412105, -0.976006012430902, -0.9283420207337423, 0.04110546621274906]}],\n",
       "                        {\"legend\": {\"bgcolor\": \"#F5F6F9\", \"font\": {\"color\": \"#4D5663\"}}, \"paper_bgcolor\": \"#F5F6F9\", \"plot_bgcolor\": \"#F5F6F9\", \"template\": {\"data\": {\"bar\": [{\"error_x\": {\"color\": \"#2a3f5f\"}, \"error_y\": {\"color\": \"#2a3f5f\"}, \"marker\": {\"line\": {\"color\": \"#E5ECF6\", \"width\": 0.5}}, \"type\": \"bar\"}], \"barpolar\": [{\"marker\": {\"line\": {\"color\": \"#E5ECF6\", \"width\": 0.5}}, \"type\": \"barpolar\"}], \"carpet\": [{\"aaxis\": {\"endlinecolor\": \"#2a3f5f\", \"gridcolor\": \"white\", \"linecolor\": \"white\", \"minorgridcolor\": \"white\", \"startlinecolor\": \"#2a3f5f\"}, \"baxis\": {\"endlinecolor\": \"#2a3f5f\", \"gridcolor\": \"white\", \"linecolor\": \"white\", \"minorgridcolor\": \"white\", \"startlinecolor\": \"#2a3f5f\"}, \"type\": \"carpet\"}], \"choropleth\": [{\"colorbar\": {\"outlinewidth\": 0, \"ticks\": \"\"}, \"type\": \"choropleth\"}], \"contour\": [{\"colorbar\": {\"outlinewidth\": 0, \"ticks\": \"\"}, \"colorscale\": [[0.0, \"#0d0887\"], [0.1111111111111111, \"#46039f\"], [0.2222222222222222, \"#7201a8\"], [0.3333333333333333, \"#9c179e\"], [0.4444444444444444, \"#bd3786\"], [0.5555555555555556, \"#d8576b\"], [0.6666666666666666, \"#ed7953\"], [0.7777777777777778, \"#fb9f3a\"], [0.8888888888888888, \"#fdca26\"], [1.0, \"#f0f921\"]], \"type\": \"contour\"}], \"contourcarpet\": [{\"colorbar\": {\"outlinewidth\": 0, \"ticks\": \"\"}, \"type\": \"contourcarpet\"}], \"heatmap\": [{\"colorbar\": {\"outlinewidth\": 0, \"ticks\": \"\"}, \"colorscale\": [[0.0, \"#0d0887\"], [0.1111111111111111, \"#46039f\"], [0.2222222222222222, \"#7201a8\"], [0.3333333333333333, \"#9c179e\"], [0.4444444444444444, \"#bd3786\"], [0.5555555555555556, \"#d8576b\"], [0.6666666666666666, \"#ed7953\"], [0.7777777777777778, \"#fb9f3a\"], [0.8888888888888888, \"#fdca26\"], [1.0, \"#f0f921\"]], \"type\": \"heatmap\"}], \"heatmapgl\": [{\"colorbar\": {\"outlinewidth\": 0, \"ticks\": \"\"}, \"colorscale\": [[0.0, \"#0d0887\"], [0.1111111111111111, \"#46039f\"], [0.2222222222222222, \"#7201a8\"], [0.3333333333333333, \"#9c179e\"], [0.4444444444444444, \"#bd3786\"], [0.5555555555555556, \"#d8576b\"], [0.6666666666666666, \"#ed7953\"], [0.7777777777777778, \"#fb9f3a\"], [0.8888888888888888, \"#fdca26\"], [1.0, \"#f0f921\"]], \"type\": \"heatmapgl\"}], \"histogram\": [{\"marker\": {\"colorbar\": {\"outlinewidth\": 0, \"ticks\": \"\"}}, \"type\": \"histogram\"}], \"histogram2d\": [{\"colorbar\": {\"outlinewidth\": 0, \"ticks\": \"\"}, \"colorscale\": [[0.0, \"#0d0887\"], [0.1111111111111111, \"#46039f\"], [0.2222222222222222, \"#7201a8\"], [0.3333333333333333, \"#9c179e\"], [0.4444444444444444, \"#bd3786\"], [0.5555555555555556, \"#d8576b\"], [0.6666666666666666, \"#ed7953\"], [0.7777777777777778, \"#fb9f3a\"], [0.8888888888888888, \"#fdca26\"], [1.0, \"#f0f921\"]], \"type\": \"histogram2d\"}], \"histogram2dcontour\": [{\"colorbar\": {\"outlinewidth\": 0, \"ticks\": \"\"}, \"colorscale\": [[0.0, \"#0d0887\"], [0.1111111111111111, \"#46039f\"], [0.2222222222222222, \"#7201a8\"], [0.3333333333333333, \"#9c179e\"], [0.4444444444444444, \"#bd3786\"], [0.5555555555555556, \"#d8576b\"], [0.6666666666666666, \"#ed7953\"], [0.7777777777777778, \"#fb9f3a\"], [0.8888888888888888, \"#fdca26\"], [1.0, \"#f0f921\"]], \"type\": \"histogram2dcontour\"}], \"mesh3d\": [{\"colorbar\": {\"outlinewidth\": 0, \"ticks\": \"\"}, \"type\": \"mesh3d\"}], \"parcoords\": [{\"line\": {\"colorbar\": {\"outlinewidth\": 0, \"ticks\": \"\"}}, \"type\": \"parcoords\"}], \"pie\": [{\"automargin\": true, \"type\": \"pie\"}], \"scatter\": [{\"marker\": {\"colorbar\": {\"outlinewidth\": 0, \"ticks\": \"\"}}, \"type\": \"scatter\"}], \"scatter3d\": [{\"line\": {\"colorbar\": {\"outlinewidth\": 0, \"ticks\": \"\"}}, \"marker\": {\"colorbar\": {\"outlinewidth\": 0, \"ticks\": \"\"}}, \"type\": \"scatter3d\"}], \"scattercarpet\": [{\"marker\": {\"colorbar\": {\"outlinewidth\": 0, \"ticks\": \"\"}}, \"type\": \"scattercarpet\"}], \"scattergeo\": [{\"marker\": {\"colorbar\": {\"outlinewidth\": 0, \"ticks\": \"\"}}, \"type\": \"scattergeo\"}], \"scattergl\": [{\"marker\": {\"colorbar\": {\"outlinewidth\": 0, \"ticks\": \"\"}}, \"type\": \"scattergl\"}], \"scattermapbox\": [{\"marker\": {\"colorbar\": {\"outlinewidth\": 0, \"ticks\": \"\"}}, \"type\": \"scattermapbox\"}], \"scatterpolar\": [{\"marker\": {\"colorbar\": {\"outlinewidth\": 0, \"ticks\": \"\"}}, \"type\": \"scatterpolar\"}], \"scatterpolargl\": [{\"marker\": {\"colorbar\": {\"outlinewidth\": 0, \"ticks\": \"\"}}, \"type\": \"scatterpolargl\"}], \"scatterternary\": [{\"marker\": {\"colorbar\": {\"outlinewidth\": 0, \"ticks\": \"\"}}, \"type\": \"scatterternary\"}], \"surface\": [{\"colorbar\": {\"outlinewidth\": 0, \"ticks\": \"\"}, \"colorscale\": [[0.0, \"#0d0887\"], [0.1111111111111111, \"#46039f\"], [0.2222222222222222, \"#7201a8\"], [0.3333333333333333, \"#9c179e\"], [0.4444444444444444, \"#bd3786\"], [0.5555555555555556, \"#d8576b\"], [0.6666666666666666, \"#ed7953\"], [0.7777777777777778, \"#fb9f3a\"], [0.8888888888888888, \"#fdca26\"], [1.0, \"#f0f921\"]], \"type\": \"surface\"}], \"table\": [{\"cells\": {\"fill\": {\"color\": \"#EBF0F8\"}, \"line\": {\"color\": \"white\"}}, \"header\": {\"fill\": {\"color\": \"#C8D4E3\"}, \"line\": {\"color\": \"white\"}}, \"type\": \"table\"}]}, \"layout\": {\"annotationdefaults\": {\"arrowcolor\": \"#2a3f5f\", \"arrowhead\": 0, \"arrowwidth\": 1}, \"coloraxis\": {\"colorbar\": {\"outlinewidth\": 0, \"ticks\": \"\"}}, \"colorscale\": {\"diverging\": [[0, \"#8e0152\"], [0.1, \"#c51b7d\"], [0.2, \"#de77ae\"], [0.3, \"#f1b6da\"], [0.4, \"#fde0ef\"], [0.5, \"#f7f7f7\"], [0.6, \"#e6f5d0\"], [0.7, \"#b8e186\"], [0.8, \"#7fbc41\"], [0.9, \"#4d9221\"], [1, \"#276419\"]], \"sequential\": [[0.0, \"#0d0887\"], [0.1111111111111111, \"#46039f\"], [0.2222222222222222, \"#7201a8\"], [0.3333333333333333, \"#9c179e\"], [0.4444444444444444, \"#bd3786\"], [0.5555555555555556, \"#d8576b\"], [0.6666666666666666, \"#ed7953\"], [0.7777777777777778, \"#fb9f3a\"], [0.8888888888888888, \"#fdca26\"], [1.0, \"#f0f921\"]], \"sequentialminus\": [[0.0, \"#0d0887\"], [0.1111111111111111, \"#46039f\"], [0.2222222222222222, \"#7201a8\"], [0.3333333333333333, \"#9c179e\"], [0.4444444444444444, \"#bd3786\"], [0.5555555555555556, \"#d8576b\"], [0.6666666666666666, \"#ed7953\"], [0.7777777777777778, \"#fb9f3a\"], [0.8888888888888888, \"#fdca26\"], [1.0, \"#f0f921\"]]}, \"colorway\": [\"#636efa\", \"#EF553B\", \"#00cc96\", \"#ab63fa\", \"#FFA15A\", \"#19d3f3\", \"#FF6692\", \"#B6E880\", \"#FF97FF\", \"#FECB52\"], \"font\": {\"color\": \"#2a3f5f\"}, \"geo\": {\"bgcolor\": \"white\", \"lakecolor\": \"white\", \"landcolor\": \"#E5ECF6\", \"showlakes\": true, \"showland\": true, \"subunitcolor\": \"white\"}, \"hoverlabel\": {\"align\": \"left\"}, \"hovermode\": \"closest\", \"mapbox\": {\"style\": \"light\"}, \"paper_bgcolor\": \"white\", \"plot_bgcolor\": \"#E5ECF6\", \"polar\": {\"angularaxis\": {\"gridcolor\": \"white\", \"linecolor\": \"white\", \"ticks\": \"\"}, \"bgcolor\": \"#E5ECF6\", \"radialaxis\": {\"gridcolor\": \"white\", \"linecolor\": \"white\", \"ticks\": \"\"}}, \"scene\": {\"xaxis\": {\"backgroundcolor\": \"#E5ECF6\", \"gridcolor\": \"white\", \"gridwidth\": 2, \"linecolor\": \"white\", \"showbackground\": true, \"ticks\": \"\", \"zerolinecolor\": \"white\"}, \"yaxis\": {\"backgroundcolor\": \"#E5ECF6\", \"gridcolor\": \"white\", \"gridwidth\": 2, \"linecolor\": \"white\", \"showbackground\": true, \"ticks\": \"\", \"zerolinecolor\": \"white\"}, \"zaxis\": {\"backgroundcolor\": \"#E5ECF6\", \"gridcolor\": \"white\", \"gridwidth\": 2, \"linecolor\": \"white\", \"showbackground\": true, \"ticks\": \"\", \"zerolinecolor\": \"white\"}}, \"shapedefaults\": {\"line\": {\"color\": \"#2a3f5f\"}}, \"ternary\": {\"aaxis\": {\"gridcolor\": \"white\", \"linecolor\": \"white\", \"ticks\": \"\"}, \"baxis\": {\"gridcolor\": \"white\", \"linecolor\": \"white\", \"ticks\": \"\"}, \"bgcolor\": \"#E5ECF6\", \"caxis\": {\"gridcolor\": \"white\", \"linecolor\": \"white\", \"ticks\": \"\"}}, \"title\": {\"x\": 0.05}, \"xaxis\": {\"automargin\": true, \"gridcolor\": \"white\", \"linecolor\": \"white\", \"ticks\": \"\", \"title\": {\"standoff\": 15}, \"zerolinecolor\": \"white\", \"zerolinewidth\": 2}, \"yaxis\": {\"automargin\": true, \"gridcolor\": \"white\", \"linecolor\": \"white\", \"ticks\": \"\", \"title\": {\"standoff\": 15}, \"zerolinecolor\": \"white\", \"zerolinewidth\": 2}}}, \"title\": {\"font\": {\"color\": \"#4D5663\"}}, \"xaxis\": {\"gridcolor\": \"#E1E5ED\", \"showgrid\": true, \"tickfont\": {\"color\": \"#4D5663\"}, \"title\": {\"font\": {\"color\": \"#4D5663\"}, \"text\": \"\"}, \"zerolinecolor\": \"#E1E5ED\"}, \"yaxis\": {\"gridcolor\": \"#E1E5ED\", \"showgrid\": true, \"tickfont\": {\"color\": \"#4D5663\"}, \"title\": {\"font\": {\"color\": \"#4D5663\"}, \"text\": \"\"}, \"zerolinecolor\": \"#E1E5ED\"}},\n",
       "                        {\"showLink\": true, \"linkText\": \"Export to plot.ly\", \"plotlyServerURL\": \"https://plot.ly\", \"responsive\": true}\n",
       "                    ).then(function(){\n",
       "                            \n",
       "var gd = document.getElementById('9e17444c-3bff-4f05-8f98-dbd5966728b9');\n",
       "var x = new MutationObserver(function (mutations, observer) {{\n",
       "        var display = window.getComputedStyle(gd).display;\n",
       "        if (!display || display === 'none') {{\n",
       "            console.log([gd, 'removed!']);\n",
       "            Plotly.purge(gd);\n",
       "            observer.disconnect();\n",
       "        }}\n",
       "}});\n",
       "\n",
       "// Listen for the removal of the full notebook cells\n",
       "var notebookContainer = gd.closest('#notebook-container');\n",
       "if (notebookContainer) {{\n",
       "    x.observe(notebookContainer, {childList: true});\n",
       "}}\n",
       "\n",
       "// Listen for the clearing of the current output cell\n",
       "var outputEl = gd.closest('.output');\n",
       "if (outputEl) {{\n",
       "    x.observe(outputEl, {childList: true});\n",
       "}}\n",
       "\n",
       "                        })\n",
       "                };\n",
       "                });\n",
       "            </script>\n",
       "        </div>"
      ]
     },
     "metadata": {},
     "output_type": "display_data"
    }
   ],
   "source": [
    "df.iplot(kind='bubble',x='A',y='B',size='C')"
   ]
  },
  {
   "cell_type": "markdown",
   "metadata": {},
   "source": [
    "## scatter_matrix()\n",
    "\n",
    "Similar to sns.pairplot()"
   ]
  },
  {
   "cell_type": "code",
   "execution_count": 21,
   "metadata": {},
   "outputs": [
    {
     "data": {
      "application/vnd.plotly.v1+json": {
       "config": {
        "linkText": "Export to plot.ly",
        "plotlyServerURL": "https://plot.ly",
        "showLink": true
       },
       "data": [
        {
         "histfunc": "count",
         "histnorm": "",
         "marker": {
          "color": "rgba(255, 153, 51, 1.0)",
          "line": {
           "color": "#4D5663",
           "width": 1.3
          }
         },
         "name": "A",
         "nbinsx": 10,
         "opacity": 0.8,
         "orientation": "v",
         "type": "histogram",
         "x": [
          0.2192150126893649,
          0.41212764663850154,
          -0.27839766837010627,
          0.3222178500267178,
          1.1359559733338713,
          -0.971720425769713,
          1.4329161629803917,
          -0.34578250445780295,
          0.9221363208457326,
          -0.46018427034111126,
          0.032535916019239226,
          -1.5775132350080174,
          1.2509653911100467,
          0.8333489234269918,
          -0.09408230960773854,
          0.010236286462784547,
          0.6198798548523512,
          -2.3694740941164874,
          0.6446131044139314,
          3.5825153483746544,
          -1.100859730297812,
          -0.28637707270395063,
          1.2663027275521734,
          0.4480018504819275,
          -0.04075310173488496,
          -1.3188747595733246,
          -0.25669888175689487,
          -0.7892384287614435,
          -0.5027860677713014,
          0.08430359155613538,
          -0.40896809921325916,
          1.2708262506705303,
          -0.38766034310350395,
          0.4304639325836553,
          1.8071040246302588,
          1.4568874186053604,
          0.9042403428138212,
          -0.7816990895945196,
          0.7868373081101285,
          0.9476543351449195,
          1.1956296073512873,
          0.41095470596658434,
          1.0094261937662572,
          -0.44046838256526516,
          1.0346716931466176,
          0.11523886763913334,
          -0.31723607081444566,
          -0.716904274124458,
          0.26466695448679606,
          -0.6379239557948869,
          0.955179550321454,
          1.6925209088368083,
          1.7812391056276533,
          -1.4877766892101543,
          -1.1899544134286546,
          -0.10895806189072393,
          1.321027710937083,
          -0.8784194756051036,
          0.6504071261387132,
          1.094753327689872,
          -0.2132623568016486,
          -0.7927137163590783,
          -0.45765125612752156,
          0.28711097689175746,
          -0.8352933868433253,
          -2.0667869160062238,
          -0.35007642593563354,
          0.9947487894082441,
          -1.1831678986229839,
          -0.8486257818723462,
          -0.2765927487443163,
          0.7680784213053352,
          -0.9335626713391687,
          0.21802436036050304,
          -0.9349362054526161,
          -0.011134013758786858,
          -1.6743957170983006,
          0.12574163202444208,
          1.1531777911767431,
          1.2999741110066083,
          -0.2735192157650116,
          0.595818583592944,
          0.41802287494605567,
          0.45030528691780813,
          -0.514456906944202,
          -0.4162077818331348,
          2.4691714751126876,
          -1.365196733109609,
          0.26790894446099445,
          -0.06926500967640424,
          0.311983304253257,
          1.1795697874824076,
          0.3690061425350321,
          1.0369119759384802,
          0.11344630289523762,
          -0.8618742507166238,
          1.0502865219767203,
          -0.6297527108271594,
          2.0620223895254988,
          0.28102629664114714
         ],
         "xaxis": "x",
         "yaxis": "y"
        },
        {
         "line": {
          "color": "rgba(128, 128, 128, 1.0)",
          "dash": "solid",
          "shape": "linear",
          "width": 1.3
         },
         "marker": {
          "size": 2,
          "symbol": "circle"
         },
         "mode": "markers",
         "name": "A",
         "text": "",
         "type": "scatter",
         "x": [
          -2.5296842304295915,
          -0.9124939583658659,
          1.9371572689115752,
          -0.04233086880753978,
          1.1755323137692275,
          -0.7913343687872296,
          0.34679771300378864,
          0.1472644768462741,
          -0.5576417622152579,
          1.0153627370487877,
          -0.006675276814364406,
          -1.3831667133442893,
          0.23794366571150333,
          -0.046584210842764394,
          -0.23286229979657497,
          -1.059043175997328,
          -0.5639209672124689,
          1.2466006179249922,
          1.785304178140208,
          0.7289995222261205,
          -0.2394784072597976,
          0.6674022767035093,
          -1.7636884877840329,
          -1.7239697309413886,
          1.6336503512461968,
          -0.09202348674133626,
          1.0195082254673082,
          0.6284543531925654,
          -0.9230405694743555,
          0.8912283886498443,
          0.6633555600973492,
          -1.5256437045839726,
          0.9770914272419425,
          1.7175529208127185,
          0.8406491088530332,
          -1.2707511635610007,
          1.38083980414698,
          -0.9203591200540816,
          -0.5004906455425786,
          -0.5399747143298336,
          -0.9896963608623736,
          1.3306609274638301,
          0.8926496038118524,
          -2.033822133364184,
          -0.8334681002973663,
          0.14001110291725294,
          -0.685037044884312,
          0.9415217721260292,
          -0.7396063904143044,
          1.4124225135238375,
          1.9904956031872585,
          0.42500823802958937,
          1.930846927734657,
          -1.9760870203704148,
          -1.0777631936672263,
          0.902624464861868,
          -0.94669113465832,
          -0.9373697872008047,
          -1.4821469944733676,
          -0.9426236297971836,
          1.0841383783955747,
          -2.0884924313952187,
          0.8969041011425303,
          -1.5803644182734884,
          -1.3823710740159605,
          -1.5206872295882883,
          -0.2581375790682765,
          1.156228135822335,
          -0.41662244466772547,
          -0.3490920630112603,
          1.2895317025169495,
          -0.8821858086096042,
          -0.5387923050763868,
          -0.5663537185351362,
          -1.095431469835826,
          0.6009775868516194,
          2.614098758958872,
          -0.9592823177952877,
          0.06536082847107165,
          -0.8496657523610329,
          -1.4681299656741593,
          0.6701367636720044,
          0.7744265354513329,
          2.0586936414104375,
          0.7915794301092625,
          2.592940852157227,
          -1.3221424278325977,
          2.8901840068359896,
          0.561794978690869,
          0.6610147433500252,
          1.9933671238820154,
          0.11772975628376309,
          -1.3513533772700421,
          0.8043126148336902,
          -0.5690624329172052,
          0.536251241812792,
          0.7386353343412105,
          -0.976006012430902,
          -0.9283420207337423,
          0.04110546621274906
         ],
         "xaxis": "x2",
         "y": [
          0.2192150126893649,
          0.41212764663850154,
          -0.27839766837010627,
          0.3222178500267178,
          1.1359559733338713,
          -0.971720425769713,
          1.4329161629803917,
          -0.34578250445780295,
          0.9221363208457326,
          -0.46018427034111126,
          0.032535916019239226,
          -1.5775132350080174,
          1.2509653911100467,
          0.8333489234269918,
          -0.09408230960773854,
          0.010236286462784547,
          0.6198798548523512,
          -2.3694740941164874,
          0.6446131044139314,
          3.5825153483746544,
          -1.100859730297812,
          -0.28637707270395063,
          1.2663027275521734,
          0.4480018504819275,
          -0.04075310173488496,
          -1.3188747595733246,
          -0.25669888175689487,
          -0.7892384287614435,
          -0.5027860677713014,
          0.08430359155613538,
          -0.40896809921325916,
          1.2708262506705303,
          -0.38766034310350395,
          0.4304639325836553,
          1.8071040246302588,
          1.4568874186053604,
          0.9042403428138212,
          -0.7816990895945196,
          0.7868373081101285,
          0.9476543351449195,
          1.1956296073512873,
          0.41095470596658434,
          1.0094261937662572,
          -0.44046838256526516,
          1.0346716931466176,
          0.11523886763913334,
          -0.31723607081444566,
          -0.716904274124458,
          0.26466695448679606,
          -0.6379239557948869,
          0.955179550321454,
          1.6925209088368083,
          1.7812391056276533,
          -1.4877766892101543,
          -1.1899544134286546,
          -0.10895806189072393,
          1.321027710937083,
          -0.8784194756051036,
          0.6504071261387132,
          1.094753327689872,
          -0.2132623568016486,
          -0.7927137163590783,
          -0.45765125612752156,
          0.28711097689175746,
          -0.8352933868433253,
          -2.0667869160062238,
          -0.35007642593563354,
          0.9947487894082441,
          -1.1831678986229839,
          -0.8486257818723462,
          -0.2765927487443163,
          0.7680784213053352,
          -0.9335626713391687,
          0.21802436036050304,
          -0.9349362054526161,
          -0.011134013758786858,
          -1.6743957170983006,
          0.12574163202444208,
          1.1531777911767431,
          1.2999741110066083,
          -0.2735192157650116,
          0.595818583592944,
          0.41802287494605567,
          0.45030528691780813,
          -0.514456906944202,
          -0.4162077818331348,
          2.4691714751126876,
          -1.365196733109609,
          0.26790894446099445,
          -0.06926500967640424,
          0.311983304253257,
          1.1795697874824076,
          0.3690061425350321,
          1.0369119759384802,
          0.11344630289523762,
          -0.8618742507166238,
          1.0502865219767203,
          -0.6297527108271594,
          2.0620223895254988,
          0.28102629664114714
         ],
         "yaxis": "y2"
        },
        {
         "line": {
          "color": "rgba(128, 128, 128, 1.0)",
          "dash": "solid",
          "shape": "linear",
          "width": 1.3
         },
         "marker": {
          "size": 2,
          "symbol": "circle"
         },
         "mode": "markers",
         "name": "A",
         "text": "",
         "type": "scatter",
         "x": [
          -1.1057842548270977,
          -0.624447081861106,
          -1.1463046847851772,
          -2.0516528664086016,
          -0.2536472013819978,
          0.9861718486144034,
          1.0689897955393939,
          -0.1585854788296682,
          -1.3077937818699334,
          -0.8208406371273543,
          1.8740322680110295,
          0.6333913673562931,
          0.3178947957116137,
          -0.015736534377424564,
          2.0321046242319687,
          0.06375926251515106,
          -0.3390673097091017,
          -0.401837996609353,
          1.2346788296440208,
          2.276149956123622,
          0.37569579834636213,
          0.3953364275693833,
          -0.247553039354438,
          -1.2869865347564768,
          0.835516096054234,
          0.65890210050644,
          0.3012561169493466,
          -1.271307379056707,
          -0.6003437313545574,
          -0.4739198313223118,
          1.3267237113368835,
          -0.5578709223481126,
          -0.7399846035106609,
          -1.1846867750462509,
          1.0361213738287873,
          0.24158089735531355,
          -1.7081680105288097,
          -1.690694163108148,
          -1.1482330961742127,
          0.217297700281279,
          -0.7562434147855459,
          0.8876630556060952,
          -0.9168718756703037,
          -2.4859795041900496,
          -1.1414639324014766,
          -1.7554578054650556,
          1.0377455208260824,
          2.281931426077602,
          -0.3127148942114271,
          -1.412087816616137,
          -0.9257671377072907,
          -1.7468219516771972,
          0.19949328132156197,
          -0.5441380405794646,
          -0.24844150446616758,
          1.3924373328595068,
          1.0991871563843334,
          0.4639167604141466,
          0.5971530163443323,
          1.69804068317003,
          0.4922814159340416,
          0.722704455458475,
          1.5993261724325747,
          -2.2371059073938695,
          -0.21008970484627734,
          -0.4493148789517706,
          0.8995738126801441,
          0.590873981732288,
          0.18298494096037912,
          0.9883161308378683,
          0.440433763633946,
          -0.967373887800737,
          0.17678595175618295,
          -0.175182346557614,
          0.3655468037910308,
          -0.8392541776916436,
          0.8921675859970574,
          -0.6696875442130119,
          2.3921981316395287,
          -0.16737461966501416,
          -0.10569484690535733,
          0.806222165175453,
          -0.21171561737066233,
          0.24146077603021113,
          0.8050299291107749,
          -1.4586981180464924,
          -0.17949033231634512,
          0.24933419637187354,
          -1.0016664814270693,
          -1.0310117830282746,
          0.6172378771346466,
          1.6460689541691134,
          0.22247929101871433,
          1.1122959881698997,
          -0.03692066792117503,
          0.24482297693849198,
          -0.11924156202238932,
          -0.529984146740525,
          1.6270305526062274,
          -0.6651648340822217
         ],
         "xaxis": "x3",
         "y": [
          0.2192150126893649,
          0.41212764663850154,
          -0.27839766837010627,
          0.3222178500267178,
          1.1359559733338713,
          -0.971720425769713,
          1.4329161629803917,
          -0.34578250445780295,
          0.9221363208457326,
          -0.46018427034111126,
          0.032535916019239226,
          -1.5775132350080174,
          1.2509653911100467,
          0.8333489234269918,
          -0.09408230960773854,
          0.010236286462784547,
          0.6198798548523512,
          -2.3694740941164874,
          0.6446131044139314,
          3.5825153483746544,
          -1.100859730297812,
          -0.28637707270395063,
          1.2663027275521734,
          0.4480018504819275,
          -0.04075310173488496,
          -1.3188747595733246,
          -0.25669888175689487,
          -0.7892384287614435,
          -0.5027860677713014,
          0.08430359155613538,
          -0.40896809921325916,
          1.2708262506705303,
          -0.38766034310350395,
          0.4304639325836553,
          1.8071040246302588,
          1.4568874186053604,
          0.9042403428138212,
          -0.7816990895945196,
          0.7868373081101285,
          0.9476543351449195,
          1.1956296073512873,
          0.41095470596658434,
          1.0094261937662572,
          -0.44046838256526516,
          1.0346716931466176,
          0.11523886763913334,
          -0.31723607081444566,
          -0.716904274124458,
          0.26466695448679606,
          -0.6379239557948869,
          0.955179550321454,
          1.6925209088368083,
          1.7812391056276533,
          -1.4877766892101543,
          -1.1899544134286546,
          -0.10895806189072393,
          1.321027710937083,
          -0.8784194756051036,
          0.6504071261387132,
          1.094753327689872,
          -0.2132623568016486,
          -0.7927137163590783,
          -0.45765125612752156,
          0.28711097689175746,
          -0.8352933868433253,
          -2.0667869160062238,
          -0.35007642593563354,
          0.9947487894082441,
          -1.1831678986229839,
          -0.8486257818723462,
          -0.2765927487443163,
          0.7680784213053352,
          -0.9335626713391687,
          0.21802436036050304,
          -0.9349362054526161,
          -0.011134013758786858,
          -1.6743957170983006,
          0.12574163202444208,
          1.1531777911767431,
          1.2999741110066083,
          -0.2735192157650116,
          0.595818583592944,
          0.41802287494605567,
          0.45030528691780813,
          -0.514456906944202,
          -0.4162077818331348,
          2.4691714751126876,
          -1.365196733109609,
          0.26790894446099445,
          -0.06926500967640424,
          0.311983304253257,
          1.1795697874824076,
          0.3690061425350321,
          1.0369119759384802,
          0.11344630289523762,
          -0.8618742507166238,
          1.0502865219767203,
          -0.6297527108271594,
          2.0620223895254988,
          0.28102629664114714
         ],
         "yaxis": "y3"
        },
        {
         "line": {
          "color": "rgba(128, 128, 128, 1.0)",
          "dash": "solid",
          "shape": "linear",
          "width": 1.3
         },
         "marker": {
          "size": 2,
          "symbol": "circle"
         },
         "mode": "markers",
         "name": "A",
         "text": "",
         "type": "scatter",
         "x": [
          -0.6888520130434728,
          1.2478942299437972,
          -0.6910030563362499,
          0.6633937903835291,
          1.207011098767084,
          -0.0501587935275598,
          1.4403495910459987,
          0.6593186713810559,
          0.8392960277754612,
          -0.8463909963062793,
          0.8806397761586382,
          -0.9092802790816509,
          -0.18068852731817323,
          1.782362983160367,
          -1.389746193951448,
          1.8521076653037216,
          -0.6805460810710358,
          -1.8626639821088389,
          0.39881287947045035,
          1.8794567093480854,
          1.4772474439124987,
          0.9714282361405215,
          0.4757459667745016,
          -0.21758173305929074,
          -0.9535346328427691,
          0.3229353850264389,
          -0.06609962347331595,
          0.34119418983522354,
          -0.005102556273799416,
          1.5383460834996734,
          -0.44041059206688926,
          -0.29050418807046224,
          0.08376608511847015,
          0.2136126241861683,
          -0.6150633970483889,
          1.3422412568502053,
          1.3253437991664234,
          -0.704081417634952,
          -1.5850165287088795,
          -1.1803875501519396,
          0.4167274231177229,
          0.23422899585172988,
          -1.3989737323147369,
          0.8229848353882916,
          -2.179724701187986,
          -1.9850353456455285,
          -0.13837495171300337,
          -1.8138557686372656,
          1.4868531021875417,
          -1.9062470012029196,
          0.28741739155320234,
          0.7711078726665829,
          -0.532917852397217,
          -2.1706971308667478,
          -2.2618877811324887,
          0.7719701344522324,
          0.8095485633696264,
          0.41610668242332727,
          -0.44133376688330395,
          -0.49269229078030513,
          -1.880963038201057,
          1.0108218818879948,
          0.44492300762638737,
          1.9141574240141155,
          -0.22271326954574053,
          0.24114473449983687,
          -0.1607733348886458,
          -1.5757585020970784,
          -0.2071801368015469,
          1.5388537992008704,
          -0.01027993174490521,
          0.23275646792273363,
          0.14633088199439911,
          -0.30740529588837634,
          0.397326794331163,
          0.8405167455431644,
          -0.45759285002931893,
          1.4072806684764043,
          -0.7695229333094545,
          0.20096074700634062,
          -0.3125522962682811,
          -0.13179455179870486,
          -0.6695572145913227,
          -0.0438013151056822,
          -0.33301348963770727,
          -0.02575045255163641,
          -0.5123216086652627,
          -1.3676062515875993,
          1.260487387004233,
          -0.12986916435730478,
          -0.2683307074031764,
          -0.8341211597551491,
          -1.079219641601013,
          -0.011414089476490382,
          -0.40916183184984434,
          -0.2597283947168098,
          1.3405791004795815,
          -0.9435890085699381,
          -1.0987361219683982,
          -0.1439562375863744
         ],
         "xaxis": "x4",
         "y": [
          0.2192150126893649,
          0.41212764663850154,
          -0.27839766837010627,
          0.3222178500267178,
          1.1359559733338713,
          -0.971720425769713,
          1.4329161629803917,
          -0.34578250445780295,
          0.9221363208457326,
          -0.46018427034111126,
          0.032535916019239226,
          -1.5775132350080174,
          1.2509653911100467,
          0.8333489234269918,
          -0.09408230960773854,
          0.010236286462784547,
          0.6198798548523512,
          -2.3694740941164874,
          0.6446131044139314,
          3.5825153483746544,
          -1.100859730297812,
          -0.28637707270395063,
          1.2663027275521734,
          0.4480018504819275,
          -0.04075310173488496,
          -1.3188747595733246,
          -0.25669888175689487,
          -0.7892384287614435,
          -0.5027860677713014,
          0.08430359155613538,
          -0.40896809921325916,
          1.2708262506705303,
          -0.38766034310350395,
          0.4304639325836553,
          1.8071040246302588,
          1.4568874186053604,
          0.9042403428138212,
          -0.7816990895945196,
          0.7868373081101285,
          0.9476543351449195,
          1.1956296073512873,
          0.41095470596658434,
          1.0094261937662572,
          -0.44046838256526516,
          1.0346716931466176,
          0.11523886763913334,
          -0.31723607081444566,
          -0.716904274124458,
          0.26466695448679606,
          -0.6379239557948869,
          0.955179550321454,
          1.6925209088368083,
          1.7812391056276533,
          -1.4877766892101543,
          -1.1899544134286546,
          -0.10895806189072393,
          1.321027710937083,
          -0.8784194756051036,
          0.6504071261387132,
          1.094753327689872,
          -0.2132623568016486,
          -0.7927137163590783,
          -0.45765125612752156,
          0.28711097689175746,
          -0.8352933868433253,
          -2.0667869160062238,
          -0.35007642593563354,
          0.9947487894082441,
          -1.1831678986229839,
          -0.8486257818723462,
          -0.2765927487443163,
          0.7680784213053352,
          -0.9335626713391687,
          0.21802436036050304,
          -0.9349362054526161,
          -0.011134013758786858,
          -1.6743957170983006,
          0.12574163202444208,
          1.1531777911767431,
          1.2999741110066083,
          -0.2735192157650116,
          0.595818583592944,
          0.41802287494605567,
          0.45030528691780813,
          -0.514456906944202,
          -0.4162077818331348,
          2.4691714751126876,
          -1.365196733109609,
          0.26790894446099445,
          -0.06926500967640424,
          0.311983304253257,
          1.1795697874824076,
          0.3690061425350321,
          1.0369119759384802,
          0.11344630289523762,
          -0.8618742507166238,
          1.0502865219767203,
          -0.6297527108271594,
          2.0620223895254988,
          0.28102629664114714
         ],
         "yaxis": "y4"
        },
        {
         "line": {
          "color": "rgba(128, 128, 128, 1.0)",
          "dash": "solid",
          "shape": "linear",
          "width": 1.3
         },
         "marker": {
          "size": 2,
          "symbol": "circle"
         },
         "mode": "markers",
         "name": "B",
         "text": "",
         "type": "scatter",
         "x": [
          0.2192150126893649,
          0.41212764663850154,
          -0.27839766837010627,
          0.3222178500267178,
          1.1359559733338713,
          -0.971720425769713,
          1.4329161629803917,
          -0.34578250445780295,
          0.9221363208457326,
          -0.46018427034111126,
          0.032535916019239226,
          -1.5775132350080174,
          1.2509653911100467,
          0.8333489234269918,
          -0.09408230960773854,
          0.010236286462784547,
          0.6198798548523512,
          -2.3694740941164874,
          0.6446131044139314,
          3.5825153483746544,
          -1.100859730297812,
          -0.28637707270395063,
          1.2663027275521734,
          0.4480018504819275,
          -0.04075310173488496,
          -1.3188747595733246,
          -0.25669888175689487,
          -0.7892384287614435,
          -0.5027860677713014,
          0.08430359155613538,
          -0.40896809921325916,
          1.2708262506705303,
          -0.38766034310350395,
          0.4304639325836553,
          1.8071040246302588,
          1.4568874186053604,
          0.9042403428138212,
          -0.7816990895945196,
          0.7868373081101285,
          0.9476543351449195,
          1.1956296073512873,
          0.41095470596658434,
          1.0094261937662572,
          -0.44046838256526516,
          1.0346716931466176,
          0.11523886763913334,
          -0.31723607081444566,
          -0.716904274124458,
          0.26466695448679606,
          -0.6379239557948869,
          0.955179550321454,
          1.6925209088368083,
          1.7812391056276533,
          -1.4877766892101543,
          -1.1899544134286546,
          -0.10895806189072393,
          1.321027710937083,
          -0.8784194756051036,
          0.6504071261387132,
          1.094753327689872,
          -0.2132623568016486,
          -0.7927137163590783,
          -0.45765125612752156,
          0.28711097689175746,
          -0.8352933868433253,
          -2.0667869160062238,
          -0.35007642593563354,
          0.9947487894082441,
          -1.1831678986229839,
          -0.8486257818723462,
          -0.2765927487443163,
          0.7680784213053352,
          -0.9335626713391687,
          0.21802436036050304,
          -0.9349362054526161,
          -0.011134013758786858,
          -1.6743957170983006,
          0.12574163202444208,
          1.1531777911767431,
          1.2999741110066083,
          -0.2735192157650116,
          0.595818583592944,
          0.41802287494605567,
          0.45030528691780813,
          -0.514456906944202,
          -0.4162077818331348,
          2.4691714751126876,
          -1.365196733109609,
          0.26790894446099445,
          -0.06926500967640424,
          0.311983304253257,
          1.1795697874824076,
          0.3690061425350321,
          1.0369119759384802,
          0.11344630289523762,
          -0.8618742507166238,
          1.0502865219767203,
          -0.6297527108271594,
          2.0620223895254988,
          0.28102629664114714
         ],
         "xaxis": "x5",
         "y": [
          -2.5296842304295915,
          -0.9124939583658659,
          1.9371572689115752,
          -0.04233086880753978,
          1.1755323137692275,
          -0.7913343687872296,
          0.34679771300378864,
          0.1472644768462741,
          -0.5576417622152579,
          1.0153627370487877,
          -0.006675276814364406,
          -1.3831667133442893,
          0.23794366571150333,
          -0.046584210842764394,
          -0.23286229979657497,
          -1.059043175997328,
          -0.5639209672124689,
          1.2466006179249922,
          1.785304178140208,
          0.7289995222261205,
          -0.2394784072597976,
          0.6674022767035093,
          -1.7636884877840329,
          -1.7239697309413886,
          1.6336503512461968,
          -0.09202348674133626,
          1.0195082254673082,
          0.6284543531925654,
          -0.9230405694743555,
          0.8912283886498443,
          0.6633555600973492,
          -1.5256437045839726,
          0.9770914272419425,
          1.7175529208127185,
          0.8406491088530332,
          -1.2707511635610007,
          1.38083980414698,
          -0.9203591200540816,
          -0.5004906455425786,
          -0.5399747143298336,
          -0.9896963608623736,
          1.3306609274638301,
          0.8926496038118524,
          -2.033822133364184,
          -0.8334681002973663,
          0.14001110291725294,
          -0.685037044884312,
          0.9415217721260292,
          -0.7396063904143044,
          1.4124225135238375,
          1.9904956031872585,
          0.42500823802958937,
          1.930846927734657,
          -1.9760870203704148,
          -1.0777631936672263,
          0.902624464861868,
          -0.94669113465832,
          -0.9373697872008047,
          -1.4821469944733676,
          -0.9426236297971836,
          1.0841383783955747,
          -2.0884924313952187,
          0.8969041011425303,
          -1.5803644182734884,
          -1.3823710740159605,
          -1.5206872295882883,
          -0.2581375790682765,
          1.156228135822335,
          -0.41662244466772547,
          -0.3490920630112603,
          1.2895317025169495,
          -0.8821858086096042,
          -0.5387923050763868,
          -0.5663537185351362,
          -1.095431469835826,
          0.6009775868516194,
          2.614098758958872,
          -0.9592823177952877,
          0.06536082847107165,
          -0.8496657523610329,
          -1.4681299656741593,
          0.6701367636720044,
          0.7744265354513329,
          2.0586936414104375,
          0.7915794301092625,
          2.592940852157227,
          -1.3221424278325977,
          2.8901840068359896,
          0.561794978690869,
          0.6610147433500252,
          1.9933671238820154,
          0.11772975628376309,
          -1.3513533772700421,
          0.8043126148336902,
          -0.5690624329172052,
          0.536251241812792,
          0.7386353343412105,
          -0.976006012430902,
          -0.9283420207337423,
          0.04110546621274906
         ],
         "yaxis": "y5"
        },
        {
         "histfunc": "count",
         "histnorm": "",
         "marker": {
          "color": "rgba(55, 128, 191, 1.0)",
          "line": {
           "color": "#4D5663",
           "width": 1.3
          }
         },
         "name": "B",
         "nbinsx": 10,
         "opacity": 0.8,
         "orientation": "v",
         "type": "histogram",
         "x": [
          -2.5296842304295915,
          -0.9124939583658659,
          1.9371572689115752,
          -0.04233086880753978,
          1.1755323137692275,
          -0.7913343687872296,
          0.34679771300378864,
          0.1472644768462741,
          -0.5576417622152579,
          1.0153627370487877,
          -0.006675276814364406,
          -1.3831667133442893,
          0.23794366571150333,
          -0.046584210842764394,
          -0.23286229979657497,
          -1.059043175997328,
          -0.5639209672124689,
          1.2466006179249922,
          1.785304178140208,
          0.7289995222261205,
          -0.2394784072597976,
          0.6674022767035093,
          -1.7636884877840329,
          -1.7239697309413886,
          1.6336503512461968,
          -0.09202348674133626,
          1.0195082254673082,
          0.6284543531925654,
          -0.9230405694743555,
          0.8912283886498443,
          0.6633555600973492,
          -1.5256437045839726,
          0.9770914272419425,
          1.7175529208127185,
          0.8406491088530332,
          -1.2707511635610007,
          1.38083980414698,
          -0.9203591200540816,
          -0.5004906455425786,
          -0.5399747143298336,
          -0.9896963608623736,
          1.3306609274638301,
          0.8926496038118524,
          -2.033822133364184,
          -0.8334681002973663,
          0.14001110291725294,
          -0.685037044884312,
          0.9415217721260292,
          -0.7396063904143044,
          1.4124225135238375,
          1.9904956031872585,
          0.42500823802958937,
          1.930846927734657,
          -1.9760870203704148,
          -1.0777631936672263,
          0.902624464861868,
          -0.94669113465832,
          -0.9373697872008047,
          -1.4821469944733676,
          -0.9426236297971836,
          1.0841383783955747,
          -2.0884924313952187,
          0.8969041011425303,
          -1.5803644182734884,
          -1.3823710740159605,
          -1.5206872295882883,
          -0.2581375790682765,
          1.156228135822335,
          -0.41662244466772547,
          -0.3490920630112603,
          1.2895317025169495,
          -0.8821858086096042,
          -0.5387923050763868,
          -0.5663537185351362,
          -1.095431469835826,
          0.6009775868516194,
          2.614098758958872,
          -0.9592823177952877,
          0.06536082847107165,
          -0.8496657523610329,
          -1.4681299656741593,
          0.6701367636720044,
          0.7744265354513329,
          2.0586936414104375,
          0.7915794301092625,
          2.592940852157227,
          -1.3221424278325977,
          2.8901840068359896,
          0.561794978690869,
          0.6610147433500252,
          1.9933671238820154,
          0.11772975628376309,
          -1.3513533772700421,
          0.8043126148336902,
          -0.5690624329172052,
          0.536251241812792,
          0.7386353343412105,
          -0.976006012430902,
          -0.9283420207337423,
          0.04110546621274906
         ],
         "xaxis": "x6",
         "yaxis": "y6"
        },
        {
         "line": {
          "color": "rgba(128, 128, 128, 1.0)",
          "dash": "solid",
          "shape": "linear",
          "width": 1.3
         },
         "marker": {
          "size": 2,
          "symbol": "circle"
         },
         "mode": "markers",
         "name": "B",
         "text": "",
         "type": "scatter",
         "x": [
          -1.1057842548270977,
          -0.624447081861106,
          -1.1463046847851772,
          -2.0516528664086016,
          -0.2536472013819978,
          0.9861718486144034,
          1.0689897955393939,
          -0.1585854788296682,
          -1.3077937818699334,
          -0.8208406371273543,
          1.8740322680110295,
          0.6333913673562931,
          0.3178947957116137,
          -0.015736534377424564,
          2.0321046242319687,
          0.06375926251515106,
          -0.3390673097091017,
          -0.401837996609353,
          1.2346788296440208,
          2.276149956123622,
          0.37569579834636213,
          0.3953364275693833,
          -0.247553039354438,
          -1.2869865347564768,
          0.835516096054234,
          0.65890210050644,
          0.3012561169493466,
          -1.271307379056707,
          -0.6003437313545574,
          -0.4739198313223118,
          1.3267237113368835,
          -0.5578709223481126,
          -0.7399846035106609,
          -1.1846867750462509,
          1.0361213738287873,
          0.24158089735531355,
          -1.7081680105288097,
          -1.690694163108148,
          -1.1482330961742127,
          0.217297700281279,
          -0.7562434147855459,
          0.8876630556060952,
          -0.9168718756703037,
          -2.4859795041900496,
          -1.1414639324014766,
          -1.7554578054650556,
          1.0377455208260824,
          2.281931426077602,
          -0.3127148942114271,
          -1.412087816616137,
          -0.9257671377072907,
          -1.7468219516771972,
          0.19949328132156197,
          -0.5441380405794646,
          -0.24844150446616758,
          1.3924373328595068,
          1.0991871563843334,
          0.4639167604141466,
          0.5971530163443323,
          1.69804068317003,
          0.4922814159340416,
          0.722704455458475,
          1.5993261724325747,
          -2.2371059073938695,
          -0.21008970484627734,
          -0.4493148789517706,
          0.8995738126801441,
          0.590873981732288,
          0.18298494096037912,
          0.9883161308378683,
          0.440433763633946,
          -0.967373887800737,
          0.17678595175618295,
          -0.175182346557614,
          0.3655468037910308,
          -0.8392541776916436,
          0.8921675859970574,
          -0.6696875442130119,
          2.3921981316395287,
          -0.16737461966501416,
          -0.10569484690535733,
          0.806222165175453,
          -0.21171561737066233,
          0.24146077603021113,
          0.8050299291107749,
          -1.4586981180464924,
          -0.17949033231634512,
          0.24933419637187354,
          -1.0016664814270693,
          -1.0310117830282746,
          0.6172378771346466,
          1.6460689541691134,
          0.22247929101871433,
          1.1122959881698997,
          -0.03692066792117503,
          0.24482297693849198,
          -0.11924156202238932,
          -0.529984146740525,
          1.6270305526062274,
          -0.6651648340822217
         ],
         "xaxis": "x7",
         "y": [
          -2.5296842304295915,
          -0.9124939583658659,
          1.9371572689115752,
          -0.04233086880753978,
          1.1755323137692275,
          -0.7913343687872296,
          0.34679771300378864,
          0.1472644768462741,
          -0.5576417622152579,
          1.0153627370487877,
          -0.006675276814364406,
          -1.3831667133442893,
          0.23794366571150333,
          -0.046584210842764394,
          -0.23286229979657497,
          -1.059043175997328,
          -0.5639209672124689,
          1.2466006179249922,
          1.785304178140208,
          0.7289995222261205,
          -0.2394784072597976,
          0.6674022767035093,
          -1.7636884877840329,
          -1.7239697309413886,
          1.6336503512461968,
          -0.09202348674133626,
          1.0195082254673082,
          0.6284543531925654,
          -0.9230405694743555,
          0.8912283886498443,
          0.6633555600973492,
          -1.5256437045839726,
          0.9770914272419425,
          1.7175529208127185,
          0.8406491088530332,
          -1.2707511635610007,
          1.38083980414698,
          -0.9203591200540816,
          -0.5004906455425786,
          -0.5399747143298336,
          -0.9896963608623736,
          1.3306609274638301,
          0.8926496038118524,
          -2.033822133364184,
          -0.8334681002973663,
          0.14001110291725294,
          -0.685037044884312,
          0.9415217721260292,
          -0.7396063904143044,
          1.4124225135238375,
          1.9904956031872585,
          0.42500823802958937,
          1.930846927734657,
          -1.9760870203704148,
          -1.0777631936672263,
          0.902624464861868,
          -0.94669113465832,
          -0.9373697872008047,
          -1.4821469944733676,
          -0.9426236297971836,
          1.0841383783955747,
          -2.0884924313952187,
          0.8969041011425303,
          -1.5803644182734884,
          -1.3823710740159605,
          -1.5206872295882883,
          -0.2581375790682765,
          1.156228135822335,
          -0.41662244466772547,
          -0.3490920630112603,
          1.2895317025169495,
          -0.8821858086096042,
          -0.5387923050763868,
          -0.5663537185351362,
          -1.095431469835826,
          0.6009775868516194,
          2.614098758958872,
          -0.9592823177952877,
          0.06536082847107165,
          -0.8496657523610329,
          -1.4681299656741593,
          0.6701367636720044,
          0.7744265354513329,
          2.0586936414104375,
          0.7915794301092625,
          2.592940852157227,
          -1.3221424278325977,
          2.8901840068359896,
          0.561794978690869,
          0.6610147433500252,
          1.9933671238820154,
          0.11772975628376309,
          -1.3513533772700421,
          0.8043126148336902,
          -0.5690624329172052,
          0.536251241812792,
          0.7386353343412105,
          -0.976006012430902,
          -0.9283420207337423,
          0.04110546621274906
         ],
         "yaxis": "y7"
        },
        {
         "line": {
          "color": "rgba(128, 128, 128, 1.0)",
          "dash": "solid",
          "shape": "linear",
          "width": 1.3
         },
         "marker": {
          "size": 2,
          "symbol": "circle"
         },
         "mode": "markers",
         "name": "B",
         "text": "",
         "type": "scatter",
         "x": [
          -0.6888520130434728,
          1.2478942299437972,
          -0.6910030563362499,
          0.6633937903835291,
          1.207011098767084,
          -0.0501587935275598,
          1.4403495910459987,
          0.6593186713810559,
          0.8392960277754612,
          -0.8463909963062793,
          0.8806397761586382,
          -0.9092802790816509,
          -0.18068852731817323,
          1.782362983160367,
          -1.389746193951448,
          1.8521076653037216,
          -0.6805460810710358,
          -1.8626639821088389,
          0.39881287947045035,
          1.8794567093480854,
          1.4772474439124987,
          0.9714282361405215,
          0.4757459667745016,
          -0.21758173305929074,
          -0.9535346328427691,
          0.3229353850264389,
          -0.06609962347331595,
          0.34119418983522354,
          -0.005102556273799416,
          1.5383460834996734,
          -0.44041059206688926,
          -0.29050418807046224,
          0.08376608511847015,
          0.2136126241861683,
          -0.6150633970483889,
          1.3422412568502053,
          1.3253437991664234,
          -0.704081417634952,
          -1.5850165287088795,
          -1.1803875501519396,
          0.4167274231177229,
          0.23422899585172988,
          -1.3989737323147369,
          0.8229848353882916,
          -2.179724701187986,
          -1.9850353456455285,
          -0.13837495171300337,
          -1.8138557686372656,
          1.4868531021875417,
          -1.9062470012029196,
          0.28741739155320234,
          0.7711078726665829,
          -0.532917852397217,
          -2.1706971308667478,
          -2.2618877811324887,
          0.7719701344522324,
          0.8095485633696264,
          0.41610668242332727,
          -0.44133376688330395,
          -0.49269229078030513,
          -1.880963038201057,
          1.0108218818879948,
          0.44492300762638737,
          1.9141574240141155,
          -0.22271326954574053,
          0.24114473449983687,
          -0.1607733348886458,
          -1.5757585020970784,
          -0.2071801368015469,
          1.5388537992008704,
          -0.01027993174490521,
          0.23275646792273363,
          0.14633088199439911,
          -0.30740529588837634,
          0.397326794331163,
          0.8405167455431644,
          -0.45759285002931893,
          1.4072806684764043,
          -0.7695229333094545,
          0.20096074700634062,
          -0.3125522962682811,
          -0.13179455179870486,
          -0.6695572145913227,
          -0.0438013151056822,
          -0.33301348963770727,
          -0.02575045255163641,
          -0.5123216086652627,
          -1.3676062515875993,
          1.260487387004233,
          -0.12986916435730478,
          -0.2683307074031764,
          -0.8341211597551491,
          -1.079219641601013,
          -0.011414089476490382,
          -0.40916183184984434,
          -0.2597283947168098,
          1.3405791004795815,
          -0.9435890085699381,
          -1.0987361219683982,
          -0.1439562375863744
         ],
         "xaxis": "x8",
         "y": [
          -2.5296842304295915,
          -0.9124939583658659,
          1.9371572689115752,
          -0.04233086880753978,
          1.1755323137692275,
          -0.7913343687872296,
          0.34679771300378864,
          0.1472644768462741,
          -0.5576417622152579,
          1.0153627370487877,
          -0.006675276814364406,
          -1.3831667133442893,
          0.23794366571150333,
          -0.046584210842764394,
          -0.23286229979657497,
          -1.059043175997328,
          -0.5639209672124689,
          1.2466006179249922,
          1.785304178140208,
          0.7289995222261205,
          -0.2394784072597976,
          0.6674022767035093,
          -1.7636884877840329,
          -1.7239697309413886,
          1.6336503512461968,
          -0.09202348674133626,
          1.0195082254673082,
          0.6284543531925654,
          -0.9230405694743555,
          0.8912283886498443,
          0.6633555600973492,
          -1.5256437045839726,
          0.9770914272419425,
          1.7175529208127185,
          0.8406491088530332,
          -1.2707511635610007,
          1.38083980414698,
          -0.9203591200540816,
          -0.5004906455425786,
          -0.5399747143298336,
          -0.9896963608623736,
          1.3306609274638301,
          0.8926496038118524,
          -2.033822133364184,
          -0.8334681002973663,
          0.14001110291725294,
          -0.685037044884312,
          0.9415217721260292,
          -0.7396063904143044,
          1.4124225135238375,
          1.9904956031872585,
          0.42500823802958937,
          1.930846927734657,
          -1.9760870203704148,
          -1.0777631936672263,
          0.902624464861868,
          -0.94669113465832,
          -0.9373697872008047,
          -1.4821469944733676,
          -0.9426236297971836,
          1.0841383783955747,
          -2.0884924313952187,
          0.8969041011425303,
          -1.5803644182734884,
          -1.3823710740159605,
          -1.5206872295882883,
          -0.2581375790682765,
          1.156228135822335,
          -0.41662244466772547,
          -0.3490920630112603,
          1.2895317025169495,
          -0.8821858086096042,
          -0.5387923050763868,
          -0.5663537185351362,
          -1.095431469835826,
          0.6009775868516194,
          2.614098758958872,
          -0.9592823177952877,
          0.06536082847107165,
          -0.8496657523610329,
          -1.4681299656741593,
          0.6701367636720044,
          0.7744265354513329,
          2.0586936414104375,
          0.7915794301092625,
          2.592940852157227,
          -1.3221424278325977,
          2.8901840068359896,
          0.561794978690869,
          0.6610147433500252,
          1.9933671238820154,
          0.11772975628376309,
          -1.3513533772700421,
          0.8043126148336902,
          -0.5690624329172052,
          0.536251241812792,
          0.7386353343412105,
          -0.976006012430902,
          -0.9283420207337423,
          0.04110546621274906
         ],
         "yaxis": "y8"
        },
        {
         "line": {
          "color": "rgba(128, 128, 128, 1.0)",
          "dash": "solid",
          "shape": "linear",
          "width": 1.3
         },
         "marker": {
          "size": 2,
          "symbol": "circle"
         },
         "mode": "markers",
         "name": "C",
         "text": "",
         "type": "scatter",
         "x": [
          0.2192150126893649,
          0.41212764663850154,
          -0.27839766837010627,
          0.3222178500267178,
          1.1359559733338713,
          -0.971720425769713,
          1.4329161629803917,
          -0.34578250445780295,
          0.9221363208457326,
          -0.46018427034111126,
          0.032535916019239226,
          -1.5775132350080174,
          1.2509653911100467,
          0.8333489234269918,
          -0.09408230960773854,
          0.010236286462784547,
          0.6198798548523512,
          -2.3694740941164874,
          0.6446131044139314,
          3.5825153483746544,
          -1.100859730297812,
          -0.28637707270395063,
          1.2663027275521734,
          0.4480018504819275,
          -0.04075310173488496,
          -1.3188747595733246,
          -0.25669888175689487,
          -0.7892384287614435,
          -0.5027860677713014,
          0.08430359155613538,
          -0.40896809921325916,
          1.2708262506705303,
          -0.38766034310350395,
          0.4304639325836553,
          1.8071040246302588,
          1.4568874186053604,
          0.9042403428138212,
          -0.7816990895945196,
          0.7868373081101285,
          0.9476543351449195,
          1.1956296073512873,
          0.41095470596658434,
          1.0094261937662572,
          -0.44046838256526516,
          1.0346716931466176,
          0.11523886763913334,
          -0.31723607081444566,
          -0.716904274124458,
          0.26466695448679606,
          -0.6379239557948869,
          0.955179550321454,
          1.6925209088368083,
          1.7812391056276533,
          -1.4877766892101543,
          -1.1899544134286546,
          -0.10895806189072393,
          1.321027710937083,
          -0.8784194756051036,
          0.6504071261387132,
          1.094753327689872,
          -0.2132623568016486,
          -0.7927137163590783,
          -0.45765125612752156,
          0.28711097689175746,
          -0.8352933868433253,
          -2.0667869160062238,
          -0.35007642593563354,
          0.9947487894082441,
          -1.1831678986229839,
          -0.8486257818723462,
          -0.2765927487443163,
          0.7680784213053352,
          -0.9335626713391687,
          0.21802436036050304,
          -0.9349362054526161,
          -0.011134013758786858,
          -1.6743957170983006,
          0.12574163202444208,
          1.1531777911767431,
          1.2999741110066083,
          -0.2735192157650116,
          0.595818583592944,
          0.41802287494605567,
          0.45030528691780813,
          -0.514456906944202,
          -0.4162077818331348,
          2.4691714751126876,
          -1.365196733109609,
          0.26790894446099445,
          -0.06926500967640424,
          0.311983304253257,
          1.1795697874824076,
          0.3690061425350321,
          1.0369119759384802,
          0.11344630289523762,
          -0.8618742507166238,
          1.0502865219767203,
          -0.6297527108271594,
          2.0620223895254988,
          0.28102629664114714
         ],
         "xaxis": "x9",
         "y": [
          -1.1057842548270977,
          -0.624447081861106,
          -1.1463046847851772,
          -2.0516528664086016,
          -0.2536472013819978,
          0.9861718486144034,
          1.0689897955393939,
          -0.1585854788296682,
          -1.3077937818699334,
          -0.8208406371273543,
          1.8740322680110295,
          0.6333913673562931,
          0.3178947957116137,
          -0.015736534377424564,
          2.0321046242319687,
          0.06375926251515106,
          -0.3390673097091017,
          -0.401837996609353,
          1.2346788296440208,
          2.276149956123622,
          0.37569579834636213,
          0.3953364275693833,
          -0.247553039354438,
          -1.2869865347564768,
          0.835516096054234,
          0.65890210050644,
          0.3012561169493466,
          -1.271307379056707,
          -0.6003437313545574,
          -0.4739198313223118,
          1.3267237113368835,
          -0.5578709223481126,
          -0.7399846035106609,
          -1.1846867750462509,
          1.0361213738287873,
          0.24158089735531355,
          -1.7081680105288097,
          -1.690694163108148,
          -1.1482330961742127,
          0.217297700281279,
          -0.7562434147855459,
          0.8876630556060952,
          -0.9168718756703037,
          -2.4859795041900496,
          -1.1414639324014766,
          -1.7554578054650556,
          1.0377455208260824,
          2.281931426077602,
          -0.3127148942114271,
          -1.412087816616137,
          -0.9257671377072907,
          -1.7468219516771972,
          0.19949328132156197,
          -0.5441380405794646,
          -0.24844150446616758,
          1.3924373328595068,
          1.0991871563843334,
          0.4639167604141466,
          0.5971530163443323,
          1.69804068317003,
          0.4922814159340416,
          0.722704455458475,
          1.5993261724325747,
          -2.2371059073938695,
          -0.21008970484627734,
          -0.4493148789517706,
          0.8995738126801441,
          0.590873981732288,
          0.18298494096037912,
          0.9883161308378683,
          0.440433763633946,
          -0.967373887800737,
          0.17678595175618295,
          -0.175182346557614,
          0.3655468037910308,
          -0.8392541776916436,
          0.8921675859970574,
          -0.6696875442130119,
          2.3921981316395287,
          -0.16737461966501416,
          -0.10569484690535733,
          0.806222165175453,
          -0.21171561737066233,
          0.24146077603021113,
          0.8050299291107749,
          -1.4586981180464924,
          -0.17949033231634512,
          0.24933419637187354,
          -1.0016664814270693,
          -1.0310117830282746,
          0.6172378771346466,
          1.6460689541691134,
          0.22247929101871433,
          1.1122959881698997,
          -0.03692066792117503,
          0.24482297693849198,
          -0.11924156202238932,
          -0.529984146740525,
          1.6270305526062274,
          -0.6651648340822217
         ],
         "yaxis": "y9"
        },
        {
         "line": {
          "color": "rgba(128, 128, 128, 1.0)",
          "dash": "solid",
          "shape": "linear",
          "width": 1.3
         },
         "marker": {
          "size": 2,
          "symbol": "circle"
         },
         "mode": "markers",
         "name": "C",
         "text": "",
         "type": "scatter",
         "x": [
          -2.5296842304295915,
          -0.9124939583658659,
          1.9371572689115752,
          -0.04233086880753978,
          1.1755323137692275,
          -0.7913343687872296,
          0.34679771300378864,
          0.1472644768462741,
          -0.5576417622152579,
          1.0153627370487877,
          -0.006675276814364406,
          -1.3831667133442893,
          0.23794366571150333,
          -0.046584210842764394,
          -0.23286229979657497,
          -1.059043175997328,
          -0.5639209672124689,
          1.2466006179249922,
          1.785304178140208,
          0.7289995222261205,
          -0.2394784072597976,
          0.6674022767035093,
          -1.7636884877840329,
          -1.7239697309413886,
          1.6336503512461968,
          -0.09202348674133626,
          1.0195082254673082,
          0.6284543531925654,
          -0.9230405694743555,
          0.8912283886498443,
          0.6633555600973492,
          -1.5256437045839726,
          0.9770914272419425,
          1.7175529208127185,
          0.8406491088530332,
          -1.2707511635610007,
          1.38083980414698,
          -0.9203591200540816,
          -0.5004906455425786,
          -0.5399747143298336,
          -0.9896963608623736,
          1.3306609274638301,
          0.8926496038118524,
          -2.033822133364184,
          -0.8334681002973663,
          0.14001110291725294,
          -0.685037044884312,
          0.9415217721260292,
          -0.7396063904143044,
          1.4124225135238375,
          1.9904956031872585,
          0.42500823802958937,
          1.930846927734657,
          -1.9760870203704148,
          -1.0777631936672263,
          0.902624464861868,
          -0.94669113465832,
          -0.9373697872008047,
          -1.4821469944733676,
          -0.9426236297971836,
          1.0841383783955747,
          -2.0884924313952187,
          0.8969041011425303,
          -1.5803644182734884,
          -1.3823710740159605,
          -1.5206872295882883,
          -0.2581375790682765,
          1.156228135822335,
          -0.41662244466772547,
          -0.3490920630112603,
          1.2895317025169495,
          -0.8821858086096042,
          -0.5387923050763868,
          -0.5663537185351362,
          -1.095431469835826,
          0.6009775868516194,
          2.614098758958872,
          -0.9592823177952877,
          0.06536082847107165,
          -0.8496657523610329,
          -1.4681299656741593,
          0.6701367636720044,
          0.7744265354513329,
          2.0586936414104375,
          0.7915794301092625,
          2.592940852157227,
          -1.3221424278325977,
          2.8901840068359896,
          0.561794978690869,
          0.6610147433500252,
          1.9933671238820154,
          0.11772975628376309,
          -1.3513533772700421,
          0.8043126148336902,
          -0.5690624329172052,
          0.536251241812792,
          0.7386353343412105,
          -0.976006012430902,
          -0.9283420207337423,
          0.04110546621274906
         ],
         "xaxis": "x10",
         "y": [
          -1.1057842548270977,
          -0.624447081861106,
          -1.1463046847851772,
          -2.0516528664086016,
          -0.2536472013819978,
          0.9861718486144034,
          1.0689897955393939,
          -0.1585854788296682,
          -1.3077937818699334,
          -0.8208406371273543,
          1.8740322680110295,
          0.6333913673562931,
          0.3178947957116137,
          -0.015736534377424564,
          2.0321046242319687,
          0.06375926251515106,
          -0.3390673097091017,
          -0.401837996609353,
          1.2346788296440208,
          2.276149956123622,
          0.37569579834636213,
          0.3953364275693833,
          -0.247553039354438,
          -1.2869865347564768,
          0.835516096054234,
          0.65890210050644,
          0.3012561169493466,
          -1.271307379056707,
          -0.6003437313545574,
          -0.4739198313223118,
          1.3267237113368835,
          -0.5578709223481126,
          -0.7399846035106609,
          -1.1846867750462509,
          1.0361213738287873,
          0.24158089735531355,
          -1.7081680105288097,
          -1.690694163108148,
          -1.1482330961742127,
          0.217297700281279,
          -0.7562434147855459,
          0.8876630556060952,
          -0.9168718756703037,
          -2.4859795041900496,
          -1.1414639324014766,
          -1.7554578054650556,
          1.0377455208260824,
          2.281931426077602,
          -0.3127148942114271,
          -1.412087816616137,
          -0.9257671377072907,
          -1.7468219516771972,
          0.19949328132156197,
          -0.5441380405794646,
          -0.24844150446616758,
          1.3924373328595068,
          1.0991871563843334,
          0.4639167604141466,
          0.5971530163443323,
          1.69804068317003,
          0.4922814159340416,
          0.722704455458475,
          1.5993261724325747,
          -2.2371059073938695,
          -0.21008970484627734,
          -0.4493148789517706,
          0.8995738126801441,
          0.590873981732288,
          0.18298494096037912,
          0.9883161308378683,
          0.440433763633946,
          -0.967373887800737,
          0.17678595175618295,
          -0.175182346557614,
          0.3655468037910308,
          -0.8392541776916436,
          0.8921675859970574,
          -0.6696875442130119,
          2.3921981316395287,
          -0.16737461966501416,
          -0.10569484690535733,
          0.806222165175453,
          -0.21171561737066233,
          0.24146077603021113,
          0.8050299291107749,
          -1.4586981180464924,
          -0.17949033231634512,
          0.24933419637187354,
          -1.0016664814270693,
          -1.0310117830282746,
          0.6172378771346466,
          1.6460689541691134,
          0.22247929101871433,
          1.1122959881698997,
          -0.03692066792117503,
          0.24482297693849198,
          -0.11924156202238932,
          -0.529984146740525,
          1.6270305526062274,
          -0.6651648340822217
         ],
         "yaxis": "y10"
        },
        {
         "histfunc": "count",
         "histnorm": "",
         "marker": {
          "color": "rgba(50, 171, 96, 1.0)",
          "line": {
           "color": "#4D5663",
           "width": 1.3
          }
         },
         "name": "C",
         "nbinsx": 10,
         "opacity": 0.8,
         "orientation": "v",
         "type": "histogram",
         "x": [
          -1.1057842548270977,
          -0.624447081861106,
          -1.1463046847851772,
          -2.0516528664086016,
          -0.2536472013819978,
          0.9861718486144034,
          1.0689897955393939,
          -0.1585854788296682,
          -1.3077937818699334,
          -0.8208406371273543,
          1.8740322680110295,
          0.6333913673562931,
          0.3178947957116137,
          -0.015736534377424564,
          2.0321046242319687,
          0.06375926251515106,
          -0.3390673097091017,
          -0.401837996609353,
          1.2346788296440208,
          2.276149956123622,
          0.37569579834636213,
          0.3953364275693833,
          -0.247553039354438,
          -1.2869865347564768,
          0.835516096054234,
          0.65890210050644,
          0.3012561169493466,
          -1.271307379056707,
          -0.6003437313545574,
          -0.4739198313223118,
          1.3267237113368835,
          -0.5578709223481126,
          -0.7399846035106609,
          -1.1846867750462509,
          1.0361213738287873,
          0.24158089735531355,
          -1.7081680105288097,
          -1.690694163108148,
          -1.1482330961742127,
          0.217297700281279,
          -0.7562434147855459,
          0.8876630556060952,
          -0.9168718756703037,
          -2.4859795041900496,
          -1.1414639324014766,
          -1.7554578054650556,
          1.0377455208260824,
          2.281931426077602,
          -0.3127148942114271,
          -1.412087816616137,
          -0.9257671377072907,
          -1.7468219516771972,
          0.19949328132156197,
          -0.5441380405794646,
          -0.24844150446616758,
          1.3924373328595068,
          1.0991871563843334,
          0.4639167604141466,
          0.5971530163443323,
          1.69804068317003,
          0.4922814159340416,
          0.722704455458475,
          1.5993261724325747,
          -2.2371059073938695,
          -0.21008970484627734,
          -0.4493148789517706,
          0.8995738126801441,
          0.590873981732288,
          0.18298494096037912,
          0.9883161308378683,
          0.440433763633946,
          -0.967373887800737,
          0.17678595175618295,
          -0.175182346557614,
          0.3655468037910308,
          -0.8392541776916436,
          0.8921675859970574,
          -0.6696875442130119,
          2.3921981316395287,
          -0.16737461966501416,
          -0.10569484690535733,
          0.806222165175453,
          -0.21171561737066233,
          0.24146077603021113,
          0.8050299291107749,
          -1.4586981180464924,
          -0.17949033231634512,
          0.24933419637187354,
          -1.0016664814270693,
          -1.0310117830282746,
          0.6172378771346466,
          1.6460689541691134,
          0.22247929101871433,
          1.1122959881698997,
          -0.03692066792117503,
          0.24482297693849198,
          -0.11924156202238932,
          -0.529984146740525,
          1.6270305526062274,
          -0.6651648340822217
         ],
         "xaxis": "x11",
         "yaxis": "y11"
        },
        {
         "line": {
          "color": "rgba(128, 128, 128, 1.0)",
          "dash": "solid",
          "shape": "linear",
          "width": 1.3
         },
         "marker": {
          "size": 2,
          "symbol": "circle"
         },
         "mode": "markers",
         "name": "C",
         "text": "",
         "type": "scatter",
         "x": [
          -0.6888520130434728,
          1.2478942299437972,
          -0.6910030563362499,
          0.6633937903835291,
          1.207011098767084,
          -0.0501587935275598,
          1.4403495910459987,
          0.6593186713810559,
          0.8392960277754612,
          -0.8463909963062793,
          0.8806397761586382,
          -0.9092802790816509,
          -0.18068852731817323,
          1.782362983160367,
          -1.389746193951448,
          1.8521076653037216,
          -0.6805460810710358,
          -1.8626639821088389,
          0.39881287947045035,
          1.8794567093480854,
          1.4772474439124987,
          0.9714282361405215,
          0.4757459667745016,
          -0.21758173305929074,
          -0.9535346328427691,
          0.3229353850264389,
          -0.06609962347331595,
          0.34119418983522354,
          -0.005102556273799416,
          1.5383460834996734,
          -0.44041059206688926,
          -0.29050418807046224,
          0.08376608511847015,
          0.2136126241861683,
          -0.6150633970483889,
          1.3422412568502053,
          1.3253437991664234,
          -0.704081417634952,
          -1.5850165287088795,
          -1.1803875501519396,
          0.4167274231177229,
          0.23422899585172988,
          -1.3989737323147369,
          0.8229848353882916,
          -2.179724701187986,
          -1.9850353456455285,
          -0.13837495171300337,
          -1.8138557686372656,
          1.4868531021875417,
          -1.9062470012029196,
          0.28741739155320234,
          0.7711078726665829,
          -0.532917852397217,
          -2.1706971308667478,
          -2.2618877811324887,
          0.7719701344522324,
          0.8095485633696264,
          0.41610668242332727,
          -0.44133376688330395,
          -0.49269229078030513,
          -1.880963038201057,
          1.0108218818879948,
          0.44492300762638737,
          1.9141574240141155,
          -0.22271326954574053,
          0.24114473449983687,
          -0.1607733348886458,
          -1.5757585020970784,
          -0.2071801368015469,
          1.5388537992008704,
          -0.01027993174490521,
          0.23275646792273363,
          0.14633088199439911,
          -0.30740529588837634,
          0.397326794331163,
          0.8405167455431644,
          -0.45759285002931893,
          1.4072806684764043,
          -0.7695229333094545,
          0.20096074700634062,
          -0.3125522962682811,
          -0.13179455179870486,
          -0.6695572145913227,
          -0.0438013151056822,
          -0.33301348963770727,
          -0.02575045255163641,
          -0.5123216086652627,
          -1.3676062515875993,
          1.260487387004233,
          -0.12986916435730478,
          -0.2683307074031764,
          -0.8341211597551491,
          -1.079219641601013,
          -0.011414089476490382,
          -0.40916183184984434,
          -0.2597283947168098,
          1.3405791004795815,
          -0.9435890085699381,
          -1.0987361219683982,
          -0.1439562375863744
         ],
         "xaxis": "x12",
         "y": [
          -1.1057842548270977,
          -0.624447081861106,
          -1.1463046847851772,
          -2.0516528664086016,
          -0.2536472013819978,
          0.9861718486144034,
          1.0689897955393939,
          -0.1585854788296682,
          -1.3077937818699334,
          -0.8208406371273543,
          1.8740322680110295,
          0.6333913673562931,
          0.3178947957116137,
          -0.015736534377424564,
          2.0321046242319687,
          0.06375926251515106,
          -0.3390673097091017,
          -0.401837996609353,
          1.2346788296440208,
          2.276149956123622,
          0.37569579834636213,
          0.3953364275693833,
          -0.247553039354438,
          -1.2869865347564768,
          0.835516096054234,
          0.65890210050644,
          0.3012561169493466,
          -1.271307379056707,
          -0.6003437313545574,
          -0.4739198313223118,
          1.3267237113368835,
          -0.5578709223481126,
          -0.7399846035106609,
          -1.1846867750462509,
          1.0361213738287873,
          0.24158089735531355,
          -1.7081680105288097,
          -1.690694163108148,
          -1.1482330961742127,
          0.217297700281279,
          -0.7562434147855459,
          0.8876630556060952,
          -0.9168718756703037,
          -2.4859795041900496,
          -1.1414639324014766,
          -1.7554578054650556,
          1.0377455208260824,
          2.281931426077602,
          -0.3127148942114271,
          -1.412087816616137,
          -0.9257671377072907,
          -1.7468219516771972,
          0.19949328132156197,
          -0.5441380405794646,
          -0.24844150446616758,
          1.3924373328595068,
          1.0991871563843334,
          0.4639167604141466,
          0.5971530163443323,
          1.69804068317003,
          0.4922814159340416,
          0.722704455458475,
          1.5993261724325747,
          -2.2371059073938695,
          -0.21008970484627734,
          -0.4493148789517706,
          0.8995738126801441,
          0.590873981732288,
          0.18298494096037912,
          0.9883161308378683,
          0.440433763633946,
          -0.967373887800737,
          0.17678595175618295,
          -0.175182346557614,
          0.3655468037910308,
          -0.8392541776916436,
          0.8921675859970574,
          -0.6696875442130119,
          2.3921981316395287,
          -0.16737461966501416,
          -0.10569484690535733,
          0.806222165175453,
          -0.21171561737066233,
          0.24146077603021113,
          0.8050299291107749,
          -1.4586981180464924,
          -0.17949033231634512,
          0.24933419637187354,
          -1.0016664814270693,
          -1.0310117830282746,
          0.6172378771346466,
          1.6460689541691134,
          0.22247929101871433,
          1.1122959881698997,
          -0.03692066792117503,
          0.24482297693849198,
          -0.11924156202238932,
          -0.529984146740525,
          1.6270305526062274,
          -0.6651648340822217
         ],
         "yaxis": "y12"
        },
        {
         "line": {
          "color": "rgba(128, 128, 128, 1.0)",
          "dash": "solid",
          "shape": "linear",
          "width": 1.3
         },
         "marker": {
          "size": 2,
          "symbol": "circle"
         },
         "mode": "markers",
         "name": "D",
         "text": "",
         "type": "scatter",
         "x": [
          0.2192150126893649,
          0.41212764663850154,
          -0.27839766837010627,
          0.3222178500267178,
          1.1359559733338713,
          -0.971720425769713,
          1.4329161629803917,
          -0.34578250445780295,
          0.9221363208457326,
          -0.46018427034111126,
          0.032535916019239226,
          -1.5775132350080174,
          1.2509653911100467,
          0.8333489234269918,
          -0.09408230960773854,
          0.010236286462784547,
          0.6198798548523512,
          -2.3694740941164874,
          0.6446131044139314,
          3.5825153483746544,
          -1.100859730297812,
          -0.28637707270395063,
          1.2663027275521734,
          0.4480018504819275,
          -0.04075310173488496,
          -1.3188747595733246,
          -0.25669888175689487,
          -0.7892384287614435,
          -0.5027860677713014,
          0.08430359155613538,
          -0.40896809921325916,
          1.2708262506705303,
          -0.38766034310350395,
          0.4304639325836553,
          1.8071040246302588,
          1.4568874186053604,
          0.9042403428138212,
          -0.7816990895945196,
          0.7868373081101285,
          0.9476543351449195,
          1.1956296073512873,
          0.41095470596658434,
          1.0094261937662572,
          -0.44046838256526516,
          1.0346716931466176,
          0.11523886763913334,
          -0.31723607081444566,
          -0.716904274124458,
          0.26466695448679606,
          -0.6379239557948869,
          0.955179550321454,
          1.6925209088368083,
          1.7812391056276533,
          -1.4877766892101543,
          -1.1899544134286546,
          -0.10895806189072393,
          1.321027710937083,
          -0.8784194756051036,
          0.6504071261387132,
          1.094753327689872,
          -0.2132623568016486,
          -0.7927137163590783,
          -0.45765125612752156,
          0.28711097689175746,
          -0.8352933868433253,
          -2.0667869160062238,
          -0.35007642593563354,
          0.9947487894082441,
          -1.1831678986229839,
          -0.8486257818723462,
          -0.2765927487443163,
          0.7680784213053352,
          -0.9335626713391687,
          0.21802436036050304,
          -0.9349362054526161,
          -0.011134013758786858,
          -1.6743957170983006,
          0.12574163202444208,
          1.1531777911767431,
          1.2999741110066083,
          -0.2735192157650116,
          0.595818583592944,
          0.41802287494605567,
          0.45030528691780813,
          -0.514456906944202,
          -0.4162077818331348,
          2.4691714751126876,
          -1.365196733109609,
          0.26790894446099445,
          -0.06926500967640424,
          0.311983304253257,
          1.1795697874824076,
          0.3690061425350321,
          1.0369119759384802,
          0.11344630289523762,
          -0.8618742507166238,
          1.0502865219767203,
          -0.6297527108271594,
          2.0620223895254988,
          0.28102629664114714
         ],
         "xaxis": "x13",
         "y": [
          -0.6888520130434728,
          1.2478942299437972,
          -0.6910030563362499,
          0.6633937903835291,
          1.207011098767084,
          -0.0501587935275598,
          1.4403495910459987,
          0.6593186713810559,
          0.8392960277754612,
          -0.8463909963062793,
          0.8806397761586382,
          -0.9092802790816509,
          -0.18068852731817323,
          1.782362983160367,
          -1.389746193951448,
          1.8521076653037216,
          -0.6805460810710358,
          -1.8626639821088389,
          0.39881287947045035,
          1.8794567093480854,
          1.4772474439124987,
          0.9714282361405215,
          0.4757459667745016,
          -0.21758173305929074,
          -0.9535346328427691,
          0.3229353850264389,
          -0.06609962347331595,
          0.34119418983522354,
          -0.005102556273799416,
          1.5383460834996734,
          -0.44041059206688926,
          -0.29050418807046224,
          0.08376608511847015,
          0.2136126241861683,
          -0.6150633970483889,
          1.3422412568502053,
          1.3253437991664234,
          -0.704081417634952,
          -1.5850165287088795,
          -1.1803875501519396,
          0.4167274231177229,
          0.23422899585172988,
          -1.3989737323147369,
          0.8229848353882916,
          -2.179724701187986,
          -1.9850353456455285,
          -0.13837495171300337,
          -1.8138557686372656,
          1.4868531021875417,
          -1.9062470012029196,
          0.28741739155320234,
          0.7711078726665829,
          -0.532917852397217,
          -2.1706971308667478,
          -2.2618877811324887,
          0.7719701344522324,
          0.8095485633696264,
          0.41610668242332727,
          -0.44133376688330395,
          -0.49269229078030513,
          -1.880963038201057,
          1.0108218818879948,
          0.44492300762638737,
          1.9141574240141155,
          -0.22271326954574053,
          0.24114473449983687,
          -0.1607733348886458,
          -1.5757585020970784,
          -0.2071801368015469,
          1.5388537992008704,
          -0.01027993174490521,
          0.23275646792273363,
          0.14633088199439911,
          -0.30740529588837634,
          0.397326794331163,
          0.8405167455431644,
          -0.45759285002931893,
          1.4072806684764043,
          -0.7695229333094545,
          0.20096074700634062,
          -0.3125522962682811,
          -0.13179455179870486,
          -0.6695572145913227,
          -0.0438013151056822,
          -0.33301348963770727,
          -0.02575045255163641,
          -0.5123216086652627,
          -1.3676062515875993,
          1.260487387004233,
          -0.12986916435730478,
          -0.2683307074031764,
          -0.8341211597551491,
          -1.079219641601013,
          -0.011414089476490382,
          -0.40916183184984434,
          -0.2597283947168098,
          1.3405791004795815,
          -0.9435890085699381,
          -1.0987361219683982,
          -0.1439562375863744
         ],
         "yaxis": "y13"
        },
        {
         "line": {
          "color": "rgba(128, 128, 128, 1.0)",
          "dash": "solid",
          "shape": "linear",
          "width": 1.3
         },
         "marker": {
          "size": 2,
          "symbol": "circle"
         },
         "mode": "markers",
         "name": "D",
         "text": "",
         "type": "scatter",
         "x": [
          -2.5296842304295915,
          -0.9124939583658659,
          1.9371572689115752,
          -0.04233086880753978,
          1.1755323137692275,
          -0.7913343687872296,
          0.34679771300378864,
          0.1472644768462741,
          -0.5576417622152579,
          1.0153627370487877,
          -0.006675276814364406,
          -1.3831667133442893,
          0.23794366571150333,
          -0.046584210842764394,
          -0.23286229979657497,
          -1.059043175997328,
          -0.5639209672124689,
          1.2466006179249922,
          1.785304178140208,
          0.7289995222261205,
          -0.2394784072597976,
          0.6674022767035093,
          -1.7636884877840329,
          -1.7239697309413886,
          1.6336503512461968,
          -0.09202348674133626,
          1.0195082254673082,
          0.6284543531925654,
          -0.9230405694743555,
          0.8912283886498443,
          0.6633555600973492,
          -1.5256437045839726,
          0.9770914272419425,
          1.7175529208127185,
          0.8406491088530332,
          -1.2707511635610007,
          1.38083980414698,
          -0.9203591200540816,
          -0.5004906455425786,
          -0.5399747143298336,
          -0.9896963608623736,
          1.3306609274638301,
          0.8926496038118524,
          -2.033822133364184,
          -0.8334681002973663,
          0.14001110291725294,
          -0.685037044884312,
          0.9415217721260292,
          -0.7396063904143044,
          1.4124225135238375,
          1.9904956031872585,
          0.42500823802958937,
          1.930846927734657,
          -1.9760870203704148,
          -1.0777631936672263,
          0.902624464861868,
          -0.94669113465832,
          -0.9373697872008047,
          -1.4821469944733676,
          -0.9426236297971836,
          1.0841383783955747,
          -2.0884924313952187,
          0.8969041011425303,
          -1.5803644182734884,
          -1.3823710740159605,
          -1.5206872295882883,
          -0.2581375790682765,
          1.156228135822335,
          -0.41662244466772547,
          -0.3490920630112603,
          1.2895317025169495,
          -0.8821858086096042,
          -0.5387923050763868,
          -0.5663537185351362,
          -1.095431469835826,
          0.6009775868516194,
          2.614098758958872,
          -0.9592823177952877,
          0.06536082847107165,
          -0.8496657523610329,
          -1.4681299656741593,
          0.6701367636720044,
          0.7744265354513329,
          2.0586936414104375,
          0.7915794301092625,
          2.592940852157227,
          -1.3221424278325977,
          2.8901840068359896,
          0.561794978690869,
          0.6610147433500252,
          1.9933671238820154,
          0.11772975628376309,
          -1.3513533772700421,
          0.8043126148336902,
          -0.5690624329172052,
          0.536251241812792,
          0.7386353343412105,
          -0.976006012430902,
          -0.9283420207337423,
          0.04110546621274906
         ],
         "xaxis": "x14",
         "y": [
          -0.6888520130434728,
          1.2478942299437972,
          -0.6910030563362499,
          0.6633937903835291,
          1.207011098767084,
          -0.0501587935275598,
          1.4403495910459987,
          0.6593186713810559,
          0.8392960277754612,
          -0.8463909963062793,
          0.8806397761586382,
          -0.9092802790816509,
          -0.18068852731817323,
          1.782362983160367,
          -1.389746193951448,
          1.8521076653037216,
          -0.6805460810710358,
          -1.8626639821088389,
          0.39881287947045035,
          1.8794567093480854,
          1.4772474439124987,
          0.9714282361405215,
          0.4757459667745016,
          -0.21758173305929074,
          -0.9535346328427691,
          0.3229353850264389,
          -0.06609962347331595,
          0.34119418983522354,
          -0.005102556273799416,
          1.5383460834996734,
          -0.44041059206688926,
          -0.29050418807046224,
          0.08376608511847015,
          0.2136126241861683,
          -0.6150633970483889,
          1.3422412568502053,
          1.3253437991664234,
          -0.704081417634952,
          -1.5850165287088795,
          -1.1803875501519396,
          0.4167274231177229,
          0.23422899585172988,
          -1.3989737323147369,
          0.8229848353882916,
          -2.179724701187986,
          -1.9850353456455285,
          -0.13837495171300337,
          -1.8138557686372656,
          1.4868531021875417,
          -1.9062470012029196,
          0.28741739155320234,
          0.7711078726665829,
          -0.532917852397217,
          -2.1706971308667478,
          -2.2618877811324887,
          0.7719701344522324,
          0.8095485633696264,
          0.41610668242332727,
          -0.44133376688330395,
          -0.49269229078030513,
          -1.880963038201057,
          1.0108218818879948,
          0.44492300762638737,
          1.9141574240141155,
          -0.22271326954574053,
          0.24114473449983687,
          -0.1607733348886458,
          -1.5757585020970784,
          -0.2071801368015469,
          1.5388537992008704,
          -0.01027993174490521,
          0.23275646792273363,
          0.14633088199439911,
          -0.30740529588837634,
          0.397326794331163,
          0.8405167455431644,
          -0.45759285002931893,
          1.4072806684764043,
          -0.7695229333094545,
          0.20096074700634062,
          -0.3125522962682811,
          -0.13179455179870486,
          -0.6695572145913227,
          -0.0438013151056822,
          -0.33301348963770727,
          -0.02575045255163641,
          -0.5123216086652627,
          -1.3676062515875993,
          1.260487387004233,
          -0.12986916435730478,
          -0.2683307074031764,
          -0.8341211597551491,
          -1.079219641601013,
          -0.011414089476490382,
          -0.40916183184984434,
          -0.2597283947168098,
          1.3405791004795815,
          -0.9435890085699381,
          -1.0987361219683982,
          -0.1439562375863744
         ],
         "yaxis": "y14"
        },
        {
         "line": {
          "color": "rgba(128, 128, 128, 1.0)",
          "dash": "solid",
          "shape": "linear",
          "width": 1.3
         },
         "marker": {
          "size": 2,
          "symbol": "circle"
         },
         "mode": "markers",
         "name": "D",
         "text": "",
         "type": "scatter",
         "x": [
          -1.1057842548270977,
          -0.624447081861106,
          -1.1463046847851772,
          -2.0516528664086016,
          -0.2536472013819978,
          0.9861718486144034,
          1.0689897955393939,
          -0.1585854788296682,
          -1.3077937818699334,
          -0.8208406371273543,
          1.8740322680110295,
          0.6333913673562931,
          0.3178947957116137,
          -0.015736534377424564,
          2.0321046242319687,
          0.06375926251515106,
          -0.3390673097091017,
          -0.401837996609353,
          1.2346788296440208,
          2.276149956123622,
          0.37569579834636213,
          0.3953364275693833,
          -0.247553039354438,
          -1.2869865347564768,
          0.835516096054234,
          0.65890210050644,
          0.3012561169493466,
          -1.271307379056707,
          -0.6003437313545574,
          -0.4739198313223118,
          1.3267237113368835,
          -0.5578709223481126,
          -0.7399846035106609,
          -1.1846867750462509,
          1.0361213738287873,
          0.24158089735531355,
          -1.7081680105288097,
          -1.690694163108148,
          -1.1482330961742127,
          0.217297700281279,
          -0.7562434147855459,
          0.8876630556060952,
          -0.9168718756703037,
          -2.4859795041900496,
          -1.1414639324014766,
          -1.7554578054650556,
          1.0377455208260824,
          2.281931426077602,
          -0.3127148942114271,
          -1.412087816616137,
          -0.9257671377072907,
          -1.7468219516771972,
          0.19949328132156197,
          -0.5441380405794646,
          -0.24844150446616758,
          1.3924373328595068,
          1.0991871563843334,
          0.4639167604141466,
          0.5971530163443323,
          1.69804068317003,
          0.4922814159340416,
          0.722704455458475,
          1.5993261724325747,
          -2.2371059073938695,
          -0.21008970484627734,
          -0.4493148789517706,
          0.8995738126801441,
          0.590873981732288,
          0.18298494096037912,
          0.9883161308378683,
          0.440433763633946,
          -0.967373887800737,
          0.17678595175618295,
          -0.175182346557614,
          0.3655468037910308,
          -0.8392541776916436,
          0.8921675859970574,
          -0.6696875442130119,
          2.3921981316395287,
          -0.16737461966501416,
          -0.10569484690535733,
          0.806222165175453,
          -0.21171561737066233,
          0.24146077603021113,
          0.8050299291107749,
          -1.4586981180464924,
          -0.17949033231634512,
          0.24933419637187354,
          -1.0016664814270693,
          -1.0310117830282746,
          0.6172378771346466,
          1.6460689541691134,
          0.22247929101871433,
          1.1122959881698997,
          -0.03692066792117503,
          0.24482297693849198,
          -0.11924156202238932,
          -0.529984146740525,
          1.6270305526062274,
          -0.6651648340822217
         ],
         "xaxis": "x15",
         "y": [
          -0.6888520130434728,
          1.2478942299437972,
          -0.6910030563362499,
          0.6633937903835291,
          1.207011098767084,
          -0.0501587935275598,
          1.4403495910459987,
          0.6593186713810559,
          0.8392960277754612,
          -0.8463909963062793,
          0.8806397761586382,
          -0.9092802790816509,
          -0.18068852731817323,
          1.782362983160367,
          -1.389746193951448,
          1.8521076653037216,
          -0.6805460810710358,
          -1.8626639821088389,
          0.39881287947045035,
          1.8794567093480854,
          1.4772474439124987,
          0.9714282361405215,
          0.4757459667745016,
          -0.21758173305929074,
          -0.9535346328427691,
          0.3229353850264389,
          -0.06609962347331595,
          0.34119418983522354,
          -0.005102556273799416,
          1.5383460834996734,
          -0.44041059206688926,
          -0.29050418807046224,
          0.08376608511847015,
          0.2136126241861683,
          -0.6150633970483889,
          1.3422412568502053,
          1.3253437991664234,
          -0.704081417634952,
          -1.5850165287088795,
          -1.1803875501519396,
          0.4167274231177229,
          0.23422899585172988,
          -1.3989737323147369,
          0.8229848353882916,
          -2.179724701187986,
          -1.9850353456455285,
          -0.13837495171300337,
          -1.8138557686372656,
          1.4868531021875417,
          -1.9062470012029196,
          0.28741739155320234,
          0.7711078726665829,
          -0.532917852397217,
          -2.1706971308667478,
          -2.2618877811324887,
          0.7719701344522324,
          0.8095485633696264,
          0.41610668242332727,
          -0.44133376688330395,
          -0.49269229078030513,
          -1.880963038201057,
          1.0108218818879948,
          0.44492300762638737,
          1.9141574240141155,
          -0.22271326954574053,
          0.24114473449983687,
          -0.1607733348886458,
          -1.5757585020970784,
          -0.2071801368015469,
          1.5388537992008704,
          -0.01027993174490521,
          0.23275646792273363,
          0.14633088199439911,
          -0.30740529588837634,
          0.397326794331163,
          0.8405167455431644,
          -0.45759285002931893,
          1.4072806684764043,
          -0.7695229333094545,
          0.20096074700634062,
          -0.3125522962682811,
          -0.13179455179870486,
          -0.6695572145913227,
          -0.0438013151056822,
          -0.33301348963770727,
          -0.02575045255163641,
          -0.5123216086652627,
          -1.3676062515875993,
          1.260487387004233,
          -0.12986916435730478,
          -0.2683307074031764,
          -0.8341211597551491,
          -1.079219641601013,
          -0.011414089476490382,
          -0.40916183184984434,
          -0.2597283947168098,
          1.3405791004795815,
          -0.9435890085699381,
          -1.0987361219683982,
          -0.1439562375863744
         ],
         "yaxis": "y15"
        },
        {
         "histfunc": "count",
         "histnorm": "",
         "marker": {
          "color": "rgba(128, 0, 128, 1.0)",
          "line": {
           "color": "#4D5663",
           "width": 1.3
          }
         },
         "name": "D",
         "nbinsx": 10,
         "opacity": 0.8,
         "orientation": "v",
         "type": "histogram",
         "x": [
          -0.6888520130434728,
          1.2478942299437972,
          -0.6910030563362499,
          0.6633937903835291,
          1.207011098767084,
          -0.0501587935275598,
          1.4403495910459987,
          0.6593186713810559,
          0.8392960277754612,
          -0.8463909963062793,
          0.8806397761586382,
          -0.9092802790816509,
          -0.18068852731817323,
          1.782362983160367,
          -1.389746193951448,
          1.8521076653037216,
          -0.6805460810710358,
          -1.8626639821088389,
          0.39881287947045035,
          1.8794567093480854,
          1.4772474439124987,
          0.9714282361405215,
          0.4757459667745016,
          -0.21758173305929074,
          -0.9535346328427691,
          0.3229353850264389,
          -0.06609962347331595,
          0.34119418983522354,
          -0.005102556273799416,
          1.5383460834996734,
          -0.44041059206688926,
          -0.29050418807046224,
          0.08376608511847015,
          0.2136126241861683,
          -0.6150633970483889,
          1.3422412568502053,
          1.3253437991664234,
          -0.704081417634952,
          -1.5850165287088795,
          -1.1803875501519396,
          0.4167274231177229,
          0.23422899585172988,
          -1.3989737323147369,
          0.8229848353882916,
          -2.179724701187986,
          -1.9850353456455285,
          -0.13837495171300337,
          -1.8138557686372656,
          1.4868531021875417,
          -1.9062470012029196,
          0.28741739155320234,
          0.7711078726665829,
          -0.532917852397217,
          -2.1706971308667478,
          -2.2618877811324887,
          0.7719701344522324,
          0.8095485633696264,
          0.41610668242332727,
          -0.44133376688330395,
          -0.49269229078030513,
          -1.880963038201057,
          1.0108218818879948,
          0.44492300762638737,
          1.9141574240141155,
          -0.22271326954574053,
          0.24114473449983687,
          -0.1607733348886458,
          -1.5757585020970784,
          -0.2071801368015469,
          1.5388537992008704,
          -0.01027993174490521,
          0.23275646792273363,
          0.14633088199439911,
          -0.30740529588837634,
          0.397326794331163,
          0.8405167455431644,
          -0.45759285002931893,
          1.4072806684764043,
          -0.7695229333094545,
          0.20096074700634062,
          -0.3125522962682811,
          -0.13179455179870486,
          -0.6695572145913227,
          -0.0438013151056822,
          -0.33301348963770727,
          -0.02575045255163641,
          -0.5123216086652627,
          -1.3676062515875993,
          1.260487387004233,
          -0.12986916435730478,
          -0.2683307074031764,
          -0.8341211597551491,
          -1.079219641601013,
          -0.011414089476490382,
          -0.40916183184984434,
          -0.2597283947168098,
          1.3405791004795815,
          -0.9435890085699381,
          -1.0987361219683982,
          -0.1439562375863744
         ],
         "xaxis": "x16",
         "yaxis": "y16"
        }
       ],
       "layout": {
        "bargap": 0.02,
        "legend": {
         "bgcolor": "#F5F6F9",
         "font": {
          "color": "#4D5663"
         }
        },
        "paper_bgcolor": "#F5F6F9",
        "plot_bgcolor": "#F5F6F9",
        "showlegend": false,
        "template": {
         "data": {
          "bar": [
           {
            "error_x": {
             "color": "#2a3f5f"
            },
            "error_y": {
             "color": "#2a3f5f"
            },
            "marker": {
             "line": {
              "color": "#E5ECF6",
              "width": 0.5
             }
            },
            "type": "bar"
           }
          ],
          "barpolar": [
           {
            "marker": {
             "line": {
              "color": "#E5ECF6",
              "width": 0.5
             }
            },
            "type": "barpolar"
           }
          ],
          "carpet": [
           {
            "aaxis": {
             "endlinecolor": "#2a3f5f",
             "gridcolor": "white",
             "linecolor": "white",
             "minorgridcolor": "white",
             "startlinecolor": "#2a3f5f"
            },
            "baxis": {
             "endlinecolor": "#2a3f5f",
             "gridcolor": "white",
             "linecolor": "white",
             "minorgridcolor": "white",
             "startlinecolor": "#2a3f5f"
            },
            "type": "carpet"
           }
          ],
          "choropleth": [
           {
            "colorbar": {
             "outlinewidth": 0,
             "ticks": ""
            },
            "type": "choropleth"
           }
          ],
          "contour": [
           {
            "colorbar": {
             "outlinewidth": 0,
             "ticks": ""
            },
            "colorscale": [
             [
              0,
              "#0d0887"
             ],
             [
              0.1111111111111111,
              "#46039f"
             ],
             [
              0.2222222222222222,
              "#7201a8"
             ],
             [
              0.3333333333333333,
              "#9c179e"
             ],
             [
              0.4444444444444444,
              "#bd3786"
             ],
             [
              0.5555555555555556,
              "#d8576b"
             ],
             [
              0.6666666666666666,
              "#ed7953"
             ],
             [
              0.7777777777777778,
              "#fb9f3a"
             ],
             [
              0.8888888888888888,
              "#fdca26"
             ],
             [
              1,
              "#f0f921"
             ]
            ],
            "type": "contour"
           }
          ],
          "contourcarpet": [
           {
            "colorbar": {
             "outlinewidth": 0,
             "ticks": ""
            },
            "type": "contourcarpet"
           }
          ],
          "heatmap": [
           {
            "colorbar": {
             "outlinewidth": 0,
             "ticks": ""
            },
            "colorscale": [
             [
              0,
              "#0d0887"
             ],
             [
              0.1111111111111111,
              "#46039f"
             ],
             [
              0.2222222222222222,
              "#7201a8"
             ],
             [
              0.3333333333333333,
              "#9c179e"
             ],
             [
              0.4444444444444444,
              "#bd3786"
             ],
             [
              0.5555555555555556,
              "#d8576b"
             ],
             [
              0.6666666666666666,
              "#ed7953"
             ],
             [
              0.7777777777777778,
              "#fb9f3a"
             ],
             [
              0.8888888888888888,
              "#fdca26"
             ],
             [
              1,
              "#f0f921"
             ]
            ],
            "type": "heatmap"
           }
          ],
          "heatmapgl": [
           {
            "colorbar": {
             "outlinewidth": 0,
             "ticks": ""
            },
            "colorscale": [
             [
              0,
              "#0d0887"
             ],
             [
              0.1111111111111111,
              "#46039f"
             ],
             [
              0.2222222222222222,
              "#7201a8"
             ],
             [
              0.3333333333333333,
              "#9c179e"
             ],
             [
              0.4444444444444444,
              "#bd3786"
             ],
             [
              0.5555555555555556,
              "#d8576b"
             ],
             [
              0.6666666666666666,
              "#ed7953"
             ],
             [
              0.7777777777777778,
              "#fb9f3a"
             ],
             [
              0.8888888888888888,
              "#fdca26"
             ],
             [
              1,
              "#f0f921"
             ]
            ],
            "type": "heatmapgl"
           }
          ],
          "histogram": [
           {
            "marker": {
             "colorbar": {
              "outlinewidth": 0,
              "ticks": ""
             }
            },
            "type": "histogram"
           }
          ],
          "histogram2d": [
           {
            "colorbar": {
             "outlinewidth": 0,
             "ticks": ""
            },
            "colorscale": [
             [
              0,
              "#0d0887"
             ],
             [
              0.1111111111111111,
              "#46039f"
             ],
             [
              0.2222222222222222,
              "#7201a8"
             ],
             [
              0.3333333333333333,
              "#9c179e"
             ],
             [
              0.4444444444444444,
              "#bd3786"
             ],
             [
              0.5555555555555556,
              "#d8576b"
             ],
             [
              0.6666666666666666,
              "#ed7953"
             ],
             [
              0.7777777777777778,
              "#fb9f3a"
             ],
             [
              0.8888888888888888,
              "#fdca26"
             ],
             [
              1,
              "#f0f921"
             ]
            ],
            "type": "histogram2d"
           }
          ],
          "histogram2dcontour": [
           {
            "colorbar": {
             "outlinewidth": 0,
             "ticks": ""
            },
            "colorscale": [
             [
              0,
              "#0d0887"
             ],
             [
              0.1111111111111111,
              "#46039f"
             ],
             [
              0.2222222222222222,
              "#7201a8"
             ],
             [
              0.3333333333333333,
              "#9c179e"
             ],
             [
              0.4444444444444444,
              "#bd3786"
             ],
             [
              0.5555555555555556,
              "#d8576b"
             ],
             [
              0.6666666666666666,
              "#ed7953"
             ],
             [
              0.7777777777777778,
              "#fb9f3a"
             ],
             [
              0.8888888888888888,
              "#fdca26"
             ],
             [
              1,
              "#f0f921"
             ]
            ],
            "type": "histogram2dcontour"
           }
          ],
          "mesh3d": [
           {
            "colorbar": {
             "outlinewidth": 0,
             "ticks": ""
            },
            "type": "mesh3d"
           }
          ],
          "parcoords": [
           {
            "line": {
             "colorbar": {
              "outlinewidth": 0,
              "ticks": ""
             }
            },
            "type": "parcoords"
           }
          ],
          "pie": [
           {
            "automargin": true,
            "type": "pie"
           }
          ],
          "scatter": [
           {
            "marker": {
             "colorbar": {
              "outlinewidth": 0,
              "ticks": ""
             }
            },
            "type": "scatter"
           }
          ],
          "scatter3d": [
           {
            "line": {
             "colorbar": {
              "outlinewidth": 0,
              "ticks": ""
             }
            },
            "marker": {
             "colorbar": {
              "outlinewidth": 0,
              "ticks": ""
             }
            },
            "type": "scatter3d"
           }
          ],
          "scattercarpet": [
           {
            "marker": {
             "colorbar": {
              "outlinewidth": 0,
              "ticks": ""
             }
            },
            "type": "scattercarpet"
           }
          ],
          "scattergeo": [
           {
            "marker": {
             "colorbar": {
              "outlinewidth": 0,
              "ticks": ""
             }
            },
            "type": "scattergeo"
           }
          ],
          "scattergl": [
           {
            "marker": {
             "colorbar": {
              "outlinewidth": 0,
              "ticks": ""
             }
            },
            "type": "scattergl"
           }
          ],
          "scattermapbox": [
           {
            "marker": {
             "colorbar": {
              "outlinewidth": 0,
              "ticks": ""
             }
            },
            "type": "scattermapbox"
           }
          ],
          "scatterpolar": [
           {
            "marker": {
             "colorbar": {
              "outlinewidth": 0,
              "ticks": ""
             }
            },
            "type": "scatterpolar"
           }
          ],
          "scatterpolargl": [
           {
            "marker": {
             "colorbar": {
              "outlinewidth": 0,
              "ticks": ""
             }
            },
            "type": "scatterpolargl"
           }
          ],
          "scatterternary": [
           {
            "marker": {
             "colorbar": {
              "outlinewidth": 0,
              "ticks": ""
             }
            },
            "type": "scatterternary"
           }
          ],
          "surface": [
           {
            "colorbar": {
             "outlinewidth": 0,
             "ticks": ""
            },
            "colorscale": [
             [
              0,
              "#0d0887"
             ],
             [
              0.1111111111111111,
              "#46039f"
             ],
             [
              0.2222222222222222,
              "#7201a8"
             ],
             [
              0.3333333333333333,
              "#9c179e"
             ],
             [
              0.4444444444444444,
              "#bd3786"
             ],
             [
              0.5555555555555556,
              "#d8576b"
             ],
             [
              0.6666666666666666,
              "#ed7953"
             ],
             [
              0.7777777777777778,
              "#fb9f3a"
             ],
             [
              0.8888888888888888,
              "#fdca26"
             ],
             [
              1,
              "#f0f921"
             ]
            ],
            "type": "surface"
           }
          ],
          "table": [
           {
            "cells": {
             "fill": {
              "color": "#EBF0F8"
             },
             "line": {
              "color": "white"
             }
            },
            "header": {
             "fill": {
              "color": "#C8D4E3"
             },
             "line": {
              "color": "white"
             }
            },
            "type": "table"
           }
          ]
         },
         "layout": {
          "annotationdefaults": {
           "arrowcolor": "#2a3f5f",
           "arrowhead": 0,
           "arrowwidth": 1
          },
          "coloraxis": {
           "colorbar": {
            "outlinewidth": 0,
            "ticks": ""
           }
          },
          "colorscale": {
           "diverging": [
            [
             0,
             "#8e0152"
            ],
            [
             0.1,
             "#c51b7d"
            ],
            [
             0.2,
             "#de77ae"
            ],
            [
             0.3,
             "#f1b6da"
            ],
            [
             0.4,
             "#fde0ef"
            ],
            [
             0.5,
             "#f7f7f7"
            ],
            [
             0.6,
             "#e6f5d0"
            ],
            [
             0.7,
             "#b8e186"
            ],
            [
             0.8,
             "#7fbc41"
            ],
            [
             0.9,
             "#4d9221"
            ],
            [
             1,
             "#276419"
            ]
           ],
           "sequential": [
            [
             0,
             "#0d0887"
            ],
            [
             0.1111111111111111,
             "#46039f"
            ],
            [
             0.2222222222222222,
             "#7201a8"
            ],
            [
             0.3333333333333333,
             "#9c179e"
            ],
            [
             0.4444444444444444,
             "#bd3786"
            ],
            [
             0.5555555555555556,
             "#d8576b"
            ],
            [
             0.6666666666666666,
             "#ed7953"
            ],
            [
             0.7777777777777778,
             "#fb9f3a"
            ],
            [
             0.8888888888888888,
             "#fdca26"
            ],
            [
             1,
             "#f0f921"
            ]
           ],
           "sequentialminus": [
            [
             0,
             "#0d0887"
            ],
            [
             0.1111111111111111,
             "#46039f"
            ],
            [
             0.2222222222222222,
             "#7201a8"
            ],
            [
             0.3333333333333333,
             "#9c179e"
            ],
            [
             0.4444444444444444,
             "#bd3786"
            ],
            [
             0.5555555555555556,
             "#d8576b"
            ],
            [
             0.6666666666666666,
             "#ed7953"
            ],
            [
             0.7777777777777778,
             "#fb9f3a"
            ],
            [
             0.8888888888888888,
             "#fdca26"
            ],
            [
             1,
             "#f0f921"
            ]
           ]
          },
          "colorway": [
           "#636efa",
           "#EF553B",
           "#00cc96",
           "#ab63fa",
           "#FFA15A",
           "#19d3f3",
           "#FF6692",
           "#B6E880",
           "#FF97FF",
           "#FECB52"
          ],
          "font": {
           "color": "#2a3f5f"
          },
          "geo": {
           "bgcolor": "white",
           "lakecolor": "white",
           "landcolor": "#E5ECF6",
           "showlakes": true,
           "showland": true,
           "subunitcolor": "white"
          },
          "hoverlabel": {
           "align": "left"
          },
          "hovermode": "closest",
          "mapbox": {
           "style": "light"
          },
          "paper_bgcolor": "white",
          "plot_bgcolor": "#E5ECF6",
          "polar": {
           "angularaxis": {
            "gridcolor": "white",
            "linecolor": "white",
            "ticks": ""
           },
           "bgcolor": "#E5ECF6",
           "radialaxis": {
            "gridcolor": "white",
            "linecolor": "white",
            "ticks": ""
           }
          },
          "scene": {
           "xaxis": {
            "backgroundcolor": "#E5ECF6",
            "gridcolor": "white",
            "gridwidth": 2,
            "linecolor": "white",
            "showbackground": true,
            "ticks": "",
            "zerolinecolor": "white"
           },
           "yaxis": {
            "backgroundcolor": "#E5ECF6",
            "gridcolor": "white",
            "gridwidth": 2,
            "linecolor": "white",
            "showbackground": true,
            "ticks": "",
            "zerolinecolor": "white"
           },
           "zaxis": {
            "backgroundcolor": "#E5ECF6",
            "gridcolor": "white",
            "gridwidth": 2,
            "linecolor": "white",
            "showbackground": true,
            "ticks": "",
            "zerolinecolor": "white"
           }
          },
          "shapedefaults": {
           "line": {
            "color": "#2a3f5f"
           }
          },
          "ternary": {
           "aaxis": {
            "gridcolor": "white",
            "linecolor": "white",
            "ticks": ""
           },
           "baxis": {
            "gridcolor": "white",
            "linecolor": "white",
            "ticks": ""
           },
           "bgcolor": "#E5ECF6",
           "caxis": {
            "gridcolor": "white",
            "linecolor": "white",
            "ticks": ""
           }
          },
          "title": {
           "x": 0.05
          },
          "xaxis": {
           "automargin": true,
           "gridcolor": "white",
           "linecolor": "white",
           "ticks": "",
           "title": {
            "standoff": 15
           },
           "zerolinecolor": "white",
           "zerolinewidth": 2
          },
          "yaxis": {
           "automargin": true,
           "gridcolor": "white",
           "linecolor": "white",
           "ticks": "",
           "title": {
            "standoff": 15
           },
           "zerolinecolor": "white",
           "zerolinewidth": 2
          }
         }
        },
        "title": {
         "font": {
          "color": "#4D5663"
         }
        },
        "xaxis": {
         "anchor": "y",
         "domain": [
          0,
          0.2125
         ],
         "gridcolor": "#E1E5ED",
         "showgrid": false,
         "tickfont": {
          "color": "#4D5663"
         },
         "title": {
          "font": {
           "color": "#4D5663"
          },
          "text": ""
         },
         "zerolinecolor": "#E1E5ED"
        },
        "xaxis10": {
         "anchor": "y10",
         "domain": [
          0.2625,
          0.475
         ],
         "gridcolor": "#E1E5ED",
         "showgrid": false,
         "tickfont": {
          "color": "#4D5663"
         },
         "title": {
          "font": {
           "color": "#4D5663"
          },
          "text": ""
         },
         "zerolinecolor": "#E1E5ED"
        },
        "xaxis11": {
         "anchor": "y11",
         "domain": [
          0.525,
          0.7375
         ],
         "gridcolor": "#E1E5ED",
         "showgrid": false,
         "tickfont": {
          "color": "#4D5663"
         },
         "title": {
          "font": {
           "color": "#4D5663"
          },
          "text": ""
         },
         "zerolinecolor": "#E1E5ED"
        },
        "xaxis12": {
         "anchor": "y12",
         "domain": [
          0.7875,
          1
         ],
         "gridcolor": "#E1E5ED",
         "showgrid": false,
         "tickfont": {
          "color": "#4D5663"
         },
         "title": {
          "font": {
           "color": "#4D5663"
          },
          "text": ""
         },
         "zerolinecolor": "#E1E5ED"
        },
        "xaxis13": {
         "anchor": "y13",
         "domain": [
          0,
          0.2125
         ],
         "gridcolor": "#E1E5ED",
         "showgrid": false,
         "tickfont": {
          "color": "#4D5663"
         },
         "title": {
          "font": {
           "color": "#4D5663"
          },
          "text": ""
         },
         "zerolinecolor": "#E1E5ED"
        },
        "xaxis14": {
         "anchor": "y14",
         "domain": [
          0.2625,
          0.475
         ],
         "gridcolor": "#E1E5ED",
         "showgrid": false,
         "tickfont": {
          "color": "#4D5663"
         },
         "title": {
          "font": {
           "color": "#4D5663"
          },
          "text": ""
         },
         "zerolinecolor": "#E1E5ED"
        },
        "xaxis15": {
         "anchor": "y15",
         "domain": [
          0.525,
          0.7375
         ],
         "gridcolor": "#E1E5ED",
         "showgrid": false,
         "tickfont": {
          "color": "#4D5663"
         },
         "title": {
          "font": {
           "color": "#4D5663"
          },
          "text": ""
         },
         "zerolinecolor": "#E1E5ED"
        },
        "xaxis16": {
         "anchor": "y16",
         "domain": [
          0.7875,
          1
         ],
         "gridcolor": "#E1E5ED",
         "showgrid": false,
         "tickfont": {
          "color": "#4D5663"
         },
         "title": {
          "font": {
           "color": "#4D5663"
          },
          "text": ""
         },
         "zerolinecolor": "#E1E5ED"
        },
        "xaxis2": {
         "anchor": "y2",
         "domain": [
          0.2625,
          0.475
         ],
         "gridcolor": "#E1E5ED",
         "showgrid": false,
         "tickfont": {
          "color": "#4D5663"
         },
         "title": {
          "font": {
           "color": "#4D5663"
          },
          "text": ""
         },
         "zerolinecolor": "#E1E5ED"
        },
        "xaxis3": {
         "anchor": "y3",
         "domain": [
          0.525,
          0.7375
         ],
         "gridcolor": "#E1E5ED",
         "showgrid": false,
         "tickfont": {
          "color": "#4D5663"
         },
         "title": {
          "font": {
           "color": "#4D5663"
          },
          "text": ""
         },
         "zerolinecolor": "#E1E5ED"
        },
        "xaxis4": {
         "anchor": "y4",
         "domain": [
          0.7875,
          1
         ],
         "gridcolor": "#E1E5ED",
         "showgrid": false,
         "tickfont": {
          "color": "#4D5663"
         },
         "title": {
          "font": {
           "color": "#4D5663"
          },
          "text": ""
         },
         "zerolinecolor": "#E1E5ED"
        },
        "xaxis5": {
         "anchor": "y5",
         "domain": [
          0,
          0.2125
         ],
         "gridcolor": "#E1E5ED",
         "showgrid": false,
         "tickfont": {
          "color": "#4D5663"
         },
         "title": {
          "font": {
           "color": "#4D5663"
          },
          "text": ""
         },
         "zerolinecolor": "#E1E5ED"
        },
        "xaxis6": {
         "anchor": "y6",
         "domain": [
          0.2625,
          0.475
         ],
         "gridcolor": "#E1E5ED",
         "showgrid": false,
         "tickfont": {
          "color": "#4D5663"
         },
         "title": {
          "font": {
           "color": "#4D5663"
          },
          "text": ""
         },
         "zerolinecolor": "#E1E5ED"
        },
        "xaxis7": {
         "anchor": "y7",
         "domain": [
          0.525,
          0.7375
         ],
         "gridcolor": "#E1E5ED",
         "showgrid": false,
         "tickfont": {
          "color": "#4D5663"
         },
         "title": {
          "font": {
           "color": "#4D5663"
          },
          "text": ""
         },
         "zerolinecolor": "#E1E5ED"
        },
        "xaxis8": {
         "anchor": "y8",
         "domain": [
          0.7875,
          1
         ],
         "gridcolor": "#E1E5ED",
         "showgrid": false,
         "tickfont": {
          "color": "#4D5663"
         },
         "title": {
          "font": {
           "color": "#4D5663"
          },
          "text": ""
         },
         "zerolinecolor": "#E1E5ED"
        },
        "xaxis9": {
         "anchor": "y9",
         "domain": [
          0,
          0.2125
         ],
         "gridcolor": "#E1E5ED",
         "showgrid": false,
         "tickfont": {
          "color": "#4D5663"
         },
         "title": {
          "font": {
           "color": "#4D5663"
          },
          "text": ""
         },
         "zerolinecolor": "#E1E5ED"
        },
        "yaxis": {
         "anchor": "x",
         "domain": [
          0.8025,
          1
         ],
         "gridcolor": "#E1E5ED",
         "showgrid": false,
         "tickfont": {
          "color": "#4D5663"
         },
         "title": {
          "font": {
           "color": "#4D5663"
          },
          "text": ""
         },
         "zerolinecolor": "#E1E5ED"
        },
        "yaxis10": {
         "anchor": "x10",
         "domain": [
          0.2675,
          0.465
         ],
         "gridcolor": "#E1E5ED",
         "showgrid": false,
         "tickfont": {
          "color": "#4D5663"
         },
         "title": {
          "font": {
           "color": "#4D5663"
          },
          "text": ""
         },
         "zerolinecolor": "#E1E5ED"
        },
        "yaxis11": {
         "anchor": "x11",
         "domain": [
          0.2675,
          0.465
         ],
         "gridcolor": "#E1E5ED",
         "showgrid": false,
         "tickfont": {
          "color": "#4D5663"
         },
         "title": {
          "font": {
           "color": "#4D5663"
          },
          "text": ""
         },
         "zerolinecolor": "#E1E5ED"
        },
        "yaxis12": {
         "anchor": "x12",
         "domain": [
          0.2675,
          0.465
         ],
         "gridcolor": "#E1E5ED",
         "showgrid": false,
         "tickfont": {
          "color": "#4D5663"
         },
         "title": {
          "font": {
           "color": "#4D5663"
          },
          "text": ""
         },
         "zerolinecolor": "#E1E5ED"
        },
        "yaxis13": {
         "anchor": "x13",
         "domain": [
          0,
          0.1975
         ],
         "gridcolor": "#E1E5ED",
         "showgrid": false,
         "tickfont": {
          "color": "#4D5663"
         },
         "title": {
          "font": {
           "color": "#4D5663"
          },
          "text": ""
         },
         "zerolinecolor": "#E1E5ED"
        },
        "yaxis14": {
         "anchor": "x14",
         "domain": [
          0,
          0.1975
         ],
         "gridcolor": "#E1E5ED",
         "showgrid": false,
         "tickfont": {
          "color": "#4D5663"
         },
         "title": {
          "font": {
           "color": "#4D5663"
          },
          "text": ""
         },
         "zerolinecolor": "#E1E5ED"
        },
        "yaxis15": {
         "anchor": "x15",
         "domain": [
          0,
          0.1975
         ],
         "gridcolor": "#E1E5ED",
         "showgrid": false,
         "tickfont": {
          "color": "#4D5663"
         },
         "title": {
          "font": {
           "color": "#4D5663"
          },
          "text": ""
         },
         "zerolinecolor": "#E1E5ED"
        },
        "yaxis16": {
         "anchor": "x16",
         "domain": [
          0,
          0.1975
         ],
         "gridcolor": "#E1E5ED",
         "showgrid": false,
         "tickfont": {
          "color": "#4D5663"
         },
         "title": {
          "font": {
           "color": "#4D5663"
          },
          "text": ""
         },
         "zerolinecolor": "#E1E5ED"
        },
        "yaxis2": {
         "anchor": "x2",
         "domain": [
          0.8025,
          1
         ],
         "gridcolor": "#E1E5ED",
         "showgrid": false,
         "tickfont": {
          "color": "#4D5663"
         },
         "title": {
          "font": {
           "color": "#4D5663"
          },
          "text": ""
         },
         "zerolinecolor": "#E1E5ED"
        },
        "yaxis3": {
         "anchor": "x3",
         "domain": [
          0.8025,
          1
         ],
         "gridcolor": "#E1E5ED",
         "showgrid": false,
         "tickfont": {
          "color": "#4D5663"
         },
         "title": {
          "font": {
           "color": "#4D5663"
          },
          "text": ""
         },
         "zerolinecolor": "#E1E5ED"
        },
        "yaxis4": {
         "anchor": "x4",
         "domain": [
          0.8025,
          1
         ],
         "gridcolor": "#E1E5ED",
         "showgrid": false,
         "tickfont": {
          "color": "#4D5663"
         },
         "title": {
          "font": {
           "color": "#4D5663"
          },
          "text": ""
         },
         "zerolinecolor": "#E1E5ED"
        },
        "yaxis5": {
         "anchor": "x5",
         "domain": [
          0.535,
          0.7325
         ],
         "gridcolor": "#E1E5ED",
         "showgrid": false,
         "tickfont": {
          "color": "#4D5663"
         },
         "title": {
          "font": {
           "color": "#4D5663"
          },
          "text": ""
         },
         "zerolinecolor": "#E1E5ED"
        },
        "yaxis6": {
         "anchor": "x6",
         "domain": [
          0.535,
          0.7325
         ],
         "gridcolor": "#E1E5ED",
         "showgrid": false,
         "tickfont": {
          "color": "#4D5663"
         },
         "title": {
          "font": {
           "color": "#4D5663"
          },
          "text": ""
         },
         "zerolinecolor": "#E1E5ED"
        },
        "yaxis7": {
         "anchor": "x7",
         "domain": [
          0.535,
          0.7325
         ],
         "gridcolor": "#E1E5ED",
         "showgrid": false,
         "tickfont": {
          "color": "#4D5663"
         },
         "title": {
          "font": {
           "color": "#4D5663"
          },
          "text": ""
         },
         "zerolinecolor": "#E1E5ED"
        },
        "yaxis8": {
         "anchor": "x8",
         "domain": [
          0.535,
          0.7325
         ],
         "gridcolor": "#E1E5ED",
         "showgrid": false,
         "tickfont": {
          "color": "#4D5663"
         },
         "title": {
          "font": {
           "color": "#4D5663"
          },
          "text": ""
         },
         "zerolinecolor": "#E1E5ED"
        },
        "yaxis9": {
         "anchor": "x9",
         "domain": [
          0.2675,
          0.465
         ],
         "gridcolor": "#E1E5ED",
         "showgrid": false,
         "tickfont": {
          "color": "#4D5663"
         },
         "title": {
          "font": {
           "color": "#4D5663"
          },
          "text": ""
         },
         "zerolinecolor": "#E1E5ED"
        }
       }
      },
      "text/html": [
       "<div>\n",
       "        \n",
       "        \n",
       "            <div id=\"64e90393-850b-4ee1-b745-bdf9f719f544\" class=\"plotly-graph-div\" style=\"height:525px; width:100%;\"></div>\n",
       "            <script type=\"text/javascript\">\n",
       "                require([\"plotly\"], function(Plotly) {\n",
       "                    window.PLOTLYENV=window.PLOTLYENV || {};\n",
       "                    window.PLOTLYENV.BASE_URL='https://plot.ly';\n",
       "                    \n",
       "                if (document.getElementById(\"64e90393-850b-4ee1-b745-bdf9f719f544\")) {\n",
       "                    Plotly.newPlot(\n",
       "                        '64e90393-850b-4ee1-b745-bdf9f719f544',\n",
       "                        [{\"histfunc\": \"count\", \"histnorm\": \"\", \"marker\": {\"color\": \"rgba(255, 153, 51, 1.0)\", \"line\": {\"color\": \"#4D5663\", \"width\": 1.3}}, \"name\": \"A\", \"nbinsx\": 10, \"opacity\": 0.8, \"orientation\": \"v\", \"type\": \"histogram\", \"x\": [0.2192150126893649, 0.41212764663850154, -0.27839766837010627, 0.3222178500267178, 1.1359559733338713, -0.971720425769713, 1.4329161629803917, -0.34578250445780295, 0.9221363208457326, -0.46018427034111126, 0.032535916019239226, -1.5775132350080174, 1.2509653911100467, 0.8333489234269918, -0.09408230960773854, 0.010236286462784547, 0.6198798548523512, -2.3694740941164874, 0.6446131044139314, 3.5825153483746544, -1.100859730297812, -0.28637707270395063, 1.2663027275521734, 0.4480018504819275, -0.04075310173488496, -1.3188747595733246, -0.25669888175689487, -0.7892384287614435, -0.5027860677713014, 0.08430359155613538, -0.40896809921325916, 1.2708262506705303, -0.38766034310350395, 0.4304639325836553, 1.8071040246302588, 1.4568874186053604, 0.9042403428138212, -0.7816990895945196, 0.7868373081101285, 0.9476543351449195, 1.1956296073512873, 0.41095470596658434, 1.0094261937662572, -0.44046838256526516, 1.0346716931466176, 0.11523886763913334, -0.31723607081444566, -0.716904274124458, 0.26466695448679606, -0.6379239557948869, 0.955179550321454, 1.6925209088368083, 1.7812391056276533, -1.4877766892101543, -1.1899544134286546, -0.10895806189072393, 1.321027710937083, -0.8784194756051036, 0.6504071261387132, 1.094753327689872, -0.2132623568016486, -0.7927137163590783, -0.45765125612752156, 0.28711097689175746, -0.8352933868433253, -2.0667869160062238, -0.35007642593563354, 0.9947487894082441, -1.1831678986229839, -0.8486257818723462, -0.2765927487443163, 0.7680784213053352, -0.9335626713391687, 0.21802436036050304, -0.9349362054526161, -0.011134013758786858, -1.6743957170983006, 0.12574163202444208, 1.1531777911767431, 1.2999741110066083, -0.2735192157650116, 0.595818583592944, 0.41802287494605567, 0.45030528691780813, -0.514456906944202, -0.4162077818331348, 2.4691714751126876, -1.365196733109609, 0.26790894446099445, -0.06926500967640424, 0.311983304253257, 1.1795697874824076, 0.3690061425350321, 1.0369119759384802, 0.11344630289523762, -0.8618742507166238, 1.0502865219767203, -0.6297527108271594, 2.0620223895254988, 0.28102629664114714], \"xaxis\": \"x\", \"yaxis\": \"y\"}, {\"line\": {\"color\": \"rgba(128, 128, 128, 1.0)\", \"dash\": \"solid\", \"shape\": \"linear\", \"width\": 1.3}, \"marker\": {\"size\": 2, \"symbol\": \"circle\"}, \"mode\": \"markers\", \"name\": \"A\", \"text\": \"\", \"type\": \"scatter\", \"x\": [-2.5296842304295915, -0.9124939583658659, 1.9371572689115752, -0.04233086880753978, 1.1755323137692275, -0.7913343687872296, 0.34679771300378864, 0.1472644768462741, -0.5576417622152579, 1.0153627370487877, -0.006675276814364406, -1.3831667133442893, 0.23794366571150333, -0.046584210842764394, -0.23286229979657497, -1.059043175997328, -0.5639209672124689, 1.2466006179249922, 1.785304178140208, 0.7289995222261205, -0.2394784072597976, 0.6674022767035093, -1.7636884877840329, -1.7239697309413886, 1.6336503512461968, -0.09202348674133626, 1.0195082254673082, 0.6284543531925654, -0.9230405694743555, 0.8912283886498443, 0.6633555600973492, -1.5256437045839726, 0.9770914272419425, 1.7175529208127185, 0.8406491088530332, -1.2707511635610007, 1.38083980414698, -0.9203591200540816, -0.5004906455425786, -0.5399747143298336, -0.9896963608623736, 1.3306609274638301, 0.8926496038118524, -2.033822133364184, -0.8334681002973663, 0.14001110291725294, -0.685037044884312, 0.9415217721260292, -0.7396063904143044, 1.4124225135238375, 1.9904956031872585, 0.42500823802958937, 1.930846927734657, -1.9760870203704148, -1.0777631936672263, 0.902624464861868, -0.94669113465832, -0.9373697872008047, -1.4821469944733676, -0.9426236297971836, 1.0841383783955747, -2.0884924313952187, 0.8969041011425303, -1.5803644182734884, -1.3823710740159605, -1.5206872295882883, -0.2581375790682765, 1.156228135822335, -0.41662244466772547, -0.3490920630112603, 1.2895317025169495, -0.8821858086096042, -0.5387923050763868, -0.5663537185351362, -1.095431469835826, 0.6009775868516194, 2.614098758958872, -0.9592823177952877, 0.06536082847107165, -0.8496657523610329, -1.4681299656741593, 0.6701367636720044, 0.7744265354513329, 2.0586936414104375, 0.7915794301092625, 2.592940852157227, -1.3221424278325977, 2.8901840068359896, 0.561794978690869, 0.6610147433500252, 1.9933671238820154, 0.11772975628376309, -1.3513533772700421, 0.8043126148336902, -0.5690624329172052, 0.536251241812792, 0.7386353343412105, -0.976006012430902, -0.9283420207337423, 0.04110546621274906], \"xaxis\": \"x2\", \"y\": [0.2192150126893649, 0.41212764663850154, -0.27839766837010627, 0.3222178500267178, 1.1359559733338713, -0.971720425769713, 1.4329161629803917, -0.34578250445780295, 0.9221363208457326, -0.46018427034111126, 0.032535916019239226, -1.5775132350080174, 1.2509653911100467, 0.8333489234269918, -0.09408230960773854, 0.010236286462784547, 0.6198798548523512, -2.3694740941164874, 0.6446131044139314, 3.5825153483746544, -1.100859730297812, -0.28637707270395063, 1.2663027275521734, 0.4480018504819275, -0.04075310173488496, -1.3188747595733246, -0.25669888175689487, -0.7892384287614435, -0.5027860677713014, 0.08430359155613538, -0.40896809921325916, 1.2708262506705303, -0.38766034310350395, 0.4304639325836553, 1.8071040246302588, 1.4568874186053604, 0.9042403428138212, -0.7816990895945196, 0.7868373081101285, 0.9476543351449195, 1.1956296073512873, 0.41095470596658434, 1.0094261937662572, -0.44046838256526516, 1.0346716931466176, 0.11523886763913334, -0.31723607081444566, -0.716904274124458, 0.26466695448679606, -0.6379239557948869, 0.955179550321454, 1.6925209088368083, 1.7812391056276533, -1.4877766892101543, -1.1899544134286546, -0.10895806189072393, 1.321027710937083, -0.8784194756051036, 0.6504071261387132, 1.094753327689872, -0.2132623568016486, -0.7927137163590783, -0.45765125612752156, 0.28711097689175746, -0.8352933868433253, -2.0667869160062238, -0.35007642593563354, 0.9947487894082441, -1.1831678986229839, -0.8486257818723462, -0.2765927487443163, 0.7680784213053352, -0.9335626713391687, 0.21802436036050304, -0.9349362054526161, -0.011134013758786858, -1.6743957170983006, 0.12574163202444208, 1.1531777911767431, 1.2999741110066083, -0.2735192157650116, 0.595818583592944, 0.41802287494605567, 0.45030528691780813, -0.514456906944202, -0.4162077818331348, 2.4691714751126876, -1.365196733109609, 0.26790894446099445, -0.06926500967640424, 0.311983304253257, 1.1795697874824076, 0.3690061425350321, 1.0369119759384802, 0.11344630289523762, -0.8618742507166238, 1.0502865219767203, -0.6297527108271594, 2.0620223895254988, 0.28102629664114714], \"yaxis\": \"y2\"}, {\"line\": {\"color\": \"rgba(128, 128, 128, 1.0)\", \"dash\": \"solid\", \"shape\": \"linear\", \"width\": 1.3}, \"marker\": {\"size\": 2, \"symbol\": \"circle\"}, \"mode\": \"markers\", \"name\": \"A\", \"text\": \"\", \"type\": \"scatter\", \"x\": [-1.1057842548270977, -0.624447081861106, -1.1463046847851772, -2.0516528664086016, -0.2536472013819978, 0.9861718486144034, 1.0689897955393939, -0.1585854788296682, -1.3077937818699334, -0.8208406371273543, 1.8740322680110295, 0.6333913673562931, 0.3178947957116137, -0.015736534377424564, 2.0321046242319687, 0.06375926251515106, -0.3390673097091017, -0.401837996609353, 1.2346788296440208, 2.276149956123622, 0.37569579834636213, 0.3953364275693833, -0.247553039354438, -1.2869865347564768, 0.835516096054234, 0.65890210050644, 0.3012561169493466, -1.271307379056707, -0.6003437313545574, -0.4739198313223118, 1.3267237113368835, -0.5578709223481126, -0.7399846035106609, -1.1846867750462509, 1.0361213738287873, 0.24158089735531355, -1.7081680105288097, -1.690694163108148, -1.1482330961742127, 0.217297700281279, -0.7562434147855459, 0.8876630556060952, -0.9168718756703037, -2.4859795041900496, -1.1414639324014766, -1.7554578054650556, 1.0377455208260824, 2.281931426077602, -0.3127148942114271, -1.412087816616137, -0.9257671377072907, -1.7468219516771972, 0.19949328132156197, -0.5441380405794646, -0.24844150446616758, 1.3924373328595068, 1.0991871563843334, 0.4639167604141466, 0.5971530163443323, 1.69804068317003, 0.4922814159340416, 0.722704455458475, 1.5993261724325747, -2.2371059073938695, -0.21008970484627734, -0.4493148789517706, 0.8995738126801441, 0.590873981732288, 0.18298494096037912, 0.9883161308378683, 0.440433763633946, -0.967373887800737, 0.17678595175618295, -0.175182346557614, 0.3655468037910308, -0.8392541776916436, 0.8921675859970574, -0.6696875442130119, 2.3921981316395287, -0.16737461966501416, -0.10569484690535733, 0.806222165175453, -0.21171561737066233, 0.24146077603021113, 0.8050299291107749, -1.4586981180464924, -0.17949033231634512, 0.24933419637187354, -1.0016664814270693, -1.0310117830282746, 0.6172378771346466, 1.6460689541691134, 0.22247929101871433, 1.1122959881698997, -0.03692066792117503, 0.24482297693849198, -0.11924156202238932, -0.529984146740525, 1.6270305526062274, -0.6651648340822217], \"xaxis\": \"x3\", \"y\": [0.2192150126893649, 0.41212764663850154, -0.27839766837010627, 0.3222178500267178, 1.1359559733338713, -0.971720425769713, 1.4329161629803917, -0.34578250445780295, 0.9221363208457326, -0.46018427034111126, 0.032535916019239226, -1.5775132350080174, 1.2509653911100467, 0.8333489234269918, -0.09408230960773854, 0.010236286462784547, 0.6198798548523512, -2.3694740941164874, 0.6446131044139314, 3.5825153483746544, -1.100859730297812, -0.28637707270395063, 1.2663027275521734, 0.4480018504819275, -0.04075310173488496, -1.3188747595733246, -0.25669888175689487, -0.7892384287614435, -0.5027860677713014, 0.08430359155613538, -0.40896809921325916, 1.2708262506705303, -0.38766034310350395, 0.4304639325836553, 1.8071040246302588, 1.4568874186053604, 0.9042403428138212, -0.7816990895945196, 0.7868373081101285, 0.9476543351449195, 1.1956296073512873, 0.41095470596658434, 1.0094261937662572, -0.44046838256526516, 1.0346716931466176, 0.11523886763913334, -0.31723607081444566, -0.716904274124458, 0.26466695448679606, -0.6379239557948869, 0.955179550321454, 1.6925209088368083, 1.7812391056276533, -1.4877766892101543, -1.1899544134286546, -0.10895806189072393, 1.321027710937083, -0.8784194756051036, 0.6504071261387132, 1.094753327689872, -0.2132623568016486, -0.7927137163590783, -0.45765125612752156, 0.28711097689175746, -0.8352933868433253, -2.0667869160062238, -0.35007642593563354, 0.9947487894082441, -1.1831678986229839, -0.8486257818723462, -0.2765927487443163, 0.7680784213053352, -0.9335626713391687, 0.21802436036050304, -0.9349362054526161, -0.011134013758786858, -1.6743957170983006, 0.12574163202444208, 1.1531777911767431, 1.2999741110066083, -0.2735192157650116, 0.595818583592944, 0.41802287494605567, 0.45030528691780813, -0.514456906944202, -0.4162077818331348, 2.4691714751126876, -1.365196733109609, 0.26790894446099445, -0.06926500967640424, 0.311983304253257, 1.1795697874824076, 0.3690061425350321, 1.0369119759384802, 0.11344630289523762, -0.8618742507166238, 1.0502865219767203, -0.6297527108271594, 2.0620223895254988, 0.28102629664114714], \"yaxis\": \"y3\"}, {\"line\": {\"color\": \"rgba(128, 128, 128, 1.0)\", \"dash\": \"solid\", \"shape\": \"linear\", \"width\": 1.3}, \"marker\": {\"size\": 2, \"symbol\": \"circle\"}, \"mode\": \"markers\", \"name\": \"A\", \"text\": \"\", \"type\": \"scatter\", \"x\": [-0.6888520130434728, 1.2478942299437972, -0.6910030563362499, 0.6633937903835291, 1.207011098767084, -0.0501587935275598, 1.4403495910459987, 0.6593186713810559, 0.8392960277754612, -0.8463909963062793, 0.8806397761586382, -0.9092802790816509, -0.18068852731817323, 1.782362983160367, -1.389746193951448, 1.8521076653037216, -0.6805460810710358, -1.8626639821088389, 0.39881287947045035, 1.8794567093480854, 1.4772474439124987, 0.9714282361405215, 0.4757459667745016, -0.21758173305929074, -0.9535346328427691, 0.3229353850264389, -0.06609962347331595, 0.34119418983522354, -0.005102556273799416, 1.5383460834996734, -0.44041059206688926, -0.29050418807046224, 0.08376608511847015, 0.2136126241861683, -0.6150633970483889, 1.3422412568502053, 1.3253437991664234, -0.704081417634952, -1.5850165287088795, -1.1803875501519396, 0.4167274231177229, 0.23422899585172988, -1.3989737323147369, 0.8229848353882916, -2.179724701187986, -1.9850353456455285, -0.13837495171300337, -1.8138557686372656, 1.4868531021875417, -1.9062470012029196, 0.28741739155320234, 0.7711078726665829, -0.532917852397217, -2.1706971308667478, -2.2618877811324887, 0.7719701344522324, 0.8095485633696264, 0.41610668242332727, -0.44133376688330395, -0.49269229078030513, -1.880963038201057, 1.0108218818879948, 0.44492300762638737, 1.9141574240141155, -0.22271326954574053, 0.24114473449983687, -0.1607733348886458, -1.5757585020970784, -0.2071801368015469, 1.5388537992008704, -0.01027993174490521, 0.23275646792273363, 0.14633088199439911, -0.30740529588837634, 0.397326794331163, 0.8405167455431644, -0.45759285002931893, 1.4072806684764043, -0.7695229333094545, 0.20096074700634062, -0.3125522962682811, -0.13179455179870486, -0.6695572145913227, -0.0438013151056822, -0.33301348963770727, -0.02575045255163641, -0.5123216086652627, -1.3676062515875993, 1.260487387004233, -0.12986916435730478, -0.2683307074031764, -0.8341211597551491, -1.079219641601013, -0.011414089476490382, -0.40916183184984434, -0.2597283947168098, 1.3405791004795815, -0.9435890085699381, -1.0987361219683982, -0.1439562375863744], \"xaxis\": \"x4\", \"y\": [0.2192150126893649, 0.41212764663850154, -0.27839766837010627, 0.3222178500267178, 1.1359559733338713, -0.971720425769713, 1.4329161629803917, -0.34578250445780295, 0.9221363208457326, -0.46018427034111126, 0.032535916019239226, -1.5775132350080174, 1.2509653911100467, 0.8333489234269918, -0.09408230960773854, 0.010236286462784547, 0.6198798548523512, -2.3694740941164874, 0.6446131044139314, 3.5825153483746544, -1.100859730297812, -0.28637707270395063, 1.2663027275521734, 0.4480018504819275, -0.04075310173488496, -1.3188747595733246, -0.25669888175689487, -0.7892384287614435, -0.5027860677713014, 0.08430359155613538, -0.40896809921325916, 1.2708262506705303, -0.38766034310350395, 0.4304639325836553, 1.8071040246302588, 1.4568874186053604, 0.9042403428138212, -0.7816990895945196, 0.7868373081101285, 0.9476543351449195, 1.1956296073512873, 0.41095470596658434, 1.0094261937662572, -0.44046838256526516, 1.0346716931466176, 0.11523886763913334, -0.31723607081444566, -0.716904274124458, 0.26466695448679606, -0.6379239557948869, 0.955179550321454, 1.6925209088368083, 1.7812391056276533, -1.4877766892101543, -1.1899544134286546, -0.10895806189072393, 1.321027710937083, -0.8784194756051036, 0.6504071261387132, 1.094753327689872, -0.2132623568016486, -0.7927137163590783, -0.45765125612752156, 0.28711097689175746, -0.8352933868433253, -2.0667869160062238, -0.35007642593563354, 0.9947487894082441, -1.1831678986229839, -0.8486257818723462, -0.2765927487443163, 0.7680784213053352, -0.9335626713391687, 0.21802436036050304, -0.9349362054526161, -0.011134013758786858, -1.6743957170983006, 0.12574163202444208, 1.1531777911767431, 1.2999741110066083, -0.2735192157650116, 0.595818583592944, 0.41802287494605567, 0.45030528691780813, -0.514456906944202, -0.4162077818331348, 2.4691714751126876, -1.365196733109609, 0.26790894446099445, -0.06926500967640424, 0.311983304253257, 1.1795697874824076, 0.3690061425350321, 1.0369119759384802, 0.11344630289523762, -0.8618742507166238, 1.0502865219767203, -0.6297527108271594, 2.0620223895254988, 0.28102629664114714], \"yaxis\": \"y4\"}, {\"line\": {\"color\": \"rgba(128, 128, 128, 1.0)\", \"dash\": \"solid\", \"shape\": \"linear\", \"width\": 1.3}, \"marker\": {\"size\": 2, \"symbol\": \"circle\"}, \"mode\": \"markers\", \"name\": \"B\", \"text\": \"\", \"type\": \"scatter\", \"x\": [0.2192150126893649, 0.41212764663850154, -0.27839766837010627, 0.3222178500267178, 1.1359559733338713, -0.971720425769713, 1.4329161629803917, -0.34578250445780295, 0.9221363208457326, -0.46018427034111126, 0.032535916019239226, -1.5775132350080174, 1.2509653911100467, 0.8333489234269918, -0.09408230960773854, 0.010236286462784547, 0.6198798548523512, -2.3694740941164874, 0.6446131044139314, 3.5825153483746544, -1.100859730297812, -0.28637707270395063, 1.2663027275521734, 0.4480018504819275, -0.04075310173488496, -1.3188747595733246, -0.25669888175689487, -0.7892384287614435, -0.5027860677713014, 0.08430359155613538, -0.40896809921325916, 1.2708262506705303, -0.38766034310350395, 0.4304639325836553, 1.8071040246302588, 1.4568874186053604, 0.9042403428138212, -0.7816990895945196, 0.7868373081101285, 0.9476543351449195, 1.1956296073512873, 0.41095470596658434, 1.0094261937662572, -0.44046838256526516, 1.0346716931466176, 0.11523886763913334, -0.31723607081444566, -0.716904274124458, 0.26466695448679606, -0.6379239557948869, 0.955179550321454, 1.6925209088368083, 1.7812391056276533, -1.4877766892101543, -1.1899544134286546, -0.10895806189072393, 1.321027710937083, -0.8784194756051036, 0.6504071261387132, 1.094753327689872, -0.2132623568016486, -0.7927137163590783, -0.45765125612752156, 0.28711097689175746, -0.8352933868433253, -2.0667869160062238, -0.35007642593563354, 0.9947487894082441, -1.1831678986229839, -0.8486257818723462, -0.2765927487443163, 0.7680784213053352, -0.9335626713391687, 0.21802436036050304, -0.9349362054526161, -0.011134013758786858, -1.6743957170983006, 0.12574163202444208, 1.1531777911767431, 1.2999741110066083, -0.2735192157650116, 0.595818583592944, 0.41802287494605567, 0.45030528691780813, -0.514456906944202, -0.4162077818331348, 2.4691714751126876, -1.365196733109609, 0.26790894446099445, -0.06926500967640424, 0.311983304253257, 1.1795697874824076, 0.3690061425350321, 1.0369119759384802, 0.11344630289523762, -0.8618742507166238, 1.0502865219767203, -0.6297527108271594, 2.0620223895254988, 0.28102629664114714], \"xaxis\": \"x5\", \"y\": [-2.5296842304295915, -0.9124939583658659, 1.9371572689115752, -0.04233086880753978, 1.1755323137692275, -0.7913343687872296, 0.34679771300378864, 0.1472644768462741, -0.5576417622152579, 1.0153627370487877, -0.006675276814364406, -1.3831667133442893, 0.23794366571150333, -0.046584210842764394, -0.23286229979657497, -1.059043175997328, -0.5639209672124689, 1.2466006179249922, 1.785304178140208, 0.7289995222261205, -0.2394784072597976, 0.6674022767035093, -1.7636884877840329, -1.7239697309413886, 1.6336503512461968, -0.09202348674133626, 1.0195082254673082, 0.6284543531925654, -0.9230405694743555, 0.8912283886498443, 0.6633555600973492, -1.5256437045839726, 0.9770914272419425, 1.7175529208127185, 0.8406491088530332, -1.2707511635610007, 1.38083980414698, -0.9203591200540816, -0.5004906455425786, -0.5399747143298336, -0.9896963608623736, 1.3306609274638301, 0.8926496038118524, -2.033822133364184, -0.8334681002973663, 0.14001110291725294, -0.685037044884312, 0.9415217721260292, -0.7396063904143044, 1.4124225135238375, 1.9904956031872585, 0.42500823802958937, 1.930846927734657, -1.9760870203704148, -1.0777631936672263, 0.902624464861868, -0.94669113465832, -0.9373697872008047, -1.4821469944733676, -0.9426236297971836, 1.0841383783955747, -2.0884924313952187, 0.8969041011425303, -1.5803644182734884, -1.3823710740159605, -1.5206872295882883, -0.2581375790682765, 1.156228135822335, -0.41662244466772547, -0.3490920630112603, 1.2895317025169495, -0.8821858086096042, -0.5387923050763868, -0.5663537185351362, -1.095431469835826, 0.6009775868516194, 2.614098758958872, -0.9592823177952877, 0.06536082847107165, -0.8496657523610329, -1.4681299656741593, 0.6701367636720044, 0.7744265354513329, 2.0586936414104375, 0.7915794301092625, 2.592940852157227, -1.3221424278325977, 2.8901840068359896, 0.561794978690869, 0.6610147433500252, 1.9933671238820154, 0.11772975628376309, -1.3513533772700421, 0.8043126148336902, -0.5690624329172052, 0.536251241812792, 0.7386353343412105, -0.976006012430902, -0.9283420207337423, 0.04110546621274906], \"yaxis\": \"y5\"}, {\"histfunc\": \"count\", \"histnorm\": \"\", \"marker\": {\"color\": \"rgba(55, 128, 191, 1.0)\", \"line\": {\"color\": \"#4D5663\", \"width\": 1.3}}, \"name\": \"B\", \"nbinsx\": 10, \"opacity\": 0.8, \"orientation\": \"v\", \"type\": \"histogram\", \"x\": [-2.5296842304295915, -0.9124939583658659, 1.9371572689115752, -0.04233086880753978, 1.1755323137692275, -0.7913343687872296, 0.34679771300378864, 0.1472644768462741, -0.5576417622152579, 1.0153627370487877, -0.006675276814364406, -1.3831667133442893, 0.23794366571150333, -0.046584210842764394, -0.23286229979657497, -1.059043175997328, -0.5639209672124689, 1.2466006179249922, 1.785304178140208, 0.7289995222261205, -0.2394784072597976, 0.6674022767035093, -1.7636884877840329, -1.7239697309413886, 1.6336503512461968, -0.09202348674133626, 1.0195082254673082, 0.6284543531925654, -0.9230405694743555, 0.8912283886498443, 0.6633555600973492, -1.5256437045839726, 0.9770914272419425, 1.7175529208127185, 0.8406491088530332, -1.2707511635610007, 1.38083980414698, -0.9203591200540816, -0.5004906455425786, -0.5399747143298336, -0.9896963608623736, 1.3306609274638301, 0.8926496038118524, -2.033822133364184, -0.8334681002973663, 0.14001110291725294, -0.685037044884312, 0.9415217721260292, -0.7396063904143044, 1.4124225135238375, 1.9904956031872585, 0.42500823802958937, 1.930846927734657, -1.9760870203704148, -1.0777631936672263, 0.902624464861868, -0.94669113465832, -0.9373697872008047, -1.4821469944733676, -0.9426236297971836, 1.0841383783955747, -2.0884924313952187, 0.8969041011425303, -1.5803644182734884, -1.3823710740159605, -1.5206872295882883, -0.2581375790682765, 1.156228135822335, -0.41662244466772547, -0.3490920630112603, 1.2895317025169495, -0.8821858086096042, -0.5387923050763868, -0.5663537185351362, -1.095431469835826, 0.6009775868516194, 2.614098758958872, -0.9592823177952877, 0.06536082847107165, -0.8496657523610329, -1.4681299656741593, 0.6701367636720044, 0.7744265354513329, 2.0586936414104375, 0.7915794301092625, 2.592940852157227, -1.3221424278325977, 2.8901840068359896, 0.561794978690869, 0.6610147433500252, 1.9933671238820154, 0.11772975628376309, -1.3513533772700421, 0.8043126148336902, -0.5690624329172052, 0.536251241812792, 0.7386353343412105, -0.976006012430902, -0.9283420207337423, 0.04110546621274906], \"xaxis\": \"x6\", \"yaxis\": \"y6\"}, {\"line\": {\"color\": \"rgba(128, 128, 128, 1.0)\", \"dash\": \"solid\", \"shape\": \"linear\", \"width\": 1.3}, \"marker\": {\"size\": 2, \"symbol\": \"circle\"}, \"mode\": \"markers\", \"name\": \"B\", \"text\": \"\", \"type\": \"scatter\", \"x\": [-1.1057842548270977, -0.624447081861106, -1.1463046847851772, -2.0516528664086016, -0.2536472013819978, 0.9861718486144034, 1.0689897955393939, -0.1585854788296682, -1.3077937818699334, -0.8208406371273543, 1.8740322680110295, 0.6333913673562931, 0.3178947957116137, -0.015736534377424564, 2.0321046242319687, 0.06375926251515106, -0.3390673097091017, -0.401837996609353, 1.2346788296440208, 2.276149956123622, 0.37569579834636213, 0.3953364275693833, -0.247553039354438, -1.2869865347564768, 0.835516096054234, 0.65890210050644, 0.3012561169493466, -1.271307379056707, -0.6003437313545574, -0.4739198313223118, 1.3267237113368835, -0.5578709223481126, -0.7399846035106609, -1.1846867750462509, 1.0361213738287873, 0.24158089735531355, -1.7081680105288097, -1.690694163108148, -1.1482330961742127, 0.217297700281279, -0.7562434147855459, 0.8876630556060952, -0.9168718756703037, -2.4859795041900496, -1.1414639324014766, -1.7554578054650556, 1.0377455208260824, 2.281931426077602, -0.3127148942114271, -1.412087816616137, -0.9257671377072907, -1.7468219516771972, 0.19949328132156197, -0.5441380405794646, -0.24844150446616758, 1.3924373328595068, 1.0991871563843334, 0.4639167604141466, 0.5971530163443323, 1.69804068317003, 0.4922814159340416, 0.722704455458475, 1.5993261724325747, -2.2371059073938695, -0.21008970484627734, -0.4493148789517706, 0.8995738126801441, 0.590873981732288, 0.18298494096037912, 0.9883161308378683, 0.440433763633946, -0.967373887800737, 0.17678595175618295, -0.175182346557614, 0.3655468037910308, -0.8392541776916436, 0.8921675859970574, -0.6696875442130119, 2.3921981316395287, -0.16737461966501416, -0.10569484690535733, 0.806222165175453, -0.21171561737066233, 0.24146077603021113, 0.8050299291107749, -1.4586981180464924, -0.17949033231634512, 0.24933419637187354, -1.0016664814270693, -1.0310117830282746, 0.6172378771346466, 1.6460689541691134, 0.22247929101871433, 1.1122959881698997, -0.03692066792117503, 0.24482297693849198, -0.11924156202238932, -0.529984146740525, 1.6270305526062274, -0.6651648340822217], \"xaxis\": \"x7\", \"y\": [-2.5296842304295915, -0.9124939583658659, 1.9371572689115752, -0.04233086880753978, 1.1755323137692275, -0.7913343687872296, 0.34679771300378864, 0.1472644768462741, -0.5576417622152579, 1.0153627370487877, -0.006675276814364406, -1.3831667133442893, 0.23794366571150333, -0.046584210842764394, -0.23286229979657497, -1.059043175997328, -0.5639209672124689, 1.2466006179249922, 1.785304178140208, 0.7289995222261205, -0.2394784072597976, 0.6674022767035093, -1.7636884877840329, -1.7239697309413886, 1.6336503512461968, -0.09202348674133626, 1.0195082254673082, 0.6284543531925654, -0.9230405694743555, 0.8912283886498443, 0.6633555600973492, -1.5256437045839726, 0.9770914272419425, 1.7175529208127185, 0.8406491088530332, -1.2707511635610007, 1.38083980414698, -0.9203591200540816, -0.5004906455425786, -0.5399747143298336, -0.9896963608623736, 1.3306609274638301, 0.8926496038118524, -2.033822133364184, -0.8334681002973663, 0.14001110291725294, -0.685037044884312, 0.9415217721260292, -0.7396063904143044, 1.4124225135238375, 1.9904956031872585, 0.42500823802958937, 1.930846927734657, -1.9760870203704148, -1.0777631936672263, 0.902624464861868, -0.94669113465832, -0.9373697872008047, -1.4821469944733676, -0.9426236297971836, 1.0841383783955747, -2.0884924313952187, 0.8969041011425303, -1.5803644182734884, -1.3823710740159605, -1.5206872295882883, -0.2581375790682765, 1.156228135822335, -0.41662244466772547, -0.3490920630112603, 1.2895317025169495, -0.8821858086096042, -0.5387923050763868, -0.5663537185351362, -1.095431469835826, 0.6009775868516194, 2.614098758958872, -0.9592823177952877, 0.06536082847107165, -0.8496657523610329, -1.4681299656741593, 0.6701367636720044, 0.7744265354513329, 2.0586936414104375, 0.7915794301092625, 2.592940852157227, -1.3221424278325977, 2.8901840068359896, 0.561794978690869, 0.6610147433500252, 1.9933671238820154, 0.11772975628376309, -1.3513533772700421, 0.8043126148336902, -0.5690624329172052, 0.536251241812792, 0.7386353343412105, -0.976006012430902, -0.9283420207337423, 0.04110546621274906], \"yaxis\": \"y7\"}, {\"line\": {\"color\": \"rgba(128, 128, 128, 1.0)\", \"dash\": \"solid\", \"shape\": \"linear\", \"width\": 1.3}, \"marker\": {\"size\": 2, \"symbol\": \"circle\"}, \"mode\": \"markers\", \"name\": \"B\", \"text\": \"\", \"type\": \"scatter\", \"x\": [-0.6888520130434728, 1.2478942299437972, -0.6910030563362499, 0.6633937903835291, 1.207011098767084, -0.0501587935275598, 1.4403495910459987, 0.6593186713810559, 0.8392960277754612, -0.8463909963062793, 0.8806397761586382, -0.9092802790816509, -0.18068852731817323, 1.782362983160367, -1.389746193951448, 1.8521076653037216, -0.6805460810710358, -1.8626639821088389, 0.39881287947045035, 1.8794567093480854, 1.4772474439124987, 0.9714282361405215, 0.4757459667745016, -0.21758173305929074, -0.9535346328427691, 0.3229353850264389, -0.06609962347331595, 0.34119418983522354, -0.005102556273799416, 1.5383460834996734, -0.44041059206688926, -0.29050418807046224, 0.08376608511847015, 0.2136126241861683, -0.6150633970483889, 1.3422412568502053, 1.3253437991664234, -0.704081417634952, -1.5850165287088795, -1.1803875501519396, 0.4167274231177229, 0.23422899585172988, -1.3989737323147369, 0.8229848353882916, -2.179724701187986, -1.9850353456455285, -0.13837495171300337, -1.8138557686372656, 1.4868531021875417, -1.9062470012029196, 0.28741739155320234, 0.7711078726665829, -0.532917852397217, -2.1706971308667478, -2.2618877811324887, 0.7719701344522324, 0.8095485633696264, 0.41610668242332727, -0.44133376688330395, -0.49269229078030513, -1.880963038201057, 1.0108218818879948, 0.44492300762638737, 1.9141574240141155, -0.22271326954574053, 0.24114473449983687, -0.1607733348886458, -1.5757585020970784, -0.2071801368015469, 1.5388537992008704, -0.01027993174490521, 0.23275646792273363, 0.14633088199439911, -0.30740529588837634, 0.397326794331163, 0.8405167455431644, -0.45759285002931893, 1.4072806684764043, -0.7695229333094545, 0.20096074700634062, -0.3125522962682811, -0.13179455179870486, -0.6695572145913227, -0.0438013151056822, -0.33301348963770727, -0.02575045255163641, -0.5123216086652627, -1.3676062515875993, 1.260487387004233, -0.12986916435730478, -0.2683307074031764, -0.8341211597551491, -1.079219641601013, -0.011414089476490382, -0.40916183184984434, -0.2597283947168098, 1.3405791004795815, -0.9435890085699381, -1.0987361219683982, -0.1439562375863744], \"xaxis\": \"x8\", \"y\": [-2.5296842304295915, -0.9124939583658659, 1.9371572689115752, -0.04233086880753978, 1.1755323137692275, -0.7913343687872296, 0.34679771300378864, 0.1472644768462741, -0.5576417622152579, 1.0153627370487877, -0.006675276814364406, -1.3831667133442893, 0.23794366571150333, -0.046584210842764394, -0.23286229979657497, -1.059043175997328, -0.5639209672124689, 1.2466006179249922, 1.785304178140208, 0.7289995222261205, -0.2394784072597976, 0.6674022767035093, -1.7636884877840329, -1.7239697309413886, 1.6336503512461968, -0.09202348674133626, 1.0195082254673082, 0.6284543531925654, -0.9230405694743555, 0.8912283886498443, 0.6633555600973492, -1.5256437045839726, 0.9770914272419425, 1.7175529208127185, 0.8406491088530332, -1.2707511635610007, 1.38083980414698, -0.9203591200540816, -0.5004906455425786, -0.5399747143298336, -0.9896963608623736, 1.3306609274638301, 0.8926496038118524, -2.033822133364184, -0.8334681002973663, 0.14001110291725294, -0.685037044884312, 0.9415217721260292, -0.7396063904143044, 1.4124225135238375, 1.9904956031872585, 0.42500823802958937, 1.930846927734657, -1.9760870203704148, -1.0777631936672263, 0.902624464861868, -0.94669113465832, -0.9373697872008047, -1.4821469944733676, -0.9426236297971836, 1.0841383783955747, -2.0884924313952187, 0.8969041011425303, -1.5803644182734884, -1.3823710740159605, -1.5206872295882883, -0.2581375790682765, 1.156228135822335, -0.41662244466772547, -0.3490920630112603, 1.2895317025169495, -0.8821858086096042, -0.5387923050763868, -0.5663537185351362, -1.095431469835826, 0.6009775868516194, 2.614098758958872, -0.9592823177952877, 0.06536082847107165, -0.8496657523610329, -1.4681299656741593, 0.6701367636720044, 0.7744265354513329, 2.0586936414104375, 0.7915794301092625, 2.592940852157227, -1.3221424278325977, 2.8901840068359896, 0.561794978690869, 0.6610147433500252, 1.9933671238820154, 0.11772975628376309, -1.3513533772700421, 0.8043126148336902, -0.5690624329172052, 0.536251241812792, 0.7386353343412105, -0.976006012430902, -0.9283420207337423, 0.04110546621274906], \"yaxis\": \"y8\"}, {\"line\": {\"color\": \"rgba(128, 128, 128, 1.0)\", \"dash\": \"solid\", \"shape\": \"linear\", \"width\": 1.3}, \"marker\": {\"size\": 2, \"symbol\": \"circle\"}, \"mode\": \"markers\", \"name\": \"C\", \"text\": \"\", \"type\": \"scatter\", \"x\": [0.2192150126893649, 0.41212764663850154, -0.27839766837010627, 0.3222178500267178, 1.1359559733338713, -0.971720425769713, 1.4329161629803917, -0.34578250445780295, 0.9221363208457326, -0.46018427034111126, 0.032535916019239226, -1.5775132350080174, 1.2509653911100467, 0.8333489234269918, -0.09408230960773854, 0.010236286462784547, 0.6198798548523512, -2.3694740941164874, 0.6446131044139314, 3.5825153483746544, -1.100859730297812, -0.28637707270395063, 1.2663027275521734, 0.4480018504819275, -0.04075310173488496, -1.3188747595733246, -0.25669888175689487, -0.7892384287614435, -0.5027860677713014, 0.08430359155613538, -0.40896809921325916, 1.2708262506705303, -0.38766034310350395, 0.4304639325836553, 1.8071040246302588, 1.4568874186053604, 0.9042403428138212, -0.7816990895945196, 0.7868373081101285, 0.9476543351449195, 1.1956296073512873, 0.41095470596658434, 1.0094261937662572, -0.44046838256526516, 1.0346716931466176, 0.11523886763913334, -0.31723607081444566, -0.716904274124458, 0.26466695448679606, -0.6379239557948869, 0.955179550321454, 1.6925209088368083, 1.7812391056276533, -1.4877766892101543, -1.1899544134286546, -0.10895806189072393, 1.321027710937083, -0.8784194756051036, 0.6504071261387132, 1.094753327689872, -0.2132623568016486, -0.7927137163590783, -0.45765125612752156, 0.28711097689175746, -0.8352933868433253, -2.0667869160062238, -0.35007642593563354, 0.9947487894082441, -1.1831678986229839, -0.8486257818723462, -0.2765927487443163, 0.7680784213053352, -0.9335626713391687, 0.21802436036050304, -0.9349362054526161, -0.011134013758786858, -1.6743957170983006, 0.12574163202444208, 1.1531777911767431, 1.2999741110066083, -0.2735192157650116, 0.595818583592944, 0.41802287494605567, 0.45030528691780813, -0.514456906944202, -0.4162077818331348, 2.4691714751126876, -1.365196733109609, 0.26790894446099445, -0.06926500967640424, 0.311983304253257, 1.1795697874824076, 0.3690061425350321, 1.0369119759384802, 0.11344630289523762, -0.8618742507166238, 1.0502865219767203, -0.6297527108271594, 2.0620223895254988, 0.28102629664114714], \"xaxis\": \"x9\", \"y\": [-1.1057842548270977, -0.624447081861106, -1.1463046847851772, -2.0516528664086016, -0.2536472013819978, 0.9861718486144034, 1.0689897955393939, -0.1585854788296682, -1.3077937818699334, -0.8208406371273543, 1.8740322680110295, 0.6333913673562931, 0.3178947957116137, -0.015736534377424564, 2.0321046242319687, 0.06375926251515106, -0.3390673097091017, -0.401837996609353, 1.2346788296440208, 2.276149956123622, 0.37569579834636213, 0.3953364275693833, -0.247553039354438, -1.2869865347564768, 0.835516096054234, 0.65890210050644, 0.3012561169493466, -1.271307379056707, -0.6003437313545574, -0.4739198313223118, 1.3267237113368835, -0.5578709223481126, -0.7399846035106609, -1.1846867750462509, 1.0361213738287873, 0.24158089735531355, -1.7081680105288097, -1.690694163108148, -1.1482330961742127, 0.217297700281279, -0.7562434147855459, 0.8876630556060952, -0.9168718756703037, -2.4859795041900496, -1.1414639324014766, -1.7554578054650556, 1.0377455208260824, 2.281931426077602, -0.3127148942114271, -1.412087816616137, -0.9257671377072907, -1.7468219516771972, 0.19949328132156197, -0.5441380405794646, -0.24844150446616758, 1.3924373328595068, 1.0991871563843334, 0.4639167604141466, 0.5971530163443323, 1.69804068317003, 0.4922814159340416, 0.722704455458475, 1.5993261724325747, -2.2371059073938695, -0.21008970484627734, -0.4493148789517706, 0.8995738126801441, 0.590873981732288, 0.18298494096037912, 0.9883161308378683, 0.440433763633946, -0.967373887800737, 0.17678595175618295, -0.175182346557614, 0.3655468037910308, -0.8392541776916436, 0.8921675859970574, -0.6696875442130119, 2.3921981316395287, -0.16737461966501416, -0.10569484690535733, 0.806222165175453, -0.21171561737066233, 0.24146077603021113, 0.8050299291107749, -1.4586981180464924, -0.17949033231634512, 0.24933419637187354, -1.0016664814270693, -1.0310117830282746, 0.6172378771346466, 1.6460689541691134, 0.22247929101871433, 1.1122959881698997, -0.03692066792117503, 0.24482297693849198, -0.11924156202238932, -0.529984146740525, 1.6270305526062274, -0.6651648340822217], \"yaxis\": \"y9\"}, {\"line\": {\"color\": \"rgba(128, 128, 128, 1.0)\", \"dash\": \"solid\", \"shape\": \"linear\", \"width\": 1.3}, \"marker\": {\"size\": 2, \"symbol\": \"circle\"}, \"mode\": \"markers\", \"name\": \"C\", \"text\": \"\", \"type\": \"scatter\", \"x\": [-2.5296842304295915, -0.9124939583658659, 1.9371572689115752, -0.04233086880753978, 1.1755323137692275, -0.7913343687872296, 0.34679771300378864, 0.1472644768462741, -0.5576417622152579, 1.0153627370487877, -0.006675276814364406, -1.3831667133442893, 0.23794366571150333, -0.046584210842764394, -0.23286229979657497, -1.059043175997328, -0.5639209672124689, 1.2466006179249922, 1.785304178140208, 0.7289995222261205, -0.2394784072597976, 0.6674022767035093, -1.7636884877840329, -1.7239697309413886, 1.6336503512461968, -0.09202348674133626, 1.0195082254673082, 0.6284543531925654, -0.9230405694743555, 0.8912283886498443, 0.6633555600973492, -1.5256437045839726, 0.9770914272419425, 1.7175529208127185, 0.8406491088530332, -1.2707511635610007, 1.38083980414698, -0.9203591200540816, -0.5004906455425786, -0.5399747143298336, -0.9896963608623736, 1.3306609274638301, 0.8926496038118524, -2.033822133364184, -0.8334681002973663, 0.14001110291725294, -0.685037044884312, 0.9415217721260292, -0.7396063904143044, 1.4124225135238375, 1.9904956031872585, 0.42500823802958937, 1.930846927734657, -1.9760870203704148, -1.0777631936672263, 0.902624464861868, -0.94669113465832, -0.9373697872008047, -1.4821469944733676, -0.9426236297971836, 1.0841383783955747, -2.0884924313952187, 0.8969041011425303, -1.5803644182734884, -1.3823710740159605, -1.5206872295882883, -0.2581375790682765, 1.156228135822335, -0.41662244466772547, -0.3490920630112603, 1.2895317025169495, -0.8821858086096042, -0.5387923050763868, -0.5663537185351362, -1.095431469835826, 0.6009775868516194, 2.614098758958872, -0.9592823177952877, 0.06536082847107165, -0.8496657523610329, -1.4681299656741593, 0.6701367636720044, 0.7744265354513329, 2.0586936414104375, 0.7915794301092625, 2.592940852157227, -1.3221424278325977, 2.8901840068359896, 0.561794978690869, 0.6610147433500252, 1.9933671238820154, 0.11772975628376309, -1.3513533772700421, 0.8043126148336902, -0.5690624329172052, 0.536251241812792, 0.7386353343412105, -0.976006012430902, -0.9283420207337423, 0.04110546621274906], \"xaxis\": \"x10\", \"y\": [-1.1057842548270977, -0.624447081861106, -1.1463046847851772, -2.0516528664086016, -0.2536472013819978, 0.9861718486144034, 1.0689897955393939, -0.1585854788296682, -1.3077937818699334, -0.8208406371273543, 1.8740322680110295, 0.6333913673562931, 0.3178947957116137, -0.015736534377424564, 2.0321046242319687, 0.06375926251515106, -0.3390673097091017, -0.401837996609353, 1.2346788296440208, 2.276149956123622, 0.37569579834636213, 0.3953364275693833, -0.247553039354438, -1.2869865347564768, 0.835516096054234, 0.65890210050644, 0.3012561169493466, -1.271307379056707, -0.6003437313545574, -0.4739198313223118, 1.3267237113368835, -0.5578709223481126, -0.7399846035106609, -1.1846867750462509, 1.0361213738287873, 0.24158089735531355, -1.7081680105288097, -1.690694163108148, -1.1482330961742127, 0.217297700281279, -0.7562434147855459, 0.8876630556060952, -0.9168718756703037, -2.4859795041900496, -1.1414639324014766, -1.7554578054650556, 1.0377455208260824, 2.281931426077602, -0.3127148942114271, -1.412087816616137, -0.9257671377072907, -1.7468219516771972, 0.19949328132156197, -0.5441380405794646, -0.24844150446616758, 1.3924373328595068, 1.0991871563843334, 0.4639167604141466, 0.5971530163443323, 1.69804068317003, 0.4922814159340416, 0.722704455458475, 1.5993261724325747, -2.2371059073938695, -0.21008970484627734, -0.4493148789517706, 0.8995738126801441, 0.590873981732288, 0.18298494096037912, 0.9883161308378683, 0.440433763633946, -0.967373887800737, 0.17678595175618295, -0.175182346557614, 0.3655468037910308, -0.8392541776916436, 0.8921675859970574, -0.6696875442130119, 2.3921981316395287, -0.16737461966501416, -0.10569484690535733, 0.806222165175453, -0.21171561737066233, 0.24146077603021113, 0.8050299291107749, -1.4586981180464924, -0.17949033231634512, 0.24933419637187354, -1.0016664814270693, -1.0310117830282746, 0.6172378771346466, 1.6460689541691134, 0.22247929101871433, 1.1122959881698997, -0.03692066792117503, 0.24482297693849198, -0.11924156202238932, -0.529984146740525, 1.6270305526062274, -0.6651648340822217], \"yaxis\": \"y10\"}, {\"histfunc\": \"count\", \"histnorm\": \"\", \"marker\": {\"color\": \"rgba(50, 171, 96, 1.0)\", \"line\": {\"color\": \"#4D5663\", \"width\": 1.3}}, \"name\": \"C\", \"nbinsx\": 10, \"opacity\": 0.8, \"orientation\": \"v\", \"type\": \"histogram\", \"x\": [-1.1057842548270977, -0.624447081861106, -1.1463046847851772, -2.0516528664086016, -0.2536472013819978, 0.9861718486144034, 1.0689897955393939, -0.1585854788296682, -1.3077937818699334, -0.8208406371273543, 1.8740322680110295, 0.6333913673562931, 0.3178947957116137, -0.015736534377424564, 2.0321046242319687, 0.06375926251515106, -0.3390673097091017, -0.401837996609353, 1.2346788296440208, 2.276149956123622, 0.37569579834636213, 0.3953364275693833, -0.247553039354438, -1.2869865347564768, 0.835516096054234, 0.65890210050644, 0.3012561169493466, -1.271307379056707, -0.6003437313545574, -0.4739198313223118, 1.3267237113368835, -0.5578709223481126, -0.7399846035106609, -1.1846867750462509, 1.0361213738287873, 0.24158089735531355, -1.7081680105288097, -1.690694163108148, -1.1482330961742127, 0.217297700281279, -0.7562434147855459, 0.8876630556060952, -0.9168718756703037, -2.4859795041900496, -1.1414639324014766, -1.7554578054650556, 1.0377455208260824, 2.281931426077602, -0.3127148942114271, -1.412087816616137, -0.9257671377072907, -1.7468219516771972, 0.19949328132156197, -0.5441380405794646, -0.24844150446616758, 1.3924373328595068, 1.0991871563843334, 0.4639167604141466, 0.5971530163443323, 1.69804068317003, 0.4922814159340416, 0.722704455458475, 1.5993261724325747, -2.2371059073938695, -0.21008970484627734, -0.4493148789517706, 0.8995738126801441, 0.590873981732288, 0.18298494096037912, 0.9883161308378683, 0.440433763633946, -0.967373887800737, 0.17678595175618295, -0.175182346557614, 0.3655468037910308, -0.8392541776916436, 0.8921675859970574, -0.6696875442130119, 2.3921981316395287, -0.16737461966501416, -0.10569484690535733, 0.806222165175453, -0.21171561737066233, 0.24146077603021113, 0.8050299291107749, -1.4586981180464924, -0.17949033231634512, 0.24933419637187354, -1.0016664814270693, -1.0310117830282746, 0.6172378771346466, 1.6460689541691134, 0.22247929101871433, 1.1122959881698997, -0.03692066792117503, 0.24482297693849198, -0.11924156202238932, -0.529984146740525, 1.6270305526062274, -0.6651648340822217], \"xaxis\": \"x11\", \"yaxis\": \"y11\"}, {\"line\": {\"color\": \"rgba(128, 128, 128, 1.0)\", \"dash\": \"solid\", \"shape\": \"linear\", \"width\": 1.3}, \"marker\": {\"size\": 2, \"symbol\": \"circle\"}, \"mode\": \"markers\", \"name\": \"C\", \"text\": \"\", \"type\": \"scatter\", \"x\": [-0.6888520130434728, 1.2478942299437972, -0.6910030563362499, 0.6633937903835291, 1.207011098767084, -0.0501587935275598, 1.4403495910459987, 0.6593186713810559, 0.8392960277754612, -0.8463909963062793, 0.8806397761586382, -0.9092802790816509, -0.18068852731817323, 1.782362983160367, -1.389746193951448, 1.8521076653037216, -0.6805460810710358, -1.8626639821088389, 0.39881287947045035, 1.8794567093480854, 1.4772474439124987, 0.9714282361405215, 0.4757459667745016, -0.21758173305929074, -0.9535346328427691, 0.3229353850264389, -0.06609962347331595, 0.34119418983522354, -0.005102556273799416, 1.5383460834996734, -0.44041059206688926, -0.29050418807046224, 0.08376608511847015, 0.2136126241861683, -0.6150633970483889, 1.3422412568502053, 1.3253437991664234, -0.704081417634952, -1.5850165287088795, -1.1803875501519396, 0.4167274231177229, 0.23422899585172988, -1.3989737323147369, 0.8229848353882916, -2.179724701187986, -1.9850353456455285, -0.13837495171300337, -1.8138557686372656, 1.4868531021875417, -1.9062470012029196, 0.28741739155320234, 0.7711078726665829, -0.532917852397217, -2.1706971308667478, -2.2618877811324887, 0.7719701344522324, 0.8095485633696264, 0.41610668242332727, -0.44133376688330395, -0.49269229078030513, -1.880963038201057, 1.0108218818879948, 0.44492300762638737, 1.9141574240141155, -0.22271326954574053, 0.24114473449983687, -0.1607733348886458, -1.5757585020970784, -0.2071801368015469, 1.5388537992008704, -0.01027993174490521, 0.23275646792273363, 0.14633088199439911, -0.30740529588837634, 0.397326794331163, 0.8405167455431644, -0.45759285002931893, 1.4072806684764043, -0.7695229333094545, 0.20096074700634062, -0.3125522962682811, -0.13179455179870486, -0.6695572145913227, -0.0438013151056822, -0.33301348963770727, -0.02575045255163641, -0.5123216086652627, -1.3676062515875993, 1.260487387004233, -0.12986916435730478, -0.2683307074031764, -0.8341211597551491, -1.079219641601013, -0.011414089476490382, -0.40916183184984434, -0.2597283947168098, 1.3405791004795815, -0.9435890085699381, -1.0987361219683982, -0.1439562375863744], \"xaxis\": \"x12\", \"y\": [-1.1057842548270977, -0.624447081861106, -1.1463046847851772, -2.0516528664086016, -0.2536472013819978, 0.9861718486144034, 1.0689897955393939, -0.1585854788296682, -1.3077937818699334, -0.8208406371273543, 1.8740322680110295, 0.6333913673562931, 0.3178947957116137, -0.015736534377424564, 2.0321046242319687, 0.06375926251515106, -0.3390673097091017, -0.401837996609353, 1.2346788296440208, 2.276149956123622, 0.37569579834636213, 0.3953364275693833, -0.247553039354438, -1.2869865347564768, 0.835516096054234, 0.65890210050644, 0.3012561169493466, -1.271307379056707, -0.6003437313545574, -0.4739198313223118, 1.3267237113368835, -0.5578709223481126, -0.7399846035106609, -1.1846867750462509, 1.0361213738287873, 0.24158089735531355, -1.7081680105288097, -1.690694163108148, -1.1482330961742127, 0.217297700281279, -0.7562434147855459, 0.8876630556060952, -0.9168718756703037, -2.4859795041900496, -1.1414639324014766, -1.7554578054650556, 1.0377455208260824, 2.281931426077602, -0.3127148942114271, -1.412087816616137, -0.9257671377072907, -1.7468219516771972, 0.19949328132156197, -0.5441380405794646, -0.24844150446616758, 1.3924373328595068, 1.0991871563843334, 0.4639167604141466, 0.5971530163443323, 1.69804068317003, 0.4922814159340416, 0.722704455458475, 1.5993261724325747, -2.2371059073938695, -0.21008970484627734, -0.4493148789517706, 0.8995738126801441, 0.590873981732288, 0.18298494096037912, 0.9883161308378683, 0.440433763633946, -0.967373887800737, 0.17678595175618295, -0.175182346557614, 0.3655468037910308, -0.8392541776916436, 0.8921675859970574, -0.6696875442130119, 2.3921981316395287, -0.16737461966501416, -0.10569484690535733, 0.806222165175453, -0.21171561737066233, 0.24146077603021113, 0.8050299291107749, -1.4586981180464924, -0.17949033231634512, 0.24933419637187354, -1.0016664814270693, -1.0310117830282746, 0.6172378771346466, 1.6460689541691134, 0.22247929101871433, 1.1122959881698997, -0.03692066792117503, 0.24482297693849198, -0.11924156202238932, -0.529984146740525, 1.6270305526062274, -0.6651648340822217], \"yaxis\": \"y12\"}, {\"line\": {\"color\": \"rgba(128, 128, 128, 1.0)\", \"dash\": \"solid\", \"shape\": \"linear\", \"width\": 1.3}, \"marker\": {\"size\": 2, \"symbol\": \"circle\"}, \"mode\": \"markers\", \"name\": \"D\", \"text\": \"\", \"type\": \"scatter\", \"x\": [0.2192150126893649, 0.41212764663850154, -0.27839766837010627, 0.3222178500267178, 1.1359559733338713, -0.971720425769713, 1.4329161629803917, -0.34578250445780295, 0.9221363208457326, -0.46018427034111126, 0.032535916019239226, -1.5775132350080174, 1.2509653911100467, 0.8333489234269918, -0.09408230960773854, 0.010236286462784547, 0.6198798548523512, -2.3694740941164874, 0.6446131044139314, 3.5825153483746544, -1.100859730297812, -0.28637707270395063, 1.2663027275521734, 0.4480018504819275, -0.04075310173488496, -1.3188747595733246, -0.25669888175689487, -0.7892384287614435, -0.5027860677713014, 0.08430359155613538, -0.40896809921325916, 1.2708262506705303, -0.38766034310350395, 0.4304639325836553, 1.8071040246302588, 1.4568874186053604, 0.9042403428138212, -0.7816990895945196, 0.7868373081101285, 0.9476543351449195, 1.1956296073512873, 0.41095470596658434, 1.0094261937662572, -0.44046838256526516, 1.0346716931466176, 0.11523886763913334, -0.31723607081444566, -0.716904274124458, 0.26466695448679606, -0.6379239557948869, 0.955179550321454, 1.6925209088368083, 1.7812391056276533, -1.4877766892101543, -1.1899544134286546, -0.10895806189072393, 1.321027710937083, -0.8784194756051036, 0.6504071261387132, 1.094753327689872, -0.2132623568016486, -0.7927137163590783, -0.45765125612752156, 0.28711097689175746, -0.8352933868433253, -2.0667869160062238, -0.35007642593563354, 0.9947487894082441, -1.1831678986229839, -0.8486257818723462, -0.2765927487443163, 0.7680784213053352, -0.9335626713391687, 0.21802436036050304, -0.9349362054526161, -0.011134013758786858, -1.6743957170983006, 0.12574163202444208, 1.1531777911767431, 1.2999741110066083, -0.2735192157650116, 0.595818583592944, 0.41802287494605567, 0.45030528691780813, -0.514456906944202, -0.4162077818331348, 2.4691714751126876, -1.365196733109609, 0.26790894446099445, -0.06926500967640424, 0.311983304253257, 1.1795697874824076, 0.3690061425350321, 1.0369119759384802, 0.11344630289523762, -0.8618742507166238, 1.0502865219767203, -0.6297527108271594, 2.0620223895254988, 0.28102629664114714], \"xaxis\": \"x13\", \"y\": [-0.6888520130434728, 1.2478942299437972, -0.6910030563362499, 0.6633937903835291, 1.207011098767084, -0.0501587935275598, 1.4403495910459987, 0.6593186713810559, 0.8392960277754612, -0.8463909963062793, 0.8806397761586382, -0.9092802790816509, -0.18068852731817323, 1.782362983160367, -1.389746193951448, 1.8521076653037216, -0.6805460810710358, -1.8626639821088389, 0.39881287947045035, 1.8794567093480854, 1.4772474439124987, 0.9714282361405215, 0.4757459667745016, -0.21758173305929074, -0.9535346328427691, 0.3229353850264389, -0.06609962347331595, 0.34119418983522354, -0.005102556273799416, 1.5383460834996734, -0.44041059206688926, -0.29050418807046224, 0.08376608511847015, 0.2136126241861683, -0.6150633970483889, 1.3422412568502053, 1.3253437991664234, -0.704081417634952, -1.5850165287088795, -1.1803875501519396, 0.4167274231177229, 0.23422899585172988, -1.3989737323147369, 0.8229848353882916, -2.179724701187986, -1.9850353456455285, -0.13837495171300337, -1.8138557686372656, 1.4868531021875417, -1.9062470012029196, 0.28741739155320234, 0.7711078726665829, -0.532917852397217, -2.1706971308667478, -2.2618877811324887, 0.7719701344522324, 0.8095485633696264, 0.41610668242332727, -0.44133376688330395, -0.49269229078030513, -1.880963038201057, 1.0108218818879948, 0.44492300762638737, 1.9141574240141155, -0.22271326954574053, 0.24114473449983687, -0.1607733348886458, -1.5757585020970784, -0.2071801368015469, 1.5388537992008704, -0.01027993174490521, 0.23275646792273363, 0.14633088199439911, -0.30740529588837634, 0.397326794331163, 0.8405167455431644, -0.45759285002931893, 1.4072806684764043, -0.7695229333094545, 0.20096074700634062, -0.3125522962682811, -0.13179455179870486, -0.6695572145913227, -0.0438013151056822, -0.33301348963770727, -0.02575045255163641, -0.5123216086652627, -1.3676062515875993, 1.260487387004233, -0.12986916435730478, -0.2683307074031764, -0.8341211597551491, -1.079219641601013, -0.011414089476490382, -0.40916183184984434, -0.2597283947168098, 1.3405791004795815, -0.9435890085699381, -1.0987361219683982, -0.1439562375863744], \"yaxis\": \"y13\"}, {\"line\": {\"color\": \"rgba(128, 128, 128, 1.0)\", \"dash\": \"solid\", \"shape\": \"linear\", \"width\": 1.3}, \"marker\": {\"size\": 2, \"symbol\": \"circle\"}, \"mode\": \"markers\", \"name\": \"D\", \"text\": \"\", \"type\": \"scatter\", \"x\": [-2.5296842304295915, -0.9124939583658659, 1.9371572689115752, -0.04233086880753978, 1.1755323137692275, -0.7913343687872296, 0.34679771300378864, 0.1472644768462741, -0.5576417622152579, 1.0153627370487877, -0.006675276814364406, -1.3831667133442893, 0.23794366571150333, -0.046584210842764394, -0.23286229979657497, -1.059043175997328, -0.5639209672124689, 1.2466006179249922, 1.785304178140208, 0.7289995222261205, -0.2394784072597976, 0.6674022767035093, -1.7636884877840329, -1.7239697309413886, 1.6336503512461968, -0.09202348674133626, 1.0195082254673082, 0.6284543531925654, -0.9230405694743555, 0.8912283886498443, 0.6633555600973492, -1.5256437045839726, 0.9770914272419425, 1.7175529208127185, 0.8406491088530332, -1.2707511635610007, 1.38083980414698, -0.9203591200540816, -0.5004906455425786, -0.5399747143298336, -0.9896963608623736, 1.3306609274638301, 0.8926496038118524, -2.033822133364184, -0.8334681002973663, 0.14001110291725294, -0.685037044884312, 0.9415217721260292, -0.7396063904143044, 1.4124225135238375, 1.9904956031872585, 0.42500823802958937, 1.930846927734657, -1.9760870203704148, -1.0777631936672263, 0.902624464861868, -0.94669113465832, -0.9373697872008047, -1.4821469944733676, -0.9426236297971836, 1.0841383783955747, -2.0884924313952187, 0.8969041011425303, -1.5803644182734884, -1.3823710740159605, -1.5206872295882883, -0.2581375790682765, 1.156228135822335, -0.41662244466772547, -0.3490920630112603, 1.2895317025169495, -0.8821858086096042, -0.5387923050763868, -0.5663537185351362, -1.095431469835826, 0.6009775868516194, 2.614098758958872, -0.9592823177952877, 0.06536082847107165, -0.8496657523610329, -1.4681299656741593, 0.6701367636720044, 0.7744265354513329, 2.0586936414104375, 0.7915794301092625, 2.592940852157227, -1.3221424278325977, 2.8901840068359896, 0.561794978690869, 0.6610147433500252, 1.9933671238820154, 0.11772975628376309, -1.3513533772700421, 0.8043126148336902, -0.5690624329172052, 0.536251241812792, 0.7386353343412105, -0.976006012430902, -0.9283420207337423, 0.04110546621274906], \"xaxis\": \"x14\", \"y\": [-0.6888520130434728, 1.2478942299437972, -0.6910030563362499, 0.6633937903835291, 1.207011098767084, -0.0501587935275598, 1.4403495910459987, 0.6593186713810559, 0.8392960277754612, -0.8463909963062793, 0.8806397761586382, -0.9092802790816509, -0.18068852731817323, 1.782362983160367, -1.389746193951448, 1.8521076653037216, -0.6805460810710358, -1.8626639821088389, 0.39881287947045035, 1.8794567093480854, 1.4772474439124987, 0.9714282361405215, 0.4757459667745016, -0.21758173305929074, -0.9535346328427691, 0.3229353850264389, -0.06609962347331595, 0.34119418983522354, -0.005102556273799416, 1.5383460834996734, -0.44041059206688926, -0.29050418807046224, 0.08376608511847015, 0.2136126241861683, -0.6150633970483889, 1.3422412568502053, 1.3253437991664234, -0.704081417634952, -1.5850165287088795, -1.1803875501519396, 0.4167274231177229, 0.23422899585172988, -1.3989737323147369, 0.8229848353882916, -2.179724701187986, -1.9850353456455285, -0.13837495171300337, -1.8138557686372656, 1.4868531021875417, -1.9062470012029196, 0.28741739155320234, 0.7711078726665829, -0.532917852397217, -2.1706971308667478, -2.2618877811324887, 0.7719701344522324, 0.8095485633696264, 0.41610668242332727, -0.44133376688330395, -0.49269229078030513, -1.880963038201057, 1.0108218818879948, 0.44492300762638737, 1.9141574240141155, -0.22271326954574053, 0.24114473449983687, -0.1607733348886458, -1.5757585020970784, -0.2071801368015469, 1.5388537992008704, -0.01027993174490521, 0.23275646792273363, 0.14633088199439911, -0.30740529588837634, 0.397326794331163, 0.8405167455431644, -0.45759285002931893, 1.4072806684764043, -0.7695229333094545, 0.20096074700634062, -0.3125522962682811, -0.13179455179870486, -0.6695572145913227, -0.0438013151056822, -0.33301348963770727, -0.02575045255163641, -0.5123216086652627, -1.3676062515875993, 1.260487387004233, -0.12986916435730478, -0.2683307074031764, -0.8341211597551491, -1.079219641601013, -0.011414089476490382, -0.40916183184984434, -0.2597283947168098, 1.3405791004795815, -0.9435890085699381, -1.0987361219683982, -0.1439562375863744], \"yaxis\": \"y14\"}, {\"line\": {\"color\": \"rgba(128, 128, 128, 1.0)\", \"dash\": \"solid\", \"shape\": \"linear\", \"width\": 1.3}, \"marker\": {\"size\": 2, \"symbol\": \"circle\"}, \"mode\": \"markers\", \"name\": \"D\", \"text\": \"\", \"type\": \"scatter\", \"x\": [-1.1057842548270977, -0.624447081861106, -1.1463046847851772, -2.0516528664086016, -0.2536472013819978, 0.9861718486144034, 1.0689897955393939, -0.1585854788296682, -1.3077937818699334, -0.8208406371273543, 1.8740322680110295, 0.6333913673562931, 0.3178947957116137, -0.015736534377424564, 2.0321046242319687, 0.06375926251515106, -0.3390673097091017, -0.401837996609353, 1.2346788296440208, 2.276149956123622, 0.37569579834636213, 0.3953364275693833, -0.247553039354438, -1.2869865347564768, 0.835516096054234, 0.65890210050644, 0.3012561169493466, -1.271307379056707, -0.6003437313545574, -0.4739198313223118, 1.3267237113368835, -0.5578709223481126, -0.7399846035106609, -1.1846867750462509, 1.0361213738287873, 0.24158089735531355, -1.7081680105288097, -1.690694163108148, -1.1482330961742127, 0.217297700281279, -0.7562434147855459, 0.8876630556060952, -0.9168718756703037, -2.4859795041900496, -1.1414639324014766, -1.7554578054650556, 1.0377455208260824, 2.281931426077602, -0.3127148942114271, -1.412087816616137, -0.9257671377072907, -1.7468219516771972, 0.19949328132156197, -0.5441380405794646, -0.24844150446616758, 1.3924373328595068, 1.0991871563843334, 0.4639167604141466, 0.5971530163443323, 1.69804068317003, 0.4922814159340416, 0.722704455458475, 1.5993261724325747, -2.2371059073938695, -0.21008970484627734, -0.4493148789517706, 0.8995738126801441, 0.590873981732288, 0.18298494096037912, 0.9883161308378683, 0.440433763633946, -0.967373887800737, 0.17678595175618295, -0.175182346557614, 0.3655468037910308, -0.8392541776916436, 0.8921675859970574, -0.6696875442130119, 2.3921981316395287, -0.16737461966501416, -0.10569484690535733, 0.806222165175453, -0.21171561737066233, 0.24146077603021113, 0.8050299291107749, -1.4586981180464924, -0.17949033231634512, 0.24933419637187354, -1.0016664814270693, -1.0310117830282746, 0.6172378771346466, 1.6460689541691134, 0.22247929101871433, 1.1122959881698997, -0.03692066792117503, 0.24482297693849198, -0.11924156202238932, -0.529984146740525, 1.6270305526062274, -0.6651648340822217], \"xaxis\": \"x15\", \"y\": [-0.6888520130434728, 1.2478942299437972, -0.6910030563362499, 0.6633937903835291, 1.207011098767084, -0.0501587935275598, 1.4403495910459987, 0.6593186713810559, 0.8392960277754612, -0.8463909963062793, 0.8806397761586382, -0.9092802790816509, -0.18068852731817323, 1.782362983160367, -1.389746193951448, 1.8521076653037216, -0.6805460810710358, -1.8626639821088389, 0.39881287947045035, 1.8794567093480854, 1.4772474439124987, 0.9714282361405215, 0.4757459667745016, -0.21758173305929074, -0.9535346328427691, 0.3229353850264389, -0.06609962347331595, 0.34119418983522354, -0.005102556273799416, 1.5383460834996734, -0.44041059206688926, -0.29050418807046224, 0.08376608511847015, 0.2136126241861683, -0.6150633970483889, 1.3422412568502053, 1.3253437991664234, -0.704081417634952, -1.5850165287088795, -1.1803875501519396, 0.4167274231177229, 0.23422899585172988, -1.3989737323147369, 0.8229848353882916, -2.179724701187986, -1.9850353456455285, -0.13837495171300337, -1.8138557686372656, 1.4868531021875417, -1.9062470012029196, 0.28741739155320234, 0.7711078726665829, -0.532917852397217, -2.1706971308667478, -2.2618877811324887, 0.7719701344522324, 0.8095485633696264, 0.41610668242332727, -0.44133376688330395, -0.49269229078030513, -1.880963038201057, 1.0108218818879948, 0.44492300762638737, 1.9141574240141155, -0.22271326954574053, 0.24114473449983687, -0.1607733348886458, -1.5757585020970784, -0.2071801368015469, 1.5388537992008704, -0.01027993174490521, 0.23275646792273363, 0.14633088199439911, -0.30740529588837634, 0.397326794331163, 0.8405167455431644, -0.45759285002931893, 1.4072806684764043, -0.7695229333094545, 0.20096074700634062, -0.3125522962682811, -0.13179455179870486, -0.6695572145913227, -0.0438013151056822, -0.33301348963770727, -0.02575045255163641, -0.5123216086652627, -1.3676062515875993, 1.260487387004233, -0.12986916435730478, -0.2683307074031764, -0.8341211597551491, -1.079219641601013, -0.011414089476490382, -0.40916183184984434, -0.2597283947168098, 1.3405791004795815, -0.9435890085699381, -1.0987361219683982, -0.1439562375863744], \"yaxis\": \"y15\"}, {\"histfunc\": \"count\", \"histnorm\": \"\", \"marker\": {\"color\": \"rgba(128, 0, 128, 1.0)\", \"line\": {\"color\": \"#4D5663\", \"width\": 1.3}}, \"name\": \"D\", \"nbinsx\": 10, \"opacity\": 0.8, \"orientation\": \"v\", \"type\": \"histogram\", \"x\": [-0.6888520130434728, 1.2478942299437972, -0.6910030563362499, 0.6633937903835291, 1.207011098767084, -0.0501587935275598, 1.4403495910459987, 0.6593186713810559, 0.8392960277754612, -0.8463909963062793, 0.8806397761586382, -0.9092802790816509, -0.18068852731817323, 1.782362983160367, -1.389746193951448, 1.8521076653037216, -0.6805460810710358, -1.8626639821088389, 0.39881287947045035, 1.8794567093480854, 1.4772474439124987, 0.9714282361405215, 0.4757459667745016, -0.21758173305929074, -0.9535346328427691, 0.3229353850264389, -0.06609962347331595, 0.34119418983522354, -0.005102556273799416, 1.5383460834996734, -0.44041059206688926, -0.29050418807046224, 0.08376608511847015, 0.2136126241861683, -0.6150633970483889, 1.3422412568502053, 1.3253437991664234, -0.704081417634952, -1.5850165287088795, -1.1803875501519396, 0.4167274231177229, 0.23422899585172988, -1.3989737323147369, 0.8229848353882916, -2.179724701187986, -1.9850353456455285, -0.13837495171300337, -1.8138557686372656, 1.4868531021875417, -1.9062470012029196, 0.28741739155320234, 0.7711078726665829, -0.532917852397217, -2.1706971308667478, -2.2618877811324887, 0.7719701344522324, 0.8095485633696264, 0.41610668242332727, -0.44133376688330395, -0.49269229078030513, -1.880963038201057, 1.0108218818879948, 0.44492300762638737, 1.9141574240141155, -0.22271326954574053, 0.24114473449983687, -0.1607733348886458, -1.5757585020970784, -0.2071801368015469, 1.5388537992008704, -0.01027993174490521, 0.23275646792273363, 0.14633088199439911, -0.30740529588837634, 0.397326794331163, 0.8405167455431644, -0.45759285002931893, 1.4072806684764043, -0.7695229333094545, 0.20096074700634062, -0.3125522962682811, -0.13179455179870486, -0.6695572145913227, -0.0438013151056822, -0.33301348963770727, -0.02575045255163641, -0.5123216086652627, -1.3676062515875993, 1.260487387004233, -0.12986916435730478, -0.2683307074031764, -0.8341211597551491, -1.079219641601013, -0.011414089476490382, -0.40916183184984434, -0.2597283947168098, 1.3405791004795815, -0.9435890085699381, -1.0987361219683982, -0.1439562375863744], \"xaxis\": \"x16\", \"yaxis\": \"y16\"}],\n",
       "                        {\"bargap\": 0.02, \"legend\": {\"bgcolor\": \"#F5F6F9\", \"font\": {\"color\": \"#4D5663\"}}, \"paper_bgcolor\": \"#F5F6F9\", \"plot_bgcolor\": \"#F5F6F9\", \"showlegend\": false, \"template\": {\"data\": {\"bar\": [{\"error_x\": {\"color\": \"#2a3f5f\"}, \"error_y\": {\"color\": \"#2a3f5f\"}, \"marker\": {\"line\": {\"color\": \"#E5ECF6\", \"width\": 0.5}}, \"type\": \"bar\"}], \"barpolar\": [{\"marker\": {\"line\": {\"color\": \"#E5ECF6\", \"width\": 0.5}}, \"type\": \"barpolar\"}], \"carpet\": [{\"aaxis\": {\"endlinecolor\": \"#2a3f5f\", \"gridcolor\": \"white\", \"linecolor\": \"white\", \"minorgridcolor\": \"white\", \"startlinecolor\": \"#2a3f5f\"}, \"baxis\": {\"endlinecolor\": \"#2a3f5f\", \"gridcolor\": \"white\", \"linecolor\": \"white\", \"minorgridcolor\": \"white\", \"startlinecolor\": \"#2a3f5f\"}, \"type\": \"carpet\"}], \"choropleth\": [{\"colorbar\": {\"outlinewidth\": 0, \"ticks\": \"\"}, \"type\": \"choropleth\"}], \"contour\": [{\"colorbar\": {\"outlinewidth\": 0, \"ticks\": \"\"}, \"colorscale\": [[0.0, \"#0d0887\"], [0.1111111111111111, \"#46039f\"], [0.2222222222222222, \"#7201a8\"], [0.3333333333333333, \"#9c179e\"], [0.4444444444444444, \"#bd3786\"], [0.5555555555555556, \"#d8576b\"], [0.6666666666666666, \"#ed7953\"], [0.7777777777777778, \"#fb9f3a\"], [0.8888888888888888, \"#fdca26\"], [1.0, \"#f0f921\"]], \"type\": \"contour\"}], \"contourcarpet\": [{\"colorbar\": {\"outlinewidth\": 0, \"ticks\": \"\"}, \"type\": \"contourcarpet\"}], \"heatmap\": [{\"colorbar\": {\"outlinewidth\": 0, \"ticks\": \"\"}, \"colorscale\": [[0.0, \"#0d0887\"], [0.1111111111111111, \"#46039f\"], [0.2222222222222222, \"#7201a8\"], [0.3333333333333333, \"#9c179e\"], [0.4444444444444444, \"#bd3786\"], [0.5555555555555556, \"#d8576b\"], [0.6666666666666666, \"#ed7953\"], [0.7777777777777778, \"#fb9f3a\"], [0.8888888888888888, \"#fdca26\"], [1.0, \"#f0f921\"]], \"type\": \"heatmap\"}], \"heatmapgl\": [{\"colorbar\": {\"outlinewidth\": 0, \"ticks\": \"\"}, \"colorscale\": [[0.0, \"#0d0887\"], [0.1111111111111111, \"#46039f\"], [0.2222222222222222, \"#7201a8\"], [0.3333333333333333, \"#9c179e\"], [0.4444444444444444, \"#bd3786\"], [0.5555555555555556, \"#d8576b\"], [0.6666666666666666, \"#ed7953\"], [0.7777777777777778, \"#fb9f3a\"], [0.8888888888888888, \"#fdca26\"], [1.0, \"#f0f921\"]], \"type\": \"heatmapgl\"}], \"histogram\": [{\"marker\": {\"colorbar\": {\"outlinewidth\": 0, \"ticks\": \"\"}}, \"type\": \"histogram\"}], \"histogram2d\": [{\"colorbar\": {\"outlinewidth\": 0, \"ticks\": \"\"}, \"colorscale\": [[0.0, \"#0d0887\"], [0.1111111111111111, \"#46039f\"], [0.2222222222222222, \"#7201a8\"], [0.3333333333333333, \"#9c179e\"], [0.4444444444444444, \"#bd3786\"], [0.5555555555555556, \"#d8576b\"], [0.6666666666666666, \"#ed7953\"], [0.7777777777777778, \"#fb9f3a\"], [0.8888888888888888, \"#fdca26\"], [1.0, \"#f0f921\"]], \"type\": \"histogram2d\"}], \"histogram2dcontour\": [{\"colorbar\": {\"outlinewidth\": 0, \"ticks\": \"\"}, \"colorscale\": [[0.0, \"#0d0887\"], [0.1111111111111111, \"#46039f\"], [0.2222222222222222, \"#7201a8\"], [0.3333333333333333, \"#9c179e\"], [0.4444444444444444, \"#bd3786\"], [0.5555555555555556, \"#d8576b\"], [0.6666666666666666, \"#ed7953\"], [0.7777777777777778, \"#fb9f3a\"], [0.8888888888888888, \"#fdca26\"], [1.0, \"#f0f921\"]], \"type\": \"histogram2dcontour\"}], \"mesh3d\": [{\"colorbar\": {\"outlinewidth\": 0, \"ticks\": \"\"}, \"type\": \"mesh3d\"}], \"parcoords\": [{\"line\": {\"colorbar\": {\"outlinewidth\": 0, \"ticks\": \"\"}}, \"type\": \"parcoords\"}], \"pie\": [{\"automargin\": true, \"type\": \"pie\"}], \"scatter\": [{\"marker\": {\"colorbar\": {\"outlinewidth\": 0, \"ticks\": \"\"}}, \"type\": \"scatter\"}], \"scatter3d\": [{\"line\": {\"colorbar\": {\"outlinewidth\": 0, \"ticks\": \"\"}}, \"marker\": {\"colorbar\": {\"outlinewidth\": 0, \"ticks\": \"\"}}, \"type\": \"scatter3d\"}], \"scattercarpet\": [{\"marker\": {\"colorbar\": {\"outlinewidth\": 0, \"ticks\": \"\"}}, \"type\": \"scattercarpet\"}], \"scattergeo\": [{\"marker\": {\"colorbar\": {\"outlinewidth\": 0, \"ticks\": \"\"}}, \"type\": \"scattergeo\"}], \"scattergl\": [{\"marker\": {\"colorbar\": {\"outlinewidth\": 0, \"ticks\": \"\"}}, \"type\": \"scattergl\"}], \"scattermapbox\": [{\"marker\": {\"colorbar\": {\"outlinewidth\": 0, \"ticks\": \"\"}}, \"type\": \"scattermapbox\"}], \"scatterpolar\": [{\"marker\": {\"colorbar\": {\"outlinewidth\": 0, \"ticks\": \"\"}}, \"type\": \"scatterpolar\"}], \"scatterpolargl\": [{\"marker\": {\"colorbar\": {\"outlinewidth\": 0, \"ticks\": \"\"}}, \"type\": \"scatterpolargl\"}], \"scatterternary\": [{\"marker\": {\"colorbar\": {\"outlinewidth\": 0, \"ticks\": \"\"}}, \"type\": \"scatterternary\"}], \"surface\": [{\"colorbar\": {\"outlinewidth\": 0, \"ticks\": \"\"}, \"colorscale\": [[0.0, \"#0d0887\"], [0.1111111111111111, \"#46039f\"], [0.2222222222222222, \"#7201a8\"], [0.3333333333333333, \"#9c179e\"], [0.4444444444444444, \"#bd3786\"], [0.5555555555555556, \"#d8576b\"], [0.6666666666666666, \"#ed7953\"], [0.7777777777777778, \"#fb9f3a\"], [0.8888888888888888, \"#fdca26\"], [1.0, \"#f0f921\"]], \"type\": \"surface\"}], \"table\": [{\"cells\": {\"fill\": {\"color\": \"#EBF0F8\"}, \"line\": {\"color\": \"white\"}}, \"header\": {\"fill\": {\"color\": \"#C8D4E3\"}, \"line\": {\"color\": \"white\"}}, \"type\": \"table\"}]}, \"layout\": {\"annotationdefaults\": {\"arrowcolor\": \"#2a3f5f\", \"arrowhead\": 0, \"arrowwidth\": 1}, \"coloraxis\": {\"colorbar\": {\"outlinewidth\": 0, \"ticks\": \"\"}}, \"colorscale\": {\"diverging\": [[0, \"#8e0152\"], [0.1, \"#c51b7d\"], [0.2, \"#de77ae\"], [0.3, \"#f1b6da\"], [0.4, \"#fde0ef\"], [0.5, \"#f7f7f7\"], [0.6, \"#e6f5d0\"], [0.7, \"#b8e186\"], [0.8, \"#7fbc41\"], [0.9, \"#4d9221\"], [1, \"#276419\"]], \"sequential\": [[0.0, \"#0d0887\"], [0.1111111111111111, \"#46039f\"], [0.2222222222222222, \"#7201a8\"], [0.3333333333333333, \"#9c179e\"], [0.4444444444444444, \"#bd3786\"], [0.5555555555555556, \"#d8576b\"], [0.6666666666666666, \"#ed7953\"], [0.7777777777777778, \"#fb9f3a\"], [0.8888888888888888, \"#fdca26\"], [1.0, \"#f0f921\"]], \"sequentialminus\": [[0.0, \"#0d0887\"], [0.1111111111111111, \"#46039f\"], [0.2222222222222222, \"#7201a8\"], [0.3333333333333333, \"#9c179e\"], [0.4444444444444444, \"#bd3786\"], [0.5555555555555556, \"#d8576b\"], [0.6666666666666666, \"#ed7953\"], [0.7777777777777778, \"#fb9f3a\"], [0.8888888888888888, \"#fdca26\"], [1.0, \"#f0f921\"]]}, \"colorway\": [\"#636efa\", \"#EF553B\", \"#00cc96\", \"#ab63fa\", \"#FFA15A\", \"#19d3f3\", \"#FF6692\", \"#B6E880\", \"#FF97FF\", \"#FECB52\"], \"font\": {\"color\": \"#2a3f5f\"}, \"geo\": {\"bgcolor\": \"white\", \"lakecolor\": \"white\", \"landcolor\": \"#E5ECF6\", \"showlakes\": true, \"showland\": true, \"subunitcolor\": \"white\"}, \"hoverlabel\": {\"align\": \"left\"}, \"hovermode\": \"closest\", \"mapbox\": {\"style\": \"light\"}, \"paper_bgcolor\": \"white\", \"plot_bgcolor\": \"#E5ECF6\", \"polar\": {\"angularaxis\": {\"gridcolor\": \"white\", \"linecolor\": \"white\", \"ticks\": \"\"}, \"bgcolor\": \"#E5ECF6\", \"radialaxis\": {\"gridcolor\": \"white\", \"linecolor\": \"white\", \"ticks\": \"\"}}, \"scene\": {\"xaxis\": {\"backgroundcolor\": \"#E5ECF6\", \"gridcolor\": \"white\", \"gridwidth\": 2, \"linecolor\": \"white\", \"showbackground\": true, \"ticks\": \"\", \"zerolinecolor\": \"white\"}, \"yaxis\": {\"backgroundcolor\": \"#E5ECF6\", \"gridcolor\": \"white\", \"gridwidth\": 2, \"linecolor\": \"white\", \"showbackground\": true, \"ticks\": \"\", \"zerolinecolor\": \"white\"}, \"zaxis\": {\"backgroundcolor\": \"#E5ECF6\", \"gridcolor\": \"white\", \"gridwidth\": 2, \"linecolor\": \"white\", \"showbackground\": true, \"ticks\": \"\", \"zerolinecolor\": \"white\"}}, \"shapedefaults\": {\"line\": {\"color\": \"#2a3f5f\"}}, \"ternary\": {\"aaxis\": {\"gridcolor\": \"white\", \"linecolor\": \"white\", \"ticks\": \"\"}, \"baxis\": {\"gridcolor\": \"white\", \"linecolor\": \"white\", \"ticks\": \"\"}, \"bgcolor\": \"#E5ECF6\", \"caxis\": {\"gridcolor\": \"white\", \"linecolor\": \"white\", \"ticks\": \"\"}}, \"title\": {\"x\": 0.05}, \"xaxis\": {\"automargin\": true, \"gridcolor\": \"white\", \"linecolor\": \"white\", \"ticks\": \"\", \"title\": {\"standoff\": 15}, \"zerolinecolor\": \"white\", \"zerolinewidth\": 2}, \"yaxis\": {\"automargin\": true, \"gridcolor\": \"white\", \"linecolor\": \"white\", \"ticks\": \"\", \"title\": {\"standoff\": 15}, \"zerolinecolor\": \"white\", \"zerolinewidth\": 2}}}, \"title\": {\"font\": {\"color\": \"#4D5663\"}}, \"xaxis\": {\"anchor\": \"y\", \"domain\": [0.0, 0.2125], \"gridcolor\": \"#E1E5ED\", \"showgrid\": false, \"tickfont\": {\"color\": \"#4D5663\"}, \"title\": {\"font\": {\"color\": \"#4D5663\"}, \"text\": \"\"}, \"zerolinecolor\": \"#E1E5ED\"}, \"xaxis10\": {\"anchor\": \"y10\", \"domain\": [0.2625, 0.475], \"gridcolor\": \"#E1E5ED\", \"showgrid\": false, \"tickfont\": {\"color\": \"#4D5663\"}, \"title\": {\"font\": {\"color\": \"#4D5663\"}, \"text\": \"\"}, \"zerolinecolor\": \"#E1E5ED\"}, \"xaxis11\": {\"anchor\": \"y11\", \"domain\": [0.525, 0.7375], \"gridcolor\": \"#E1E5ED\", \"showgrid\": false, \"tickfont\": {\"color\": \"#4D5663\"}, \"title\": {\"font\": {\"color\": \"#4D5663\"}, \"text\": \"\"}, \"zerolinecolor\": \"#E1E5ED\"}, \"xaxis12\": {\"anchor\": \"y12\", \"domain\": [0.7875, 1.0], \"gridcolor\": \"#E1E5ED\", \"showgrid\": false, \"tickfont\": {\"color\": \"#4D5663\"}, \"title\": {\"font\": {\"color\": \"#4D5663\"}, \"text\": \"\"}, \"zerolinecolor\": \"#E1E5ED\"}, \"xaxis13\": {\"anchor\": \"y13\", \"domain\": [0.0, 0.2125], \"gridcolor\": \"#E1E5ED\", \"showgrid\": false, \"tickfont\": {\"color\": \"#4D5663\"}, \"title\": {\"font\": {\"color\": \"#4D5663\"}, \"text\": \"\"}, \"zerolinecolor\": \"#E1E5ED\"}, \"xaxis14\": {\"anchor\": \"y14\", \"domain\": [0.2625, 0.475], \"gridcolor\": \"#E1E5ED\", \"showgrid\": false, \"tickfont\": {\"color\": \"#4D5663\"}, \"title\": {\"font\": {\"color\": \"#4D5663\"}, \"text\": \"\"}, \"zerolinecolor\": \"#E1E5ED\"}, \"xaxis15\": {\"anchor\": \"y15\", \"domain\": [0.525, 0.7375], \"gridcolor\": \"#E1E5ED\", \"showgrid\": false, \"tickfont\": {\"color\": \"#4D5663\"}, \"title\": {\"font\": {\"color\": \"#4D5663\"}, \"text\": \"\"}, \"zerolinecolor\": \"#E1E5ED\"}, \"xaxis16\": {\"anchor\": \"y16\", \"domain\": [0.7875, 1.0], \"gridcolor\": \"#E1E5ED\", \"showgrid\": false, \"tickfont\": {\"color\": \"#4D5663\"}, \"title\": {\"font\": {\"color\": \"#4D5663\"}, \"text\": \"\"}, \"zerolinecolor\": \"#E1E5ED\"}, \"xaxis2\": {\"anchor\": \"y2\", \"domain\": [0.2625, 0.475], \"gridcolor\": \"#E1E5ED\", \"showgrid\": false, \"tickfont\": {\"color\": \"#4D5663\"}, \"title\": {\"font\": {\"color\": \"#4D5663\"}, \"text\": \"\"}, \"zerolinecolor\": \"#E1E5ED\"}, \"xaxis3\": {\"anchor\": \"y3\", \"domain\": [0.525, 0.7375], \"gridcolor\": \"#E1E5ED\", \"showgrid\": false, \"tickfont\": {\"color\": \"#4D5663\"}, \"title\": {\"font\": {\"color\": \"#4D5663\"}, \"text\": \"\"}, \"zerolinecolor\": \"#E1E5ED\"}, \"xaxis4\": {\"anchor\": \"y4\", \"domain\": [0.7875, 1.0], \"gridcolor\": \"#E1E5ED\", \"showgrid\": false, \"tickfont\": {\"color\": \"#4D5663\"}, \"title\": {\"font\": {\"color\": \"#4D5663\"}, \"text\": \"\"}, \"zerolinecolor\": \"#E1E5ED\"}, \"xaxis5\": {\"anchor\": \"y5\", \"domain\": [0.0, 0.2125], \"gridcolor\": \"#E1E5ED\", \"showgrid\": false, \"tickfont\": {\"color\": \"#4D5663\"}, \"title\": {\"font\": {\"color\": \"#4D5663\"}, \"text\": \"\"}, \"zerolinecolor\": \"#E1E5ED\"}, \"xaxis6\": {\"anchor\": \"y6\", \"domain\": [0.2625, 0.475], \"gridcolor\": \"#E1E5ED\", \"showgrid\": false, \"tickfont\": {\"color\": \"#4D5663\"}, \"title\": {\"font\": {\"color\": \"#4D5663\"}, \"text\": \"\"}, \"zerolinecolor\": \"#E1E5ED\"}, \"xaxis7\": {\"anchor\": \"y7\", \"domain\": [0.525, 0.7375], \"gridcolor\": \"#E1E5ED\", \"showgrid\": false, \"tickfont\": {\"color\": \"#4D5663\"}, \"title\": {\"font\": {\"color\": \"#4D5663\"}, \"text\": \"\"}, \"zerolinecolor\": \"#E1E5ED\"}, \"xaxis8\": {\"anchor\": \"y8\", \"domain\": [0.7875, 1.0], \"gridcolor\": \"#E1E5ED\", \"showgrid\": false, \"tickfont\": {\"color\": \"#4D5663\"}, \"title\": {\"font\": {\"color\": \"#4D5663\"}, \"text\": \"\"}, \"zerolinecolor\": \"#E1E5ED\"}, \"xaxis9\": {\"anchor\": \"y9\", \"domain\": [0.0, 0.2125], \"gridcolor\": \"#E1E5ED\", \"showgrid\": false, \"tickfont\": {\"color\": \"#4D5663\"}, \"title\": {\"font\": {\"color\": \"#4D5663\"}, \"text\": \"\"}, \"zerolinecolor\": \"#E1E5ED\"}, \"yaxis\": {\"anchor\": \"x\", \"domain\": [0.8025, 1.0], \"gridcolor\": \"#E1E5ED\", \"showgrid\": false, \"tickfont\": {\"color\": \"#4D5663\"}, \"title\": {\"font\": {\"color\": \"#4D5663\"}, \"text\": \"\"}, \"zerolinecolor\": \"#E1E5ED\"}, \"yaxis10\": {\"anchor\": \"x10\", \"domain\": [0.2675, 0.465], \"gridcolor\": \"#E1E5ED\", \"showgrid\": false, \"tickfont\": {\"color\": \"#4D5663\"}, \"title\": {\"font\": {\"color\": \"#4D5663\"}, \"text\": \"\"}, \"zerolinecolor\": \"#E1E5ED\"}, \"yaxis11\": {\"anchor\": \"x11\", \"domain\": [0.2675, 0.465], \"gridcolor\": \"#E1E5ED\", \"showgrid\": false, \"tickfont\": {\"color\": \"#4D5663\"}, \"title\": {\"font\": {\"color\": \"#4D5663\"}, \"text\": \"\"}, \"zerolinecolor\": \"#E1E5ED\"}, \"yaxis12\": {\"anchor\": \"x12\", \"domain\": [0.2675, 0.465], \"gridcolor\": \"#E1E5ED\", \"showgrid\": false, \"tickfont\": {\"color\": \"#4D5663\"}, \"title\": {\"font\": {\"color\": \"#4D5663\"}, \"text\": \"\"}, \"zerolinecolor\": \"#E1E5ED\"}, \"yaxis13\": {\"anchor\": \"x13\", \"domain\": [0.0, 0.1975], \"gridcolor\": \"#E1E5ED\", \"showgrid\": false, \"tickfont\": {\"color\": \"#4D5663\"}, \"title\": {\"font\": {\"color\": \"#4D5663\"}, \"text\": \"\"}, \"zerolinecolor\": \"#E1E5ED\"}, \"yaxis14\": {\"anchor\": \"x14\", \"domain\": [0.0, 0.1975], \"gridcolor\": \"#E1E5ED\", \"showgrid\": false, \"tickfont\": {\"color\": \"#4D5663\"}, \"title\": {\"font\": {\"color\": \"#4D5663\"}, \"text\": \"\"}, \"zerolinecolor\": \"#E1E5ED\"}, \"yaxis15\": {\"anchor\": \"x15\", \"domain\": [0.0, 0.1975], \"gridcolor\": \"#E1E5ED\", \"showgrid\": false, \"tickfont\": {\"color\": \"#4D5663\"}, \"title\": {\"font\": {\"color\": \"#4D5663\"}, \"text\": \"\"}, \"zerolinecolor\": \"#E1E5ED\"}, \"yaxis16\": {\"anchor\": \"x16\", \"domain\": [0.0, 0.1975], \"gridcolor\": \"#E1E5ED\", \"showgrid\": false, \"tickfont\": {\"color\": \"#4D5663\"}, \"title\": {\"font\": {\"color\": \"#4D5663\"}, \"text\": \"\"}, \"zerolinecolor\": \"#E1E5ED\"}, \"yaxis2\": {\"anchor\": \"x2\", \"domain\": [0.8025, 1.0], \"gridcolor\": \"#E1E5ED\", \"showgrid\": false, \"tickfont\": {\"color\": \"#4D5663\"}, \"title\": {\"font\": {\"color\": \"#4D5663\"}, \"text\": \"\"}, \"zerolinecolor\": \"#E1E5ED\"}, \"yaxis3\": {\"anchor\": \"x3\", \"domain\": [0.8025, 1.0], \"gridcolor\": \"#E1E5ED\", \"showgrid\": false, \"tickfont\": {\"color\": \"#4D5663\"}, \"title\": {\"font\": {\"color\": \"#4D5663\"}, \"text\": \"\"}, \"zerolinecolor\": \"#E1E5ED\"}, \"yaxis4\": {\"anchor\": \"x4\", \"domain\": [0.8025, 1.0], \"gridcolor\": \"#E1E5ED\", \"showgrid\": false, \"tickfont\": {\"color\": \"#4D5663\"}, \"title\": {\"font\": {\"color\": \"#4D5663\"}, \"text\": \"\"}, \"zerolinecolor\": \"#E1E5ED\"}, \"yaxis5\": {\"anchor\": \"x5\", \"domain\": [0.535, 0.7325], \"gridcolor\": \"#E1E5ED\", \"showgrid\": false, \"tickfont\": {\"color\": \"#4D5663\"}, \"title\": {\"font\": {\"color\": \"#4D5663\"}, \"text\": \"\"}, \"zerolinecolor\": \"#E1E5ED\"}, \"yaxis6\": {\"anchor\": \"x6\", \"domain\": [0.535, 0.7325], \"gridcolor\": \"#E1E5ED\", \"showgrid\": false, \"tickfont\": {\"color\": \"#4D5663\"}, \"title\": {\"font\": {\"color\": \"#4D5663\"}, \"text\": \"\"}, \"zerolinecolor\": \"#E1E5ED\"}, \"yaxis7\": {\"anchor\": \"x7\", \"domain\": [0.535, 0.7325], \"gridcolor\": \"#E1E5ED\", \"showgrid\": false, \"tickfont\": {\"color\": \"#4D5663\"}, \"title\": {\"font\": {\"color\": \"#4D5663\"}, \"text\": \"\"}, \"zerolinecolor\": \"#E1E5ED\"}, \"yaxis8\": {\"anchor\": \"x8\", \"domain\": [0.535, 0.7325], \"gridcolor\": \"#E1E5ED\", \"showgrid\": false, \"tickfont\": {\"color\": \"#4D5663\"}, \"title\": {\"font\": {\"color\": \"#4D5663\"}, \"text\": \"\"}, \"zerolinecolor\": \"#E1E5ED\"}, \"yaxis9\": {\"anchor\": \"x9\", \"domain\": [0.2675, 0.465], \"gridcolor\": \"#E1E5ED\", \"showgrid\": false, \"tickfont\": {\"color\": \"#4D5663\"}, \"title\": {\"font\": {\"color\": \"#4D5663\"}, \"text\": \"\"}, \"zerolinecolor\": \"#E1E5ED\"}},\n",
       "                        {\"showLink\": true, \"linkText\": \"Export to plot.ly\", \"plotlyServerURL\": \"https://plot.ly\", \"responsive\": true}\n",
       "                    ).then(function(){\n",
       "                            \n",
       "var gd = document.getElementById('64e90393-850b-4ee1-b745-bdf9f719f544');\n",
       "var x = new MutationObserver(function (mutations, observer) {{\n",
       "        var display = window.getComputedStyle(gd).display;\n",
       "        if (!display || display === 'none') {{\n",
       "            console.log([gd, 'removed!']);\n",
       "            Plotly.purge(gd);\n",
       "            observer.disconnect();\n",
       "        }}\n",
       "}});\n",
       "\n",
       "// Listen for the removal of the full notebook cells\n",
       "var notebookContainer = gd.closest('#notebook-container');\n",
       "if (notebookContainer) {{\n",
       "    x.observe(notebookContainer, {childList: true});\n",
       "}}\n",
       "\n",
       "// Listen for the clearing of the current output cell\n",
       "var outputEl = gd.closest('.output');\n",
       "if (outputEl) {{\n",
       "    x.observe(outputEl, {childList: true});\n",
       "}}\n",
       "\n",
       "                        })\n",
       "                };\n",
       "                });\n",
       "            </script>\n",
       "        </div>"
      ]
     },
     "metadata": {},
     "output_type": "display_data"
    }
   ],
   "source": [
    "df.scatter_matrix()"
   ]
  },
  {
   "cell_type": "markdown",
   "metadata": {
    "collapsed": true
   },
   "source": [
    "# Great Job!"
   ]
  }
 ],
 "metadata": {
  "kernelspec": {
   "display_name": "Python 3",
   "language": "python",
   "name": "python3"
  },
  "language_info": {
   "codemirror_mode": {
    "name": "ipython",
    "version": 3
   },
   "file_extension": ".py",
   "mimetype": "text/x-python",
   "name": "python",
   "nbconvert_exporter": "python",
   "pygments_lexer": "ipython3",
   "version": "3.8.1"
  }
 },
 "nbformat": 4,
 "nbformat_minor": 1
}
