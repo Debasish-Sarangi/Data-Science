{
 "cells": [
  {
   "cell_type": "code",
   "execution_count": 22,
   "metadata": {},
   "outputs": [],
   "source": [
    "from bokeh.plotting import figure, output_file, show\n",
    "import pandas\n",
    "\n",
    "\n",
    "df=pandas.DataFrame(columns=[\"X\",\"Y\"])\n",
    "df[\"X\"]=[1,2,3,4]\n",
    "df[\"Y\"]=[4,2,2,9]\n",
    "\n",
    "p=figure(plot_width=400, plot_height=400,y_axis_label=\"'number'\",x_axis_label=\"'count'\",title=\"earth\")\n",
    "p.title.text=\"New earth\"\n",
    "p.xaxis.minor_tick_line_color='red'\n",
    "p.yaxis.minor_tick_line_color=None\n",
    "p.circle([1,2,3,4,5],[5,6,4,5,3],size=[i*5 for i in [5,6,4,5,3]],color=\"red\",alpha=0.5)\n",
    "output_file(\"scatter_plotting.html\")\n",
    "show(p)"
   ]
  },
  {
   "cell_type": "code",
   "execution_count": 27,
   "metadata": {},
   "outputs": [],
   "source": [
    "from bokeh.plotting import figure, output_file, show\n",
    "import pandas\n",
    "\n",
    "df=pandas.read_csv(\"CriticalOrgAlarmReports(Debasish).csv\",parse_dates=[\"Date\"])\n",
    "p=figure(width=2500, height=400,y_axis_label=\"'number'\",x_axis_label=\"'Datetime'\",title=\"earth\")\n",
    "p.line(df[\"Date\"],df[\"Close\"],color=\"red\",alpha=0.5)\n",
    "\n",
    "output_file(\"Time_Series.html\")\n",
    "show(p)\n",
    "\n"
   ]
  }
 ],
 "metadata": {
  "kernelspec": {
   "display_name": "Python 3",
   "language": "python",
   "name": "python3"
  },
  "language_info": {
   "codemirror_mode": {
    "name": "ipython",
    "version": 3
   },
   "file_extension": ".py",
   "mimetype": "text/x-python",
   "name": "python",
   "nbconvert_exporter": "python",
   "pygments_lexer": "ipython3",
   "version": "3.8.1"
  }
 },
 "nbformat": 4,
 "nbformat_minor": 4
}
