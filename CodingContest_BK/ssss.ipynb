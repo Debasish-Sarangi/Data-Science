{
 "cells": [
  {
   "cell_type": "code",
   "execution_count": null,
   "metadata": {},
   "outputs": [],
   "source": [
    "''' Read input from STDIN. Print your output to STDOUT '''\n",
    "    #Use input() to read input from STDIN and use print to write your output to STDOUT\n",
    "\n",
    "def main():\n",
    "\n",
    "    SampleTestCases= int(input())\n",
    "    counter=1\n",
    "    while (counter <= SampleTestCases and SampleTestCases>0):\n",
    "    \n",
    "        NoOfTeamMembers = int(input())\n",
    "        GRevolx  = input().strip()\n",
    "        Opponentx = input().strip()\n",
    "        GRevolution=GRevolx.split(\" \")[:NoOfTeamMembers]\n",
    "        OpponentTeam=Opponentx.split(\" \")[:NoOfTeamMembers]\n",
    "        GRevolution.sort(reverse=False)\n",
    "        OpponentTeam.sort(reverse=False)\n",
    "    \n",
    "        calculation = 0\n",
    "    \n",
    "        i = 0\n",
    "    \n",
    "        while (i < len(GRevolution)):\n",
    "    \n",
    "            Glen=len(GRevolution)\n",
    "            Olen=len(OpponentTeam)\n",
    "            if(Glen>0 and Olen>0 ):\n",
    "                j=0\n",
    "                if(float(GRevolution[i])-float(OpponentTeam[i])>0):\n",
    "                    calculation=calculation+1\n",
    "                    GRevolution.pop(i)\n",
    "                    OpponentTeam.pop(i)\n",
    "    \n",
    "    \n",
    "    \n",
    "                elif(float(GRevolution[i])-float(OpponentTeam[i])<=0):\n",
    "                    while (j < Glen) :\n",
    "                        if (float(GRevolution[j]) - float(OpponentTeam[i] )> 0):\n",
    "                            calculation = calculation + 1\n",
    "                            GRevolution.pop(j)\n",
    "                            OpponentTeam.pop(i)\n",
    "    \n",
    "                            j=0\n",
    "                            break\n",
    "                        j=j+1\n",
    "    \n",
    "            if(Glen==len(GRevolution)):\n",
    "                i=i+1\n",
    "    \n",
    "            else:\n",
    "                i=0\n",
    "    \n",
    "        print(calculation)\n",
    "        counter=counter+1\n",
    "\n",
    "main()\n",
    "\n"
   ]
  },
  {
   "cell_type": "code",
   "execution_count": 16,
   "metadata": {},
   "outputs": [
    {
     "name": "stdout",
     "output_type": "stream",
     "text": [
      "1 2 4 \n"
     ]
    },
    {
     "ename": "AttributeError",
     "evalue": "'list' object has no attribute 'strip'",
     "output_type": "error",
     "traceback": [
      "\u001b[1;31m---------------------------------------------------------------------------\u001b[0m",
      "\u001b[1;31mAttributeError\u001b[0m                            Traceback (most recent call last)",
      "\u001b[1;32m<ipython-input-16-ee7979c5c5c9>\u001b[0m in \u001b[0;36m<module>\u001b[1;34m\u001b[0m\n\u001b[1;32m----> 1\u001b[1;33m \u001b[0mGRevolution\u001b[0m  \u001b[1;33m=\u001b[0m \u001b[0minput\u001b[0m\u001b[1;33m(\u001b[0m\u001b[1;33m)\u001b[0m\u001b[1;33m.\u001b[0m\u001b[0msplit\u001b[0m\u001b[1;33m(\u001b[0m\u001b[1;34m\" \"\u001b[0m\u001b[1;33m)\u001b[0m\u001b[1;33m.\u001b[0m\u001b[0mstrip\u001b[0m\u001b[1;33m(\u001b[0m\u001b[1;33m)\u001b[0m\u001b[1;33m\u001b[0m\u001b[1;33m\u001b[0m\u001b[0m\n\u001b[0m",
      "\u001b[1;31mAttributeError\u001b[0m: 'list' object has no attribute 'strip'"
     ]
    }
   ],
   "source": [
    "GRevolution  = input().split(\" \").strip()\n"
   ]
  },
  {
   "cell_type": "code",
   "execution_count": 26,
   "metadata": {},
   "outputs": [
    {
     "name": "stdout",
     "output_type": "stream",
     "text": [
      "3\n",
      "1 2 4 5 6 6 7 8 \n"
     ]
    }
   ],
   "source": [
    "NoOfTeamMembers = int(input())\n",
    "Opponentx = input().strip()\n",
    "OpponentTeam=Opponentx.split(\" \")[:NoOfTeamMembers]"
   ]
  },
  {
   "cell_type": "code",
   "execution_count": 28,
   "metadata": {},
   "outputs": [
    {
     "data": {
      "text/plain": [
       "True"
      ]
     },
     "execution_count": 28,
     "metadata": {},
     "output_type": "execute_result"
    }
   ],
   "source": [
    "0.6>0\n"
   ]
  }
 ],
 "metadata": {
  "kernelspec": {
   "display_name": "Python 3",
   "language": "python",
   "name": "python3"
  },
  "language_info": {
   "codemirror_mode": {
    "name": "ipython",
    "version": 3
   },
   "file_extension": ".py",
   "mimetype": "text/x-python",
   "name": "python",
   "nbconvert_exporter": "python",
   "pygments_lexer": "ipython3",
   "version": "3.8.1"
  }
 },
 "nbformat": 4,
 "nbformat_minor": 4
}
