{
 "cells": [
  {
   "cell_type": "code",
   "execution_count": null,
   "metadata": {},
   "outputs": [],
   "source": [
    "NoOfTeamMembers = int(input())\n",
    "GRevolution  = input().split(\" \")\n",
    "OpponentTeam = input().split(\" \")\n",
    "GRevolution.sort(reverse=False)\n",
    "OpponentTeam.sort(reverse=False)\n",
    "\n",
    "calculation = 0\n",
    "\n",
    "i = 0\n",
    "j = 0\n",
    "while (i < NoOfTeamMembers):\n",
    "\n",
    "    if(int(GRevolution[i])-int(OpponentTeam[i])>0):\n",
    "        calculation=calculation+1\n",
    "        GRevolution.pop(i)\n",
    "        OpponentTeam.pop(i)\n",
    "\n",
    "    elif(int(GRevolution[i])-int(OpponentTeam[i])<0):\n",
    "        while (j < NoOfTeamMembers) :\n",
    "            if (int(GRevolution[j]) - int(OpponentTeam[i] )> 0):\n",
    "                calculation = calculation + 1\n",
    "                GRevolution.pop(i)\n",
    "                OpponentTeam.pop(i)\n",
    "                break\n",
    "\n",
    "print(calculation)\n"
   ]
  },
  {
   "cell_type": "code",
   "execution_count": null,
   "metadata": {},
   "outputs": [],
   "source": []
  },
  {
   "cell_type": "code",
   "execution_count": null,
   "metadata": {},
   "outputs": [],
   "source": [
    "10\n",
    "3 6 7 5 3 5 6 2 9 1 "
   ]
  }
 ],
 "metadata": {
  "kernelspec": {
   "display_name": "Python 3",
   "language": "python",
   "name": "python3"
  },
  "language_info": {
   "codemirror_mode": {
    "name": "ipython",
    "version": 3
   },
   "file_extension": ".py",
   "mimetype": "text/x-python",
   "name": "python",
   "nbconvert_exporter": "python",
   "pygments_lexer": "ipython3",
   "version": "3.8.1"
  }
 },
 "nbformat": 4,
 "nbformat_minor": 4
}
