{
 "cells": [
  {
   "cell_type": "code",
   "execution_count": null,
   "metadata": {},
   "outputs": [],
   "source": [
    "''' Read input from STDIN. Print your output to STDOUT '''\n",
    "\n",
    "\n",
    "# Use input() to read input from STDIN and use print to write your output to STDOUT\n",
    "\n",
    "def main():\n",
    "    SampleTestCases = int(input())\n",
    "    counter = 1\n",
    "    while (counter <= SampleTestCases and SampleTestCases > 0):\n",
    "\n",
    "        NoOfTeamMembers = int(input())\n",
    "        GRevolx = input().strip()\n",
    "        Opponentx = input().strip()\n",
    "        GRevolution = GRevolx.split(\" \")[:NoOfTeamMembers]\n",
    "        OpponentTeam = Opponentx.split(\" \")[:NoOfTeamMembers]\n",
    "        GRevolution.sort(reverse=False)\n",
    "        OpponentTeam.sort(reverse=False)\n",
    "\n",
    "        calculation = 0\n",
    "\n",
    "        i = 0\n",
    "\n",
    "        \n",
    "\n",
    "        while (i < len(GRevolution)):\n",
    "        \n",
    "            Glen = len(GRevolution)\n",
    "            Olen = len(OpponentTeam)\n",
    "            if (Glen > 0 and Olen > 0):\n",
    "                j = 0\n",
    "                if (float(GRevolution[i]) - float(OpponentTeam[i]) > 0):\n",
    "                    calculation = calculation + 1\n",
    "                    GRevolution.pop(i)\n",
    "                    OpponentTeam.pop(i)\n",
    "        \n",
    "        \n",
    "        \n",
    "                elif (float(GRevolution[i]) - float(OpponentTeam[i]) <= 0):\n",
    "                    while (j < Glen):\n",
    "                        if (float(GRevolution[j]) - float(OpponentTeam[i]) > 0):\n",
    "                            calculation = calculation + 1\n",
    "                            GRevolution.pop(j)\n",
    "                            OpponentTeam.pop(i)\n",
    "        \n",
    "                            j = 0\n",
    "                            break\n",
    "                        j = j + 1\n",
    "        \n",
    "            if (Glen == len(GRevolution)):\n",
    "                i = i + 1\n",
    "        \n",
    "            else:\n",
    "                i = 0\n",
    "        \n",
    "        print(calculation)\n",
    "        counter = counter + 1\n",
    "\n",
    "\n",
    "main()"
   ]
  },
  {
   "cell_type": "code",
   "execution_count": null,
   "metadata": {},
   "outputs": [],
   "source": [
    "4\n",
    "5\n",
    "0 0 0 1 1\n",
    "1 1 0 0"
   ]
  }
 ],
 "metadata": {
  "kernelspec": {
   "display_name": "Python 3",
   "language": "python",
   "name": "python3"
  },
  "language_info": {
   "codemirror_mode": {
    "name": "ipython",
    "version": 3
   },
   "file_extension": ".py",
   "mimetype": "text/x-python",
   "name": "python",
   "nbconvert_exporter": "python",
   "pygments_lexer": "ipython3",
   "version": "3.8.1"
  }
 },
 "nbformat": 4,
 "nbformat_minor": 4
}
