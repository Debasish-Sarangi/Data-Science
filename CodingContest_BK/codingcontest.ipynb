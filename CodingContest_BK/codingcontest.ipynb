{
 "cells": [
  {
   "cell_type": "code",
   "execution_count": 11,
   "metadata": {},
   "outputs": [
    {
     "name": "stdout",
     "output_type": "stream",
     "text": [
      "first line of input consists of the number of ingredients, N4\n",
      "The second line of input consists of the N space-separated integers representing the quantity of each ingredient required to create a Powerpuff Girl.2 5 6 3\n",
      "The third line of input consists of the N space-separated integers representing the quantity of each ingredient present in the laboratory.20 40 90 50\n"
     ]
    }
   ],
   "source": [
    "NoOfIngredients=int(input(\"first line of input consists of the number of ingredients, N\"))\n",
    "QtyOfEachIngredientReq=input(\"The second line of input consists of the N space-separated integers representing the quantity of each ingredient required to create a Powerpuff Girl.\")\n",
    "QtyOfEachIngredientPre=input(\"The third line of input consists of the N space-separated integers representing the quantity of each ingredient present in the laboratory.\")\n",
    "\n",
    "QtyOfEachIngredientRequired=QtyOfEachIngredientReq.split(\" \")\n",
    "QtyOfEachIngredientPresent=QtyOfEachIngredientPre.split(\" \")\n",
    "\n",
    "calculation=[]\n",
    "\n",
    "i=0\n",
    "while (i < NoOfIngredients):\n",
    "    \n",
    "    calculation.append(int(QtyOfEachIngredientPresent[i])/int(QtyOfEachIngredientRequired[i]))\n",
    "    i = i + 1\n",
    "\n",
    "print(min(calculation))\n"
   ]
  },
  {
   "cell_type": "code",
   "execution_count": 19,
   "metadata": {},
   "outputs": [
    {
     "name": "stdout",
     "output_type": "stream",
     "text": [
      "4\n",
      "2 5 6 3\n",
      "20 40 90 50\n",
      "8\n"
     ]
    }
   ],
   "source": [
    "NoOfIngredients = int(input())\n",
    "QtyOfEachIngredientRequired = input().split(\" \")\n",
    "QtyOfEachIngredientPresent = input().split(\" \")\n",
    "\n",
    "\n",
    "calculation = []\n",
    "\n",
    "i = 0\n",
    "while (i < NoOfIngredients):\n",
    "    calculation.append(int(QtyOfEachIngredientPresent[i]) / int(QtyOfEachIngredientRequired[i]))\n",
    "    i = i + 1\n",
    "\n",
    "print(int(min(calculation)))"
   ]
  },
  {
   "cell_type": "code",
   "execution_count": 18,
   "metadata": {},
   "outputs": [
    {
     "name": "stdout",
     "output_type": "stream",
     "text": [
      "8\n"
     ]
    }
   ],
   "source": [
    "print(int(min(calculation)))"
   ]
  }
 ],
 "metadata": {
  "kernelspec": {
   "display_name": "Python 3",
   "language": "python",
   "name": "python3"
  },
  "language_info": {
   "codemirror_mode": {
    "name": "ipython",
    "version": 3
   },
   "file_extension": ".py",
   "mimetype": "text/x-python",
   "name": "python",
   "nbconvert_exporter": "python",
   "pygments_lexer": "ipython3",
   "version": "3.8.1"
  }
 },
 "nbformat": 4,
 "nbformat_minor": 4
}
